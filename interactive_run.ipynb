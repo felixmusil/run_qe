{
 "cells": [
  {
   "cell_type": "code",
   "execution_count": 61,
   "metadata": {
    "collapsed": true
   },
   "outputs": [],
   "source": [
    "import spglib as spg\n",
    "import ase\n",
    "from ase.visualize import view\n",
    "\n",
    "import ase.spacegroup as aspg\n",
    "from ase.visualize import view\n",
    "from ase.io import read,write\n",
    "import numpy as np\n",
    "import pandas as pd\n",
    "from collections import Iterable\n",
    "import cPickle as pck\n",
    "import spglib as spg\n",
    "import sys, os\n",
    "from make_input.utils import rotation_matrix,isCellSkewed,unskewCell,get_symprec,get_relative_angle,isInSP\n",
    "from make_input.qe_input import makeCard,makeNamelist,SG2ibrav,SG2wyckoff,makeQEInput_sg,makeQEInput_ibrav0,makeQEInput\n",
    "from make_input.custom_frame import frame2qe_format,get_ibrav2_frame,get_ibrav9_frame,get_standard_frame\n",
    "from make_input.qe_run import run_qe_local\n",
    "from make_input.raw_info import SG2BravaisLattice,missClassificationCorrection\n",
    "from read_output.parser import extract_floats,finishedProperly,fn2info,fn2num,get_filenames,get_patterns,get_energy_per_atom\n"
   ]
  },
  {
   "cell_type": "markdown",
   "metadata": {},
   "source": [
    "# import info and input structures"
   ]
  },
  {
   "cell_type": "code",
   "execution_count": 2,
   "metadata": {
    "collapsed": true
   },
   "outputs": [],
   "source": [
    "fileNames = {}\n",
    "infoPath = './info/'\n",
    "structurePath = './structures/'\n",
    "# fileNames['crystals'] = structurePath + 'partial_input_crystals_sg3-230.pck'\n",
    "fileNames['crystals'] = structurePath + 'input_crystals_sg1-230.pck'\n",
    "fileNames['wyck'] = infoPath+'SpaceGroup-multiplicity-wickoff-info.pck'\n",
    "fileNames['general info'] = infoPath+'SpaceGroup-general-info.pck'\n",
    "fileNames['elements info'] = infoPath+'General-Info-Elements-fast.pck'"
   ]
  },
  {
   "cell_type": "code",
   "execution_count": 3,
   "metadata": {
    "collapsed": true
   },
   "outputs": [],
   "source": [
    "with open(fileNames['crystals'],'rb') as f:\n",
    "    crystals = pck.load(f)\n",
    "with open(fileNames['wyck'],'rb') as f:\n",
    "    WyckTable = pck.load(f)\n",
    "SGTable = pd.read_pickle(fileNames['general info'])\n",
    "ElemTable = pd.read_pickle(fileNames['elements info'])"
   ]
  },
  {
   "cell_type": "markdown",
   "metadata": {},
   "source": [
    "# examples"
   ]
  },
  {
   "cell_type": "code",
   "execution_count": 4,
   "metadata": {
    "collapsed": true
   },
   "outputs": [],
   "source": [
    "from make_input.qe_input import frame2change,ibrav0,NOPROBLEM,dont_print_wyck,tricky_sg"
   ]
  },
  {
   "cell_type": "markdown",
   "metadata": {
    "heading_collapsed": true
   },
   "source": [
    "## single sg"
   ]
  },
  {
   "cell_type": "code",
   "execution_count": 22,
   "metadata": {
    "collapsed": true,
    "hidden": true
   },
   "outputs": [],
   "source": [
    "sg,it = 210,0\n",
    "cc = crystals[sg][it]\n",
    "dirName = './test_run/check_input_errors_ibrav3/sg_{}-f_{}'.format(sg,it)\n"
   ]
  },
  {
   "cell_type": "code",
   "execution_count": 23,
   "metadata": {
    "hidden": true
   },
   "outputs": [
    {
     "name": "stdout",
     "output_type": "stream",
     "text": [
      "[ 0.30321532  0.3032168   0.58934866]\n"
     ]
    }
   ],
   "source": [
    "print cc.get_scaled_positions()[0]"
   ]
  },
  {
   "cell_type": "code",
   "execution_count": 24,
   "metadata": {
    "hidden": true
   },
   "outputs": [],
   "source": [
    "input_str = makeQEInput(cc,sg,WyckTable,SGTable,ElemTable,\n",
    "                 zatom = 14,rhocutoff = 20 * 4,wfccutoff = 20,\n",
    "                 calculation_type='\"scf\"',smearing=1e-2,\n",
    "                pressure=0,press_conv_thr=0.5,cell_factor=2,\n",
    "                etot_conv_thr=1e-4,forc_conv_thr=1e-3,nstep=150,\n",
    "                scf_conv_thr=1e-1,print_forces=True,print_stress=False,\n",
    "                restart=False,\n",
    "                 kpt = [2,2,2],Nkpt=None,kpt_offset = [0,0,0],ppPath='\"../pseudo/\"')\n",
    "# print inpt"
   ]
  },
  {
   "cell_type": "code",
   "execution_count": null,
   "metadata": {
    "collapsed": true,
    "hidden": true
   },
   "outputs": [],
   "source": [
    "exitstatus = run_qe_local(input_str,dirName,verbose=False,\n",
    "                 path2mpi='/usr/bin/',np=4,path2pw='/home/musil/source/qe-6.1/bin/')"
   ]
  },
  {
   "cell_type": "markdown",
   "metadata": {
    "heading_collapsed": true
   },
   "source": [
    "## several sg"
   ]
  },
  {
   "cell_type": "code",
   "execution_count": 19,
   "metadata": {
    "collapsed": true,
    "hidden": true
   },
   "outputs": [],
   "source": [
    "zatom = 14\n",
    "calculation_type = '\"scf\"'\n",
    "sgs = [202]\n",
    "\n",
    "kpt = [2,2,2]\n",
    "Nkpt = None\n",
    "# rhocutoff ,wfccutoff = None,None\n",
    "rhocutoff ,wfccutoff = 20*4,20\n",
    "smearing = 1e-2\n",
    "etot_conv_thr = 1e-4\n",
    "forc_conv_thr = 1e-3\n",
    "nstep = 150\n",
    "scf_conv_thr = 1e-1\n",
    "ppPath='\"./pseudo/SSSP_acc_PBE/\"'\n",
    "\n",
    "dataPath = './test_run/check_input_errors_ibrav3/'\n",
    "dirNames = {(sg,it):dataPath + 'sg_{}-f_{}'.format(sg,it)\n",
    "            for sg in  sgs for it in range(len(crystals[sg]))}"
   ]
  },
  {
   "cell_type": "code",
   "execution_count": 20,
   "metadata": {
    "hidden": true
   },
   "outputs": [
    {
     "name": "stdout",
     "output_type": "stream",
     "text": [
      "./test_run/check_input_errors_ibrav3/sg_202-f_0\n",
      "sending the calc\n",
      "(0, 'No error')\n"
     ]
    }
   ],
   "source": [
    "for (sg,it),dirName in dirNames.iteritems():\n",
    "    print dirName\n",
    "    crystal = crystals[sg][it]\n",
    "    input_str = makeQEInput(crystal,sg,WyckTable,SGTable,ElemTable,\n",
    "                    zatom = zatom,rhocutoff = rhocutoff,wfccutoff = wfccutoff,\n",
    "                    calculation_type=calculation_type,smearing=smearing,\n",
    "                    pressure=0,press_conv_thr=0.5,cell_factor=2,\n",
    "                    etot_conv_thr=1e-4,forc_conv_thr=1e-3,nstep=150,\n",
    "                    scf_conv_thr=scf_conv_thr,print_forces=False,\n",
    "                    kpt = kpt,Nkpt=Nkpt ,kpt_offset = [0,0,0],\n",
    "                    ppPath=ppPath)\n",
    "\n",
    "    print 'sending the calc'\n",
    "    exitstatus = run_qe_local(input_str,dirName,verbose=False,\n",
    "                 path2mpi='/usr/bin/',np=4,path2pw='/home/musil/source/qe-6.1/bin/')\n",
    "\n",
    "    print exitstatus"
   ]
  },
  {
   "cell_type": "markdown",
   "metadata": {
    "heading_collapsed": true
   },
   "source": [
    "# ibrav 3 test"
   ]
  },
  {
   "cell_type": "code",
   "execution_count": 38,
   "metadata": {
    "collapsed": true,
    "hidden": true
   },
   "outputs": [],
   "source": [
    "sg,it = 220,0\n",
    "cc = crystals[sg][it]\n",
    "dirName = './test_run/check_input_errors_ibrav3/sg_{}-f_{}'.format(sg,it)"
   ]
  },
  {
   "cell_type": "code",
   "execution_count": 29,
   "metadata": {
    "hidden": true,
    "scrolled": true
   },
   "outputs": [
    {
     "name": "stdout",
     "output_type": "stream",
     "text": [
      "[ 0.62501026  0.76843214  0.48157344]\n"
     ]
    }
   ],
   "source": [
    "print cc.get_scaled_positions()[0]"
   ]
  },
  {
   "cell_type": "code",
   "execution_count": 33,
   "metadata": {
    "hidden": true,
    "scrolled": true
   },
   "outputs": [
    {
     "data": {
      "text/plain": [
       "['./test_run/check_input_errors_ibrav3/sg_220-f_0-0/qe.out',\n",
       " './test_run/check_input_errors_ibrav3/sg_202-f_0-1/qe.out']"
      ]
     },
     "execution_count": 33,
     "metadata": {},
     "output_type": "execute_result"
    }
   ],
   "source": [
    "fns = get_filenames('./test_run/check_input_errors_ibrav3/', fn_pattern='qe.out', dir_pattern=None)\n",
    "fns"
   ]
  },
  {
   "cell_type": "code",
   "execution_count": 45,
   "metadata": {
    "collapsed": true,
    "hidden": true
   },
   "outputs": [],
   "source": [
    "fn = './test_run/check_input_errors_ibrav3/sg_220-f_0-0/qe.out'\n",
    "oo = read(fn)\n",
    "view(oo)"
   ]
  },
  {
   "cell_type": "code",
   "execution_count": 37,
   "metadata": {
    "hidden": true,
    "scrolled": false
   },
   "outputs": [
    {
     "name": "stdout",
     "output_type": "stream",
     "text": [
      "[[ 4.22005118  4.22005118  4.22005118]\n",
      " [-4.22005118  4.22005118  4.22005118]\n",
      " [-4.22005118 -4.22005118  4.22005118]]\n"
     ]
    }
   ],
   "source": [
    "print oo.get_cell()"
   ]
  },
  {
   "cell_type": "code",
   "execution_count": 44,
   "metadata": {
    "hidden": true
   },
   "outputs": [],
   "source": [
    "dd,_,_ = get_ibrav2_frame(cc,220)\n",
    "view(dd)"
   ]
  },
  {
   "cell_type": "markdown",
   "metadata": {},
   "source": [
    "# ibrav 9 test"
   ]
  },
  {
   "cell_type": "markdown",
   "metadata": {},
   "source": [
    "## preliminary"
   ]
  },
  {
   "cell_type": "code",
   "execution_count": 54,
   "metadata": {
    "collapsed": true
   },
   "outputs": [],
   "source": [
    "dataPath = './test_run/check_input_errors_ibrav9/'"
   ]
  },
  {
   "cell_type": "code",
   "execution_count": 55,
   "metadata": {
    "collapsed": true
   },
   "outputs": [],
   "source": [
    "sg,it = 40,0\n",
    "cc = crystals[sg][it]\n",
    "dirName = dataPath+'sg_{}-f_{}/'.format(sg,it)"
   ]
  },
  {
   "cell_type": "code",
   "execution_count": 60,
   "metadata": {
    "collapsed": true
   },
   "outputs": [],
   "source": [
    "view(cc)"
   ]
  },
  {
   "cell_type": "code",
   "execution_count": 56,
   "metadata": {
    "scrolled": true
   },
   "outputs": [
    {
     "name": "stdout",
     "output_type": "stream",
     "text": [
      "[  8.10960373   3.90162918   2.25168312  90.          90.          90.        ]\n",
      "[ 0.61485391  0.83332859  0.49      ]\n"
     ]
    }
   ],
   "source": [
    "print cc.get_cell_lengths_and_angles()\n",
    "print cc.get_scaled_positions()[0]"
   ]
  },
  {
   "cell_type": "code",
   "execution_count": 57,
   "metadata": {
    "scrolled": true
   },
   "outputs": [
    {
     "data": {
      "text/plain": [
       "['./test_run/check_input_errors_ibrav9/sg_40-f_0-0/qe.out']"
      ]
     },
     "execution_count": 57,
     "metadata": {},
     "output_type": "execute_result"
    }
   ],
   "source": [
    "fns = get_filenames(dataPath, fn_pattern='qe.out', dir_pattern=None)\n",
    "fns"
   ]
  },
  {
   "cell_type": "code",
   "execution_count": 59,
   "metadata": {},
   "outputs": [],
   "source": [
    "fn = './test_run/check_input_errors_ibrav9/sg_40-f_0-0/qe.out'\n",
    "oo = read(fn)\n",
    "view(oo)"
   ]
  },
  {
   "cell_type": "code",
   "execution_count": 37,
   "metadata": {
    "scrolled": false
   },
   "outputs": [
    {
     "name": "stdout",
     "output_type": "stream",
     "text": [
      "[[ 4.22005118  4.22005118  4.22005118]\n",
      " [-4.22005118  4.22005118  4.22005118]\n",
      " [-4.22005118 -4.22005118  4.22005118]]\n"
     ]
    }
   ],
   "source": [
    "print oo.get_cell()"
   ]
  },
  {
   "cell_type": "code",
   "execution_count": 44,
   "metadata": {
    "collapsed": true
   },
   "outputs": [],
   "source": [
    "dd,_,_ = get_ibrav2_frame(cc,220)\n",
    "view(dd)"
   ]
  },
  {
   "cell_type": "markdown",
   "metadata": {},
   "source": [
    "## full"
   ]
  },
  {
   "cell_type": "code",
   "execution_count": 383,
   "metadata": {},
   "outputs": [],
   "source": [
    "zatom = 14\n",
    "calculation_type = '\"scf\"'\n",
    "sgs = [20, 21, 35, 36, 37, 38, 39, 40, 41, 63, 64, 65, 66, 67, 68]\n",
    "sgs = [35, 65, 68]\n",
    "\n",
    "kpt = [2,2,2]\n",
    "Nkpt = None\n",
    "# rhocutoff ,wfccutoff = None,None\n",
    "rhocutoff ,wfccutoff = 20*4,20\n",
    "smearing = 1e-2\n",
    "etot_conv_thr = 1e-4\n",
    "forc_conv_thr = 1e-3\n",
    "nstep = 150\n",
    "scf_conv_thr = 1e-1\n",
    "ppPath='\"/local/git/run_qe/pseudo/SSSP_acc_PBE/\"'\n",
    "\n",
    "dataPath = '/local/git/run_qe/test_run/check_input_errors_ibrav9/'\n",
    "dirNames = {(sg,it):dataPath + 'sg_{}-f_{}'.format(sg,it)\n",
    "            for sg in  sgs for it in range(len(crystals[sg]))}"
   ]
  },
  {
   "cell_type": "code",
   "execution_count": 385,
   "metadata": {},
   "outputs": [
    {
     "name": "stdout",
     "output_type": "stream",
     "text": [
      "/local/git/run_qe/test_run/check_input_errors_ibrav9/sg_8-f_3    h\n",
      "sending the calc\n",
      "(0, 'No error')\n",
      "/local/git/run_qe/test_run/check_input_errors_ibrav9/sg_8-f_2    i\n",
      "sending the calc\n",
      "(0, 'No error')\n",
      "/local/git/run_qe/test_run/check_input_errors_ibrav9/sg_8-f_1    g\n",
      "sending the calc\n",
      "(0, 'No error')\n",
      "/local/git/run_qe/test_run/check_input_errors_ibrav9/sg_8-f_0    c\n",
      "sending the calc\n",
      "(0, 'No error')\n",
      "########\n",
      "8 5\n",
      "########\n",
      "/local/git/run_qe/test_run/check_input_errors_ibrav9/sg_8-f_4    d\n",
      "sending the calc\n",
      "(0, 'No error')\n"
     ]
    }
   ],
   "source": [
    "for (sg,it),dirName in dirNames.items():\n",
    "    \n",
    "    crystal = crystals[sg][it]\n",
    "    symprec = get_symprec(crystal, sg)\n",
    "    data = spg.get_symmetry_dataset(crystal,symprec=symprec)\n",
    "    \n",
    "    if len(np.unique(data['equivalent_atoms'])) > 1:\n",
    "        print '########'\n",
    "        print sg,it\n",
    "        print '########'\n",
    "        continue\n",
    "    elif sg == 35 and data['wyckoffs'][0] not in ['p','q']:\n",
    "        continue\n",
    "    \n",
    "    print dirName,'  ',data['wyckoffs'][0]\n",
    "    input_str = makeQEInput(crystal,sg,WyckTable,SGTable,ElemTable,\n",
    "                    zatom = zatom,rhocutoff = rhocutoff,wfccutoff = wfccutoff,\n",
    "                    calculation_type=calculation_type,smearing=smearing,\n",
    "                    pressure=0,press_conv_thr=0.5,cell_factor=2,\n",
    "                    etot_conv_thr=1e-4,forc_conv_thr=1e-3,nstep=150,\n",
    "                    scf_conv_thr=scf_conv_thr,print_forces=False,\n",
    "                    kpt = kpt,Nkpt=Nkpt ,kpt_offset = [0,0,0],\n",
    "                    ppPath=ppPath)\n",
    "\n",
    "    print 'sending the calc'\n",
    "    exitstatus = run_qe_local(input_str,dirName,verbose=False,\n",
    "                 path2mpi='/usr/bin/',np=4,path2pw='/home/musil/source/qe-6.1/bin/')\n",
    "\n",
    "    print exitstatus"
   ]
  },
  {
   "cell_type": "code",
   "execution_count": 134,
   "metadata": {},
   "outputs": [
    {
     "data": {
      "text/plain": [
       "65"
      ]
     },
     "execution_count": 134,
     "metadata": {},
     "output_type": "execute_result"
    }
   ],
   "source": [
    "missClassificationCorrection[35]"
   ]
  },
  {
   "cell_type": "code",
   "execution_count": 431,
   "metadata": {},
   "outputs": [
    {
     "data": {
      "text/plain": [
       "['/local/git/run_qe/test_run/check_input_errors_ibrav9/sg_8-f_4-0/qe.out',\n",
       " '/local/git/run_qe/test_run/check_input_errors_ibrav9/sg_8-f_0-0/qe.out',\n",
       " '/local/git/run_qe/test_run/check_input_errors_ibrav9/sg_8-f_1-0/qe.out',\n",
       " '/local/git/run_qe/test_run/check_input_errors_ibrav9/sg_8-f_2-0/qe.out',\n",
       " '/local/git/run_qe/test_run/check_input_errors_ibrav9/sg_8-f_3-0/qe.out']"
      ]
     },
     "execution_count": 431,
     "metadata": {},
     "output_type": "execute_result"
    }
   ],
   "source": [
    "fns = get_filenames(dataPath,fn_pattern='qe.out',dir_pattern='sg_8*')\n",
    "fns"
   ]
  },
  {
   "cell_type": "code",
   "execution_count": 432,
   "metadata": {
    "collapsed": true
   },
   "outputs": [],
   "source": [
    "params = {'sg':[],'f':[]}\n",
    "ppp = []\n",
    "fnd = {}\n",
    "\n",
    "for fn in fns:\n",
    "    info = fn2info(fn)\n",
    "    sg = info['sg']\n",
    "    f = info['f']\n",
    "    ppp.append([sg,f])\n",
    "    fnd[(sg,f)] = fn"
   ]
  },
  {
   "cell_type": "code",
   "execution_count": 433,
   "metadata": {},
   "outputs": [
    {
     "name": "stdout",
     "output_type": "stream",
     "text": [
      "0\n"
     ]
    }
   ],
   "source": [
    "failed = {}\n",
    "for fn,(sg,f) in zip(fns,ppp):\n",
    "    if not finishedProperly(fn):\n",
    "        with open(fn,'r') as fout:\n",
    "            failed[(sg,f,fn)] = fout.read()\n",
    "print len(failed)"
   ]
  },
  {
   "cell_type": "code",
   "execution_count": 440,
   "metadata": {},
   "outputs": [
    {
     "name": "stdout",
     "output_type": "stream",
     "text": [
      "[[ 3.91330814  0.          0.        ]\n",
      " [ 0.          2.26301179  0.        ]\n",
      " [-1.30763156  0.          1.84589388]]\n",
      "[[ -2.83704473e-17   0.00000000e+00   5.00000000e-01]\n",
      " [  5.00000000e-01   5.00000000e-01   5.00000000e-01]]\n",
      "/local/git/run_qe/test_run/check_input_errors_ibrav9/sg_8-f_0-0/qe.out\n",
      "[[ 3.91330635  0.          0.        ]\n",
      " [ 0.          2.26300958  0.        ]\n",
      " [-1.30763147  0.          1.84589338]]\n",
      "[[ 0.5  0.5  0. ]\n",
      " [ 0.   0.   0. ]]\n"
     ]
    }
   ],
   "source": [
    "sg,it = 8,0\n",
    "cc = crystals[sg][it]\n",
    "dd = get_standard_frame(cc,sg,primitive=False)\n",
    "view(dd)\n",
    "print dd.get_cell()\n",
    "print dd.get_scaled_positions()\n",
    "fn = fnd[(sg,it)]\n",
    "print fn\n",
    "rr = read(fn)\n",
    "ss = get_standard_frame(rr,sg,primitive=False)\n",
    "view(ss)\n",
    "print ss.get_cell()\n",
    "print ss.get_scaled_positions()"
   ]
  },
  {
   "cell_type": "code",
   "execution_count": 169,
   "metadata": {
    "collapsed": true
   },
   "outputs": [
    {
     "data": {
      "text/plain": [
       "array([[ 0.5       ,  0.74998098,  0.        ],\n",
       "       [ 0.5       ,  0.25001902,  0.        ],\n",
       "       [ 0.24997246,  0.        ,  0.5       ],\n",
       "       [ 0.75002754,  0.        ,  0.5       ],\n",
       "       [ 0.        ,  0.24998098,  0.        ],\n",
       "       [ 0.        ,  0.75001902,  0.        ],\n",
       "       [ 0.74997246,  0.5       ,  0.5       ],\n",
       "       [ 0.25002754,  0.5       ,  0.5       ]])"
      ]
     },
     "execution_count": 169,
     "metadata": {},
     "output_type": "execute_result"
    }
   ],
   "source": [
    "dd.get_scaled_positions()"
   ]
  },
  {
   "cell_type": "code",
   "execution_count": 173,
   "metadata": {
    "collapsed": true
   },
   "outputs": [],
   "source": [
    "spg.get_symmetry_dataset?"
   ]
  },
  {
   "cell_type": "code",
   "execution_count": 177,
   "metadata": {},
   "outputs": [
    {
     "data": {
      "text/plain": [
       "u'Cmmm (65)'"
      ]
     },
     "execution_count": 177,
     "metadata": {},
     "output_type": "execute_result"
    }
   ],
   "source": [
    "spg.get_spacegroup(cc,symprec=1e-4)"
   ]
  },
  {
   "cell_type": "code",
   "execution_count": 249,
   "metadata": {
    "collapsed": true
   },
   "outputs": [
    {
     "name": "stdout",
     "output_type": "stream",
     "text": [
      "65 ['i', 'i', 'h', 'h', 'h', 'h', 'i', 'i'] [0 0 2 2 2 2 0 0]\n"
     ]
    },
    {
     "data": {
      "text/plain": [
       "['std_positions',\n",
       " 'equivalent_atoms',\n",
       " 'std_types',\n",
       " 'translations',\n",
       " 'rotations',\n",
       " 'number',\n",
       " 'choice',\n",
       " 'transformation_matrix',\n",
       " 'origin_shift',\n",
       " 'hall_number',\n",
       " 'pointgroup',\n",
       " 'international',\n",
       " 'wyckoffs',\n",
       " 'hall',\n",
       " 'std_lattice']"
      ]
     },
     "execution_count": 249,
     "metadata": {},
     "output_type": "execute_result"
    }
   ],
   "source": [
    "data = spg.get_symmetry_dataset(cc,symprec=1e-4)\n",
    "print data['number'],data['wyckoffs'],data['equivalent_atoms']\n",
    "data.keys()\n",
    "# data"
   ]
  },
  {
   "cell_type": "code",
   "execution_count": 263,
   "metadata": {
    "collapsed": true
   },
   "outputs": [
    {
     "name": "stdout",
     "output_type": "stream",
     "text": [
      "[ 0.12500016  0.06249997  0.87500515]\n",
      "[   6.78590329    4.52128294    4.52096173   90.00000062   90.00000016\n",
      "  109.45930452]\n",
      "True\n",
      "65 ['k', 'n', 'q', 'q', 'p', 'p', 'l', 'n', 'n', 'k', 'p', 'p', 'q', 'q', 'n', 'l'] [0 1 2 2 4 4 6 1 1 0 4 4 2 2 1 6]\n",
      "[[ 0.          0.          0.74999485]\n",
      " [ 0.5         0.75000016  0.75000329]\n",
      " [ 0.25000119  0.624999    0.5       ]\n",
      " [ 0.24999881  0.875001    0.5       ]\n",
      " [ 0.75000091  0.62500133  0.        ]\n",
      " [ 0.74999909  0.87499867  0.        ]\n",
      " [ 0.5         0.          0.25000104]\n",
      " [ 0.          0.74999984  0.24999671]\n",
      " [ 0.5         0.75000016  0.24999671]\n",
      " [ 0.          0.          0.25000515]\n",
      " [ 0.25000091  0.87499867  0.        ]\n",
      " [ 0.24999909  0.62500133  0.        ]\n",
      " [ 0.75000119  0.875001    0.5       ]\n",
      " [ 0.74999881  0.624999    0.5       ]\n",
      " [ 0.          0.74999984  0.75000329]\n",
      " [ 0.5         0.          0.74999896]\n",
      " [ 0.5         0.5         0.74999485]\n",
      " [ 0.          0.25000016  0.75000329]\n",
      " [ 0.75000119  0.124999    0.5       ]\n",
      " [ 0.74999881  0.375001    0.5       ]\n",
      " [ 0.25000091  0.12500133  0.        ]\n",
      " [ 0.24999909  0.37499867  0.        ]\n",
      " [ 0.          0.5         0.25000104]\n",
      " [ 0.5         0.24999984  0.24999671]\n",
      " [ 0.          0.25000016  0.24999671]\n",
      " [ 0.5         0.5         0.25000515]\n",
      " [ 0.75000091  0.37499867  0.        ]\n",
      " [ 0.74999909  0.12500133  0.        ]\n",
      " [ 0.25000119  0.375001    0.5       ]\n",
      " [ 0.24999881  0.124999    0.5       ]\n",
      " [ 0.5         0.24999984  0.75000329]\n",
      " [ 0.          0.5         0.74999896]]\n"
     ]
    }
   ],
   "source": [
    "sg,it = 65,1\n",
    "cc = crystals[sg][it]\n",
    "print cc.get_scaled_positions()[0]\n",
    "print cc.get_cell_lengths_and_angles()\n",
    "print isInSP(cc,sg)\n",
    "symprec = get_symprec(cc,sg)\n",
    "data = spg.get_symmetry_dataset(cc,symprec=symprec)\n",
    "print data['number'],data['wyckoffs'],data['equivalent_atoms']\n",
    "print data['std_positions']\n",
    "view(cc)"
   ]
  },
  {
   "cell_type": "code",
   "execution_count": 91,
   "metadata": {},
   "outputs": [
    {
     "data": {
      "text/plain": [
       "u'Cmcm (63)'"
      ]
     },
     "execution_count": 91,
     "metadata": {},
     "output_type": "execute_result"
    }
   ],
   "source": [
    "spg.get_spacegroup(rr,symprec=)"
   ]
  },
  {
   "cell_type": "code",
   "execution_count": 193,
   "metadata": {
    "collapsed": true
   },
   "outputs": [],
   "source": [
    "ss = spg.get_symmetry_from_database?"
   ]
  },
  {
   "cell_type": "code",
   "execution_count": 213,
   "metadata": {},
   "outputs": [],
   "source": [
    "ss = aspg.crystal(symbols=['Si'],basis=[0.3548618,0.3548618,0.1],cellpar=[8 ,   8,  3 , 90.  ,        90.    ,      90],spacegroup=35)\n",
    "view(ss)"
   ]
  },
  {
   "cell_type": "markdown",
   "metadata": {},
   "source": [
    "(0, 0, 0)+  (1/2, 1/2, 0)+  \n",
    "(1) x, y, z\t(2) -x, -y, z\t(3) x, -y, z\t(4) -x, y, z"
   ]
  },
  {
   "cell_type": "code",
   "execution_count": 207,
   "metadata": {},
   "outputs": [
    {
     "name": "stdout",
     "output_type": "stream",
     "text": [
      "[[ 0.6451382   0.64752901  0.216     ]\n",
      " [ 0.3548618   0.35247099  0.216     ]\n",
      " [ 0.6451382   0.35247099  0.216     ]\n",
      " [ 0.3548618   0.64752901  0.216     ]\n",
      " [ 0.1451382   0.14752901  0.216     ]\n",
      " [ 0.8548618   0.85247099  0.216     ]\n",
      " [ 0.1451382   0.85247099  0.216     ]\n",
      " [ 0.8548618   0.14752901  0.216     ]]\n"
     ]
    }
   ],
   "source": [
    "sg,it = 35,1\n",
    "cc = crystals[sg][it]\n",
    "print cc.get_scaled_positions()"
   ]
  },
  {
   "cell_type": "code",
   "execution_count": 82,
   "metadata": {},
   "outputs": [
    {
     "name": "stdout",
     "output_type": "stream",
     "text": [
      "[  3.12444082   7.72951641   3.1713511   90.          90.          90.        ]\n",
      "[ 0.24999444  0.60755706  0.25000888]\n"
     ]
    }
   ],
   "source": [
    "print dd.get_cell_lengths_and_angles()\n",
    "print dd.get_scaled_positions()[0]"
   ]
  },
  {
   "cell_type": "markdown",
   "metadata": {},
   "source": [
    "# check wyckoff pos"
   ]
  },
  {
   "cell_type": "code",
   "execution_count": 5,
   "metadata": {
    "code_folding": [
     0
    ],
    "collapsed": true
   },
   "outputs": [],
   "source": [
    "def get_primitive(frame,sg):\n",
    "    symprec = get_symprec(frame, sg)\n",
    "    if symprec is None:\n",
    "        print 'Not possible'\n",
    "        return None\n",
    "    (lattice, positions, numbers) = spg.standardize_cell(\n",
    "                            frame, to_primitive=False,no_idealize=False,\n",
    "                            symprec=symprec, angle_tolerance=-1.0)\n",
    "    primitive_atoms = ase.Atoms(cell=lattice, scaled_positions=positions, numbers=numbers)\n",
    "    return primitive_atoms"
   ]
  },
  {
   "cell_type": "code",
   "execution_count": 6,
   "metadata": {},
   "outputs": [
    {
     "name": "stdout",
     "output_type": "stream",
     "text": [
      "m\n"
     ]
    }
   ],
   "source": [
    "highestMultiplicitySite = WyckTable[50].loc[0,:]\n",
    "wl = highestMultiplicitySite['Wyckoff letter']\n",
    "print wl"
   ]
  },
  {
   "cell_type": "code",
   "execution_count": 10,
   "metadata": {
    "collapsed": true
   },
   "outputs": [],
   "source": [
    "def match_with_ase(crystal,sg,tol=1e-5):\n",
    "    Ncc = crystal.get_number_of_atoms()\n",
    "    ee = aspg.crystal(symbols=['Si'],basis=crystal.get_scaled_positions()[0],cell=crystal.get_cell(),spacegroup=sg)\n",
    "    Nee = ee.get_number_of_atoms()\n",
    "    if Ncc == Nee:\n",
    "        aa = np.allclose(ee.get_scaled_positions(),crystal.get_scaled_positions(),atol=tol)\n",
    "        bb = np.allclose(ee.get_cell(),crystal.get_cell(),atol=tol)\n",
    "        return aa and bb\n",
    "    else:\n",
    "        return False"
   ]
  },
  {
   "cell_type": "code",
   "execution_count": 55,
   "metadata": {},
   "outputs": [
    {
     "name": "stdout",
     "output_type": "stream",
     "text": [
      "224 0\n",
      "True\n"
     ]
    }
   ],
   "source": [
    "# sg,it = not_unique[0]\n",
    "sg,it = 224,0\n",
    "print sg,it\n",
    "crystal = crystals[sg][it]\n",
    "ee = aspg.crystal(symbols=['Si'],basis=crystal.get_scaled_positions()[0],cell=crystal.get_cell(),spacegroup=sg)\n",
    "print np.allclose(ee.get_scaled_positions(),crystal.get_scaled_positions(),atol=1e-5)\n",
    "view(crystal)\n",
    "view(ee)"
   ]
  },
  {
   "cell_type": "code",
   "execution_count": 53,
   "metadata": {},
   "outputs": [
    {
     "name": "stdout",
     "output_type": "stream",
     "text": [
      "228 2\n",
      "Fd-3c (228)\n",
      "True\n"
     ]
    }
   ],
   "source": [
    "sg,it = 228,2\n",
    "print sg,it\n",
    "crystal = crystals[sg][it]\n",
    "print spg.get_spacegroup(crystal,symprec=1e-5)\n",
    "print match_with_ase(crystal,sg,tol=1e-5)"
   ]
  },
  {
   "cell_type": "code",
   "execution_count": 51,
   "metadata": {},
   "outputs": [
    {
     "name": "stdout",
     "output_type": "stream",
     "text": [
      "not in the list\n"
     ]
    },
    {
     "data": {
      "text/plain": [
       "u'Im-3m (229)'"
      ]
     },
     "execution_count": 51,
     "metadata": {},
     "output_type": "execute_result"
    }
   ],
   "source": [
    "try:\n",
    "    missClassificationCorrection[sg]\n",
    "except:\n",
    "    print 'not in the list'\n",
    "# symprec = get_symprec(crystal,sg)\n",
    "spg.get_spacegroup(crystal,symprec=1e-2)"
   ]
  },
  {
   "cell_type": "code",
   "execution_count": 33,
   "metadata": {},
   "outputs": [
    {
     "name": "stdout",
     "output_type": "stream",
     "text": [
      "10 [0 0 0 0] ['o', 'o', 'o', 'o']\n"
     ]
    }
   ],
   "source": [
    "symprec = get_symprec(crystal,sg)\n",
    "data = spg.get_symmetry_dataset(crystal,symprec=symprec)\n",
    "print data['number'],data['equivalent_atoms'],data['wyckoffs']"
   ]
  },
  {
   "cell_type": "code",
   "execution_count": 57,
   "metadata": {},
   "outputs": [
    {
     "data": {
      "text/plain": [
       "[(12, 4),\n",
       " (51, 0),\n",
       " (51, 1),\n",
       " (51, 2),\n",
       " (51, 4),\n",
       " (65, 3),\n",
       " (65, 4),\n",
       " (72, 8),\n",
       " (83, 2),\n",
       " (123, 1),\n",
       " (123, 3),\n",
       " (123, 4),\n",
       " (127, 4),\n",
       " (174, 2),\n",
       " (175, 0),\n",
       " (191, 0),\n",
       " (215, 2),\n",
       " (217, 2),\n",
       " (224, 1),\n",
       " (227, 1)]"
      ]
     },
     "execution_count": 57,
     "metadata": {},
     "output_type": "execute_result"
    }
   ],
   "source": [
    "wrong_wl"
   ]
  },
  {
   "cell_type": "code",
   "execution_count": 36,
   "metadata": {},
   "outputs": [
    {
     "name": "stdout",
     "output_type": "stream",
     "text": [
      "7 0\n",
      "7 2\n",
      "7 3\n",
      "8 4\n",
      "11 1\n",
      "11 3\n",
      "12 1\n",
      "13 0\n",
      "13 1\n",
      "13 2\n",
      "13 6\n",
      "14 0\n",
      "15 1\n",
      "15 2\n",
      "15 4\n",
      "15 5\n",
      "15 6\n",
      "15 7\n",
      "15 8\n",
      "15 9\n",
      "15 14\n",
      "16 0\n",
      "16 1\n",
      "16 2\n",
      "16 3\n",
      "16 4\n",
      "17 0\n",
      "17 1\n",
      "17 2\n",
      "17 3\n",
      "17 4\n",
      "18 0\n",
      "18 1\n",
      "18 2\n",
      "18 3\n",
      "18 4\n",
      "19 0\n",
      "19 1\n",
      "19 2\n",
      "19 4\n",
      "20 0\n",
      "20 1\n",
      "20 2\n",
      "20 3\n",
      "20 4\n",
      "20 5\n",
      "20 7\n",
      "20 8\n",
      "20 9\n",
      "20 10\n",
      "20 11\n",
      "20 12\n",
      "20 13\n",
      "21 0\n",
      "21 1\n",
      "21 2\n",
      "21 3\n",
      "21 4\n",
      "21 5\n",
      "21 6\n",
      "21 8\n",
      "21 9\n",
      "22 0\n",
      "22 3\n",
      "23 0\n",
      "23 1\n",
      "23 2\n",
      "23 3\n",
      "23 4\n",
      "24 0\n",
      "24 1\n",
      "24 2\n",
      "24 3\n",
      "24 4\n",
      "26 0\n",
      "26 3\n",
      "27 1\n",
      "27 3\n",
      "27 4\n",
      "28 4\n",
      "29 2\n",
      "29 3\n",
      "30 0\n",
      "30 1\n",
      "30 3\n",
      "31 0\n",
      "31 4\n",
      "31 6\n",
      "33 1\n",
      "33 3\n",
      "34 1\n",
      "34 4\n",
      "35 4\n",
      "36 1\n",
      "36 6\n",
      "37 0\n",
      "37 1\n",
      "37 2\n",
      "37 7\n",
      "38 0\n",
      "38 4\n",
      "39 0\n",
      "39 2\n",
      "39 3\n",
      "39 4\n",
      "40 0\n",
      "40 1\n",
      "40 4\n",
      "40 6\n",
      "41 1\n",
      "41 3\n",
      "41 7\n",
      "42 1\n",
      "43 3\n",
      "43 4\n",
      "43 5\n",
      "44 0\n",
      "45 0\n",
      "45 1\n",
      "45 2\n",
      "45 3\n",
      "48 1\n",
      "48 2\n",
      "48 3\n",
      "48 4\n",
      "48 5\n",
      "48 7\n",
      "50 0\n",
      "50 1\n",
      "50 2\n",
      "50 3\n",
      "50 4\n",
      "52 1\n",
      "52 2\n",
      "52 5\n",
      "52 6\n",
      "52 7\n",
      "52 8\n",
      "52 9\n",
      "52 10\n",
      "52 11\n",
      "52 12\n",
      "53 0\n",
      "53 1\n",
      "53 4\n",
      "54 0\n",
      "54 2\n",
      "54 3\n",
      "54 4\n",
      "55 0\n",
      "55 1\n",
      "55 2\n",
      "56 2\n",
      "56 4\n",
      "56 5\n",
      "57 0\n",
      "57 1\n",
      "57 2\n",
      "57 4\n",
      "57 5\n",
      "57 6\n",
      "57 7\n",
      "57 8\n",
      "58 0\n",
      "58 1\n",
      "58 3\n",
      "58 4\n",
      "59 0\n",
      "59 2\n",
      "59 3\n",
      "59 4\n",
      "60 0\n",
      "60 1\n",
      "60 3\n",
      "60 4\n",
      "61 0\n",
      "61 1\n",
      "61 2\n",
      "61 4\n",
      "62 1\n",
      "62 2\n",
      "62 3\n",
      "62 4\n",
      "62 5\n",
      "62 6\n",
      "62 8\n",
      "62 9\n",
      "63 1\n",
      "63 2\n",
      "64 0\n",
      "64 2\n",
      "64 3\n",
      "64 4\n",
      "65 0\n",
      "65 1\n",
      "65 2\n",
      "66 0\n",
      "66 1\n",
      "66 3\n",
      "67 0\n",
      "67 1\n",
      "67 2\n",
      "67 3\n",
      "67 4\n",
      "68 0\n",
      "68 1\n",
      "68 2\n",
      "68 3\n",
      "68 5\n",
      "69 1\n",
      "69 4\n",
      "70 3\n",
      "71 1\n",
      "71 3\n",
      "72 0\n",
      "72 2\n",
      "72 4\n",
      "72 5\n",
      "72 7\n",
      "72 9\n",
      "73 0\n",
      "73 5\n",
      "73 8\n",
      "74 2\n",
      "74 3\n",
      "76 1\n",
      "76 2\n",
      "77 1\n",
      "77 4\n",
      "78 1\n",
      "78 2\n",
      "79 2\n",
      "80 0\n",
      "80 3\n",
      "81 0\n",
      "81 2\n",
      "81 4\n",
      "82 0\n",
      "82 2\n",
      "82 5\n",
      "82 6\n",
      "84 0\n",
      "84 1\n",
      "85 0\n",
      "85 2\n",
      "85 3\n",
      "85 4\n",
      "86 0\n",
      "86 1\n",
      "86 3\n",
      "86 4\n",
      "86 5\n",
      "88 1\n",
      "89 0\n",
      "89 2\n",
      "89 3\n",
      "90 4\n",
      "91 5\n",
      "93 1\n",
      "93 2\n",
      "93 3\n",
      "93 5\n",
      "94 0\n",
      "94 3\n",
      "95 3\n",
      "97 0\n",
      "97 2\n",
      "97 4\n",
      "97 5\n",
      "97 7\n",
      "98 0\n",
      "98 3\n",
      "100 4\n",
      "101 0\n",
      "101 1\n",
      "101 2\n",
      "101 3\n",
      "101 4\n",
      "102 0\n",
      "102 1\n",
      "103 0\n",
      "103 2\n",
      "103 3\n",
      "104 4\n",
      "105 0\n",
      "105 1\n",
      "105 2\n",
      "105 3\n",
      "105 4\n",
      "106 1\n",
      "107 1\n",
      "107 3\n",
      "107 4\n",
      "109 1\n",
      "109 3\n",
      "109 4\n",
      "110 1\n",
      "111 0\n",
      "111 1\n",
      "111 2\n",
      "111 3\n",
      "111 4\n",
      "112 0\n",
      "112 1\n",
      "112 2\n",
      "112 3\n",
      "112 4\n",
      "113 0\n",
      "113 1\n",
      "113 2\n",
      "113 3\n",
      "113 4\n",
      "114 0\n",
      "114 1\n",
      "114 2\n",
      "115 1\n",
      "115 2\n",
      "115 3\n",
      "115 4\n",
      "116 0\n",
      "116 2\n",
      "116 4\n",
      "117 1\n",
      "117 3\n",
      "117 4\n",
      "118 0\n",
      "118 1\n",
      "118 3\n",
      "118 4\n",
      "118 5\n",
      "119 0\n",
      "119 1\n",
      "119 2\n",
      "120 0\n",
      "120 1\n",
      "120 2\n",
      "120 3\n",
      "120 4\n",
      "121 1\n",
      "121 2\n",
      "121 3\n",
      "121 4\n",
      "124 0\n",
      "124 1\n",
      "124 2\n",
      "124 4\n",
      "125 1\n",
      "125 3\n",
      "126 0\n",
      "126 1\n",
      "127 1\n",
      "128 1\n",
      "129 1\n",
      "129 2\n",
      "129 3\n",
      "130 0\n",
      "130 4\n",
      "131 1\n",
      "131 2\n",
      "131 4\n",
      "132 0\n",
      "132 2\n",
      "132 3\n",
      "132 4\n",
      "133 0\n",
      "133 2\n",
      "133 3\n",
      "133 4\n",
      "133 5\n",
      "133 6\n",
      "134 0\n",
      "134 1\n",
      "134 2\n",
      "134 3\n",
      "134 4\n",
      "135 2\n",
      "135 3\n",
      "136 2\n",
      "136 4\n",
      "137 0\n",
      "137 1\n",
      "137 2\n",
      "137 3\n",
      "138 0\n",
      "138 2\n",
      "138 3\n",
      "141 4\n",
      "142 1\n",
      "142 2\n",
      "143 0\n",
      "143 1\n",
      "143 2\n",
      "143 3\n",
      "143 4\n",
      "144 0\n",
      "144 2\n",
      "145 0\n",
      "145 2\n",
      "146 1\n",
      "146 2\n",
      "146 4\n",
      "147 1\n",
      "149 1\n",
      "149 2\n",
      "149 3\n",
      "149 4\n",
      "150 0\n",
      "150 1\n",
      "150 2\n",
      "150 4\n",
      "151 3\n",
      "151 4\n",
      "152 1\n",
      "152 5\n",
      "152 7\n",
      "154 3\n",
      "154 4\n",
      "154 7\n",
      "155 0\n",
      "155 1\n",
      "155 3\n",
      "155 4\n",
      "155 6\n",
      "158 0\n",
      "158 2\n",
      "158 3\n",
      "158 4\n",
      "160 2\n",
      "160 4\n",
      "161 2\n",
      "161 4\n",
      "162 0\n",
      "162 3\n",
      "163 0\n",
      "163 1\n",
      "163 3\n",
      "163 4\n",
      "164 3\n",
      "165 0\n",
      "165 1\n",
      "165 2\n",
      "165 3\n",
      "165 4\n",
      "167 3\n",
      "167 7\n",
      "169 3\n",
      "170 1\n",
      "170 4\n",
      "171 3\n",
      "171 4\n",
      "172 3\n",
      "172 4\n",
      "173 3\n",
      "174 0\n",
      "174 1\n",
      "174 3\n",
      "176 3\n",
      "177 0\n",
      "177 1\n",
      "177 4\n",
      "182 2\n",
      "182 3\n",
      "182 4\n",
      "182 6\n",
      "182 7\n",
      "185 1\n",
      "186 2\n",
      "186 3\n",
      "187 0\n",
      "187 1\n",
      "187 2\n",
      "187 3\n",
      "188 1\n",
      "188 2\n",
      "188 4\n",
      "189 0\n",
      "189 3\n",
      "190 0\n",
      "190 4\n",
      "193 0\n",
      "193 1\n",
      "194 4\n",
      "195 0\n",
      "196 0\n",
      "196 1\n",
      "197 0\n",
      "197 1\n",
      "200 0\n",
      "200 1\n",
      "201 0\n",
      "201 4\n",
      "201 5\n",
      "201 7\n",
      "202 0\n",
      "202 1\n",
      "203 3\n",
      "204 0\n",
      "207 1\n",
      "208 0\n",
      "208 2\n",
      "208 3\n",
      "208 5\n",
      "208 6\n",
      "209 0\n",
      "209 1\n",
      "210 0\n",
      "210 3\n",
      "211 1\n",
      "211 2\n",
      "217 0\n",
      "218 0\n",
      "219 1\n",
      "222 1\n",
      "223 0\n",
      "223 1\n",
      "223 3\n",
      "224 0\n",
      "225 0\n",
      "228 3\n",
      "1 205 20 492 1237\n"
     ]
    }
   ],
   "source": [
    "not_unique = []\n",
    "miss = []\n",
    "wrong_wl = []\n",
    "good = []\n",
    "tot = 0\n",
    "for sg,cl in crystals.iteritems():\n",
    "    highestMultiplicitySite = WyckTable[sg].loc[0,:]\n",
    "    wl = highestMultiplicitySite['Wyckoff letter']\n",
    "    for it,crystal in enumerate(cl):\n",
    "        tot += 1\n",
    "        symprec = get_symprec(crystal,sg)\n",
    "        if symprec is None:\n",
    "            print sg,it\n",
    "            continue\n",
    "        data = spg.get_symmetry_dataset(crystal,symprec=symprec)\n",
    "#         print data['number'],data['wyckoffs'],data['equivalent_atoms']\n",
    "        if sg in missClassificationCorrection.keys():\n",
    "            miss.append((sg,it))\n",
    "        elif len(np.unique(data['equivalent_atoms'])) > 1:\n",
    "            not_unique.append((sg,it))\n",
    "        elif data['wyckoffs'][0] != wl:\n",
    "            wrong_wl.append((sg,it))\n",
    "        else:\n",
    "            good.append((sg,it))\n",
    "Nu,Nm,Nw,Ng = len(not_unique),len(miss),len(wrong_wl),len(good)\n",
    "print Nu,Nm,Nw,Ng,tot"
   ]
  },
  {
   "cell_type": "code",
   "execution_count": 273,
   "metadata": {},
   "outputs": [
    {
     "name": "stdout",
     "output_type": "stream",
     "text": [
      "68 283 66 797 1214\n"
     ]
    }
   ],
   "source": [
    "print Nu,Nm,Nw,Ng,tot"
   ]
  },
  {
   "cell_type": "code",
   "execution_count": 309,
   "metadata": {},
   "outputs": [
    {
     "data": {
      "text/plain": [
       "53"
      ]
     },
     "execution_count": 309,
     "metadata": {},
     "output_type": "execute_result"
    }
   ],
   "source": [
    "len(missClassificationCorrection)"
   ]
  },
  {
   "cell_type": "markdown",
   "metadata": {
    "heading_collapsed": true
   },
   "source": [
    "### test pretty inspection"
   ]
  },
  {
   "cell_type": "code",
   "execution_count": 62,
   "metadata": {
    "hidden": true
   },
   "outputs": [
    {
     "ename": "NameError",
     "evalue": "name 'BeautifulSoup' is not defined",
     "output_type": "error",
     "traceback": [
      "\u001b[0;31m---------------------------------------------------------------------------\u001b[0m",
      "\u001b[0;31mNameError\u001b[0m                                 Traceback (most recent call last)",
      "\u001b[0;32m<ipython-input-62-08b38d758d0b>\u001b[0m in \u001b[0;36m<module>\u001b[0;34m()\u001b[0m\n\u001b[1;32m      6\u001b[0m \u001b[0;34m\u001b[0m\u001b[0m\n\u001b[1;32m      7\u001b[0m \u001b[0;31m# get the xml from the web page\u001b[0m\u001b[0;34m\u001b[0m\u001b[0;34m\u001b[0m\u001b[0m\n\u001b[0;32m----> 8\u001b[0;31m \u001b[0msoup\u001b[0m \u001b[0;34m=\u001b[0m \u001b[0mBeautifulSoup\u001b[0m\u001b[0;34m(\u001b[0m\u001b[0mrequests\u001b[0m\u001b[0;34m.\u001b[0m\u001b[0mget\u001b[0m\u001b[0;34m(\u001b[0m\u001b[0murl\u001b[0m\u001b[0;34m)\u001b[0m\u001b[0;34m.\u001b[0m\u001b[0mtext\u001b[0m\u001b[0;34m,\u001b[0m \u001b[0;34m\"lxml\"\u001b[0m\u001b[0;34m)\u001b[0m\u001b[0;34m\u001b[0m\u001b[0m\n\u001b[0m\u001b[1;32m      9\u001b[0m \u001b[0;34m\u001b[0m\u001b[0m\n\u001b[1;32m     10\u001b[0m \u001b[0;31m# get list of table of class genpos (-> general position part) and specpos (-> special positions)\u001b[0m\u001b[0;34m\u001b[0m\u001b[0;34m\u001b[0m\u001b[0m\n",
      "\u001b[0;31mNameError\u001b[0m: name 'BeautifulSoup' is not defined"
     ]
    }
   ],
   "source": [
    "from ipywidgets import Layout, Button, Box,HTML\n",
    "from bs4 import BeautifulSoup\n",
    "sg = 4\n",
    "# url of space group info at International Tables for Crystallography Volume A: Space-group symmetry\n",
    "baseUrl = 'http://it.iucr.org/Ac/ch2o3v0001/sgtable2o3o'\n",
    "url = baseUrl + '{:03.0f}'.format(sg)+'/'\n",
    "\n",
    "# get the xml from the web page\n",
    "soup = BeautifulSoup(requests.get(url).text, \"lxml\")\n",
    "\n",
    "# get list of table of class genpos (-> general position part) and specpos (-> special positions)\n",
    "genposList = soup.find_all(\"table\", class_=\"genpos\")\n",
    "specposList = soup.find_all(\"table\", class_=\"specpos\")\n",
    "genposcoords = soup.find_all(\"table\", class_=\"genposcoords\")\n",
    "aa = genposList[0]\n",
    "#     aa += specposList[1]\n",
    "aa.append(specposList[0])\n",
    "\n",
    "items = [\n",
    "    HTML(aa.prettify())\n",
    " ]\n",
    "\n",
    "box_layout = Layout(display='flex',\n",
    "                    flex_flow='row',\n",
    "                    align_items='stretch',\n",
    "                    border='solid',\n",
    "                    width='50%')\n",
    "box = Box(children=items, layout=box_layout)\n",
    "box\n",
    "\n"
   ]
  },
  {
   "cell_type": "code",
   "execution_count": 64,
   "metadata": {
    "hidden": true
   },
   "outputs": [
    {
     "data": {
      "application/vnd.jupyter.widget-view+json": {
       "model_id": "4332adadfa3d4fa4b15b0163f6416223"
      }
     },
     "metadata": {},
     "output_type": "display_data"
    }
   ],
   "source": [
    "def get_sg_table(sg):\n",
    "    import requests\n",
    "    from bs4 import BeautifulSoup\n",
    "    from IPython.display import HTML\n",
    "\n",
    "    # url of space group info at International Tables for Crystallography Volume A: Space-group symmetry\n",
    "    baseUrl = 'http://it.iucr.org/Ac/ch2o3v0001/sgtable2o3o'\n",
    "    url = baseUrl + '{:03.0f}'.format(sg)+'/'\n",
    "\n",
    "    # get the xml from the web page\n",
    "    soup = BeautifulSoup(requests.get(url).text, \"lxml\")\n",
    "\n",
    "    # get list of table of class genpos (-> general position part) and specpos (-> special positions)\n",
    "    genposList = soup.find_all(\"table\", class_=\"genpos\")\n",
    "    specposList = soup.find_all(\"table\", class_=\"specpos\")\n",
    "    aa = genposList[0]\n",
    "    if len(specposList) > 0:\n",
    "        aa.append(specposList[0])\n",
    "    return aa\n",
    "\n",
    "def print_sg_table(sg1,sg2):\n",
    "    from ipywidgets import Layout, Button, Box,HTML\n",
    "    from bs4 import BeautifulSoup\n",
    "    t1 = get_sg_table(sg1)\n",
    "    t2 = get_sg_table(sg2)\n",
    "    items = [HTML(t1.prettify()),HTML(t2.prettify())]\n",
    "\n",
    "    box_layout = Layout(display='flex',\n",
    "                        flex_flow='row',\n",
    "                        align_items='stretch',\n",
    "                        border='solid',\n",
    "                        width='100%')\n",
    "    box = Box(children=items, layout=box_layout)\n",
    "    return box\n",
    "print_sg_table(10,12)"
   ]
  },
  {
   "cell_type": "markdown",
   "metadata": {},
   "source": [
    "## Analysis"
   ]
  },
  {
   "cell_type": "code",
   "execution_count": 462,
   "metadata": {
    "collapsed": true
   },
   "outputs": [],
   "source": [
    "def isInSP(crystal, spaceGroupIdx, tols=[1e-5, 1e-4, 1e-3, 1e-2]):\n",
    "    SPgood = False\n",
    "    detectedSpaceGroup = []\n",
    "\n",
    "    for tol in tols:\n",
    "        detectedSpaceGroup.append(crystal2SpaceGroupIdx(crystal, tol))\n",
    "    print detectedSpaceGroup\n",
    "    if spaceGroupIdx in detectedSpaceGroup:\n",
    "        SPgood = True\n",
    "    elif spaceGroupIdx in missClassificationCorrection.keys():\n",
    "        if missClassificationCorrection[spaceGroupIdx] in detectedSpaceGroup:\n",
    "            SPgood = True\n",
    "    return SPgood\n",
    "def crystal2SpaceGroupIdx(crystal,symtol):\n",
    "    '''Identify the space group index (from 1,230) of a given crystal (ase Atoms class).\n",
    "        Return an int from 1 to 230.'''\n",
    "    try:\n",
    "        return int(spg.get_spacegroup(crystal,symprec=symtol).split(' ')[1][1:-1])\n",
    "    except:\n",
    "\n",
    "        return -1"
   ]
  },
  {
   "cell_type": "code",
   "execution_count": 485,
   "metadata": {},
   "outputs": [
    {
     "name": "stdout",
     "output_type": "stream",
     "text": [
      "[51, 51, 65, 65]\n",
      "[10, 10, 51, 51]\n",
      "[10, 10, 51, 191]\n",
      "[10, 10, 10, 51]\n",
      "[10, 10, 51, 51]\n",
      "[25, 51, 47, 47]\n",
      "[51, 51, 63, 194]\n",
      "[51, 51, 65, 191]\n",
      "[10, 51, 51, 65]\n",
      "[6, 51, 51, 51]\n",
      "[10, 10, 51, 51]\n"
     ]
    }
   ],
   "source": [
    "for iii in range(11):\n",
    "    isInSP(crystals[28][iii],28)"
   ]
  },
  {
   "cell_type": "code",
   "execution_count": 500,
   "metadata": {
    "collapsed": true
   },
   "outputs": [
    {
     "name": "stdout",
     "output_type": "stream",
     "text": [
      "16 P 2 2\n",
      "17 P 2c 2\n",
      "18 P 2 2ab\n",
      "19 P 2ac 2ab\n",
      "25 P 2 -2\n",
      "26 P 2c -2\n",
      "27 P 2 -2c\n",
      "28 P 2 -2a\n",
      "29 P 2c -2ac\n",
      "30 P 2 -2bc\n",
      "31 P 2ac -2\n",
      "32 P 2 -2ab\n",
      "33 P 2c -2n\n",
      "34 P 2 -2n\n",
      "47 -P 2 2\n",
      "48 P 2 2 -1n\n",
      "49 -P 2 2c\n",
      "50 P 2 2 -1ab\n",
      "51 -P 2a 2a\n",
      "52 -P 2a 2bc\n",
      "53 -P 2ac 2\n",
      "54 -P 2a 2ac\n",
      "55 -P 2 2ab\n",
      "56 -P 2ab 2ac\n",
      "57 -P 2c 2b\n",
      "58 -P 2 2n\n",
      "59 P 2 2ab -1ab\n",
      "60 -P 2n 2ab\n",
      "61 -P 2ac 2ab\n",
      "62 -P 2ac 2n\n"
     ]
    }
   ],
   "source": [
    "for it in [16, 17, 18, 19, 25, 26, 27, 28, 29, 30, 31, 32, 33, 34, 47, 48, 49, 50, 51,\n",
    "                   52, 53, 54, 55, 56, 57, 58, 59, 60, 61, 62]:\n",
    "    print it,SGTable[SGTable['Table No.']==it]['Hall symbol'].values[0]"
   ]
  },
  {
   "cell_type": "code",
   "execution_count": 65,
   "metadata": {},
   "outputs": [
    {
     "data": {
      "application/vnd.jupyter.widget-view+json": {
       "model_id": "db86ef7262b740f99dcac11d7be4d79a"
      }
     },
     "metadata": {},
     "output_type": "display_data"
    }
   ],
   "source": [
    "print_sg_table(196,202)"
   ]
  },
  {
   "cell_type": "code",
   "execution_count": 552,
   "metadata": {},
   "outputs": [
    {
     "name": "stdout",
     "output_type": "stream",
     "text": [
      "SG left = 30                                                              SG right = 53\n",
      "0 ['h', 'h', 'h', 'h'] 53\n",
      "[[ 0.75001996  0.87499361  0.49      ]\n",
      " [ 0.24998004  0.12500639  0.49      ]\n",
      " [ 0.75001996  0.62500639  0.99      ]\n",
      " [ 0.24998004  0.37499361  0.99      ]]\n",
      "1 ['h', 'h', 'h', 'h'] 53\n",
      "[[ 0.2500044   0.37498106  0.556     ]\n",
      " [ 0.74999532  0.62501894  0.556     ]\n",
      " [ 0.25000468  0.12501894  0.056     ]\n",
      " [ 0.7499956   0.87498106  0.056     ]]\n",
      "2 ['h', 'h', 'h', 'h'] 53\n",
      "[[ 0.24999719  0.84244628  0.487     ]\n",
      " [ 0.75000281  0.15755372  0.487     ]\n",
      " [ 0.24999719  0.65755372  0.987     ]\n",
      " [ 0.75000281  0.34244628  0.987     ]]\n",
      "3 ['h', 'h', 'h', 'h'] 53\n",
      "[[  2.50044220e-01   2.81118353e-06   2.18999991e-01]\n",
      " [  7.49955780e-01   9.99997189e-01   2.19000009e-01]\n",
      " [  2.50044220e-01   4.99997286e-01   7.18999991e-01]\n",
      " [  7.49955780e-01   5.00002714e-01   7.19000009e-01]]\n",
      "4 ['h', 'h', 'h', 'h'] 53\n",
      "[[  2.49995007e-01   4.99996722e-01   2.89000002e-01]\n",
      " [  7.50004973e-01   5.00003278e-01   2.88999998e-01]\n",
      " [  2.49995027e-01   3.26414225e-06   7.89000002e-01]\n",
      " [  7.50004993e-01   9.99996736e-01   7.88999998e-01]]\n"
     ]
    },
    {
     "data": {
      "application/vnd.jupyter.widget-view+json": {
       "model_id": "a5948a1f40204dbd898fd6fa8c482bc5"
      }
     },
     "metadata": {},
     "output_type": "display_data"
    }
   ],
   "source": [
    "it = 0\n",
    "aa = missClassificationCorrection.items()\n",
    "print 'SG left = {}                                                              SG right = {}'.format(aa[it][0],aa[it][1])\n",
    "\n",
    "\n",
    "sg = aa[it][0]\n",
    "\n",
    "for ii,cc in enumerate(crystals[sg]):\n",
    "    symprec = get_symprec(cc,sg)\n",
    "    data = spg.get_symmetry_dataset(cc,symprec=symprec)\n",
    "    \n",
    "    print ii,data['wyckoffs'],data['number']\n",
    "#     print data['std_positions']\n",
    "    print cc.get_scaled_positions()\n",
    "#     print cc.get_cell_lengths_and_angles()\n",
    "print_sg_table(aa[it][0],aa[it][1])\n",
    "# print_sg_table(aa[it][0],51)"
   ]
  },
  {
   "cell_type": "code",
   "execution_count": 551,
   "metadata": {},
   "outputs": [
    {
     "name": "stdout",
     "output_type": "stream",
     "text": [
      "False\n",
      "True\n"
     ]
    }
   ],
   "source": [
    "sg,it = 29,2\n",
    "cc = crystals[sg][it]\n",
    "ee = aspg.crystal(symbols=['Si'],basis=cc.get_scaled_positions()[0],cellpar=cc.get_cell_lengths_and_angles(),spacegroup=sg)\n",
    "print np.allclose(ee.get_scaled_positions(),cc.get_scaled_positions(),atol=1e-5)\n",
    "print np.allclose(ee.get_cell(),cc.get_cell(),atol=1e-5)\n",
    "view(cc)\n",
    "view(ee)"
   ]
  },
  {
   "cell_type": "code",
   "execution_count": 290,
   "metadata": {
    "collapsed": true
   },
   "outputs": [],
   "source": [
    "wyck2match = {\n",
    "    3:['m', 'n'],\n",
    "    4:['e'],\n",
    "    5:['i'],\n",
    "    6:['i','j'],\n",
    "    7:['e','f'],\n",
    "    8:['g','h'],\n",
    "    9:['e'],\n",
    "    25:['z','y'],\n",
    "    26:['j'],\n",
    "    27:['q','i','j','k','l'],\n",
    "    28:['j'],\n",
    "    29:['d']\n",
    "    \n",
    "    \n",
    "}"
   ]
  },
  {
   "cell_type": "code",
   "execution_count": 306,
   "metadata": {
    "scrolled": true
   },
   "outputs": [
    {
     "name": "stdout",
     "output_type": "stream",
     "text": [
      "[[ 0.75105019  0.5         0.60897755]\n",
      " [ 0.24894981  0.5         0.39102245]]\n"
     ]
    }
   ],
   "source": [
    "cc = crystals[sg][3]\n",
    "dd = get_standard_frame(cc,sg)\n",
    "print dd.get_scaled_positions()"
   ]
  },
  {
   "cell_type": "code",
   "execution_count": 307,
   "metadata": {},
   "outputs": [
    {
     "name": "stdout",
     "output_type": "stream",
     "text": [
      "['n', 'n']\n",
      "P2/m (10)\n",
      "[[ 0.75105019  0.5         0.60897755]\n",
      " [ 0.24894981  0.5         0.39102245]]\n",
      "[[  2.25872516e+00   3.08179506e-19   2.38582043e-05]\n",
      " [  2.41545830e-18   2.23751551e+00   4.52021698e-19]\n",
      " [  4.49559691e+00   3.54006381e-18   9.04446916e+00]]\n",
      "[[ 2.25872516  0.          0.        ]\n",
      " [ 0.          2.23751551  0.        ]\n",
      " [-0.02175788  0.          9.04442168]]\n"
     ]
    }
   ],
   "source": [
    "symprec=1e-5\n",
    "data = spg.get_symmetry_dataset(cc,symprec=symprec)\n",
    "print data['wyckoffs']\n",
    "print spg.get_spacegroup(cc,symprec=symprec)\n",
    "(lattice, positions, numbers) = spg.standardize_cell(\n",
    "                            cc, to_primitive=False,no_idealize=False,\n",
    "                            symprec=symprec, angle_tolerance=-1.0)\n",
    "dd = ase.Atoms(cell=lattice, scaled_positions=positions, numbers=numbers)\n",
    "print dd.get_scaled_positions()\n",
    "print cc.get_cell()\n",
    "print data['std_lattice']"
   ]
  },
  {
   "cell_type": "code",
   "execution_count": null,
   "metadata": {
    "collapsed": true
   },
   "outputs": [],
   "source": []
  }
 ],
 "metadata": {
  "kernelspec": {
   "display_name": "Python 2 glosim",
   "language": "python",
   "name": "glosim"
  },
  "language_info": {
   "codemirror_mode": {
    "name": "ipython",
    "version": 2
   },
   "file_extension": ".py",
   "mimetype": "text/x-python",
   "name": "python",
   "nbconvert_exporter": "python",
   "pygments_lexer": "ipython2",
   "version": "2.7.13"
  },
  "toc": {
   "colors": {
    "hover_highlight": "#DAA520",
    "navigate_num": "#000000",
    "navigate_text": "#333333",
    "running_highlight": "#FF0000",
    "selected_highlight": "#FFD700",
    "sidebar_border": "#EEEEEE",
    "wrapper_background": "#FFFFFF"
   },
   "moveMenuLeft": true,
   "nav_menu": {
    "height": "232px",
    "width": "252px"
   },
   "navigate_menu": true,
   "number_sections": true,
   "sideBar": true,
   "threshold": 4,
   "toc_cell": false,
   "toc_section_display": "block",
   "toc_window_display": false,
   "widenNotebook": false
  }
 },
 "nbformat": 4,
 "nbformat_minor": 2
}

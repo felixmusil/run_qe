{
 "cells": [
  {
   "cell_type": "code",
   "execution_count": 39,
   "metadata": {
    "collapsed": true
   },
   "outputs": [],
   "source": [
    "import spglib as spg\n",
    "import ase\n",
    "from ase.visualize import view\n",
    "\n",
    "import ase.spacegroup as aspg\n",
    "from ase.visualize import view\n",
    "from ase.io import read,write\n",
    "import numpy as np\n",
    "import pandas as pd\n",
    "from collections import Iterable\n",
    "import cPickle as pck\n",
    "import spglib as spg\n",
    "import sys, os\n",
    "from make_input.utils import rotation_matrix,isCellSkewed,unskewCell,get_symprec,get_relative_angle\n",
    "from make_input.qe_input import makeCard,makeNamelist,SG2ibrav,SG2wyckoff,makeQEInput_sg,makeQEInput_ibrav0,makeQEInput\n",
    "from make_input.custom_frame import frame2qe_format,get_ibrav2_frame\n",
    "from make_input.qe_run import run_qe_local\n",
    "from make_input.raw_info import SG2BravaisLattice\n",
    "from read_output.parser import extract_floats,finishedProperly,fn2info,fn2num,get_filenames,get_patterns,get_energy_per_atom\n"
   ]
  },
  {
   "cell_type": "markdown",
   "metadata": {
    "heading_collapsed": true
   },
   "source": [
    "# import info and input structures"
   ]
  },
  {
   "cell_type": "code",
   "execution_count": 3,
   "metadata": {
    "collapsed": true,
    "hidden": true
   },
   "outputs": [],
   "source": [
    "fileNames = {}\n",
    "infoPath = './info/'\n",
    "structurePath = './structures/'\n",
    "fileNames['crystals'] = structurePath + 'partial_input_crystals_sg3-230.pck'\n",
    "fileNames['wyck'] = infoPath+'SpaceGroup-multiplicity-wickoff-info.pck'\n",
    "fileNames['general info'] = infoPath+'SpaceGroup-general-info.pck'\n",
    "fileNames['elements info'] = infoPath+'General-Info-Elements-fast.pck'"
   ]
  },
  {
   "cell_type": "code",
   "execution_count": 4,
   "metadata": {
    "collapsed": true,
    "hidden": true
   },
   "outputs": [],
   "source": [
    "with open(fileNames['crystals'],'rb') as f:\n",
    "    crystals = pck.load(f)\n",
    "with open(fileNames['wyck'],'rb') as f:\n",
    "    WyckTable = pck.load(f)\n",
    "SGTable = pd.read_pickle(fileNames['general info'])\n",
    "ElemTable = pd.read_pickle(fileNames['elements info'])"
   ]
  },
  {
   "cell_type": "markdown",
   "metadata": {},
   "source": [
    "# examples"
   ]
  },
  {
   "cell_type": "code",
   "execution_count": 5,
   "metadata": {
    "collapsed": true
   },
   "outputs": [],
   "source": [
    "from make_input.qe_input import frame2change,ibrav0,NOPROBLEM,dont_print_wyck,tricky_sg"
   ]
  },
  {
   "cell_type": "markdown",
   "metadata": {
    "heading_collapsed": true
   },
   "source": [
    "## single sg"
   ]
  },
  {
   "cell_type": "code",
   "execution_count": 22,
   "metadata": {
    "collapsed": true,
    "hidden": true
   },
   "outputs": [],
   "source": [
    "sg,it = 210,0\n",
    "cc = crystals[sg][it]\n",
    "dirName = './test_run/check_input_errors_ibrav3/sg_{}-f_{}'.format(sg,it)\n"
   ]
  },
  {
   "cell_type": "code",
   "execution_count": 23,
   "metadata": {
    "hidden": true
   },
   "outputs": [
    {
     "name": "stdout",
     "output_type": "stream",
     "text": [
      "[ 0.30321532  0.3032168   0.58934866]\n"
     ]
    }
   ],
   "source": [
    "print cc.get_scaled_positions()[0]"
   ]
  },
  {
   "cell_type": "code",
   "execution_count": 24,
   "metadata": {
    "hidden": true
   },
   "outputs": [],
   "source": [
    "input_str = makeQEInput(cc,sg,WyckTable,SGTable,ElemTable,\n",
    "                 zatom = 14,rhocutoff = 20 * 4,wfccutoff = 20,\n",
    "                 calculation_type='\"scf\"',smearing=1e-2,\n",
    "                pressure=0,press_conv_thr=0.5,cell_factor=2,\n",
    "                etot_conv_thr=1e-4,forc_conv_thr=1e-3,nstep=150,\n",
    "                scf_conv_thr=1e-1,print_forces=True,print_stress=False,\n",
    "                restart=False,\n",
    "                 kpt = [2,2,2],Nkpt=None,kpt_offset = [0,0,0],ppPath='\"../pseudo/\"')\n",
    "# print inpt"
   ]
  },
  {
   "cell_type": "code",
   "execution_count": null,
   "metadata": {
    "collapsed": true,
    "hidden": true
   },
   "outputs": [],
   "source": [
    "exitstatus = run_qe_local(input_str,dirName,verbose=False,\n",
    "                 path2mpi='/usr/bin/',np=4,path2pw='/home/musil/source/qe-6.1/bin/')"
   ]
  },
  {
   "cell_type": "markdown",
   "metadata": {},
   "source": [
    "## several sg"
   ]
  },
  {
   "cell_type": "code",
   "execution_count": 19,
   "metadata": {
    "collapsed": true
   },
   "outputs": [],
   "source": [
    "zatom = 14\n",
    "calculation_type = '\"scf\"'\n",
    "sgs = [202]\n",
    "\n",
    "kpt = [2,2,2]\n",
    "Nkpt = None\n",
    "# rhocutoff ,wfccutoff = None,None\n",
    "rhocutoff ,wfccutoff = 20*4,20\n",
    "smearing = 1e-2\n",
    "etot_conv_thr = 1e-4\n",
    "forc_conv_thr = 1e-3\n",
    "nstep = 150\n",
    "scf_conv_thr = 1e-1\n",
    "ppPath='\"./pseudo/SSSP_acc_PBE/\"'\n",
    "\n",
    "dataPath = './test_run/check_input_errors_ibrav3/'\n",
    "dirNames = {(sg,it):dataPath + 'sg_{}-f_{}'.format(sg,it)\n",
    "            for sg in  sgs for it in range(len(crystals[sg]))}"
   ]
  },
  {
   "cell_type": "code",
   "execution_count": 20,
   "metadata": {},
   "outputs": [
    {
     "name": "stdout",
     "output_type": "stream",
     "text": [
      "./test_run/check_input_errors_ibrav3/sg_202-f_0\n",
      "sending the calc\n",
      "(0, 'No error')\n"
     ]
    }
   ],
   "source": [
    "for (sg,it),dirName in dirNames.iteritems():\n",
    "    print dirName\n",
    "    crystal = crystals[sg][it]\n",
    "    input_str = makeQEInput(crystal,sg,WyckTable,SGTable,ElemTable,\n",
    "                    zatom = zatom,rhocutoff = rhocutoff,wfccutoff = wfccutoff,\n",
    "                    calculation_type=calculation_type,smearing=smearing,\n",
    "                    pressure=0,press_conv_thr=0.5,cell_factor=2,\n",
    "                    etot_conv_thr=1e-4,forc_conv_thr=1e-3,nstep=150,\n",
    "                    scf_conv_thr=scf_conv_thr,print_forces=False,\n",
    "                    kpt = kpt,Nkpt=Nkpt ,kpt_offset = [0,0,0],\n",
    "                    ppPath=ppPath)\n",
    "\n",
    "    print 'sending the calc'\n",
    "    exitstatus = run_qe_local(input_str,dirName,verbose=False,\n",
    "                 path2mpi='/usr/bin/',np=4,path2pw='/home/musil/source/qe-6.1/bin/')\n",
    "\n",
    "    print exitstatus"
   ]
  },
  {
   "cell_type": "markdown",
   "metadata": {},
   "source": [
    "# ibrav 3 test"
   ]
  },
  {
   "cell_type": "code",
   "execution_count": 38,
   "metadata": {
    "collapsed": true
   },
   "outputs": [],
   "source": [
    "sg,it = 220,0\n",
    "cc = crystals[sg][it]\n",
    "dirName = './test_run/check_input_errors_ibrav3/sg_{}-f_{}'.format(sg,it)"
   ]
  },
  {
   "cell_type": "code",
   "execution_count": 29,
   "metadata": {
    "scrolled": true
   },
   "outputs": [
    {
     "name": "stdout",
     "output_type": "stream",
     "text": [
      "[ 0.62501026  0.76843214  0.48157344]\n"
     ]
    }
   ],
   "source": [
    "print cc.get_scaled_positions()[0]"
   ]
  },
  {
   "cell_type": "code",
   "execution_count": 33,
   "metadata": {
    "scrolled": true
   },
   "outputs": [
    {
     "data": {
      "text/plain": [
       "['./test_run/check_input_errors_ibrav3/sg_220-f_0-0/qe.out',\n",
       " './test_run/check_input_errors_ibrav3/sg_202-f_0-1/qe.out']"
      ]
     },
     "execution_count": 33,
     "metadata": {},
     "output_type": "execute_result"
    }
   ],
   "source": [
    "fns = get_filenames('./test_run/check_input_errors_ibrav3/', fn_pattern='qe.out', dir_pattern=None)\n",
    "fns"
   ]
  },
  {
   "cell_type": "code",
   "execution_count": 45,
   "metadata": {
    "collapsed": true
   },
   "outputs": [],
   "source": [
    "fn = './test_run/check_input_errors_ibrav3/sg_220-f_0-0/qe.out'\n",
    "oo = read(fn)\n",
    "view(oo)"
   ]
  },
  {
   "cell_type": "code",
   "execution_count": 37,
   "metadata": {
    "scrolled": false
   },
   "outputs": [
    {
     "name": "stdout",
     "output_type": "stream",
     "text": [
      "[[ 4.22005118  4.22005118  4.22005118]\n",
      " [-4.22005118  4.22005118  4.22005118]\n",
      " [-4.22005118 -4.22005118  4.22005118]]\n"
     ]
    }
   ],
   "source": [
    "print oo.get_cell()"
   ]
  },
  {
   "cell_type": "code",
   "execution_count": 44,
   "metadata": {},
   "outputs": [],
   "source": [
    "dd,_,_ = get_ibrav2_frame(cc,220)\n",
    "view(dd)"
   ]
  },
  {
   "cell_type": "markdown",
   "metadata": {},
   "source": [
    "# ibrav 9 test"
   ]
  },
  {
   "cell_type": "code",
   "execution_count": 54,
   "metadata": {
    "collapsed": true
   },
   "outputs": [],
   "source": [
    "dataPath = './test_run/check_input_errors_ibrav9/'"
   ]
  },
  {
   "cell_type": "code",
   "execution_count": 55,
   "metadata": {
    "collapsed": true
   },
   "outputs": [],
   "source": [
    "sg,it = 40,0\n",
    "cc = crystals[sg][it]\n",
    "dirName = dataPath+'sg_{}-f_{}/'.format(sg,it)"
   ]
  },
  {
   "cell_type": "code",
   "execution_count": 60,
   "metadata": {
    "collapsed": true
   },
   "outputs": [],
   "source": [
    "view(cc)"
   ]
  },
  {
   "cell_type": "code",
   "execution_count": 56,
   "metadata": {
    "scrolled": true
   },
   "outputs": [
    {
     "name": "stdout",
     "output_type": "stream",
     "text": [
      "[  8.10960373   3.90162918   2.25168312  90.          90.          90.        ]\n",
      "[ 0.61485391  0.83332859  0.49      ]\n"
     ]
    }
   ],
   "source": [
    "print cc.get_cell_lengths_and_angles()\n",
    "print cc.get_scaled_positions()[0]"
   ]
  },
  {
   "cell_type": "code",
   "execution_count": 57,
   "metadata": {
    "scrolled": true
   },
   "outputs": [
    {
     "data": {
      "text/plain": [
       "['./test_run/check_input_errors_ibrav9/sg_40-f_0-0/qe.out']"
      ]
     },
     "execution_count": 57,
     "metadata": {},
     "output_type": "execute_result"
    }
   ],
   "source": [
    "fns = get_filenames(dataPath, fn_pattern='qe.out', dir_pattern=None)\n",
    "fns"
   ]
  },
  {
   "cell_type": "code",
   "execution_count": 59,
   "metadata": {},
   "outputs": [],
   "source": [
    "fn = './test_run/check_input_errors_ibrav9/sg_40-f_0-0/qe.out'\n",
    "oo = read(fn)\n",
    "view(oo)"
   ]
  },
  {
   "cell_type": "code",
   "execution_count": 37,
   "metadata": {
    "scrolled": false
   },
   "outputs": [
    {
     "name": "stdout",
     "output_type": "stream",
     "text": [
      "[[ 4.22005118  4.22005118  4.22005118]\n",
      " [-4.22005118  4.22005118  4.22005118]\n",
      " [-4.22005118 -4.22005118  4.22005118]]\n"
     ]
    }
   ],
   "source": [
    "print oo.get_cell()"
   ]
  },
  {
   "cell_type": "code",
   "execution_count": 44,
   "metadata": {
    "collapsed": true
   },
   "outputs": [],
   "source": [
    "dd,_,_ = get_ibrav2_frame(cc,220)\n",
    "view(dd)"
   ]
  },
  {
   "cell_type": "code",
   "execution_count": null,
   "metadata": {
    "collapsed": true
   },
   "outputs": [],
   "source": []
  }
 ],
 "metadata": {
  "kernelspec": {
   "display_name": "Python 2 glosim",
   "language": "python",
   "name": "glosim"
  },
  "language_info": {
   "codemirror_mode": {
    "name": "ipython",
    "version": 2
   },
   "file_extension": ".py",
   "mimetype": "text/x-python",
   "name": "python",
   "nbconvert_exporter": "python",
   "pygments_lexer": "ipython2",
   "version": "2.7.13"
  },
  "toc": {
   "colors": {
    "hover_highlight": "#DAA520",
    "navigate_num": "#000000",
    "navigate_text": "#333333",
    "running_highlight": "#FF0000",
    "selected_highlight": "#FFD700",
    "sidebar_border": "#EEEEEE",
    "wrapper_background": "#FFFFFF"
   },
   "moveMenuLeft": true,
   "nav_menu": {
    "height": "132px",
    "width": "252px"
   },
   "navigate_menu": true,
   "number_sections": true,
   "sideBar": true,
   "threshold": 4,
   "toc_cell": false,
   "toc_section_display": "block",
   "toc_window_display": false,
   "widenNotebook": false
  }
 },
 "nbformat": 4,
 "nbformat_minor": 2
}

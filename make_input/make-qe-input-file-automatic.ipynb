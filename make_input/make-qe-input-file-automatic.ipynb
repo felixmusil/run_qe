{
 "cells": [
  {
   "cell_type": "code",
   "execution_count": 45,
   "metadata": {},
   "outputs": [
    {
     "name": "stdout",
     "output_type": "stream",
     "text": [
      "The autoreload extension is already loaded. To reload it, use:\n",
      "  %reload_ext autoreload\n"
     ]
    }
   ],
   "source": [
    "%load_ext autoreload\n",
    "%autoreload 2\n",
    "\n",
    "import spglib as spg\n",
    "import ase\n",
    "from ase.visualize import view\n",
    "\n",
    "import ase.spacegroup as aspg\n",
    "import numpy as np\n",
    "import pandas as pd\n",
    "from collections import Iterable\n",
    "import cPickle as pck\n",
    "\n",
    "import sys, os\n",
    "# add to PYTHONPATH\n",
    "modulepath = '/home/musil/Dropbox/Felix_work/qmat/spglib-test/'\n",
    "#modulepath = '/Users/iMac/Dropbox/Felix_work/qmat/spglib-test/'\n",
    "#if modulepath not in sys.path:\n",
    "#    sys.path.insert(0,modulepath)\n",
    "\n",
    "#from genGeneralSites import GenCrystalStructures\n",
    "from qe_input import makeCard,makeNamelist,SG2ibrav,SG2wyckoff,makeQEInnput_sg,makeQEInnput_ibrav0\n",
    "from utils import rotation_matrix"
   ]
  },
  {
   "cell_type": "markdown",
   "metadata": {
    "heading_collapsed": true
   },
   "source": [
    "### QE determination of ibrav"
   ]
  },
  {
   "cell_type": "markdown",
   "metadata": {
    "hidden": true
   },
   "source": [
    "1          cubic P (sc)\n",
    "      v1 = a(1,0,0),  v2 = a(0,1,0),  v3 = a(0,0,1)\n",
    "\n",
    "  2          cubic F (fcc)\n",
    "      v1 = (a/2)(-1,0,1),  v2 = (a/2)(0,1,1), v3 = (a/2)(-1,1,0)\n",
    "\n",
    "  3          cubic I (bcc)\n",
    "      v1 = (a/2)(1,1,1),  v2 = (a/2)(-1,1,1),  v3 = (a/2)(-1,-1,1)\n",
    "\n",
    "  4          Hexagonal and Trigonal P        celldm(3)=c/a\n",
    "      v1 = a(1,0,0),  v2 = a(-1/2,sqrt(3)/2,0),  v3 = a(0,0,c/a)\n",
    "\n",
    "  5          Trigonal R, 3fold axis c        celldm(4)=cos(alpha)\n",
    "      The crystallographic vectors form a three-fold star around\n",
    "      the z-axis, the primitive cell is a simple rhombohedron:\n",
    "      v1 = a(tx,-ty,tz),   v2 = a(0,2ty,tz),   v3 = a(-tx,-ty,tz)\n",
    "      where c=cos(alpha) is the cosine of the angle alpha between\n",
    "      any pair of crystallographic vectors, tx, ty, tz are:\n",
    "        tx=sqrt((1-c)/2), ty=sqrt((1-c)/6), tz=sqrt((1+2c)/3)\n",
    "\n",
    "\n",
    "  6          Tetragonal P (st)               celldm(3)=c/a\n",
    "      v1 = a(1,0,0),  v2 = a(0,1,0),  v3 = a(0,0,c/a)\n",
    "\n",
    "  7          Tetragonal I (bct)              celldm(3)=c/a\n",
    "      v1=(a/2)(1,-1,c/a),  v2=(a/2)(1,1,c/a),  v3=(a/2)(-1,-1,c/a)\n",
    "\n",
    "  8          Orthorhombic P                  celldm(2)=b/a\n",
    "                                             celldm(3)=c/a\n",
    "      v1 = (a,0,0),  v2 = (0,b,0), v3 = (0,0,c)\n",
    "\n",
    "  9          Orthorhombic base-centered(bco) celldm(2)=b/a\n",
    "                                             celldm(3)=c/a\n",
    "      v1 = (a/2, b/2,0),  v2 = (-a/2,b/2,0),  v3 = (0,0,c)\n",
    " -9          as 9, alternate description\n",
    "      v1 = (a/2,-b/2,0),  v2 = (a/2, b/2,0),  v3 = (0,0,c)\n",
    "\n",
    " 10          Orthorhombic face-centered      celldm(2)=b/a\n",
    "                                             celldm(3)=c/a\n",
    "      v1 = (a/2,0,c/2),  v2 = (a/2,b/2,0),  v3 = (0,b/2,c/2)\n",
    "\n",
    " 11          Orthorhombic body-centered      celldm(2)=b/a\n",
    "                                             celldm(3)=c/a\n",
    "      v1=(a/2,b/2,c/2),  v2=(-a/2,b/2,c/2),  v3=(-a/2,-b/2,c/2)\n",
    "\n",
    " 12          Monoclinic P, unique axis c     celldm(2)=b/a\n",
    "                                             celldm(3)=c/a,\n",
    "                                             celldm(4)=cos(ab)\n",
    "      v1=(a,0,0), v2=(b*cos(gamma),b*sin(gamma),0),  v3 = (0,0,c)\n",
    "      where gamma is the angle between axis a and b.\n",
    "-12          Monoclinic P, unique axis b     celldm(2)=b/a\n",
    "                                             celldm(3)=c/a,\n",
    "                                             celldm(5)=cos(ac)\n",
    "      v1 = (a,0,0), v2 = (0,b,0), v3 = (c*cos(beta),0,c*sin(beta))\n",
    "      where beta is the angle between axis a and c\n",
    "\n",
    " 13          Monoclinic base-centered        celldm(2)=b/a\n",
    "                                             celldm(3)=c/a,\n",
    "                                             celldm(4)=cos(ab)\n",
    "      v1 = (  a/2,         0,                -c/2),\n",
    "      v2 = (b*cos(gamma), b*sin(gamma), 0),\n",
    "      v3 = (  a/2,         0,                  c/2),\n",
    "      where gamma is the angle between axis a and b\n",
    "\n",
    " 14          Triclinic"
   ]
  },
  {
   "cell_type": "markdown",
   "metadata": {},
   "source": [
    "## Load general information"
   ]
  },
  {
   "cell_type": "code",
   "execution_count": 46,
   "metadata": {},
   "outputs": [],
   "source": [
    "fileNames = {}\n",
    "infoPath = '../info/'\n",
    "structurePath = '../structures/'\n",
    "fileNames['crystals'] = structurePath + 'partial_input_crystals_sg3-230.pck'\n",
    "fileNames['wyck'] = infoPath+'SpaceGroup-multiplicity-wickoff-info.pck'\n",
    "fileNames['general info'] = infoPath+'SpaceGroup-general-info.pck'\n",
    "fileNames['elements info'] = infoPath+'General-Info-Elements-fast.pck'"
   ]
  },
  {
   "cell_type": "code",
   "execution_count": 47,
   "metadata": {
    "collapsed": true
   },
   "outputs": [],
   "source": [
    "with open(fileNames['crystals'],'rb') as f:\n",
    "    crystals = pck.load(f)\n",
    "with open(fileNames['wyck'],'rb') as f:\n",
    "    WyckTable = pck.load(f)\n",
    "SGTable = pd.read_pickle(fileNames['general info'])\n",
    "ElemTable = pd.read_pickle(fileNames['elements info'])"
   ]
  },
  {
   "cell_type": "code",
   "execution_count": 4,
   "metadata": {
    "collapsed": true
   },
   "outputs": [],
   "source": [
    "inputDic = {}"
   ]
  },
  {
   "cell_type": "code",
   "execution_count": 7,
   "metadata": {},
   "outputs": [
    {
     "name": "stdout",
     "output_type": "stream",
     "text": [
      "&CONTROL \n",
      "  wf_collect = .false. \n",
      "  calculation = \"scf\" \n",
      "  verbosity = \"high\" \n",
      "  pseudo_dir = \"../pseudo/\" \n",
      "  prefix = \"qe\" \n",
      "  restart_mode = \"from_scratch\" \n",
      "  outdir = \"./out/\" \n",
      "/ \n",
      "&SYSTEM \n",
      "  ecutrho = 80.00000 \n",
      "  ecutwfc = 20.00000 \n",
      "  ibrav = 6 \n",
      "  nat = 1 \n",
      "  nbnd = 20 \n",
      "  ntyp = 1 \n",
      "  occupations = \"smearing\" \n",
      "  smearing = \"cold\" \n",
      "  degauss = 1.0000000000d-02 \n",
      "  space_group = 100 \n",
      "  A = 7.647657865 \n",
      "  B = 7.647657865 \n",
      "  C = 2.24430468277 \n",
      "  cosAB = 0.00000 \n",
      "  cosAC = 0.00000 \n",
      "  cosBC = 0.00000 \n",
      "/ \n",
      "&ELECTRONS \n",
      "  conv_thr = 1.0000000000d-06 \n",
      "/ \n",
      "ATOMIC_SPECIES   \n",
      "  Si  28.0855  Si.pbe-n-rrkjus_psl.1.0.0.UPF \n",
      "ATOMIC_POSITIONS  crystal_sg \n",
      "  Si  8d  0.64759 \n",
      "          0.645009 \n",
      "          0.49 \n",
      "K_POINTS  automatic \n",
      "  2  2  2  0  0  0 \n",
      "\n"
     ]
    }
   ],
   "source": [
    "sgIdx = 100\n",
    "cc = crystals[sgIdx][0]\n",
    "\n",
    "inputDic[sgIdx] = makeQEInnput_sg(cc,sgIdx,WyckTable,SGTable,ElemTable,\n",
    "                                    zatom = 14,rhocutoff = 20 * 4,wfccutoff = 20,\n",
    "                                 calculation_type='\"scf\"',\n",
    "                             kpt = [2,2,2],kpt_offset = [0,0,0],ppPath='\"./pseudo/\"',\n",
    "                             PP=['Si.pbe-n-rrkjus_psl.1.0.0.UPF'])\n",
    "print inputDic[sgIdx]"
   ]
  },
  {
   "cell_type": "code",
   "execution_count": 36,
   "metadata": {
    "collapsed": true
   },
   "outputs": [],
   "source": [
    "def make_dir(file_path):\n",
    "    directory = os.path.abspath(file_path)\n",
    "    suffix = 0\n",
    "    while os.path.exists(directory+'-{}'.format(suffix)):\n",
    "        suffix += 1\n",
    "    path = directory +'-{}/'.format(suffix)\n",
    "    os.makedirs(path)\n",
    "    return path\n",
    "    "
   ]
  },
  {
   "cell_type": "code",
   "execution_count": 37,
   "metadata": {},
   "outputs": [],
   "source": [
    "dirNames = {sg:'../test_run/data_1/sg-test_'+str(sg) for sg in [100]}"
   ]
  },
  {
   "cell_type": "code",
   "execution_count": 38,
   "metadata": {
    "collapsed": true
   },
   "outputs": [],
   "source": [
    "import subprocess as sp\n",
    "os.environ['TMPDIR'] = \"/tmp/\""
   ]
  },
  {
   "cell_type": "code",
   "execution_count": 50,
   "metadata": {},
   "outputs": [
    {
     "name": "stdout",
     "output_type": "stream",
     "text": [
      "-in /Users/iMac/Dropbox/Felix_work/qmat/run_qe/test_run/data_1/sg-test_100-1/qe.in\n",
      "100\n"
     ]
    }
   ],
   "source": [
    "exitState = {}\n",
    "errors = {}\n",
    "#path2pw = '/home/musil/source/qe-6.1/bin/'\n",
    "path2pw = '/Users/iMac/source/qe-6.0/bin/'\n",
    "for sg in dirNames:\n",
    "    path = make_dir(dirNames[sg])\n",
    "    inputName = os.path.abspath(path+'/qe.in')\n",
    "    outputName = os.path.abspath(path+'/qe.out')\n",
    "    errName = os.path.abspath(path+'/qe.err')\n",
    "    with open(inputName,'w') as f:\n",
    "        f.write(inputDic[sg])\n",
    "    param = '-in '+ inputName\n",
    "    print param\n",
    "    # Set up the echo command and direct the output to a pipe\n",
    "    #exitState[sg] = sp.call('mpirun -np 2 '+path2pw+'pw.x ' + param , stdout=open(outputName, 'w'), \n",
    "    #                         stderr=open(errName, 'w'), shell=True)\n",
    "    exitState[sg] = sp.call('/opt/openmpi/bin/mpirun '+path2pw+'pw.x ' + param , stdout=open(outputName, 'w'), \n",
    "                             stderr=open(errName, 'w'), shell=True)\n",
    "    if exitState[sg]:\n",
    "        print sg\n",
    "        with open(outputName,'r') as f:\n",
    "            errors[sg] = f.read()"
   ]
  },
  {
   "cell_type": "code",
   "execution_count": 49,
   "metadata": {},
   "outputs": [
    {
     "name": "stdout",
     "output_type": "stream",
     "text": [
      "126\n",
      "\n"
     ]
    }
   ],
   "source": [
    "print exitState[sg]\n",
    "print errors[100]\n"
   ]
  },
  {
   "cell_type": "code",
   "execution_count": null,
   "metadata": {
    "collapsed": true
   },
   "outputs": [],
   "source": []
  }
 ],
 "metadata": {
  "kernelspec": {
   "display_name": "Python 2 glosim",
   "language": "python",
   "name": "glosim"
  },
  "language_info": {
   "codemirror_mode": {
    "name": "ipython",
    "version": 2
   },
   "file_extension": ".py",
   "mimetype": "text/x-python",
   "name": "python",
   "nbconvert_exporter": "python",
   "pygments_lexer": "ipython2",
   "version": "2.7.13"
  },
  "toc": {
   "colors": {
    "hover_highlight": "#DAA520",
    "navigate_num": "#000000",
    "navigate_text": "#333333",
    "running_highlight": "#FF0000",
    "selected_highlight": "#FFD700",
    "sidebar_border": "#EEEEEE",
    "wrapper_background": "#FFFFFF"
   },
   "moveMenuLeft": true,
   "nav_menu": {
    "height": "219px",
    "width": "252px"
   },
   "navigate_menu": true,
   "number_sections": true,
   "sideBar": true,
   "threshold": 4,
   "toc_cell": false,
   "toc_section_display": "block",
   "toc_window_display": false,
   "widenNotebook": false
  }
 },
 "nbformat": 4,
 "nbformat_minor": 1
}

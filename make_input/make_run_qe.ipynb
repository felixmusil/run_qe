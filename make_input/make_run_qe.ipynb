{
 "cells": [
  {
   "cell_type": "code",
   "execution_count": 1,
   "metadata": {},
   "outputs": [
    {
     "name": "stdout",
     "output_type": "stream",
     "text": [
      "The autoreload extension is already loaded. To reload it, use:\n",
      "  %reload_ext autoreload\n"
     ]
    }
   ],
   "source": [
    "%load_ext autoreload\n",
    "%autoreload 2\n",
    "\n",
    "import spglib as spg\n",
    "import ase\n",
    "from ase.visualize import view\n",
    "\n",
    "import ase.spacegroup as aspg\n",
    "import numpy as np\n",
    "import pandas as pd\n",
    "from collections import Iterable\n",
    "import cPickle as pck\n",
    "import spglib as spg\n",
    "import sys, os\n",
    "from utils import rotation_matrix,isCellSkewed,unskewCell,get_symprec,get_relative_angle\n",
    "from qe_input import makeCard,makeNamelist,SG2ibrav,SG2wyckoff,makeQEInput_sg,makeQEInput_ibrav0,makeQEInput\n",
    "from custom_frame import frame2qe_format\n",
    "from qe_run import run_qe_local,make_submit_script\n",
    "from raw_info import SG2BravaisLattice\n",
    "from SSSP_acc_PBE_info import PP_names,rhocutoffs,wfccutoffs"
   ]
  },
  {
   "cell_type": "markdown",
   "metadata": {},
   "source": [
    "# local execution"
   ]
  },
  {
   "cell_type": "code",
   "execution_count": null,
   "metadata": {
    "collapsed": true
   },
   "outputs": [],
   "source": [
    "os.environ['TMPDIR'] = \"/tmp/\""
   ]
  },
  {
   "cell_type": "code",
   "execution_count": 3,
   "metadata": {
    "collapsed": true
   },
   "outputs": [],
   "source": [
    "def make_dir(file_path):\n",
    "    directory = os.path.abspath(file_path)\n",
    "    suffix = 0\n",
    "    while os.path.exists(directory+'-{}'.format(suffix)):\n",
    "        suffix += 1\n",
    "    path = directory +'-{}/'.format(suffix)\n",
    "    os.makedirs(path)\n",
    "    return path\n",
    "\n",
    "def run_qe_local(input_str,dirName,verbose=False,\n",
    "                 path2mpi='/usr/bin/',np=2,path2pw='/home/musil/source/qe-6.1/bin/'):\n",
    "\n",
    "    path = make_dir(dirName)\n",
    "    inputName = os.path.abspath(path+'/qe.in')\n",
    "    outputName = os.path.abspath(path+'/qe.out')\n",
    "    errName = os.path.abspath(path+'/qe.err')\n",
    "    with open(inputName,'w') as f:\n",
    "        f.write(input_str)\n",
    "    param = '-in '+ inputName\n",
    "    if verbose:\n",
    "        print param\n",
    "    # Set up the echo command and direct the output to a pipe\n",
    "    exitState = sp.call('{}mpirun -np {:.0f} {}pw.x {}'.format(path2mpi,np,path2pw,param)\n",
    "                            , stdout=open(outputName, 'w'),\n",
    "                            stderr=open(errName, 'w'), shell=True)\n",
    "    error = 'No error'\n",
    "    if exitState:\n",
    "        print dirName\n",
    "        with open(outputName,'r') as f:\n",
    "            error = f.read()\n",
    "\n",
    "    return exitState,error"
   ]
  },
  {
   "cell_type": "markdown",
   "metadata": {},
   "source": [
    "# hpc execution"
   ]
  },
  {
   "cell_type": "code",
   "execution_count": 5,
   "metadata": {
    "collapsed": true
   },
   "outputs": [],
   "source": [
    "submit_cmd = {'normal':'sbatch ',\n",
    "              'debug':'sbatch --partition=debug '}"
   ]
  },
  {
   "cell_type": "code",
   "execution_count": 7,
   "metadata": {
    "collapsed": true
   },
   "outputs": [],
   "source": [
    "dirName = './'"
   ]
  },
  {
   "cell_type": "code",
   "execution_count": 9,
   "metadata": {},
   "outputs": [
    {
     "name": "stdout",
     "output_type": "stream",
     "text": [
      "#!/bin/bash \n",
      "#SBATCH --workdir /local/git/run_qe/make_input-1/ \n",
      "#SBATCH --nodes 1 \n",
      "#SBATCH --ntasks 1 \n",
      "#SBATCH --cpus-per-task 1 \n",
      "#SBATCH --mem 63000 \n",
      "#SBATCH --time 00:10:00  \n",
      "#SBATCH --constrain=E5v2 \n",
      "\n",
      "module purge \n",
      "module load intel/17.0.2  intel-mpi/2017.2.174 intel-mkl/2017.2.174 \n",
      "\n",
      "srun /home/musil/source/qe-6.1/bin/pw.x -in /local/git/run_qe/make_input-1/qe.in > /local/git/run_qe/make_input-1/qe.out \n",
      "\n"
     ]
    }
   ],
   "source": [
    "path = make_dir(dirName)\n",
    "inputName = os.path.abspath(path+'/qe.in')\n",
    "submit_scriptName = os.path.abspath(path+'/qe.sh')\n",
    "outputName = os.path.abspath(path+'/qe.out')\n",
    "jobName = os.path.abspath(path+'/job.id')\n",
    "errName = os.path.abspath(path+'/job.err')\n",
    "\n",
    "submit_script = make_submit_script(hpc='deneb', input_fn=inputName, output_fn=outputName,\n",
    "                                   workdir=path, node=1, tasks=1,\n",
    "                                   cpus_per_tasks=1, mem=63000, time='00:10:00', debug=debug)\n",
    "\n",
    "\n",
    "print submit_script\n",
    "# with open(inputName,'w') as f:\n",
    "#     f.write(input)\n",
    "# with open(submit_scriptName,'w') as f:\n",
    "#     f.write(submit_script)\n",
    "\n",
    "# Set up the echo command and direct the output to a pipe\n",
    "# exitState = sp.call('sbatch {}'.format(submit_scriptName), \n",
    "#                     stdout=open(jobName, 'a'),stderr=open(errName, 'w'),shell=True)\n",
    "\n"
   ]
  },
  {
   "cell_type": "code",
   "execution_count": null,
   "metadata": {
    "collapsed": true
   },
   "outputs": [],
   "source": [
    "def run_qe_hpc(input_str,dirName,verbose=False,hpc='deneb', node=1, tasks=1,\n",
    "                cpus_per_tasks=1, mem=63000, time='00:10:00', debug=False):\n",
    "    path = make_dir(dirName)\n",
    "    inputName = os.path.abspath(path+'/qe.in')\n",
    "    submit_scriptName = os.path.abspath(path+'/qe.sh')\n",
    "    outputName = os.path.abspath(path+'/qe.out')\n",
    "    jobName = os.path.abspath(path+'/job.id')\n",
    "    errName = os.path.abspath(path+'/job.err')\n",
    "\n",
    "    submit_script = make_submit_script(hpc=hpc, input_fn=inputName, output_fn=outputName,\n",
    "                                       workdir=path, node=node, tasks=tasks,\n",
    "                                       cpus_per_tasks=cpus_per_tasks, mem=mem, time=time, debug=debug)\n",
    "\n",
    "    with open(inputName,'w') as f:\n",
    "        f.write(input)\n",
    "    with open(submit_scriptName,'w') as f:\n",
    "        f.write(submit_script)\n",
    "\n",
    "    #  Set up the echo command and direct the output to a pipe\n",
    "    exitState = sp.call('sbatch {}'.format(submit_scriptName), \n",
    "                        stdout=open(jobName, 'a'),stderr=open(errName, 'w'),shell=True)\n",
    "    return exitState"
   ]
  }
 ],
 "metadata": {
  "kernelspec": {
   "display_name": "Python 2 glosim",
   "language": "python",
   "name": "glosim"
  },
  "language_info": {
   "codemirror_mode": {
    "name": "ipython",
    "version": 2
   },
   "file_extension": ".py",
   "mimetype": "text/x-python",
   "name": "python",
   "nbconvert_exporter": "python",
   "pygments_lexer": "ipython2",
   "version": "2.7.13"
  },
  "toc": {
   "nav_menu": {
    "height": "52px",
    "width": "252px"
   },
   "number_sections": true,
   "sideBar": true,
   "skip_h1_title": false,
   "toc_cell": false,
   "toc_position": {},
   "toc_section_display": "block",
   "toc_window_display": false
  }
 },
 "nbformat": 4,
 "nbformat_minor": 2
}

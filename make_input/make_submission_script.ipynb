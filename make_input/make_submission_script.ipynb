{
 "cells": [
  {
   "cell_type": "code",
   "execution_count": 1,
   "metadata": {
    "collapsed": true
   },
   "outputs": [],
   "source": [
    "import numpy as np"
   ]
  },
  {
   "cell_type": "code",
   "execution_count": 11,
   "metadata": {},
   "outputs": [],
   "source": [
    "workdir = '/scratch/musil/qmat/run_qe/'\n",
    "node = 1\n",
    "tasks = 1\n",
    "cpus = 1\n",
    "mem = 63000\n",
    "time = '00:10:00'\n",
    "\n",
    "ndl = '\\n'\n",
    "\n",
    "sbatch = '#!/bin/bash {ndl}\\\n",
    "#SBATCH --workdir {workdir} {ndl}\\\n",
    "#SBATCH --nodes {node} {ndl}\\\n",
    "#SBATCH --ntasks {tasks} {ndl}\\\n",
    "#SBATCH --cpus-per-task {cpus} {ndl}\\\n",
    "#SBATCH --mem {mem} {ndl}\\\n",
    "#SBATCH --time {time}  {ndl}\\\n",
    " '.format(workdir=workdir,node=str(node),tasks=str(tasks),cpus=str(cpus),mem=str(mem),time=time,ndl=ndl)\n",
    "\n",
    "module = 'module purge'\n",
    "\n",
    "cmd = 'srun '"
   ]
  },
  {
   "cell_type": "code",
   "execution_count": 9,
   "metadata": {
    "collapsed": true
   },
   "outputs": [],
   "source": [
    "deneb = {'sbatch':'#SBATCH --constrain=E5v2 ',\n",
    "         'module':'module load intel/17.0.2  intel-mpi/2017.2.174 intel-mkl/2017.2.174 ' ,\n",
    "          'p2pw':'/home/musil/source/qe-6.1/bin/pw.x' , }"
   ]
  },
  {
   "cell_type": "code",
   "execution_count": 5,
   "metadata": {
    "collapsed": true
   },
   "outputs": [],
   "source": [
    "submit_cmd = {'normal':'sbatch ',\n",
    "              'debug':'sbatch --partition=debug '}"
   ]
  },
  {
   "cell_type": "code",
   "execution_count": 12,
   "metadata": {
    "collapsed": true
   },
   "outputs": [
    {
     "name": "stdout",
     "output_type": "stream",
     "text": [
      "#!/bin/bash \n",
      "#SBATCH --workdir /scratch/musil/qmat/run_qe/ \n",
      "#SBATCH --nodes 1 \n",
      "#SBATCH --ntasks 1 \n",
      "#SBATCH --cpus-per-task 1 \n",
      "#SBATCH --mem 63000 \n",
      "#SBATCH --time 00:10:00  \n",
      " \n"
     ]
    }
   ],
   "source": [
    "print sbatch"
   ]
  },
  {
   "cell_type": "code",
   "execution_count": 17,
   "metadata": {
    "collapsed": true
   },
   "outputs": [],
   "source": [
    "def make_submit_script(hpc,input_fn='qe.in',workdir= '/scratch/musil/qmat/run_qe/',node= 1,tasks= 1,\n",
    "                       cpus_per_tasks= 1,mem= 63000,time= '00:10:00',debug=False):\n",
    "    if hpc == 'deneb':\n",
    "        config = deneb\n",
    "    else:\n",
    "        print 'hpc not recognized'\n",
    "        return None\n",
    "    \n",
    "    ndl = '\\n'\n",
    "    sbatch =   '#!/bin/bash {ndl}\\\n",
    "#SBATCH --workdir {workdir} {ndl}\\\n",
    "#SBATCH --nodes {node} {ndl}\\\n",
    "#SBATCH --ntasks {tasks} {ndl}\\\n",
    "#SBATCH --cpus-per-task {cpus} {ndl}\\\n",
    "#SBATCH --mem {mem} {ndl}\\\n",
    "#SBATCH --time {time}  {ndl}'.format(\n",
    "        workdir=workdir,node=str(node),\n",
    "        tasks=str(tasks),cpus=str(cpus_per_tasks),\n",
    "        mem=str(mem),time=time,ndl=ndl)\n",
    "    \n",
    "    sbatch += config['sbatch'] + ndl\n",
    "    if debug:\n",
    "        sbatch += '#SBATCH --partition=debug'\n",
    "    \n",
    "    module = 'module purge ' + ndl\n",
    "    module += config['module'] + ndl\n",
    "    \n",
    "    \n",
    "    cmd = 'srun '\n",
    "    cmd += config['p2pw'] + ' ' + '-in '+ input_fn + ndl\n",
    "    \n",
    "    return sbatch + module + cmd"
   ]
  },
  {
   "cell_type": "code",
   "execution_count": 18,
   "metadata": {},
   "outputs": [
    {
     "name": "stdout",
     "output_type": "stream",
     "text": [
      "#!/bin/bash \n",
      "#SBATCH --workdir /scratch/musil/qmat/run_qe/ \n",
      "#SBATCH --nodes 1 \n",
      "#SBATCH --ntasks 1 \n",
      "#SBATCH --cpus-per-task 1 \n",
      "#SBATCH --mem 63000 \n",
      "#SBATCH --time 00:10:00  \n",
      "#SBATCH --constrain=E5v2 \n",
      "\n",
      "module purge \n",
      "module load intel/17.0.2  intel-mpi/2017.2.174 intel-mkl/2017.2.174 \n",
      "\n",
      "srun /home/musil/source/qe-6.1/bin/pw.x -in qe.in\n",
      "\n"
     ]
    }
   ],
   "source": [
    "sub_scrpt = make_submit_script(hpc='deneb',input_fn='qe.in',workdir= '/scratch/musil/qmat/run_qe/',node= 1,tasks= 1, cpus_per_tasks= 1,mem= 63000,time= '00:10:00')\n",
    "print sub_scrpt"
   ]
  },
  {
   "cell_type": "markdown",
   "metadata": {},
   "source": [
    "# list all pseudo"
   ]
  },
  {
   "cell_type": "code",
   "execution_count": null,
   "metadata": {
    "collapsed": true
   },
   "outputs": [],
   "source": [
    "\n"
   ]
  }
 ],
 "metadata": {
  "kernelspec": {
   "display_name": "Python 2 glosim",
   "language": "python",
   "name": "glosim"
  },
  "language_info": {
   "codemirror_mode": {
    "name": "ipython",
    "version": 2
   },
   "file_extension": ".py",
   "mimetype": "text/x-python",
   "name": "python",
   "nbconvert_exporter": "python",
   "pygments_lexer": "ipython2",
   "version": "2.7.13"
  },
  "toc": {
   "colors": {
    "hover_highlight": "#DAA520",
    "navigate_num": "#000000",
    "navigate_text": "#333333",
    "running_highlight": "#FF0000",
    "selected_highlight": "#FFD700",
    "sidebar_border": "#EEEEEE",
    "wrapper_background": "#FFFFFF"
   },
   "moveMenuLeft": true,
   "nav_menu": {
    "height": "32px",
    "width": "252px"
   },
   "navigate_menu": true,
   "number_sections": true,
   "sideBar": true,
   "threshold": 4,
   "toc_cell": false,
   "toc_section_display": "block",
   "toc_window_display": false,
   "widenNotebook": false
  }
 },
 "nbformat": 4,
 "nbformat_minor": 2
}

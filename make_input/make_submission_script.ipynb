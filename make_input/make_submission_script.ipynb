{
 "cells": [
  {
   "cell_type": "code",
   "execution_count": 1,
   "metadata": {
    "collapsed": true
   },
   "outputs": [],
   "source": [
    "import numpy as np"
   ]
  },
  {
   "cell_type": "code",
   "execution_count": 3,
   "metadata": {},
   "outputs": [],
   "source": [
    "workdir = '/scratch/musil/qmat/run_qe/'\n",
    "node = 1\n",
    "tasks = 1\n",
    "cpus = 1\n",
    "mem = 63000\n",
    "time = '00:10:00'\n",
    "\n",
    "\n",
    "\n",
    "sbatch = '#!/bin/bash \\\n",
    "#SBATCH --workdir {workdir} \\\n",
    "#SBATCH --nodes 1 {node}\\\n",
    "#SBATCH --ntasks {tasks} \\\n",
    "#SBATCH --cpus-per-task {cpus} \\\n",
    "#SBATCH --mem {mem} \\\n",
    "#SBATCH --time {time}  \\\n",
    "module purge \\\n",
    " '.format(workdir=workdir,node=str(node),tasks=str(tasks),cpus=str(cpus),mem=str(mem),time=time)\n",
    "\n",
    "module = 'module purge'\n",
    "\n",
    "cmd = 'srun '"
   ]
  },
  {
   "cell_type": "code",
   "execution_count": 4,
   "metadata": {
    "collapsed": true
   },
   "outputs": [],
   "source": [
    "deneb = {'sbatch':'#SBATCH --constrain=E5v2 ',\n",
    "         'module':'module load intel/17.0.2  intel-mpi/2017.2.174 intel-mkl/2017.2.174 '\n",
    "          'p2pw':'/home/musil/source/qe-6.1/bin/pw.x' }"
   ]
  },
  {
   "cell_type": "code",
   "execution_count": 5,
   "metadata": {
    "collapsed": true
   },
   "outputs": [],
   "source": [
    "submit_cmd = {'normal':'sbatch ',\n",
    "              'debug':'sbatch --partition=debug '}"
   ]
  },
  {
   "cell_type": "code",
   "execution_count": null,
   "metadata": {
    "collapsed": true
   },
   "outputs": [],
   "source": []
  }
 ],
 "metadata": {
  "kernelspec": {
   "display_name": "Python 2 glosim",
   "language": "python",
   "name": "glosim"
  },
  "language_info": {
   "codemirror_mode": {
    "name": "ipython",
    "version": 2
   },
   "file_extension": ".py",
   "mimetype": "text/x-python",
   "name": "python",
   "nbconvert_exporter": "python",
   "pygments_lexer": "ipython2",
   "version": "2.7.13"
  },
  "toc": {
   "colors": {
    "hover_highlight": "#DAA520",
    "navigate_num": "#000000",
    "navigate_text": "#333333",
    "running_highlight": "#FF0000",
    "selected_highlight": "#FFD700",
    "sidebar_border": "#EEEEEE",
    "wrapper_background": "#FFFFFF"
   },
   "moveMenuLeft": true,
   "nav_menu": {
    "height": "12px",
    "width": "252px"
   },
   "navigate_menu": true,
   "number_sections": true,
   "sideBar": true,
   "threshold": 4,
   "toc_cell": false,
   "toc_section_display": "block",
   "toc_window_display": false,
   "widenNotebook": false
  }
 },
 "nbformat": 4,
 "nbformat_minor": 2
}

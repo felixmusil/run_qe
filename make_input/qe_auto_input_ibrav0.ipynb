{
 "cells": [
  {
   "cell_type": "code",
   "execution_count": 43,
   "metadata": {},
   "outputs": [
    {
     "name": "stdout",
     "output_type": "stream",
     "text": [
      "The autoreload extension is already loaded. To reload it, use:\n",
      "  %reload_ext autoreload\n"
     ]
    }
   ],
   "source": [
    "%load_ext autoreload\n",
    "%autoreload 2\n",
    "\n",
    "import spglib as spg\n",
    "import ase\n",
    "from ase.visualize import view\n",
    "\n",
    "import ase.spacegroup as aspg\n",
    "import numpy as np\n",
    "import pandas as pd\n",
    "from collections import Iterable\n",
    "import cPickle as pck\n",
    "import spglib as spg\n",
    "import sys, os\n",
    "# add to PYTHONPATH\n",
    "#modulepath = '/home/musil/Dropbox/Felix_work/qmat/spglib-test/'\n",
    "#modulepath = '/Users/iMac/Dropbox/Felix_work/qmat/spglib-test/'\n",
    "#if modulepath not in sys.path:\n",
    "#    sys.path.insert(0,modulepath)\n",
    "#from genGeneralSites import GenCrystalStructures\n",
    "from utils import rotation_matrix,isCellSkewed,unskewCell,get_symprec,get_relative_angle\n",
    "from qe_input import makeCard,makeNamelist,SG2ibrav,SG2wyckoff,makeQEInput_sg,makeQEInput_ibrav0,makeQEInput"
   ]
  },
  {
   "cell_type": "markdown",
   "metadata": {},
   "source": [
    "# Utility functions"
   ]
  },
  {
   "cell_type": "markdown",
   "metadata": {},
   "source": [
    "# import mined info on SG, Wickoff, elements and some structures"
   ]
  },
  {
   "cell_type": "code",
   "execution_count": 13,
   "metadata": {
    "collapsed": true
   },
   "outputs": [],
   "source": [
    "fileNames = {}\n",
    "infoPath = '../info/'\n",
    "structurePath = '../structures/'\n",
    "fileNames['crystals'] = structurePath + 'partial_input_crystals_sg3-230.pck'\n",
    "fileNames['wyck'] = infoPath+'SpaceGroup-multiplicity-wickoff-info.pck'\n",
    "fileNames['general info'] = infoPath+'SpaceGroup-general-info.pck'\n",
    "fileNames['elements info'] = infoPath+'General-Info-Elements-fast.pck'"
   ]
  },
  {
   "cell_type": "code",
   "execution_count": 14,
   "metadata": {
    "collapsed": true
   },
   "outputs": [],
   "source": [
    "with open(fileNames['crystals'],'rb') as f:\n",
    "    crystals = pck.load(f)\n",
    "with open(fileNames['wyck'],'rb') as f:\n",
    "    WyckTable = pck.load(f)\n",
    "SGTable = pd.read_pickle(fileNames['general info'])\n",
    "ElemTable = pd.read_pickle(fileNames['elements info'])"
   ]
  },
  {
   "cell_type": "code",
   "execution_count": 63,
   "metadata": {},
   "outputs": [],
   "source": [
    "from custom_frame import frame2qe_format\n",
    "sg = 68\n",
    "cc = crystals[sg][3]\n",
    "dd = frame2qe_format(cc,sg)\n",
    "view(cc)\n",
    "view(dd)"
   ]
  },
  {
   "cell_type": "code",
   "execution_count": 65,
   "metadata": {
    "collapsed": true
   },
   "outputs": [
    {
     "name": "stdout",
     "output_type": "stream",
     "text": [
      "&CONTROL \n",
      "  calculation = \"scf\" \n",
      "  outdir = \"./out/\" \n",
      "  prefix = \"qe\" \n",
      "  pseudo_dir = \"./pseudo/\" \n",
      "  restart_mode = \"from_scratch\" \n",
      "  verbosity = \"high\" \n",
      "  wf_collect = .false. \n",
      "  nstep = 150 \n",
      "  etot_conv_thr = 0.00080 \n",
      "  forc_conv_thr = 0.00100 \n",
      "/ \n",
      "&SYSTEM \n",
      "  ecutrho = 80.00000 \n",
      "  ecutwfc = 20.00000 \n",
      "  ibrav = -9 \n",
      "  nat = 1 \n",
      "  nbnd = 20 \n",
      "  ntyp = 1 \n",
      "  occupations = \"smearing\" \n",
      "  smearing = \"cold\" \n",
      "  degauss = 0.010000 \n",
      "  space_group = 68 \n",
      "  uniqueb = .FALSE. \n",
      "  A = 4.18398277665 \n",
      "  B = 4.18398277665 \n",
      "  C = 6.17850824706 \n",
      "  cosAB = -0.70628 \n",
      "  cosAC = 0.00000 \n",
      "  cosBC = 0.00000 \n",
      "/ \n",
      "&ELECTRONS \n",
      "  conv_thr = 1.0000000000d-06 \n",
      "/ \n",
      "&CELL \n",
      "  press = 0.00000 \n",
      "  press_conv_thr = 0.50000 \n",
      "  cell_factor = 2.00000 \n",
      "/ \n",
      "ATOMIC_SPECIES   \n",
      "  Si  28.0855  Si.pbe-n-rrkjus_psl.1.0.0.UPF \n",
      "ATOMIC_POSITIONS  crystal_sg \n",
      "  Si  16i   0.14233355  0.35761389  0.62499229 \n",
      "K_POINTS  automatic \n",
      "  5  6  3  0  0  0 \n",
      "\n"
     ]
    }
   ],
   "source": [
    "inpt = makeQEInput(cc,sg,WyckTable,SGTable,ElemTable,\n",
    "                 zatom = 14,rhocutoff = 20 * 4,wfccutoff = 20,\n",
    "                 calculation_type='\"scf\"',smearing=1e-2,\n",
    "                 kpt = [2,2,2],Nkpt=1000,kpt_offset = [0,0,0],ppPath='\"./pseudo/\"',\n",
    "                 PP=['Si.pbe-n-rrkjus_psl.1.0.0.UPF'])\n",
    "print inpt"
   ]
  },
  {
   "cell_type": "markdown",
   "metadata": {
    "heading_collapsed": true
   },
   "source": [
    "## test"
   ]
  },
  {
   "cell_type": "code",
   "execution_count": 10,
   "metadata": {
    "hidden": true
   },
   "outputs": [
    {
     "data": {
      "text/html": [
       "<div>\n",
       "<style>\n",
       "    .dataframe thead tr:only-child th {\n",
       "        text-align: right;\n",
       "    }\n",
       "\n",
       "    .dataframe thead th {\n",
       "        text-align: left;\n",
       "    }\n",
       "\n",
       "    .dataframe tbody tr th {\n",
       "        vertical-align: top;\n",
       "    }\n",
       "</style>\n",
       "<table border=\"1\" class=\"dataframe\">\n",
       "  <thead>\n",
       "    <tr style=\"text-align: right;\">\n",
       "      <th></th>\n",
       "      <th>Serial No.</th>\n",
       "      <th>Table No.</th>\n",
       "      <th>Sub No.</th>\n",
       "      <th>Main axis, Setting</th>\n",
       "      <th>Hall symbol</th>\n",
       "      <th>SF symbol</th>\n",
       "      <th>HM symbol</th>\n",
       "      <th>Full notation</th>\n",
       "      <th>No. of Point group</th>\n",
       "      <th>Point group (HM)</th>\n",
       "      <th>Point group (SF)</th>\n",
       "      <th>No. of Laue Group</th>\n",
       "      <th>Laue Group</th>\n",
       "      <th>No. of Crystal System</th>\n",
       "      <th>Crystal System</th>\n",
       "    </tr>\n",
       "  </thead>\n",
       "  <tbody>\n",
       "    <tr>\n",
       "      <th>1</th>\n",
       "      <td>1</td>\n",
       "      <td>1</td>\n",
       "      <td>1</td>\n",
       "      <td>NaN</td>\n",
       "      <td>P 1</td>\n",
       "      <td>C11</td>\n",
       "      <td>P 1</td>\n",
       "      <td>P 1</td>\n",
       "      <td>1</td>\n",
       "      <td>1</td>\n",
       "      <td>C1</td>\n",
       "      <td>1</td>\n",
       "      <td>-1</td>\n",
       "      <td>1</td>\n",
       "      <td>triclinic</td>\n",
       "    </tr>\n",
       "    <tr>\n",
       "      <th>2</th>\n",
       "      <td>2</td>\n",
       "      <td>2</td>\n",
       "      <td>1</td>\n",
       "      <td>NaN</td>\n",
       "      <td>-P 1</td>\n",
       "      <td>Ci1</td>\n",
       "      <td>P -1</td>\n",
       "      <td>P -1</td>\n",
       "      <td>2</td>\n",
       "      <td>-1</td>\n",
       "      <td>Ci</td>\n",
       "      <td>1</td>\n",
       "      <td>-1</td>\n",
       "      <td>1</td>\n",
       "      <td>triclinic</td>\n",
       "    </tr>\n",
       "    <tr>\n",
       "      <th>3</th>\n",
       "      <td>3</td>\n",
       "      <td>3</td>\n",
       "      <td>1</td>\n",
       "      <td>b</td>\n",
       "      <td>P 2y</td>\n",
       "      <td>C21</td>\n",
       "      <td>P 2 = P 1 2 1</td>\n",
       "      <td>P 1 2 1</td>\n",
       "      <td>3</td>\n",
       "      <td>2</td>\n",
       "      <td>C2</td>\n",
       "      <td>2</td>\n",
       "      <td>2/m</td>\n",
       "      <td>2</td>\n",
       "      <td>monoclinic</td>\n",
       "    </tr>\n",
       "    <tr>\n",
       "      <th>4</th>\n",
       "      <td>6</td>\n",
       "      <td>4</td>\n",
       "      <td>1</td>\n",
       "      <td>b</td>\n",
       "      <td>P 2yb</td>\n",
       "      <td>C22</td>\n",
       "      <td>P 21 = P 1 21 1</td>\n",
       "      <td>P 1 21 1</td>\n",
       "      <td>3</td>\n",
       "      <td>2</td>\n",
       "      <td>C2</td>\n",
       "      <td>2</td>\n",
       "      <td>2/m</td>\n",
       "      <td>2</td>\n",
       "      <td>monoclinic</td>\n",
       "    </tr>\n",
       "    <tr>\n",
       "      <th>5</th>\n",
       "      <td>9</td>\n",
       "      <td>5</td>\n",
       "      <td>1</td>\n",
       "      <td>b1</td>\n",
       "      <td>C 2y</td>\n",
       "      <td>C23</td>\n",
       "      <td>C 2 = C 1 2 1</td>\n",
       "      <td>C 1 2 1</td>\n",
       "      <td>3</td>\n",
       "      <td>2</td>\n",
       "      <td>C2</td>\n",
       "      <td>2</td>\n",
       "      <td>2/m</td>\n",
       "      <td>2</td>\n",
       "      <td>monoclinic</td>\n",
       "    </tr>\n",
       "  </tbody>\n",
       "</table>\n",
       "</div>"
      ],
      "text/plain": [
       "   Serial No.  Table No.  Sub No. Main axis, Setting Hall symbol SF symbol  \\\n",
       "1           1          1        1                NaN         P 1       C11   \n",
       "2           2          2        1                NaN        -P 1       Ci1   \n",
       "3           3          3        1                  b        P 2y       C21   \n",
       "4           6          4        1                  b       P 2yb       C22   \n",
       "5           9          5        1                 b1        C 2y       C23   \n",
       "\n",
       "         HM symbol Full notation  No. of Point group Point group (HM)  \\\n",
       "1              P 1           P 1                   1                1   \n",
       "2             P -1          P -1                   2               -1   \n",
       "3    P 2 = P 1 2 1       P 1 2 1                   3                2   \n",
       "4  P 21 = P 1 21 1      P 1 21 1                   3                2   \n",
       "5    C 2 = C 1 2 1       C 1 2 1                   3                2   \n",
       "\n",
       "  Point group (SF)  No. of Laue Group Laue Group  No. of Crystal System  \\\n",
       "1               C1                  1         -1                      1   \n",
       "2               Ci                  1         -1                      1   \n",
       "3               C2                  2        2/m                      2   \n",
       "4               C2                  2        2/m                      2   \n",
       "5               C2                  2        2/m                      2   \n",
       "\n",
       "  Crystal System  \n",
       "1      triclinic  \n",
       "2      triclinic  \n",
       "3     monoclinic  \n",
       "4     monoclinic  \n",
       "5     monoclinic  "
      ]
     },
     "execution_count": 10,
     "metadata": {},
     "output_type": "execute_result"
    }
   ],
   "source": [
    "SGTable.head(5)"
   ]
  },
  {
   "cell_type": "code",
   "execution_count": 11,
   "metadata": {
    "hidden": true
   },
   "outputs": [
    {
     "data": {
      "text/html": [
       "<div>\n",
       "<style>\n",
       "    .dataframe thead tr:only-child th {\n",
       "        text-align: right;\n",
       "    }\n",
       "\n",
       "    .dataframe thead th {\n",
       "        text-align: left;\n",
       "    }\n",
       "\n",
       "    .dataframe tbody tr th {\n",
       "        vertical-align: top;\n",
       "    }\n",
       "</style>\n",
       "<table border=\"1\" class=\"dataframe\">\n",
       "  <thead>\n",
       "    <tr style=\"text-align: right;\">\n",
       "      <th></th>\n",
       "      <th>Serial No.</th>\n",
       "      <th>Table No.</th>\n",
       "      <th>Sub No.</th>\n",
       "      <th>Main axis, Setting</th>\n",
       "      <th>Hall symbol</th>\n",
       "      <th>SF symbol</th>\n",
       "      <th>HM symbol</th>\n",
       "      <th>Full notation</th>\n",
       "      <th>No. of Point group</th>\n",
       "      <th>Point group (HM)</th>\n",
       "      <th>Point group (SF)</th>\n",
       "      <th>No. of Laue Group</th>\n",
       "      <th>Laue Group</th>\n",
       "      <th>No. of Crystal System</th>\n",
       "      <th>Crystal System</th>\n",
       "    </tr>\n",
       "  </thead>\n",
       "  <tbody>\n",
       "    <tr>\n",
       "      <th>42</th>\n",
       "      <td>209</td>\n",
       "      <td>42</td>\n",
       "      <td>1</td>\n",
       "      <td>NaN</td>\n",
       "      <td>F 2 -2</td>\n",
       "      <td>C2v18</td>\n",
       "      <td>F m m 2</td>\n",
       "      <td>F m m 2</td>\n",
       "      <td>7</td>\n",
       "      <td>m m 2</td>\n",
       "      <td>C2v</td>\n",
       "      <td>3</td>\n",
       "      <td>mmm</td>\n",
       "      <td>3</td>\n",
       "      <td>orthorhombic</td>\n",
       "    </tr>\n",
       "  </tbody>\n",
       "</table>\n",
       "</div>"
      ],
      "text/plain": [
       "    Serial No.  Table No.  Sub No. Main axis, Setting Hall symbol SF symbol  \\\n",
       "42         209         42        1                NaN      F 2 -2     C2v18   \n",
       "\n",
       "   HM symbol Full notation  No. of Point group Point group (HM)  \\\n",
       "42   F m m 2       F m m 2                   7            m m 2   \n",
       "\n",
       "   Point group (SF)  No. of Laue Group Laue Group  No. of Crystal System  \\\n",
       "42              C2v                  3        mmm                      3   \n",
       "\n",
       "   Crystal System  \n",
       "42   orthorhombic  "
      ]
     },
     "execution_count": 11,
     "metadata": {},
     "output_type": "execute_result"
    }
   ],
   "source": [
    "df = SGTable.rename(columns = {'Table No.':'a'})\n",
    "SGTable[SGTable['Table No.'] == 42]"
   ]
  },
  {
   "cell_type": "markdown",
   "metadata": {},
   "source": [
    "# Test how qe cells definitions"
   ]
  },
  {
   "cell_type": "code",
   "execution_count": 6,
   "metadata": {
    "collapsed": true
   },
   "outputs": [],
   "source": [
    "from ase.spacegroup import crystal"
   ]
  },
  {
   "cell_type": "code",
   "execution_count": 7,
   "metadata": {
    "collapsed": true
   },
   "outputs": [],
   "source": [
    "#crystal(symbols=None, basis=None, spacegroup=1, setting=1, cell=None, cellpar=None, ab_normal=(0, 0, 1), a_direction=None, size=(1, 1, 1), onduplicates='warn', symprec=0.001, pbc=True, primitive_cell=False, **kwargs)"
   ]
  },
  {
   "cell_type": "code",
   "execution_count": 69,
   "metadata": {},
   "outputs": [
    {
     "name": "stdout",
     "output_type": "stream",
     "text": [
      "{1: 14, 2: 14, 3: -12, 4: -12, 5: 13, 6: -12, 7: -12, 8: 13, 9: 13, 10: -12, 11: -12, 12: 13, 13: -12, 14: -12, 15: 13, 16: 8, 17: 8, 18: 8, 19: 8, 20: -9, 21: -9, 22: 10, 23: 11, 24: 11, 25: 8, 26: 8, 27: 8, 28: 8, 29: 8, 30: 8, 31: 8, 32: 8, 33: 8, 34: 8, 35: -9, 36: -9, 37: -9, 38: -9, 39: -9, 40: -9, 41: -9, 42: 10, 43: 10, 44: 11, 45: 11, 46: 11, 47: 8, 48: 8, 49: 8, 50: 8, 51: 8, 52: 8, 53: 8, 54: 8, 55: 8, 56: 8, 57: 8, 58: 8, 59: 8, 60: 8, 61: 8, 62: 8, 63: -9, 64: -9, 65: -9, 66: -9, 67: -9, 68: -9, 69: 10, 70: 10, 71: 11, 72: 11, 73: 11, 74: 11, 75: 6, 76: 6, 77: 6, 78: 6, 79: 7, 80: 7, 81: 6, 82: 7, 83: 6, 84: 6, 85: 6, 86: 6, 87: 7, 88: 7, 89: 6, 90: 6, 91: 6, 92: 6, 93: 6, 94: 6, 95: 6, 96: 6, 97: 7, 98: 7, 99: 6, 100: 6, 101: 6, 102: 6, 103: 6, 104: 6, 105: 6, 106: 6, 107: 7, 108: 7, 109: 7, 110: 7, 111: 6, 112: 6, 113: 6, 114: 6, 115: 6, 116: 6, 117: 6, 118: 6, 119: 7, 120: 7, 121: 7, 122: 7, 123: 6, 124: 6, 125: 6, 126: 6, 127: 6, 128: 6, 129: 6, 130: 6, 131: 6, 132: 6, 133: 6, 134: 6, 135: 6, 136: 6, 137: 6, 138: 6, 139: 7, 140: 7, 141: 7, 142: 7, 143: 4, 144: 4, 145: 4, 146: 5, 147: 4, 148: 5, 149: 4, 150: 4, 151: 4, 152: 4, 153: 4, 154: 4, 155: 5, 156: 4, 157: 4, 158: 4, 159: 4, 160: 5, 161: 5, 162: 4, 163: 4, 164: 4, 165: 4, 166: 5, 167: 5, 168: 4, 169: 4, 170: 4, 171: 4, 172: 4, 173: 4, 174: 4, 175: 4, 176: 4, 177: 4, 178: 4, 179: 4, 180: 4, 181: 4, 182: 4, 183: 4, 184: 4, 185: 4, 186: 4, 187: 4, 188: 4, 189: 4, 190: 4, 191: 4, 192: 4, 193: 4, 194: 4, 195: 1, 196: 2, 197: 3, 198: 1, 199: 3, 200: 1, 201: 1, 202: 2, 203: 2, 204: 3, 205: 1, 206: 3, 207: 1, 208: 1, 209: 2, 210: 2, 211: 3, 212: 1, 213: 1, 214: 3, 215: 1, 216: 2, 217: 3, 218: 1, 219: 2, 220: 3, 221: 1, 222: 1, 223: 1, 224: 1, 225: 2, 226: 2, 227: 2, 228: 2, 229: 3, 230: 3}\n"
     ]
    }
   ],
   "source": [
    "sg2ibrav = {it:SG2ibrav(it,SGTable) for it in range(1,230+1)}\n",
    "print sg2ibrav"
   ]
  },
  {
   "cell_type": "markdown",
   "metadata": {
    "heading_collapsed": true
   },
   "source": [
    "## ibrav 1 \n",
    " 1          cubic P (sc)\n",
    "      v1 = a(1,0,0),  v2 = a(0,1,0),  v3 = a(0,0,1)\n",
    "      \n",
    "NO PROPBLEM"
   ]
  },
  {
   "cell_type": "code",
   "execution_count": 9,
   "metadata": {
    "hidden": true
   },
   "outputs": [
    {
     "name": "stdout",
     "output_type": "stream",
     "text": [
      "[195, 198, 200, 201, 205, 207, 208, 212, 213, 215, 218, 221, 222, 223, 224]\n"
     ]
    }
   ],
   "source": [
    "relevant_sg = []\n",
    "for key,item in sg2ibrav.iteritems():\n",
    "    if item == 1:\n",
    "        relevant_sg.append(key)\n",
    "print relevant_sg"
   ]
  },
  {
   "cell_type": "code",
   "execution_count": 51,
   "metadata": {
    "hidden": true
   },
   "outputs": [
    {
     "name": "stdout",
     "output_type": "stream",
     "text": [
      "[[  1.10448729e+01  -3.62415604e-17  -1.00366923e-17]\n",
      " [ -3.62415604e-17   1.10448729e+01   6.16575191e-17]\n",
      " [ -1.00366923e-17   6.16575191e-17   1.10448729e+01]]\n",
      "[ 11.04487288  11.04487288  11.04487288  90.          90.          90.        ]\n"
     ]
    }
   ],
   "source": [
    "sg = 223\n",
    "cc = crystals[sg][0]\n",
    "print cc.get_cell()\n",
    "print cc.get_cell_lengths_and_angles()\n",
    "Na = cc.get_number_of_atoms()\n",
    "pos = cc.get_scaled_positions()[0]\n",
    "cell_par = cc.get_cell_lengths_and_angles()\n",
    "view(cc)"
   ]
  },
  {
   "cell_type": "code",
   "execution_count": 52,
   "metadata": {
    "collapsed": true,
    "hidden": true
   },
   "outputs": [],
   "source": [
    "a,b,c,alpha,beta,gamma =  cell_par\n",
    "v1 = [a,0,0]\n",
    "v2 = [0,a,0]\n",
    "v3 = [0,0,a]\n",
    "vv = np.array([v1,v2,v3])\n",
    "dd = crystal(basis = pos,symbols=['Si',]*Na,  spacegroup=sg,  cell=vv)\n",
    "view(dd)"
   ]
  },
  {
   "cell_type": "markdown",
   "metadata": {
    "heading_collapsed": true
   },
   "source": [
    "## ibrav 2\n",
    "2          cubic F (fcc)\n",
    "      v1 = (a/2)(-1,0,1),  v2 = (a/2)(0,1,1), v3 = (a/2)(-1,1,0)\n",
    "      \n",
    "go to primitive cell"
   ]
  },
  {
   "cell_type": "code",
   "execution_count": 61,
   "metadata": {
    "hidden": true
   },
   "outputs": [
    {
     "name": "stdout",
     "output_type": "stream",
     "text": [
      "[[-8.66463004  0.          8.66463004]\n",
      " [ 0.          8.66463004  8.66463004]\n",
      " [-8.66463004  8.66463004  0.        ]]\n"
     ]
    }
   ],
   "source": [
    "a = 17.32926009;\n",
    "v1 = a/2*np.array([-1,0,1]);   \n",
    "v2 = a/2*np.array([0,1,1]);  \n",
    "v3 = a/2*np.array([-1,1,0])\n",
    "print np.array([v1,v2,v3])"
   ]
  },
  {
   "cell_type": "markdown",
   "metadata": {
    "heading_collapsed": true,
    "hidden": true
   },
   "source": [
    "### investigate the prob"
   ]
  },
  {
   "cell_type": "code",
   "execution_count": 62,
   "metadata": {
    "hidden": true
   },
   "outputs": [
    {
     "name": "stdout",
     "output_type": "stream",
     "text": [
      "[[  1.73292601e+01  -5.78623416e-17  -6.65376850e-17]\n",
      " [ -5.78623416e-17   1.73292601e+01   8.13454945e-17]\n",
      " [ -6.65376850e-17   8.13454945e-17   1.73292601e+01]]\n",
      "[ 17.32926009  17.32926009  17.32926009  90.          90.          90.        ]\n"
     ]
    }
   ],
   "source": [
    "sg = 225\n",
    "cc = crystals[sg][0]\n",
    "print cc.get_cell()\n",
    "print cc.get_cell_lengths_and_angles()\n",
    "Na = cc.get_number_of_atoms()\n",
    "pos = cc.get_scaled_positions()[0]\n",
    "cell_par = cc.get_cell_lengths_and_angles()\n",
    "view(cc)"
   ]
  },
  {
   "cell_type": "code",
   "execution_count": 57,
   "metadata": {
    "hidden": true
   },
   "outputs": [
    {
     "name": "stdout",
     "output_type": "stream",
     "text": [
      "[-8.66463005  0.          8.66463005]\n"
     ]
    }
   ],
   "source": [
    "b1,b2,b3 = np.array([[  1.73292601e+01,  0.,  0.],\n",
    "                     [ 0.,   1.73292601e+01,   0.],\n",
    "                     [0.,   0.,   1.73292601e+01]])\n",
    "nb1 = (-b1+b3)/2\n",
    "nb2 = ( b2+b3)/2\n",
    "nb3 = (-b1+b2)/2\n",
    "\n",
    "nb = np.array([nb1,nb2,nb3])"
   ]
  },
  {
   "cell_type": "code",
   "execution_count": 63,
   "metadata": {
    "hidden": true
   },
   "outputs": [
    {
     "name": "stdout",
     "output_type": "stream",
     "text": [
      "Fm-3m (225)\n",
      "[[ 0.          8.66463004  8.66463004]\n",
      " [ 8.66463004  0.          8.66463004]\n",
      " [ 8.66463004  8.66463004  0.        ]]\n"
     ]
    }
   ],
   "source": [
    "import spglib as spg\n",
    "print spg.get_spacegroup(cc)\n",
    "(lattice, positions, numbers) = spg.find_primitive(cc, symprec=1e-05, angle_tolerance=-1.0)\n",
    "ee = ase.Atoms(cell=lattice,scaled_positions=positions,numbers=numbers)\n",
    "print ee.get_cell()\n",
    "view(ee)\n"
   ]
  },
  {
   "cell_type": "code",
   "execution_count": 64,
   "metadata": {
    "hidden": true
   },
   "outputs": [
    {
     "name": "stdout",
     "output_type": "stream",
     "text": [
      "[[ 0.          8.66463004  8.66463004]\n",
      " [ 8.66463004  0.          8.66463004]\n",
      " [ 8.66463004  8.66463004  0.        ]]\n",
      "[ -8.66463004e+00   1.92393435e-15   8.66463004e+00]\n",
      "[[ -8.66463004e+00   1.92393435e-15   8.66463004e+00]\n",
      " [  1.92393435e-15   8.66463004e+00   8.66463004e+00]\n",
      " [ -8.66463004e+00   8.66463004e+00   0.00000000e+00]]\n",
      "[ 5.92936369  4.33202087  9.79639299] [-4.33202087  5.92936369  9.79639299]\n",
      "[[-8.66463004  0.          8.66463004]\n",
      " [ 0.          8.66463004  8.66463004]\n",
      " [-8.66463004  8.66463004  0.        ]]\n",
      "[ 12.25363732  12.25363732  12.25363732  60.          60.          60.        ]\n",
      "17.329260085\n"
     ]
    }
   ],
   "source": [
    "sg = 225\n",
    "cc = crystals[sg][0]\n",
    "# view(cc)\n",
    "(lattice, positions, numbers) = spg.find_primitive(cc, symprec=1e-05, angle_tolerance=-1.0)\n",
    "ee = ase.Atoms(cell=lattice,scaled_positions=positions,numbers=numbers)\n",
    "# view(ee)\n",
    "cell = ee.get_cell()\n",
    "pos = ee.get_positions()\n",
    "v2 = cell[0]\n",
    "axis = [0,0,1]\n",
    "theta = np.pi / 2.\n",
    "rot = rotation_matrix(axis, theta)\n",
    "v2p = np.dot(rot,v2)\n",
    "cellp = np.dot(cell,rot.T)\n",
    "posp = np.dot(pos,rot.T)\n",
    "print cell\n",
    "print v2p\n",
    "print cellp\n",
    "print pos[0],posp[0]\n",
    "\n",
    "cellp[np.abs(cellp)<1e-10] = 0.\n",
    "ee.set_cell(cellp)\n",
    "ee.set_positions(posp)\n",
    "a = cellp[cellp>0][0] * 2\n",
    "# view(ee)\n",
    "print ee.get_cell()\n",
    "print ee.get_cell_lengths_and_angles()\n",
    "print a"
   ]
  },
  {
   "cell_type": "markdown",
   "metadata": {
    "heading_collapsed": true,
    "hidden": true
   },
   "source": [
    "### functions to solve it"
   ]
  },
  {
   "cell_type": "code",
   "execution_count": 65,
   "metadata": {
    "code_folding": [],
    "collapsed": true,
    "hidden": true
   },
   "outputs": [],
   "source": [
    "def get_ibrav2_atoms(frame,sg):\n",
    "    import spglib as spg\n",
    "    symprec = get_symprec(frame,sg)\n",
    "    if symprec is None:\n",
    "        print 'Not possible'\n",
    "        return None\n",
    "    (lattice, positions, numbers) = spg.standardize_cell(frame, to_primitive=True, no_idealize=False, symprec=symprec, angle_tolerance=-1.0)\n",
    "    primitive_atoms = ase.Atoms(cell=lattice,scaled_positions=positions,numbers=numbers)\n",
    "\n",
    "    cell = primitive_atoms.get_cell()\n",
    "    pos = primitive_atoms.get_positions()\n",
    "    \n",
    "    axis = [0,0,1]\n",
    "    theta = np.pi / 2.\n",
    "    rot = rotation_matrix(axis, theta)\n",
    "    \n",
    "    cellp = np.dot(cell,rot.T)\n",
    "    cellp[np.abs(cellp)<1e-10] = 0.\n",
    "    posp = np.dot(pos,rot.T)\n",
    "    inequivalent_pos = posp[0]\n",
    "    \n",
    "    primitive_atoms.set_cell(cellp)\n",
    "    primitive_atoms.set_positions(posp)\n",
    "    \n",
    "    a = primitive_atoms.get_cell_lengths_and_angles()[0] * 2\n",
    "    # only a is used by QE\n",
    "    b,c,alpha,beta,gamma = [0.]*5\n",
    "    cell_par = [a,b,c,alpha,beta,gamma]\n",
    "    return primitive_atoms,cell_par,inequivalent_pos"
   ]
  },
  {
   "cell_type": "markdown",
   "metadata": {
    "hidden": true
   },
   "source": [
    "### check all relevant sg"
   ]
  },
  {
   "cell_type": "code",
   "execution_count": 22,
   "metadata": {
    "hidden": true
   },
   "outputs": [
    {
     "name": "stdout",
     "output_type": "stream",
     "text": [
      "[3, 4, 5, 6, 7, 8, 9, 10, 11, 12, 13, 14, 15, 20, 21, 22, 23, 24, 35, 36, 37, 38, 39, 40, 41, 42, 43, 44, 45, 46, 63, 64, 65, 66, 67, 68, 69, 70, 71, 72, 73, 74, 79, 79, 80, 80, 82, 82, 87, 87, 88, 88, 97, 97, 98, 98, 107, 107, 108, 108, 109, 109, 110, 110, 119, 119, 120, 120, 121, 121, 122, 122, 139, 139, 140, 140, 141, 141, 142, 142, 146, 148, 155, 160, 161, 166, 167, 196, 197, 199, 202, 203, 204, 206, 209, 210, 211, 214, 216, 217, 219, 220, 225, 226, 227, 228, 229, 230]\n"
     ]
    }
   ],
   "source": [
    "TOMODIFY = [5, 8, 9, 12, 15,23, 24, 44, 45, 46, 71, 72, 73, 74,22, 42, 43,\n",
    "          69, 70,79, 80, 82,87, 88, 97, 98, 107, 108, 109,110, 119, 120, 121, 122,\n",
    "          139, 140, 141, 142,197, 199, 204, 206, 211, 214, 217, 220, 229, 230,\n",
    "            196, 202, 203, 209, 210, 216, 219, 225, 226, 227, 228,20, 21, 35, 36, 37, 38, 39, 40, \n",
    "            41, 63, 64, 65, 66, 67, 68, 3, 4, 6, 7, 10, 11, 13, 14,146, 148, 155, 160, 161, 166, 167,\n",
    "           79, 80, 82, 87, 88, 97, 98, 107, 108, 109, 110, 119, 120, 121, 122, 139, 140, 141, 142]\n",
    "print sorted(TOMODIFY)"
   ]
  },
  {
   "cell_type": "code",
   "execution_count": 26,
   "metadata": {
    "hidden": true
   },
   "outputs": [
    {
     "name": "stdout",
     "output_type": "stream",
     "text": [
      "[196, 202, 203, 209, 210, 216, 219, 225, 226, 227, 228]\n"
     ]
    }
   ],
   "source": [
    "relevant_sg = []\n",
    "for key,item in sg2ibrav.iteritems():\n",
    "    if item == 2:\n",
    "        relevant_sg.append(key)\n",
    "print relevant_sg"
   ]
  },
  {
   "cell_type": "code",
   "execution_count": 34,
   "metadata": {
    "hidden": true
   },
   "outputs": [
    {
     "name": "stdout",
     "output_type": "stream",
     "text": [
      "sg 203\n",
      "[10.928800830147843, 0.0, 0.0, 0.0, 0.0, 0.0]\n"
     ]
    }
   ],
   "source": [
    "sg = 203\n",
    "cc = crystals[sg][0]\n",
    "primitive_atoms,cell_par,inequivalent_pos = get_ibrav2_atoms(cc)\n",
    "view(cc)\n",
    "view(primitive_atoms)\n",
    "print 'sg {}'.format(sg)\n",
    "print cell_par\n"
   ]
  },
  {
   "cell_type": "code",
   "execution_count": 35,
   "metadata": {
    "hidden": true
   },
   "outputs": [
    {
     "name": "stdout",
     "output_type": "stream",
     "text": [
      "Fd3 (203)\n",
      "Fd3 (203)\n"
     ]
    }
   ],
   "source": [
    "symprec = 1e-5\n",
    "print spg.get_spacegroup(cc,symprec=symprec)\n",
    "print spg.get_spacegroup(primitive_atoms,symprec=symprec)"
   ]
  },
  {
   "cell_type": "code",
   "execution_count": 11,
   "metadata": {
    "hidden": true
   },
   "outputs": [
    {
     "name": "stdout",
     "output_type": "stream",
     "text": [
      "No structure for sg 196\n",
      "No structure for sg 202\n",
      "No structure for sg 203\n",
      "No structure for sg 209\n",
      "No structure for sg 210\n",
      "No structure for sg 216\n",
      "No structure for sg 219\n",
      "No structure for sg 225\n",
      "No structure for sg 226\n",
      "No structure for sg 227\n",
      "No structure for sg 228\n"
     ]
    }
   ],
   "source": [
    "for sg in relevant_sg:\n",
    "    try:\n",
    "        cc = crystals[sg][0]\n",
    "        primitive_atoms,cell_par,inequivalent_pos = get_ibrav2_atoms(cc)\n",
    "        view(cc)\n",
    "        view(primitive_atoms)\n",
    "        print 'sg {}'.format(sg)\n",
    "        print cell_par\n",
    "        raw_input(\"Press Enter to continue...\")\n",
    "    except:\n",
    "        print 'No structure for sg {}'.format(sg)\n",
    "\n"
   ]
  },
  {
   "cell_type": "markdown",
   "metadata": {
    "heading_collapsed": true
   },
   "source": [
    "## ibrav 3\n",
    "3          cubic I (bcc)\n",
    "      v1 = (a/2)(1,1,1),  v2 = (a/2)(-1,1,1),  v3 = (a/2)(-1,-1,1)\n",
    "      \n",
    "PROBLEM --> ibrav0"
   ]
  },
  {
   "cell_type": "markdown",
   "metadata": {
    "hidden": true
   },
   "source": [
    "https://www.mail-archive.com/pw_forum@pwscf.org/msg30629.html"
   ]
  },
  {
   "cell_type": "markdown",
   "metadata": {
    "hidden": true
   },
   "source": [
    "The cell definition is not the standard one and it's hard to tranform the cell as expected by QE\n",
    "---------> fall back to ibrav 0"
   ]
  },
  {
   "cell_type": "code",
   "execution_count": 14,
   "metadata": {
    "hidden": true
   },
   "outputs": [
    {
     "name": "stdout",
     "output_type": "stream",
     "text": [
      "[197, 199, 204, 206, 211, 214, 217, 220, 229, 230]\n"
     ]
    }
   ],
   "source": [
    "relevant_sg = []\n",
    "for key,item in sg2ibrav.iteritems():\n",
    "    if item == 3:\n",
    "        relevant_sg.append(key)\n",
    "print relevant_sg"
   ]
  },
  {
   "cell_type": "code",
   "execution_count": 15,
   "metadata": {
    "hidden": true
   },
   "outputs": [
    {
     "name": "stdout",
     "output_type": "stream",
     "text": [
      "[[  1.17301762e+01  -5.96588968e-15   3.76947835e-16]\n",
      " [ -5.96588968e-15   1.17301762e+01   1.76323546e-16]\n",
      " [  3.76947835e-16   1.76323546e-16   1.17301762e+01]]\n",
      "[ 11.73017616  11.73017616  11.73017616  90.          90.          90.        ]\n"
     ]
    }
   ],
   "source": [
    "sg = 230\n",
    "cc = crystals[sg][0]\n",
    "print cc.get_cell()\n",
    "print cc.get_cell_lengths_and_angles()\n",
    "Na = cc.get_number_of_atoms()\n",
    "pos = cc.get_scaled_positions()[0]\n",
    "cell_par = cc.get_cell_lengths_and_angles()\n",
    "view(cc)"
   ]
  },
  {
   "cell_type": "code",
   "execution_count": 38,
   "metadata": {
    "hidden": true
   },
   "outputs": [
    {
     "name": "stdout",
     "output_type": "stream",
     "text": [
      "[[-5.86508808  5.86508808  5.86508808]\n",
      " [ 5.86508808 -5.86508808  5.86508808]\n",
      " [ 5.86508808  5.86508808 -5.86508808]]\n",
      "[-5.86508808 -5.86508808  5.86508808]\n",
      "[[-5.86508808 -5.86508808  5.86508808]\n",
      " [ 5.86508808  5.86508808  5.86508808]\n",
      " [-5.86508808  5.86508808 -5.86508808]]\n",
      "[ 2.36019451  1.04105889  8.43949339] [-1.04105889  2.36019451  8.43949339]\n",
      "[[-5.86508808 -5.86508808  5.86508808]\n",
      " [ 5.86508808  5.86508808  5.86508808]\n",
      " [-5.86508808  5.86508808 -5.86508808]]\n",
      "[  10.15863055   10.15863055   10.15863055  109.47122063  109.47122063\n",
      "  109.47122063]\n",
      "11.7301761627\n"
     ]
    }
   ],
   "source": [
    "sg = 230\n",
    "cc = crystals[sg][0]\n",
    "# view(cc)\n",
    "(lattice, positions, numbers) = spg.find_primitive(cc, symprec=1e-05, angle_tolerance=-1.0)\n",
    "ee = ase.Atoms(cell=lattice,scaled_positions=positions,numbers=numbers)\n",
    "view(ee)\n",
    "cell = ee.get_cell()\n",
    "pos = ee.get_positions()\n",
    "v2 = cell[0]\n",
    "axis = [0,0,1]\n",
    "theta = np.pi / 2.\n",
    "rot = rotation_matrix(axis, theta)\n",
    "v2p = np.dot(rot,v2)\n",
    "cellp = np.dot(cell,rot.T)\n",
    "posp = np.dot(pos,rot.T)\n",
    "print cell\n",
    "print v2p\n",
    "print cellp\n",
    "print pos[0],posp[0]\n",
    "\n",
    "cellp[np.abs(cellp)<1e-10] = 0.\n",
    "ee.set_cell(cellp)\n",
    "ee.set_positions(posp)\n",
    "a = cellp[cellp>0][0] * 2\n",
    "# view(ee)\n",
    "print ee.get_cell()\n",
    "print ee.get_cell_lengths_and_angles()\n",
    "print a"
   ]
  },
  {
   "cell_type": "code",
   "execution_count": 16,
   "metadata": {
    "code_folding": [],
    "collapsed": true,
    "hidden": true
   },
   "outputs": [],
   "source": [
    "def get_ibrav3_atoms(frame,sg):\n",
    "    import spglib as spg\n",
    "    symprec = get_symprec(frame,sg)\n",
    "    if symprec is None:\n",
    "        print 'Not possible'\n",
    "        return None\n",
    "    (lattice, positions, numbers) = spg.standardize_cell(frame, to_primitive=True, no_idealize=False, symprec=symprec, angle_tolerance=-1.0)\n",
    "    primitive_atoms = ase.Atoms(cell=lattice,scaled_positions=positions,numbers=numbers)\n",
    "\n",
    "    cell = primitive_atoms.get_cell()\n",
    "    pos = primitive_atoms.get_positions()\n",
    "    \n",
    "    inequivalent_pos = pos[0]\n",
    "    \n",
    "    return primitive_atoms,cell,inequivalent_pos"
   ]
  },
  {
   "cell_type": "markdown",
   "metadata": {
    "hidden": true
   },
   "source": [
    "### check all"
   ]
  },
  {
   "cell_type": "code",
   "execution_count": 17,
   "metadata": {
    "hidden": true
   },
   "outputs": [
    {
     "name": "stdout",
     "output_type": "stream",
     "text": [
      "sg 230\n",
      "[[ 5.86508808  5.86508808 -5.86508808]\n",
      " [ 5.86508808 -5.86508808  5.86508808]\n",
      " [-5.86508808 -5.86508808 -5.86508808]]\n"
     ]
    }
   ],
   "source": [
    "sg = 230\n",
    "cc = crystals[sg][0]\n",
    "primitive_atoms,cell_par,inequivalent_pos = get_ibrav3_atoms(cc,sg)\n",
    "view(cc)\n",
    "view(primitive_atoms)\n",
    "print 'sg {}'.format(sg)\n",
    "print cell_par\n"
   ]
  },
  {
   "cell_type": "code",
   "execution_count": 18,
   "metadata": {
    "hidden": true
   },
   "outputs": [
    {
     "name": "stdout",
     "output_type": "stream",
     "text": [
      "Ia-3d (230)\n",
      "Ia-3d (230)\n"
     ]
    }
   ],
   "source": [
    "symprec = 1e-5\n",
    "print spg.get_spacegroup(cc,symprec=symprec)\n",
    "print spg.get_spacegroup(primitive_atoms,symprec=symprec)"
   ]
  },
  {
   "cell_type": "code",
   "execution_count": 19,
   "metadata": {
    "collapsed": true,
    "hidden": true
   },
   "outputs": [
    {
     "name": "stdout",
     "output_type": "stream",
     "text": [
      "sg 197\n",
      "[[ 3.19117421  3.19117421  3.19117421]\n",
      " [ 3.19117421 -3.19117421 -3.19117421]\n",
      " [-3.19117421  3.19117421 -3.19117421]]\n",
      "Press Enter to continue...\n",
      "sg 199\n",
      "[[ 3.18175146  3.18175146  3.18175146]\n",
      " [ 3.18175146 -3.18175146 -3.18175146]\n",
      " [-3.18175146  3.18175146 -3.18175146]]\n",
      "Press Enter to continue...\n",
      "sg 204\n",
      "[[-4.42122989 -4.42122989  4.42122989]\n",
      " [-4.42122989  4.42122989 -4.42122989]\n",
      " [ 4.42122989 -4.42122989 -4.42122989]]\n",
      "Press Enter to continue...\n",
      "sg 206\n",
      "[[-3.81999479 -3.81999479  3.81999479]\n",
      " [-3.81999479  3.81999479 -3.81999479]\n",
      " [ 3.81999479 -3.81999479 -3.81999479]]\n",
      "Press Enter to continue...\n",
      "sg 211\n",
      "[[ 4.40150515 -4.40150515  4.40150515]\n",
      " [ 4.40150515  4.40150515 -4.40150515]\n",
      " [-4.40150515  4.40150515  4.40150515]]\n",
      "Press Enter to continue...\n",
      "sg 214\n",
      "[[ 4.7688406  4.7688406 -4.7688406]\n",
      " [ 4.7688406 -4.7688406  4.7688406]\n",
      " [-4.7688406 -4.7688406 -4.7688406]]\n",
      "Press Enter to continue...\n",
      "sg 217\n",
      "[[-4.44131934 -4.44131934  4.44131934]\n",
      " [-4.44131934  4.44131934 -4.44131934]\n",
      " [ 4.44131934 -4.44131934 -4.44131934]]\n",
      "Press Enter to continue...\n",
      "sg 220\n",
      "[[-4.22005123 -4.22005123  4.22005123]\n",
      " [-4.22005123  4.22005123 -4.22005123]\n",
      " [ 4.22005123 -4.22005123 -4.22005123]]\n",
      "Press Enter to continue...\n",
      "sg 229\n",
      "[[-6.77132897 -6.77132897 -6.77132897]\n",
      " [-6.77132897  6.77132897  6.77132897]\n",
      " [ 6.77132897  6.77132897 -6.77132897]]\n",
      "Press Enter to continue...\n",
      "sg 230\n",
      "[[ 5.86508808  5.86508808 -5.86508808]\n",
      " [ 5.86508808 -5.86508808  5.86508808]\n",
      " [-5.86508808 -5.86508808 -5.86508808]]\n",
      "Press Enter to continue...\n"
     ]
    }
   ],
   "source": [
    "for sg in relevant_sg:\n",
    "    try:\n",
    "        cc = crystals[sg][0]\n",
    "        primitive_atoms,cell_par,inequivalent_pos = get_ibrav3_atoms(cc,sg)\n",
    "        view(cc)\n",
    "        view(primitive_atoms)\n",
    "        print 'sg {}'.format(sg)\n",
    "        print cell_par\n",
    "        raw_input(\"Press Enter to continue...\")\n",
    "    except:\n",
    "        print 'No structure for sg {}'.format(sg)\n",
    "\n"
   ]
  },
  {
   "cell_type": "code",
   "execution_count": 12,
   "metadata": {
    "collapsed": true,
    "hidden": true
   },
   "outputs": [],
   "source": []
  },
  {
   "cell_type": "markdown",
   "metadata": {
    "heading_collapsed": true
   },
   "source": [
    "## ibrav 4\n",
    "4          Hexagonal and Trigonal P        celldm(3)=c/a\n",
    "      v1 = a(1,0,0),  v2 = a(-1/2,sqrt(3)/2,0),  v3 = a(0,0,c/a)\n",
    "      \n",
    "      \n",
    "NO PROBLEM "
   ]
  },
  {
   "cell_type": "code",
   "execution_count": 39,
   "metadata": {
    "hidden": true
   },
   "outputs": [
    {
     "name": "stdout",
     "output_type": "stream",
     "text": [
      "[143, 144, 145, 147, 149, 150, 151, 152, 153, 154, 156, 157, 158, 159, 162, 163, 164, 165, 168, 169, 170, 171, 172, 173, 174, 175, 176, 177, 178, 179, 180, 181, 182, 183, 184, 185, 186, 187, 188, 189, 190, 191, 192, 193, 194]\n"
     ]
    }
   ],
   "source": [
    "relevant_sg = []\n",
    "for key,item in sg2ibrav.iteritems():\n",
    "    if item == 4:\n",
    "        relevant_sg.append(key)\n",
    "print relevant_sg"
   ]
  },
  {
   "cell_type": "code",
   "execution_count": 40,
   "metadata": {
    "hidden": true
   },
   "outputs": [
    {
     "name": "stdout",
     "output_type": "stream",
     "text": [
      "[[  1.05967022e+01   4.94275755e-16   1.38167505e-13]\n",
      " [ -5.29835111e+00   9.17701332e+00   1.94072597e-13]\n",
      " [  5.71181187e-14   1.25905178e-13   4.48680887e+00]]\n",
      "[  10.59670222   10.59670222    4.48680887   90.           90.          120.        ]\n"
     ]
    }
   ],
   "source": [
    "sg = 192\n",
    "cc = crystals[sg][0]\n",
    "print cc.get_cell()\n",
    "print cc.get_cell_lengths_and_angles()\n",
    "Na = cc.get_number_of_atoms()\n",
    "pos = cc.get_scaled_positions()[0]\n",
    "cell_par = cc.get_cell_lengths_and_angles()\n",
    "view(cc)"
   ]
  },
  {
   "cell_type": "markdown",
   "metadata": {},
   "source": [
    "## ibrav 5\n",
    "5          Trigonal R, 3fold axis c        celldm(4)=cos(alpha)\n",
    "      The crystallographic vectors form a three-fold star around\n",
    "      the z-axis, the primitive cell is a simple rhombohedron:\n",
    "      \n",
    "      v1 = a(tx,-ty,tz),   v2 = a(0,2ty,tz),   v3 = a(-tx,-ty,tz)\n",
    "      \n",
    "      where c=cos(alpha) is the cosine of the angle alpha between\n",
    "      any pair of crystallographic vectors, tx, ty, tz are:\n",
    "      \n",
    "        tx=sqrt((1-c)/2), ty=sqrt((1-c)/6), tz=sqrt((1+2c)/3)\n",
    "        \n",
    "PROBLEM -> go to primitive cell"
   ]
  },
  {
   "cell_type": "code",
   "execution_count": 139,
   "metadata": {},
   "outputs": [
    {
     "name": "stdout",
     "output_type": "stream",
     "text": [
      "[[ 3.60572805 -2.08176806  1.49473402]\n",
      " [ 0.          4.16353612  1.49473402]\n",
      " [-3.60572805 -2.08176806  1.49473402]]\n"
     ]
    }
   ],
   "source": [
    "a = 4.42371595; c = np.cos(109.192587*np.pi/180.)\n",
    "tx = np.sqrt((1-c)/2); ty = np.sqrt((1-c)/6); tz = np.sqrt((1+2*c)/3)\n",
    "v1 = a*np.array([tx,-ty,tz]);   v2 = a*np.array([0,2*ty,tz]);   v3 = a*np.array([-tx,-ty,tz])\n",
    "print np.array([v1,v2,v3])"
   ]
  },
  {
   "cell_type": "code",
   "execution_count": 44,
   "metadata": {},
   "outputs": [
    {
     "name": "stdout",
     "output_type": "stream",
     "text": [
      "[146, 148, 155, 160, 161, 166, 167]\n"
     ]
    }
   ],
   "source": [
    "relevant_sg = []\n",
    "for key,item in sg2ibrav.iteritems():\n",
    "    if item == 5:\n",
    "        relevant_sg.append(key)\n",
    "print relevant_sg"
   ]
  },
  {
   "cell_type": "markdown",
   "metadata": {
    "heading_collapsed": true
   },
   "source": [
    "### investigate the prob"
   ]
  },
  {
   "cell_type": "code",
   "execution_count": 45,
   "metadata": {
    "hidden": true
   },
   "outputs": [
    {
     "name": "stdout",
     "output_type": "stream",
     "text": [
      "[[  7.21145610e+00   1.82300988e-14  -2.84013999e-14]\n",
      " [ -3.60572805e+00   6.24530418e+00  -2.41148163e-15]\n",
      " [ -1.14709818e-14  -7.90864707e-15   4.48420206e+00]]\n",
      "[   7.2114561     7.2114561     4.48420206   90.           90.          120.        ]\n"
     ]
    }
   ],
   "source": [
    "sg = 155\n",
    "cc = crystals[sg][0]\n",
    "print cc.get_cell()\n",
    "print cc.get_cell_lengths_and_angles()\n",
    "Na = cc.get_number_of_atoms()\n",
    "pos = cc.get_scaled_positions()[0]\n",
    "cell_par = cc.get_cell_lengths_and_angles()\n",
    "view(cc)"
   ]
  },
  {
   "cell_type": "code",
   "execution_count": 111,
   "metadata": {
    "hidden": true,
    "scrolled": true
   },
   "outputs": [
    {
     "name": "stdout",
     "output_type": "stream",
     "text": [
      "[[ 3.60572805  2.08176806  1.49473402]\n",
      " [-3.60572805  2.08176806  1.49473402]\n",
      " [ 0.         -4.16353612  1.49473402]]\n",
      "[ 3.60572805 -2.08176806  1.49473402]\n",
      "[[  3.60572805e+00  -2.08176806e+00   1.49473402e+00]\n",
      " [ -1.11022302e-15   4.16353612e+00   1.49473402e+00]\n",
      " [ -3.60572805e+00  -2.08176806e+00   1.49473402e+00]]\n"
     ]
    }
   ],
   "source": [
    "sg = 155\n",
    "cc = crystals[sg][0]\n",
    "(lattice, positions, numbers) = spg.find_primitive(cc, symprec=1e-05, angle_tolerance=-1.0)\n",
    "ee = ase.Atoms(cell=lattice,scaled_positions=positions,numbers=numbers)\n",
    "cell = ee.get_cell()\n",
    "pos = ee.get_positions()\n",
    "v2 = cell[0]\n",
    "axis = [0,0,1]\n",
    "theta = - 60*np.pi/180.\n",
    "rot = rotation_matrix(axis, theta)\n",
    "v2p = np.dot(rot,v2)\n",
    "cellp = np.dot(cell,rot.T)\n",
    "posp = np.dot(pos,rot.T)\n",
    "print cell\n",
    "print cellp"
   ]
  },
  {
   "cell_type": "code",
   "execution_count": 142,
   "metadata": {
    "hidden": true
   },
   "outputs": [
    {
     "name": "stdout",
     "output_type": "stream",
     "text": [
      "[[ 3.60572805 -2.08176806  1.49473402]\n",
      " [ 0.          4.16353612  1.49473402]\n",
      " [-3.60572805 -2.08176806  1.49473402]]\n",
      "[   4.42371595    4.42371595    4.42371595  109.192587    109.192587\n",
      "  109.192587  ]\n",
      "4.42371595141 -0.328744459329\n"
     ]
    }
   ],
   "source": [
    "cellp[np.abs(cellp)<1e-10] = 0.\n",
    "ee.set_cell(cellp)\n",
    "ee.set_positions(posp)\n",
    "a = ee.get_cell_lengths_and_angles()[0]\n",
    "c = np.cos(ee.get_cell_lengths_and_angles()[3]*np.pi/180.)\n",
    "view(ee)\n",
    "print ee.get_cell()\n",
    "print ee.get_cell_lengths_and_angles()\n",
    "print a,c"
   ]
  },
  {
   "cell_type": "markdown",
   "metadata": {},
   "source": [
    "### functions to solve it"
   ]
  },
  {
   "cell_type": "code",
   "execution_count": 67,
   "metadata": {
    "code_folding": [],
    "collapsed": true
   },
   "outputs": [],
   "source": [
    "def get_ibrav5_atoms(frame,sg):\n",
    "    import spglib as spg\n",
    "    symprec = get_symprec(frame,sg)\n",
    "    if symprec is None:\n",
    "        print 'Not possible'\n",
    "        return None\n",
    "    (lattice, positions, numbers) = spg.find_primitive(frame, symprec=symprec, angle_tolerance=-1.0)\n",
    "    primitive_atoms = ase.Atoms(cell=lattice,scaled_positions=positions,numbers=numbers)\n",
    "\n",
    "    cell = primitive_atoms.get_cell()\n",
    "    pos = primitive_atoms.get_positions()\n",
    "    \n",
    "    axis = [0,0,1]\n",
    "    theta = - 60.*np.pi/180.\n",
    "    rot = rotation_matrix(axis, theta)\n",
    "    \n",
    "    cellp = np.dot(cell,rot.T)\n",
    "    cellp[np.abs(cellp)<1e-10] = 0.\n",
    "    posp = np.dot(pos,rot.T)\n",
    "    inequivalent_pos = posp[0]\n",
    "    \n",
    "    primitive_atoms.set_cell(cellp)\n",
    "    primitive_atoms.set_positions(posp)\n",
    "    \n",
    "    a,_,_,alpha,_,_ = primitive_atoms.get_cell_lengths_and_angles()\n",
    "    # only a is used by QE\n",
    "    b,c,beta,gamma = [0.]*4\n",
    "    cell_par = [a,b,c,alpha,beta,gamma]\n",
    "    return primitive_atoms,cell_par,inequivalent_pos"
   ]
  },
  {
   "cell_type": "markdown",
   "metadata": {
    "heading_collapsed": true
   },
   "source": [
    "### check all"
   ]
  },
  {
   "cell_type": "code",
   "execution_count": 153,
   "metadata": {
    "hidden": true
   },
   "outputs": [
    {
     "name": "stdout",
     "output_type": "stream",
     "text": [
      "sg 167\n",
      "[9.7049669483204024, 0.0, 0.0, 119.39306125170683, 0.0, 0.0]\n"
     ]
    }
   ],
   "source": [
    "sg = 167\n",
    "cc = crystals[sg][0]\n",
    "primitive_atoms,cell_par,inequivalent_pos = get_ibrav5_atoms(cc,sg)\n",
    "view(cc)\n",
    "view(primitive_atoms)\n",
    "print 'sg {}'.format(sg)\n",
    "print cell_par\n"
   ]
  },
  {
   "cell_type": "code",
   "execution_count": 154,
   "metadata": {
    "hidden": true
   },
   "outputs": [
    {
     "name": "stdout",
     "output_type": "stream",
     "text": [
      "R-3c (167)\n",
      "R-3c (167)\n"
     ]
    }
   ],
   "source": [
    "symprec = 1e-5\n",
    "print spg.get_spacegroup(cc,symprec=symprec)\n",
    "print spg.get_spacegroup(primitive_atoms,symprec=symprec)"
   ]
  },
  {
   "cell_type": "code",
   "execution_count": 147,
   "metadata": {
    "hidden": true,
    "scrolled": true
   },
   "outputs": [
    {
     "name": "stdout",
     "output_type": "stream",
     "text": [
      "sg 146\n",
      "[3.7820019948990224, 0.0, 0.0, 0.0, 0.0, 0.0]\n",
      "Press Enter to continue...\n",
      "sg 148\n",
      "[5.4039213269642969, 0.0, 0.0, 0.0, 0.0, 0.0]\n",
      "Press Enter to continue...\n",
      "sg 155\n",
      "[4.4237159514123023, 0.0, 0.0, 0.0, 0.0, 0.0]\n",
      "No structure for sg 155\n",
      "sg 160\n",
      "[5.9663080782218865, 0.0, 0.0, 0.0, 0.0, 0.0]\n",
      "No structure for sg 160\n",
      "sg 161\n",
      "[5.4425698931175646, 0.0, 0.0, 0.0, 0.0, 0.0]\n",
      "No structure for sg 161\n",
      "sg 166\n",
      "[10.209972340390793, 0.0, 0.0, 0.0, 0.0, 0.0]\n",
      "No structure for sg 166\n",
      "sg 167\n",
      "[9.7049669483204024, 0.0, 0.0, 0.0, 0.0, 0.0]\n",
      "No structure for sg 167\n"
     ]
    }
   ],
   "source": [
    "for sg in relevant_sg:\n",
    "    try:\n",
    "        cc = crystals[sg][0]\n",
    "        primitive_atoms,cell_par,inequivalent_pos = get_ibrav5_atoms(cc,sg)\n",
    "        view(cc)\n",
    "        view(primitive_atoms)\n",
    "        print 'sg {}'.format(sg)\n",
    "        print cell_par\n",
    "        raw_input(\"Press Enter to continue...\")\n",
    "    except:\n",
    "        print 'No structure for sg {}'.format(sg)\n",
    "\n"
   ]
  },
  {
   "cell_type": "markdown",
   "metadata": {
    "heading_collapsed": true
   },
   "source": [
    "## ibrav 6\n",
    "6          Tetragonal P (st)               celldm(3)=c/a\n",
    "      v1 = a(1,0,0),  v2 = a(0,1,0),  v3 = a(0,0,c/a)\n",
    "   \n",
    "NO PROBLEM"
   ]
  },
  {
   "cell_type": "code",
   "execution_count": 155,
   "metadata": {
    "hidden": true
   },
   "outputs": [
    {
     "name": "stdout",
     "output_type": "stream",
     "text": [
      "[75, 76, 77, 78, 81, 83, 84, 85, 86, 89, 90, 91, 92, 93, 94, 95, 96, 99, 100, 101, 102, 103, 104, 105, 106, 111, 112, 113, 114, 115, 116, 117, 118, 123, 124, 125, 126, 127, 128, 129, 130, 131, 132, 133, 134, 135, 136, 137, 138]\n"
     ]
    }
   ],
   "source": [
    "relevant_sg = []\n",
    "for key,item in sg2ibrav.iteritems():\n",
    "    if item == 6:\n",
    "        relevant_sg.append(key)\n",
    "print relevant_sg"
   ]
  },
  {
   "cell_type": "markdown",
   "metadata": {
    "hidden": true
   },
   "source": [
    "### investigate the prob"
   ]
  },
  {
   "cell_type": "code",
   "execution_count": 157,
   "metadata": {
    "hidden": true
   },
   "outputs": [
    {
     "name": "stdout",
     "output_type": "stream",
     "text": [
      "[[  7.25210202e+00   2.74015573e-17   1.01732291e-15]\n",
      " [  2.74015573e-17   7.25210202e+00  -6.05728061e-17]\n",
      " [  6.16697386e-16  -4.20613289e-17   4.51294622e+00]]\n",
      "[  7.25210202   7.25210202   4.51294622  90.          90.          90.        ]\n"
     ]
    }
   ],
   "source": [
    "sg = 137\n",
    "cc = crystals[sg][0]\n",
    "print cc.get_cell()\n",
    "print cc.get_cell_lengths_and_angles()\n",
    "Na = cc.get_number_of_atoms()\n",
    "pos = cc.get_scaled_positions()[0]\n",
    "cell_par = cc.get_cell_lengths_and_angles()\n",
    "view(cc)"
   ]
  },
  {
   "cell_type": "markdown",
   "metadata": {
    "heading_collapsed": true
   },
   "source": [
    "## ibrav 7\n",
    "7          Tetragonal I (bct)              \n",
    "celldm(3)=c/a\n",
    "\n",
    "      v1=(a/2)(1,-1,c/a),  v2=(a/2)(1,1,c/a),  v3=(a/2)(-1,-1,c/a)\n",
    "      \n",
    "NOT THE STANDARD PRIMITIVE CELL DEFINITION --> ibrav0"
   ]
  },
  {
   "cell_type": "code",
   "execution_count": 8,
   "metadata": {
    "hidden": true
   },
   "outputs": [
    {
     "name": "stdout",
     "output_type": "stream",
     "text": [
      "[[ 4.90871974 -4.90871974  1.13977778]\n",
      " [ 4.90871974  4.90871974  1.13977778]\n",
      " [-4.90871974 -4.90871974  1.13977778]]\n"
     ]
    }
   ],
   "source": [
    "a = 9.81743949; c = 2.27955556\n",
    "v1 = a/2*np.array([1,-1,c/a]);   v2 = a/2*np.array([1,1,c/a]);  \n",
    "v3 = a/2*np.array([-1,-1,c/a])\n",
    "print np.array([v1,v2,v3])"
   ]
  },
  {
   "cell_type": "code",
   "execution_count": 9,
   "metadata": {
    "hidden": true
   },
   "outputs": [
    {
     "name": "stdout",
     "output_type": "stream",
     "text": [
      "[79, 80, 82, 87, 88, 97, 98, 107, 108, 109, 110, 119, 120, 121, 122, 139, 140, 141, 142]\n"
     ]
    }
   ],
   "source": [
    "relevant_sg = []\n",
    "for key,item in sg2ibrav.iteritems():\n",
    "    if item == 7:\n",
    "        relevant_sg.append(key)\n",
    "print relevant_sg"
   ]
  },
  {
   "cell_type": "markdown",
   "metadata": {
    "heading_collapsed": true,
    "hidden": true
   },
   "source": [
    "### investigate the prob"
   ]
  },
  {
   "cell_type": "code",
   "execution_count": 161,
   "metadata": {
    "hidden": true
   },
   "outputs": [
    {
     "name": "stdout",
     "output_type": "stream",
     "text": [
      "[[  9.81743949e+00   2.49979924e-16   7.59494391e-14]\n",
      " [  2.49979924e-16   9.81743949e+00   1.05824960e-13]\n",
      " [  1.88313871e-14   2.62365279e-14   2.27955556e+00]]\n",
      "[  9.81743949   9.81743949   2.27955556  90.          90.          90.        ]\n"
     ]
    }
   ],
   "source": [
    "sg = 97\n",
    "cc = crystals[sg][0]\n",
    "print cc.get_cell()\n",
    "print cc.get_cell_lengths_and_angles()\n",
    "Na = cc.get_number_of_atoms()\n",
    "pos = cc.get_scaled_positions()[0]\n",
    "cell_par = cc.get_cell_lengths_and_angles()\n",
    "view(cc)"
   ]
  },
  {
   "cell_type": "code",
   "execution_count": 168,
   "metadata": {
    "hidden": true,
    "scrolled": true
   },
   "outputs": [
    {
     "name": "stdout",
     "output_type": "stream",
     "text": [
      "[[-4.90871974  4.90871974  1.13977778]\n",
      " [ 4.90871974 -4.90871974  1.13977778]\n",
      " [ 4.90871974  4.90871974 -1.13977778]]\n",
      "[[ 4.90871974  4.90871974  1.13977778]\n",
      " [-4.90871974 -4.90871974  1.13977778]\n",
      " [ 4.90871974 -4.90871974 -1.13977778]]\n"
     ]
    }
   ],
   "source": [
    "sg = 97\n",
    "cc = crystals[sg][0]\n",
    "(lattice, positions, numbers) = spg.find_primitive(cc, symprec=1e-05, angle_tolerance=-1.0)\n",
    "ee = ase.Atoms(cell=lattice,scaled_positions=positions,numbers=numbers)\n",
    "cell = ee.get_cell()\n",
    "pos = ee.get_positions()\n",
    "v2 = cell[0]\n",
    "axis = [0,0,1]\n",
    "theta = - 90*np.pi/180.\n",
    "rot = rotation_matrix(axis, theta)\n",
    "v2p = np.dot(rot,v2)\n",
    "cellp = np.dot(cell,rot.T)\n",
    "posp = np.dot(pos,rot.T)\n",
    "print cell\n",
    "print cellp"
   ]
  },
  {
   "cell_type": "code",
   "execution_count": 169,
   "metadata": {
    "hidden": true
   },
   "outputs": [
    {
     "name": "stdout",
     "output_type": "stream",
     "text": [
      "[[ 4.90871974 -4.90871974  1.13977778]\n",
      " [ 4.90871974  4.90871974  1.13977778]\n",
      " [-4.90871974 -4.90871974  1.13977778]]\n"
     ]
    }
   ],
   "source": [
    "a = 9.81743949; c = 2.27955556\n",
    "v1 = a/2*np.array([1,-1,c/a]);   v2 = a/2*np.array([1,1,c/a]);  \n",
    "v3 = a/2*np.array([-1,-1,c/a])\n",
    "print np.array([v1,v2,v3])"
   ]
  },
  {
   "cell_type": "code",
   "execution_count": 142,
   "metadata": {
    "hidden": true
   },
   "outputs": [
    {
     "name": "stdout",
     "output_type": "stream",
     "text": [
      "[[ 3.60572805 -2.08176806  1.49473402]\n",
      " [ 0.          4.16353612  1.49473402]\n",
      " [-3.60572805 -2.08176806  1.49473402]]\n",
      "[   4.42371595    4.42371595    4.42371595  109.192587    109.192587\n",
      "  109.192587  ]\n",
      "4.42371595141 -0.328744459329\n"
     ]
    }
   ],
   "source": [
    "cellp[np.abs(cellp)<1e-10] = 0.\n",
    "ee.set_cell(cellp)\n",
    "ee.set_positions(posp)\n",
    "a = ee.get_cell_lengths_and_angles()[0]\n",
    "c = np.cos(ee.get_cell_lengths_and_angles()[3]*np.pi/180.)\n",
    "view(ee)\n",
    "print ee.get_cell()\n",
    "print ee.get_cell_lengths_and_angles()\n",
    "print a,c"
   ]
  },
  {
   "cell_type": "markdown",
   "metadata": {
    "hidden": true
   },
   "source": [
    "### functions to solve it"
   ]
  },
  {
   "cell_type": "code",
   "execution_count": 151,
   "metadata": {
    "code_folding": [],
    "collapsed": true,
    "hidden": true
   },
   "outputs": [],
   "source": [
    "def get_ibrav7_atoms(frame,sg):\n",
    "    import spglib as spg\n",
    "    symprec = get_symprec(frame,sg)\n",
    "    if symprec is None:\n",
    "        print 'Not possible'\n",
    "        return None\n",
    "    (lattice, positions, numbers) = spg.find_primitive(frame, symprec=symprec, angle_tolerance=-1.0)\n",
    "    primitive_atoms = ase.Atoms(cell=lattice,scaled_positions=positions,numbers=numbers)\n",
    "\n",
    "    cell = primitive_atoms.get_cell()\n",
    "    pos = primitive_atoms.get_positions()\n",
    "    \n",
    "    \n",
    "    inequivalent_pos = pos[0]\n",
    "    \n",
    "    primitive_atoms.set_cell(cellp)\n",
    "    primitive_atoms.set_positions(posp)\n",
    "    \n",
    "    a,_,c,_,_,_ = primitive_atoms.get_cell_lengths_and_angles()\n",
    "    # only a is used by QE\n",
    "    b,alpha,beta,gamma = [0.]*4\n",
    "    cell_par = [a,b,c,alpha,beta,gamma]\n",
    "    return primitive_atoms,cell_par,inequivalent_pos"
   ]
  },
  {
   "cell_type": "markdown",
   "metadata": {
    "heading_collapsed": true,
    "hidden": true
   },
   "source": [
    "### check all"
   ]
  },
  {
   "cell_type": "code",
   "execution_count": 153,
   "metadata": {
    "hidden": true
   },
   "outputs": [
    {
     "name": "stdout",
     "output_type": "stream",
     "text": [
      "sg 167\n",
      "[9.7049669483204024, 0.0, 0.0, 119.39306125170683, 0.0, 0.0]\n"
     ]
    }
   ],
   "source": [
    "sg = 167\n",
    "cc = crystals[sg][0]\n",
    "primitive_atoms,cell_par,inequivalent_pos = get_ibrav5_atoms(cc)\n",
    "view(cc)\n",
    "view(primitive_atoms)\n",
    "print 'sg {}'.format(sg)\n",
    "print cell_par\n"
   ]
  },
  {
   "cell_type": "code",
   "execution_count": 154,
   "metadata": {
    "hidden": true
   },
   "outputs": [
    {
     "name": "stdout",
     "output_type": "stream",
     "text": [
      "R-3c (167)\n",
      "R-3c (167)\n"
     ]
    }
   ],
   "source": [
    "symprec = 1e-5\n",
    "print spg.get_spacegroup(cc,symprec=symprec)\n",
    "print spg.get_spacegroup(primitive_atoms,symprec=symprec)"
   ]
  },
  {
   "cell_type": "code",
   "execution_count": 147,
   "metadata": {
    "hidden": true,
    "scrolled": true
   },
   "outputs": [
    {
     "name": "stdout",
     "output_type": "stream",
     "text": [
      "sg 146\n",
      "[3.7820019948990224, 0.0, 0.0, 0.0, 0.0, 0.0]\n",
      "Press Enter to continue...\n",
      "sg 148\n",
      "[5.4039213269642969, 0.0, 0.0, 0.0, 0.0, 0.0]\n",
      "Press Enter to continue...\n",
      "sg 155\n",
      "[4.4237159514123023, 0.0, 0.0, 0.0, 0.0, 0.0]\n",
      "No structure for sg 155\n",
      "sg 160\n",
      "[5.9663080782218865, 0.0, 0.0, 0.0, 0.0, 0.0]\n",
      "No structure for sg 160\n",
      "sg 161\n",
      "[5.4425698931175646, 0.0, 0.0, 0.0, 0.0, 0.0]\n",
      "No structure for sg 161\n",
      "sg 166\n",
      "[10.209972340390793, 0.0, 0.0, 0.0, 0.0, 0.0]\n",
      "No structure for sg 166\n",
      "sg 167\n",
      "[9.7049669483204024, 0.0, 0.0, 0.0, 0.0, 0.0]\n",
      "No structure for sg 167\n"
     ]
    }
   ],
   "source": [
    "for sg in relevant_sg:\n",
    "    try:\n",
    "        cc = crystals[sg][0]\n",
    "        primitive_atoms,cell_par,inequivalent_pos = get_ibrav5_atoms(cc)\n",
    "        view(cc)\n",
    "        view(primitive_atoms)\n",
    "        print 'sg {}'.format(sg)\n",
    "        print cell_par\n",
    "        raw_input(\"Press Enter to continue...\")\n",
    "    except:\n",
    "        print 'No structure for sg {}'.format(sg)\n",
    "\n"
   ]
  },
  {
   "cell_type": "code",
   "execution_count": null,
   "metadata": {
    "collapsed": true,
    "hidden": true
   },
   "outputs": [],
   "source": []
  },
  {
   "cell_type": "markdown",
   "metadata": {
    "heading_collapsed": true
   },
   "source": [
    "## ibrav 8\n",
    "8          Orthorhombic P                  celldm(2)=b/a\n",
    "                                             celldm(3)=c/a\n",
    "                                             \n",
    "      v1 = (a,0,0),  v2 = (0,b,0), v3 = (0,0,c)\n",
    "      \n",
    "PROBLEM -> refine cell"
   ]
  },
  {
   "cell_type": "code",
   "execution_count": 12,
   "metadata": {
    "hidden": true
   },
   "outputs": [
    {
     "name": "stdout",
     "output_type": "stream",
     "text": [
      "[[ 2.21587422  0.          0.        ]\n",
      " [ 0.          8.48205277  0.        ]\n",
      " [ 0.          0.          3.8134843 ]]\n"
     ]
    }
   ],
   "source": [
    "a = 2.21587422;b =  8.48205277; c = 3.8134843\n",
    "v1 = a*np.array([1,0,0]);   v2 = np.array([0,b,0]);  \n",
    "v3 = np.array([0,0,c])\n",
    "print np.array([v1,v2,v3])"
   ]
  },
  {
   "cell_type": "code",
   "execution_count": 120,
   "metadata": {
    "hidden": true
   },
   "outputs": [
    {
     "name": "stdout",
     "output_type": "stream",
     "text": [
      "[16, 17, 18, 19, 25, 26, 27, 28, 29, 30, 31, 32, 33, 34, 47, 48, 49, 50, 51, 52, 53, 54, 55, 56, 57, 58, 59, 60, 61, 62]\n"
     ]
    }
   ],
   "source": [
    "relevant_sg = []\n",
    "for key,item in sg2ibrav.iteritems():\n",
    "    if item == 8:\n",
    "        relevant_sg.append(key)\n",
    "print relevant_sg"
   ]
  },
  {
   "cell_type": "code",
   "execution_count": 118,
   "metadata": {
    "hidden": true
   },
   "outputs": [
    {
     "name": "stdout",
     "output_type": "stream",
     "text": [
      "[[  4.52402677e+00  -1.23243555e-09   1.33360400e-09]\n",
      " [  1.23565798e-09   3.86522577e+00  -6.19755176e-01]\n",
      " [ -1.32583218e-09  -6.99007899e-01   3.85168169e+00]]\n",
      "[   4.52402677    3.91459662    3.91459626  109.39549747   90.           90.        ]\n"
     ]
    }
   ],
   "source": [
    "sg = 47\n",
    "cc = crystals[sg][3]\n",
    "print cc.get_cell()\n",
    "print cc.get_cell_lengths_and_angles()\n",
    "Na = cc.get_number_of_atoms()\n",
    "pos = cc.get_scaled_positions()[0]\n",
    "cell_par = cc.get_cell_lengths_and_angles()\n",
    "view(cc)"
   ]
  },
  {
   "cell_type": "code",
   "execution_count": 126,
   "metadata": {
    "hidden": true
   },
   "outputs": [
    {
     "name": "stdout",
     "output_type": "stream",
     "text": [
      "[[ 2.26220493  0.          0.        ]\n",
      " [ 0.          3.19476042  0.        ]\n",
      " [ 0.          0.          4.52402677]]\n",
      "[  2.26220493   3.19476042   4.52402677  90.          90.          90.        ]\n"
     ]
    }
   ],
   "source": [
    "sg = 47\n",
    "cc = crystals[sg][3]\n",
    "symprec = get_symprec(cc, sg)\n",
    "# (lattice, positions, numbers) = spg.find_primitive(cc, symprec=1e-05, angle_tolerance=-1.0)\n",
    "(lattice, positions, numbers) = spg.refine_cell(cc,symprec=1e-05)\n",
    "# (lattice, positions, numbers) = spg.standardize_cell(\n",
    "#                             cc, to_primitive=False,no_idealize=False,\n",
    "#                             symprec=symprec, angle_tolerance=-1.0)\n",
    "ee = ase.Atoms(cell=lattice,scaled_positions=positions,numbers=numbers)\n",
    "cell = ee.get_cell()\n",
    "pos = ee.get_positions()\n",
    "\n",
    "print cell\n",
    "print ee.get_cell_lengths_and_angles()"
   ]
  },
  {
   "cell_type": "markdown",
   "metadata": {},
   "source": [
    "## ibrav 9\n",
    "9          Orthorhombic base-centered(bco) celldm(2)=b/a\n",
    "                                             celldm(3)=c/a\n",
    "                                             \n",
    "      v1 = (a/2, b/2,0),  v2 = (-a/2,b/2,0),  v3 = (0,0,c)\n",
    "      \n",
    "-9          as 9, alternate description\n",
    "\n",
    "      v1 = (a/2,-b/2,0),  v2 = (a/2, b/2,0),  v3 = (0,0,c)\n",
    "      \n",
    "USE IBRAV=-9 AND PRIMITIVE CELL TRANSFORMATION   \n",
    "\n",
    "UPDATE: IBRAV=-9 is not compatible with spacegroup input -> IBRAV0"
   ]
  },
  {
   "cell_type": "code",
   "execution_count": 104,
   "metadata": {},
   "outputs": [
    {
     "name": "stdout",
     "output_type": "stream",
     "text": [
      "[[ 1.60338723  3.86456482  0.        ]\n",
      " [-1.60338723  3.86456482  0.        ]\n",
      " [ 0.          0.          6.17850825]]\n",
      "45.0665999947 90.0 90.0\n"
     ]
    }
   ],
   "source": [
    "a = 3.20677445;b =  7.72912965; c = 6.17850825 \n",
    "# v1 = 0.5*np.array([a,-b,0]);   \n",
    "# v2 = 0.5*np.array([a,b,0]);  \n",
    "# v3 = np.array([0,0,c])\n",
    "v1 = 0.5*np.array([a,b,0]);   \n",
    "v2 = 0.5*np.array([-a,b,0]);  \n",
    "v3 = np.array([0,0,c])\n",
    "print np.array([v1,v2,v3])\n",
    "print get_relative_angle(v1,v2,radian=False),get_relative_angle(v1,v3,radian=False),get_relative_angle(v3,v2,radian=False)"
   ]
  },
  {
   "cell_type": "code",
   "execution_count": 11,
   "metadata": {},
   "outputs": [
    {
     "name": "stdout",
     "output_type": "stream",
     "text": [
      "[20, 21, 35, 36, 37, 38, 39, 40, 41, 63, 64, 65, 66, 67, 68]\n"
     ]
    }
   ],
   "source": [
    "relevant_sg = []\n",
    "for key,item in sg2ibrav.iteritems():\n",
    "    if item == 9:\n",
    "        relevant_sg.append(key)\n",
    "print relevant_sg"
   ]
  },
  {
   "cell_type": "markdown",
   "metadata": {},
   "source": [
    "### investigate the prob"
   ]
  },
  {
   "cell_type": "code",
   "execution_count": 95,
   "metadata": {},
   "outputs": [
    {
     "name": "stdout",
     "output_type": "stream",
     "text": [
      "[[  3.20677445e+00   1.43959911e-14   1.65889644e-15]\n",
      " [  2.00083219e-14   7.72912965e+00  -2.10309227e-16]\n",
      " [ -4.30211684e-15  -2.13417366e-16   6.17850825e+00]]\n",
      "[  3.20677445   7.72912965   6.17850825  90.          90.          90.        ]\n"
     ]
    }
   ],
   "source": [
    "sg = 68\n",
    "cc = crystals[sg][3]\n",
    "print cc.get_cell()\n",
    "print cc.get_cell_lengths_and_angles()\n",
    "Na = cc.get_number_of_atoms()\n",
    "pos = cc.get_scaled_positions()[0]\n",
    "cell_par = cc.get_cell_lengths_and_angles()\n",
    "view(cc)"
   ]
  },
  {
   "cell_type": "code",
   "execution_count": 111,
   "metadata": {
    "scrolled": true
   },
   "outputs": [
    {
     "name": "stdout",
     "output_type": "stream",
     "text": [
      "[[ 1.60338723 -3.86456482  0.        ]\n",
      " [ 1.60338723  3.86456482  0.        ]\n",
      " [ 0.          0.          6.17850825]]\n",
      "[   4.18398278    4.18398278    6.17850825   90.           90.\n",
      "  134.93339995]\n"
     ]
    }
   ],
   "source": [
    "sg = 68\n",
    "cc = crystals[sg][3]\n",
    "symprec = get_symprec(cc, sg)\n",
    "# (lattice, positions, numbers) = spg.find_primitive(cc, symprec=1e-05, angle_tolerance=-1.0)\n",
    "(lattice, positions, numbers) = spg.standardize_cell(\n",
    "                            cc, to_primitive=True,no_idealize=False,\n",
    "                            symprec=symprec, angle_tolerance=-1.0)\n",
    "ee = ase.Atoms(cell=lattice,scaled_positions=positions,numbers=numbers)\n",
    "cell = ee.get_cell()\n",
    "pos = ee.get_positions()\n",
    "\n",
    "print cell\n",
    "print ee.get_cell_lengths_and_angles()"
   ]
  },
  {
   "cell_type": "code",
   "execution_count": 114,
   "metadata": {},
   "outputs": [
    {
     "name": "stdout",
     "output_type": "stream",
     "text": [
      "[[ 1.60338723 -3.86456482  0.        ]\n",
      " [ 3.20677445  0.          0.        ]\n",
      " [ 0.          0.          6.17850825]]\n",
      "[  4.18398278   3.20677445   6.17850825  90.          90.          67.46669997]\n"
     ]
    }
   ],
   "source": [
    "dd = unskewCell(ee)\n",
    "print dd.get_cell()\n",
    "print dd.get_cell_lengths_and_angles()"
   ]
  },
  {
   "cell_type": "markdown",
   "metadata": {
    "heading_collapsed": true
   },
   "source": [
    "### functions to solve it"
   ]
  },
  {
   "cell_type": "code",
   "execution_count": 86,
   "metadata": {
    "code_folding": [],
    "collapsed": true,
    "hidden": true
   },
   "outputs": [],
   "source": [
    "def get_ibrav9_frame(frame, sg):\n",
    "    symprec = get_symprec(frame, sg)\n",
    "    if symprec is None:\n",
    "        print 'Not possible'\n",
    "        return None\n",
    "    (lattice, positions, numbers) = spg.standardize_cell(\n",
    "                            frame, to_primitive=True,no_idealize=False,\n",
    "                            symprec=symprec, angle_tolerance=-1.0)\n",
    "    primitive_atoms = ase.Atoms(cell=lattice, scaled_positions=positions, numbers=numbers)\n",
    "\n",
    "    pos = primitive_atoms.get_positions()\n",
    "\n",
    "    inequivalent_pos = pos[0]\n",
    "\n",
    "    a, b, c, _, _, _ = primitive_atoms.get_cell_lengths_and_angles()\n",
    "    # only a is used by QE\n",
    "    alpha, beta, gamma = [0.] * 3\n",
    "    cell_par = [a, b, c, alpha, beta, gamma]\n",
    "    return primitive_atoms, cell_par, inequivalent_pos"
   ]
  },
  {
   "cell_type": "markdown",
   "metadata": {},
   "source": [
    "### check all"
   ]
  },
  {
   "cell_type": "code",
   "execution_count": 87,
   "metadata": {},
   "outputs": [
    {
     "data": {
      "text/plain": [
       "69"
      ]
     },
     "execution_count": 87,
     "metadata": {},
     "output_type": "execute_result"
    }
   ],
   "source": [
    "int(spg.get_spacegroup(cc,symprec=1e-3).split(' ')[1][1:-1])"
   ]
  },
  {
   "cell_type": "code",
   "execution_count": 93,
   "metadata": {},
   "outputs": [
    {
     "name": "stdout",
     "output_type": "stream",
     "text": [
      "sg 68\n",
      "[   4.18398278    4.18398278    6.17850825   90.           90.\n",
      "  134.93339995]\n"
     ]
    }
   ],
   "source": [
    "sg = 68\n",
    "cc = crystals[sg][3]\n",
    "primitive_atoms,cell_par,inequivalent_pos = get_ibrav9_frame(cc,sg)\n",
    "# view(cc)\n",
    "view(primitive_atoms)\n",
    "print 'sg {}'.format(sg)\n",
    "print primitive_atoms.get_cell_lengths_and_angles()\n"
   ]
  },
  {
   "cell_type": "code",
   "execution_count": 91,
   "metadata": {},
   "outputs": [
    {
     "name": "stdout",
     "output_type": "stream",
     "text": [
      "Fmmm (69)\n",
      "Fmmm (69)\n"
     ]
    }
   ],
   "source": [
    "symprec = 1e-3\n",
    "print spg.get_spacegroup(cc,symprec=symprec)\n",
    "print spg.get_spacegroup(primitive_atoms,symprec=symprec)"
   ]
  },
  {
   "cell_type": "code",
   "execution_count": 19,
   "metadata": {
    "collapsed": true
   },
   "outputs": [
    {
     "name": "stdout",
     "output_type": "stream",
     "text": [
      "sg 20\n",
      "[2.6649982073776921, 2.6649982073776921, 4.7160166958629146, 0.0, 0.0, 0.0]\n",
      "Press Enter to continue...\n",
      "sg 21\n",
      "[4.1690069584293505, 4.1690069584293505, 3.1600226818471424, 0.0, 0.0, 0.0]\n",
      "Press Enter to continue...\n",
      "sg 35\n",
      "[2.2474941866587579, 2.2474941866587579, 2.1998670905715314, 0.0, 0.0, 0.0]\n",
      "Press Enter to continue...\n",
      "sg 36\n",
      "[3.1447992005676988, 3.1447992005676988, 3.8912346352252323, 0.0, 0.0, 0.0]\n",
      "Press Enter to continue...\n",
      "sg 37\n",
      "[4.5418060211975213, 4.5418060211975213, 2.2821125827075366, 0.0, 0.0, 0.0]\n",
      "Press Enter to continue...\n",
      "sg 38\n",
      "[3.1338742732981419, 3.1338742732981419, 4.432479786791002, 0.0, 0.0, 0.0]\n",
      "Press Enter to continue...\n",
      "sg 39\n",
      "[4.2704818849539832, 4.2704818849539832, 3.8463682540392385, 0.0, 0.0, 0.0]\n",
      "Press Enter to continue...\n",
      "sg 40\n",
      "[2.2523758067186388, 2.2523758067186388, 8.1096037255931535, 0.0, 0.0, 0.0]\n",
      "Press Enter to continue...\n",
      "sg 41\n",
      "[2.2401064064736516, 2.2401064064736516, 7.5060083929890498, 0.0, 0.0, 0.0]\n",
      "Press Enter to continue...\n",
      "sg 63\n",
      "[2.2612070072888382, 2.2612070072888382, 3.6925296780605597, 0.0, 0.0, 0.0]\n",
      "Press Enter to continue...\n",
      "sg 64\n",
      "[4.542646785679838, 4.542646785679838, 4.5655817694295147, 0.0, 0.0, 0.0]\n",
      "Press Enter to continue...\n",
      "sg 65\n",
      "[4.9553467487055096, 4.9553467487055096, 2.2158821531241313, 0.0, 0.0, 0.0]\n",
      "Press Enter to continue...\n",
      "sg 66\n",
      "[4.5217279020369121, 4.5217279020369121, 3.1977570907197106, 0.0, 0.0, 0.0]\n",
      "Press Enter to continue...\n",
      "sg 67\n",
      "[2.2619021807550777, 2.2619021807550777, 3.1952837798481801, 0.0, 0.0, 0.0]\n",
      "Press Enter to continue...\n",
      "sg 68\n",
      "[4.5217273629254766, 4.5217273629254766, 3.1963523843647503, 0.0, 0.0, 0.0]\n",
      "Press Enter to continue...\n"
     ]
    }
   ],
   "source": [
    "for sg in relevant_sg:\n",
    "    try:\n",
    "        cc = crystals[sg][3]\n",
    "        \n",
    "        primitive_atoms,cell_par,inequivalent_pos = get_ibrav9_atoms(cc,sg)\n",
    "        view(cc)\n",
    "        view(primitive_atoms)\n",
    "        print 'sg {}'.format(sg)\n",
    "        print cell_par\n",
    "        raw_input(\"Press Enter to continue...\")\n",
    "    except:\n",
    "        print 'No structure for sg {}'.format(sg)\n",
    "\n"
   ]
  },
  {
   "cell_type": "code",
   "execution_count": null,
   "metadata": {
    "collapsed": true
   },
   "outputs": [],
   "source": []
  },
  {
   "cell_type": "markdown",
   "metadata": {
    "heading_collapsed": true
   },
   "source": [
    "## ibrav 10\n",
    "10          Orthorhombic face-centered      celldm(2)=b/a\n",
    "                                             celldm(3)=c/a\n",
    "                                             \n",
    "      v1 = (a/2,0,c/2),  v2 = (a/2,b/2,0),  v3 = (0,b/2,c/2)\n",
    "\n",
    "NOT STANDARD PRIMITIVE CELL "
   ]
  },
  {
   "cell_type": "code",
   "execution_count": 152,
   "metadata": {
    "hidden": true
   },
   "outputs": [
    {
     "name": "stdout",
     "output_type": "stream",
     "text": [
      "[[ 7.186617    0.          1.52812703]\n",
      " [ 7.186617    1.62630392  0.        ]\n",
      " [ 0.          1.62630392  1.52812703]]\n",
      "[ 7.34728767  7.36833281  2.23159957]\n",
      "17.4441621261 81.8120067773 80.7438310966\n"
     ]
    }
   ],
   "source": [
    "a =14.373234;b =  3.25260783; c =  3.05625406 \n",
    "v1 = 0.5*np.array([a,0,c]);   \n",
    "v2 = 0.5*np.array([a,b,0]);  \n",
    "v3 = 0.5*np.array([0,b,c])\n",
    "print np.array([v1,v2,v3])\n",
    "print np.linalg.norm(np.array([v1,v2,v3]),axis=1)\n",
    "print get_relative_angle(v1,v2,radian=False),get_relative_angle(v1,v3,radian=False),get_relative_angle(v3,v2,radian=False)"
   ]
  },
  {
   "cell_type": "code",
   "execution_count": 21,
   "metadata": {
    "hidden": true
   },
   "outputs": [
    {
     "name": "stdout",
     "output_type": "stream",
     "text": [
      "[22, 42, 43, 69, 70]\n"
     ]
    }
   ],
   "source": [
    "relevant_sg = []\n",
    "for key,item in sg2ibrav.iteritems():\n",
    "    if item == 10:\n",
    "        relevant_sg.append(key)\n",
    "print relevant_sg"
   ]
  },
  {
   "cell_type": "markdown",
   "metadata": {
    "hidden": true
   },
   "source": [
    "### investigate the prob"
   ]
  },
  {
   "cell_type": "code",
   "execution_count": 151,
   "metadata": {
    "hidden": true
   },
   "outputs": [
    {
     "name": "stdout",
     "output_type": "stream",
     "text": [
      "[[  8.86468550e+00  -1.46784157e-14   7.50578510e-14]\n",
      " [ -1.01775700e-14   4.43278654e+00   5.12818624e-17]\n",
      " [  4.03327015e-14   6.09307556e-17   4.43190334e+00]]\n",
      "[  8.8646855    4.43278654   4.43190334  90.          90.          90.        ]\n"
     ]
    }
   ],
   "source": [
    "sg = 42\n",
    "cc = crystals[sg][4]\n",
    "print cc.get_cell()\n",
    "print cc.get_cell_lengths_and_angles()\n",
    "Na = cc.get_number_of_atoms()\n",
    "pos = cc.get_scaled_positions()[0]\n",
    "cell_par = cc.get_cell_lengths_and_angles()\n",
    "view(cc)"
   ]
  },
  {
   "cell_type": "code",
   "execution_count": 153,
   "metadata": {
    "hidden": true,
    "scrolled": true
   },
   "outputs": [
    {
     "name": "stdout",
     "output_type": "stream",
     "text": [
      "[[ 0.          2.21639327  4.43234275]\n",
      " [ 2.21595167  0.          4.43234275]\n",
      " [ 2.21595167  2.21639327  0.        ]]\n",
      "[[ 1.91945288  1.10819664  4.43234275]\n",
      " [ 1.10797584 -1.91907044  4.43234275]\n",
      " [ 3.02742871 -0.81087381  0.        ]]\n",
      "[  4.95560909   4.9554116    3.13414118  71.56846865  71.56161851\n",
      "  36.86991284]\n",
      "[   3.13414118    4.9554116     3.13414118   71.56846865   89.9885831\n",
      "  108.43153135]\n"
     ]
    }
   ],
   "source": [
    "sg = 42\n",
    "cc = crystals[sg][4]\n",
    "(lattice, positions, numbers) = spg.find_primitive(cc, symprec=1e-05, angle_tolerance=-1.0)\n",
    "ee = ase.Atoms(cell=lattice,scaled_positions=positions,numbers=numbers)\n",
    "cell = ee.get_cell()\n",
    "pos = ee.get_positions()\n",
    "v2 = cell[0]\n",
    "axis = [0,0,1]\n",
    "theta = - 60*np.pi/180.\n",
    "rot = rotation_matrix(axis, theta)\n",
    "v2p = np.dot(rot,v2)\n",
    "cellp = np.dot(cell,rot.T)\n",
    "posp = np.dot(pos,rot.T)\n",
    "print cell\n",
    "print cellp\n",
    "print ee.get_cell_lengths_and_angles()\n",
    "ff = unskewCell(ee)\n",
    "print ff.get_cell_lengths_and_angles()\n",
    "view(ff)"
   ]
  },
  {
   "cell_type": "markdown",
   "metadata": {
    "heading_collapsed": true,
    "hidden": true
   },
   "source": [
    "### functions to solve it"
   ]
  },
  {
   "cell_type": "code",
   "execution_count": 98,
   "metadata": {
    "code_folding": [],
    "collapsed": true,
    "hidden": true
   },
   "outputs": [],
   "source": [
    "def get_ibrav0_atoms(frame,sg):\n",
    "    import spglib as spg\n",
    "    symprec = get_symprec(frame,sg)\n",
    "    if symprec is None:\n",
    "        print 'Not possible'\n",
    "        return None\n",
    "    (lattice, positions, numbers) = spg.find_primitive(frame, symprec=symprec, angle_tolerance=-1.0)\n",
    "    primitive_atoms = ase.Atoms(cell=lattice,scaled_positions=positions,numbers=numbers)\n",
    "    \n",
    "    cell = primitive_atoms.get_cell()\n",
    "    pos = primitive_atoms.get_positions()\n",
    "    \n",
    "    inequivalent_pos = pos[0]\n",
    "    \n",
    "    cell_par = primitive_atoms.get_cell_lengths_and_angles()\n",
    "    return primitive_atoms,cell_par,inequivalent_pos"
   ]
  },
  {
   "cell_type": "markdown",
   "metadata": {
    "heading_collapsed": true
   },
   "source": [
    "## ibrav 11\n",
    "11          Orthorhombic body-centered      celldm(2)=b/a\n",
    "                                             celldm(3)=c/a\n",
    "                                             \n",
    "      v1=(a/2,b/2,c/2),  v2=(-a/2,b/2,c/2),  v3=(-a/2,-b/2,c/2)\n",
    "      \n",
    "      NOT STANDARD PRIMITIVE CELL "
   ]
  },
  {
   "cell_type": "code",
   "execution_count": 150,
   "metadata": {
    "hidden": true
   },
   "outputs": [
    {
     "name": "stdout",
     "output_type": "stream",
     "text": [
      "[[ 1.12823755  3.76785808  3.59457525]\n",
      " [-1.12823755  3.76785808  3.59457525]\n",
      " [-1.12823755 -3.76785808  3.59457525]]\n",
      "[ 5.32828731  5.32828731  5.32828731]\n",
      "24.4492524307 95.1505275281 90.0057785886\n"
     ]
    }
   ],
   "source": [
    "a,b,c = [2.2564751 ,   7.53571616 ,  7.18915049]\n",
    "v1 = 0.5*np.array([a,b,c]);   \n",
    "v2 = 0.5*np.array([-a,b,c]);  \n",
    "v3 = 0.5*np.array([-a,-b,c])\n",
    "print np.array([v1,v2,v3])\n",
    "print np.linalg.norm(np.array([v1,v2,v3]),axis=1)\n",
    "print get_relative_angle(v1,v2,radian=False),get_relative_angle(v1,v3,radian=False),get_relative_angle(v3,v2,radian=False)"
   ]
  },
  {
   "cell_type": "code",
   "execution_count": 146,
   "metadata": {
    "hidden": true
   },
   "outputs": [
    {
     "name": "stdout",
     "output_type": "stream",
     "text": [
      "[23, 24, 44, 45, 46, 71, 72, 73, 74]\n"
     ]
    }
   ],
   "source": [
    "relevant_sg = []\n",
    "for key,item in sg2ibrav.iteritems():\n",
    "    if item == 11:\n",
    "        relevant_sg.append(key)\n",
    "print relevant_sg"
   ]
  },
  {
   "cell_type": "markdown",
   "metadata": {
    "hidden": true
   },
   "source": [
    "### investigate the prob"
   ]
  },
  {
   "cell_type": "code",
   "execution_count": 147,
   "metadata": {
    "hidden": true
   },
   "outputs": [
    {
     "name": "stdout",
     "output_type": "stream",
     "text": [
      "[[  2.25647510e+00  -1.07309529e-14   5.90204215e-18]\n",
      " [ -3.10996574e-14   7.53571616e+00  -4.41210014e-13]\n",
      " [  3.41551919e-17  -4.62107828e-13   7.18915049e+00]]\n",
      "[  2.2564751    7.53571616   7.18915049  90.          90.          90.        ]\n"
     ]
    }
   ],
   "source": [
    "sg = 24\n",
    "cc = crystals[sg][4]\n",
    "print cc.get_cell()\n",
    "print cc.get_cell_lengths_and_angles()\n",
    "Na = cc.get_number_of_atoms()\n",
    "pos = cc.get_scaled_positions()[0]\n",
    "cell_par = cc.get_cell_lengths_and_angles()\n",
    "view(cc)"
   ]
  },
  {
   "cell_type": "code",
   "execution_count": 149,
   "metadata": {
    "hidden": true,
    "scrolled": true
   },
   "outputs": [
    {
     "name": "stdout",
     "output_type": "stream",
     "text": [
      "[[-1.12823755  3.59457525  3.76785808]\n",
      " [ 1.12823755 -3.59457525  3.76785808]\n",
      " [ 1.12823755  3.59457525 -3.76785808]]\n",
      "[[ 2.5488747   2.77437     3.76785808]\n",
      " [-2.5488747  -2.77437     3.76785808]\n",
      " [ 3.67711225  0.82020524 -3.76785808]]\n",
      "[   5.32828731    5.32828731    5.32828731  155.55074756   95.15052749\n",
      "   89.99422145]\n",
      "[   5.32828731    5.32828731    2.2564751    77.77537378  102.22462622\n",
      "   89.99422145]\n"
     ]
    }
   ],
   "source": [
    "sg = 24\n",
    "cc = crystals[sg][4]\n",
    "(lattice, positions, numbers) = spg.find_primitive(cc, symprec=1e-05, angle_tolerance=-1.0)\n",
    "ee = ase.Atoms(cell=lattice,scaled_positions=positions,numbers=numbers)\n",
    "cell = ee.get_cell()\n",
    "pos = ee.get_positions()\n",
    "v2 = cell[0]\n",
    "axis = [0,0,1]\n",
    "theta = - 60*np.pi/180.\n",
    "rot = rotation_matrix(axis, theta)\n",
    "v2p = np.dot(rot,v2)\n",
    "cellp = np.dot(cell,rot.T)\n",
    "posp = np.dot(pos,rot.T)\n",
    "print cell\n",
    "print cellp\n",
    "print ee.get_cell_lengths_and_angles()\n",
    "ff = unskewCell(ee)\n",
    "print ff.get_cell_lengths_and_angles()\n",
    "view(ff)"
   ]
  },
  {
   "cell_type": "code",
   "execution_count": 142,
   "metadata": {
    "hidden": true
   },
   "outputs": [
    {
     "name": "stdout",
     "output_type": "stream",
     "text": [
      "[[ 3.60572805 -2.08176806  1.49473402]\n",
      " [ 0.          4.16353612  1.49473402]\n",
      " [-3.60572805 -2.08176806  1.49473402]]\n",
      "[   4.42371595    4.42371595    4.42371595  109.192587    109.192587\n",
      "  109.192587  ]\n",
      "4.42371595141 -0.328744459329\n"
     ]
    }
   ],
   "source": [
    "cellp[np.abs(cellp)<1e-10] = 0.\n",
    "ee.set_cell(cellp)\n",
    "ee.set_positions(posp)\n",
    "a = ee.get_cell_lengths_and_angles()[0]\n",
    "c = np.cos(ee.get_cell_lengths_and_angles()[3]*np.pi/180.)\n",
    "view(ee)\n",
    "print ee.get_cell()\n",
    "print ee.get_cell_lengths_and_angles()\n",
    "print a,c"
   ]
  },
  {
   "cell_type": "markdown",
   "metadata": {
    "hidden": true
   },
   "source": [
    "### functions to solve it"
   ]
  },
  {
   "cell_type": "code",
   "execution_count": 87,
   "metadata": {
    "code_folding": [],
    "collapsed": true,
    "hidden": true
   },
   "outputs": [],
   "source": [
    "def get_ibrav11_atoms(frame,sg):\n",
    "    import spglib as spg\n",
    "    symprec = get_symprec(frame,sg)\n",
    "    if symprec is None:\n",
    "        print 'Not possible'\n",
    "        return None\n",
    "    (lattice, positions, numbers) = spg.find_primitive(frame, symprec=symprec, angle_tolerance=-1.0)\n",
    "    primitive_atoms = ase.Atoms(cell=lattice,scaled_positions=positions,numbers=numbers)\n",
    "\n",
    "    cell = primitive_atoms.get_cell()\n",
    "    pos = primitive_atoms.get_positions()\n",
    "    \n",
    "    inequivalent_pos = pos[0]\n",
    "    \n",
    "    a,b,c,alpha,beta,gamma = primitive_atoms.get_cell_lengths_and_angles()\n",
    "    # only a is used by QE\n",
    "    \n",
    "    cell_par = [a,b,c,alpha,beta,gamma]\n",
    "    return primitive_atoms,cell_par,inequivalent_pos"
   ]
  },
  {
   "cell_type": "markdown",
   "metadata": {
    "heading_collapsed": true
   },
   "source": [
    "## ibrav 12\n",
    "12          Monoclinic P, unique axis c     celldm(2)=b/a\n",
    "                                             celldm(3)=c/a,\n",
    "                                             celldm(4)=cos(ab)\n",
    "                                             \n",
    "      v1=(a,0,0), v2=(b*cos(gamma),b*sin(gamma),0),  v3 = (0,0,c)\n",
    "      \n",
    "      where gamma is the angle between axis a and b.\n",
    "      \n",
    "-12          Monoclinic P, unique axis b     celldm(2)=b/a\n",
    "                                             celldm(3)=c/a,\n",
    "                                             celldm(5)=cos(ac)\n",
    "                                             \n",
    "      v1 = (a,0,0), v2 = (0,b,0), v3 = (c*cos(beta),0,c*sin(beta))\n",
    "      \n",
    "      where beta is the angle between axis a and c\n",
    "\n",
    "go to rotation of the cell and -12"
   ]
  },
  {
   "cell_type": "code",
   "execution_count": 67,
   "metadata": {
    "hidden": true
   },
   "outputs": [
    {
     "name": "stdout",
     "output_type": "stream",
     "text": [
      "[[ 3.89150141  0.          0.        ]\n",
      " [ 0.          4.39989082  0.        ]\n",
      " [ 3.89303597  0.          2.24751472]]\n",
      "90.0 29.99855789 90.0\n"
     ]
    }
   ],
   "source": [
    "d2r = np.pi / 180.\n",
    "a,b,c,alpha,beta,gamma = [  3.89150141 ,  4.39989082 ,  4.49522541 , 90.      ,    29.99855789 , 90.       ]\n",
    "# v1 = np.array([a,0,0]);   \n",
    "# v2 = np.array([b*np.cos(beta*d2r),b*np.sin(beta*d2r),0])\n",
    "# v3 = np.array([0,0,c]);  \n",
    "v1 = np.array([a,0,0]);   \n",
    "v2 = np.array([0,b,0])\n",
    "v3 = np.array([c*np.cos(beta*d2r),0,c*np.sin(beta*d2r)]);  \n",
    "print np.array([v1,v2,v3])\n",
    "print get_relative_angle(v1,v2,radian=False),get_relative_angle(v1,v3,radian=False),get_relative_angle(v3,v2,radian=False)"
   ]
  },
  {
   "cell_type": "code",
   "execution_count": 72,
   "metadata": {
    "hidden": true
   },
   "outputs": [
    {
     "name": "stdout",
     "output_type": "stream",
     "text": [
      "[3, 4, 6, 7, 10, 11, 13, 14]\n"
     ]
    }
   ],
   "source": [
    "relevant_sg = []\n",
    "for key,item in sg2ibrav.iteritems():\n",
    "    if item == -12:\n",
    "        relevant_sg.append(key)\n",
    "print relevant_sg"
   ]
  },
  {
   "cell_type": "markdown",
   "metadata": {
    "heading_collapsed": true,
    "hidden": true
   },
   "source": [
    "### investigate the prob"
   ]
  },
  {
   "cell_type": "code",
   "execution_count": 174,
   "metadata": {
    "hidden": true
   },
   "outputs": [
    {
     "name": "stdout",
     "output_type": "stream",
     "text": [
      "[[  2.24751524e+00   0.00000000e+00   0.00000000e+00]\n",
      " [  0.00000000e+00   4.39989082e+00   0.00000000e+00]\n",
      " [ -2.65704282e-03   0.00000000e+00   3.89150050e+00]]\n",
      "90.0 90.0391204667 90.0\n"
     ]
    }
   ],
   "source": [
    "(lattice, positions, numbers) = spg.refine_cell(cc,symprec=1e-05)\n",
    "v1,v2,v3 = lattice\n",
    "print lattice\n",
    "print get_relative_angle(v1,v2,radian=False),get_relative_angle(v1,v3,radian=False),get_relative_angle(v3,v2,radian=False)\n",
    "primitive_atoms = ase.Atoms(cell=lattice,scaled_positions=positions,numbers=numbers)\n",
    "view(primitive_atoms)\n",
    "view(cc)"
   ]
  },
  {
   "cell_type": "code",
   "execution_count": 169,
   "metadata": {
    "hidden": true
   },
   "outputs": [
    {
     "name": "stdout",
     "output_type": "stream",
     "text": [
      "[[ 3.8692221   0.          0.41581676]\n",
      " [ 0.          4.39989082  0.        ]\n",
      " [ 3.63059525  0.          2.65062816]]\n",
      "[  3.89150141   4.39989082   4.49522541  90.          29.99855789  90.        ]\n",
      "[[ 3.89150141  0.          0.        ]\n",
      " [ 0.          4.39989082  0.        ]\n",
      " [ 3.89303597  0.          2.24751472]]\n"
     ]
    }
   ],
   "source": [
    "sg = 10\n",
    "cc =  crystals[sg][0]\n",
    "# cc = unskewCell( crystals[sg][0])\n",
    "cell = cc.get_cell()\n",
    "cell[np.abs(cell)<1e-10] = 0.\n",
    "print cell\n",
    "print cc.get_cell_lengths_and_angles()\n",
    "Na = cc.get_number_of_atoms()\n",
    "pos = cc.get_scaled_positions()[0]\n",
    "cell_par = cc.get_cell_lengths_and_angles()\n",
    "#view(cc)\n",
    "axis = [0,1,0]\n",
    "theta = get_relative_angle(cell[0],[1,0,0],radian=True)\n",
    "rot = rotation_matrix(axis, theta)\n",
    "cellp = np.dot(cell,rot.T)\n",
    "cellp[np.abs(cellp)<1e-10] = 0.\n",
    "print cellp"
   ]
  },
  {
   "cell_type": "code",
   "execution_count": 137,
   "metadata": {
    "hidden": true
   },
   "outputs": [
    {
     "data": {
      "text/plain": [
       "17.115409396517464"
      ]
     },
     "execution_count": 137,
     "metadata": {},
     "output_type": "execute_result"
    }
   ],
   "source": [
    "get_relative_angle(cell[0],[1,0,0],radian=False)"
   ]
  },
  {
   "cell_type": "markdown",
   "metadata": {
    "heading_collapsed": true,
    "hidden": true
   },
   "source": [
    "### functions to solve it"
   ]
  },
  {
   "cell_type": "code",
   "execution_count": 73,
   "metadata": {
    "code_folding": [],
    "collapsed": true,
    "hidden": true
   },
   "outputs": [],
   "source": [
    "def get_ibrav12_frame(frame, sg):\n",
    "    symprec = get_symprec(frame, sg)\n",
    "    if symprec is None:\n",
    "        print 'Not possible'\n",
    "        return None\n",
    "    (lattice, positions, numbers) = spg.standardize_cell(\n",
    "                            frame, to_primitive=False,no_idealize=False,\n",
    "                            symprec=symprec, angle_tolerance=-1.0)\n",
    "    primitive_atoms = ase.Atoms(cell=lattice, scaled_positions=positions, numbers=numbers)\n",
    "\n",
    "\n",
    "    pos = primitive_atoms.get_positions()\n",
    "\n",
    "    inequivalent_pos = pos[0]\n",
    "\n",
    "    cell_par = primitive_atoms.get_cell_lengths_and_angles()\n",
    "    return primitive_atoms, cell_par, inequivalent_pos"
   ]
  },
  {
   "cell_type": "markdown",
   "metadata": {
    "hidden": true
   },
   "source": [
    "### check all"
   ]
  },
  {
   "cell_type": "code",
   "execution_count": 74,
   "metadata": {
    "hidden": true
   },
   "outputs": [
    {
     "data": {
      "text/plain": [
       "69"
      ]
     },
     "execution_count": 74,
     "metadata": {},
     "output_type": "execute_result"
    }
   ],
   "source": [
    "int(spg.get_spacegroup(cc,symprec=1e-3).split(' ')[1][1:-1])"
   ]
  },
  {
   "cell_type": "code",
   "execution_count": 76,
   "metadata": {
    "hidden": true
   },
   "outputs": [
    {
     "name": "stdout",
     "output_type": "stream",
     "text": [
      "sg 10\n",
      "[  2.24751524   4.39989082   3.89150141  90.          90.03912047  90.        ]\n"
     ]
    }
   ],
   "source": [
    "sg = 10\n",
    "cc = crystals[sg][0]\n",
    "primitive_atoms,cell_par,inequivalent_pos = get_ibrav12_frame(cc,sg)\n",
    "view(cc)\n",
    "view(primitive_atoms)\n",
    "print 'sg {}'.format(sg)\n",
    "print cell_par\n"
   ]
  },
  {
   "cell_type": "code",
   "execution_count": 77,
   "metadata": {
    "hidden": true
   },
   "outputs": [
    {
     "name": "stdout",
     "output_type": "stream",
     "text": [
      "P2/m (10)\n",
      "P2/m (10)\n"
     ]
    }
   ],
   "source": [
    "symprec = 1e-3\n",
    "print spg.get_spacegroup(cc,symprec=symprec)\n",
    "print spg.get_spacegroup(primitive_atoms,symprec=symprec)"
   ]
  },
  {
   "cell_type": "code",
   "execution_count": 79,
   "metadata": {
    "hidden": true
   },
   "outputs": [
    {
     "name": "stdout",
     "output_type": "stream",
     "text": [
      "sg 3\n",
      "[  2.24563515   2.19916736   3.8925369   90.          90.01838927  90.        ]\n",
      "[[  2.24563515e+00   0.00000000e+00   0.00000000e+00]\n",
      " [  0.00000000e+00   2.19916736e+00   0.00000000e+00]\n",
      " [ -1.24932240e-03   0.00000000e+00   3.89253670e+00]]\n",
      "Press Enter to continue...\n",
      "sg 4\n",
      "[  2.26207006   2.26079637   3.19911424  90.          90.02059709  90.        ]\n",
      "[[  2.26207006e+00   0.00000000e+00   0.00000000e+00]\n",
      " [  0.00000000e+00   2.26079637e+00   0.00000000e+00]\n",
      " [ -1.15004001e-03   0.00000000e+00   3.19911403e+00]]\n",
      "Press Enter to continue...\n",
      "sg 6\n",
      "[   2.24605238    4.4025935     2.24682181   90.          119.97661982\n",
      "   90.        ]\n",
      "[[ 2.24605238  0.          0.        ]\n",
      " [ 0.          4.4025935   0.        ]\n",
      " [-1.12261681  0.          1.94626303]]\n",
      "Press Enter to continue...\n",
      "sg 7\n",
      "[   2.25963971    2.25914046    3.91576514   90.          125.19854566\n",
      "   90.        ]\n",
      "[[ 2.25963971  0.          0.        ]\n",
      " [ 0.          2.25914046  0.        ]\n",
      " [-2.25709235  0.          3.1998048 ]]\n",
      "Press Enter to continue...\n",
      "sg 10\n",
      "[  2.24751524   4.39989082   3.89150141  90.          90.03912047  90.        ]\n",
      "[[  2.24751524e+00   0.00000000e+00   0.00000000e+00]\n",
      " [  0.00000000e+00   4.39989082e+00   0.00000000e+00]\n",
      " [ -2.65704282e-03   0.00000000e+00   3.89150050e+00]]\n",
      "Press Enter to continue...\n",
      "sg 11\n",
      "[  2.26025644   2.25989023   3.20100675  90.          90.00017776  90.        ]\n",
      "[[  2.26025644e+00   0.00000000e+00   0.00000000e+00]\n",
      " [  0.00000000e+00   2.25989023e+00   0.00000000e+00]\n",
      " [ -9.93116347e-06   0.00000000e+00   3.20100675e+00]]\n",
      "Press Enter to continue...\n",
      "sg 13\n",
      "[  8.17738342   2.27668139   3.94590862  90.          98.89458952  90.        ]\n",
      "[[ 8.17738342  0.          0.        ]\n",
      " [ 0.          2.27668139  0.        ]\n",
      " [-0.61010491  0.          3.89845698]]\n",
      "Press Enter to continue...\n",
      "sg 14\n",
      "[  8.19930322   2.25253067   4.51118188  90.          92.48030393  90.        ]\n",
      "[[ 8.19930322  0.          0.        ]\n",
      " [ 0.          2.25253067  0.        ]\n",
      " [-0.19522568  0.          4.50695561]]\n",
      "Press Enter to continue...\n"
     ]
    }
   ],
   "source": [
    "for sg in relevant_sg:\n",
    "    try:\n",
    "        cc = crystals[sg][0]\n",
    "        \n",
    "        primitive_atoms,cell_par,inequivalent_pos = get_ibrav12_frame(cc,sg)\n",
    "        view(cc)\n",
    "        view(primitive_atoms)\n",
    "        print 'sg {}'.format(sg)\n",
    "        print cell_par\n",
    "        print primitive_atoms.get_cell()\n",
    "        raw_input(\"Press Enter to continue...\")\n",
    "    except:\n",
    "        print 'No structure for sg {}'.format(sg)\n"
   ]
  },
  {
   "cell_type": "code",
   "execution_count": null,
   "metadata": {
    "collapsed": true,
    "hidden": true
   },
   "outputs": [],
   "source": []
  },
  {
   "cell_type": "markdown",
   "metadata": {},
   "source": [
    "## ibrav 13\n",
    "13          Monoclinic base-centered        celldm(2)=b/a\n",
    "                                             celldm(3)=c/a,\n",
    "                                             celldm(4)=cos(ab)\n",
    "                                             \n",
    "      v1 = (  a/2,         0,                -c/2),\n",
    "      \n",
    "      v2 = (b*cos(gamma), b*sin(gamma), 0),\n",
    "      \n",
    "      v3 = (  a/2,         0,                  c/2),\n",
    "      \n",
    "      where gamma is the angle between axis a and b\n",
    "\n",
    "        ibrav0"
   ]
  },
  {
   "cell_type": "markdown",
   "metadata": {},
   "source": [
    "[len(a), len(b), len(c), angle(a,b), angle(a,c), angle(b,c)]"
   ]
  },
  {
   "cell_type": "code",
   "execution_count": 81,
   "metadata": {},
   "outputs": [
    {
     "name": "stdout",
     "output_type": "stream",
     "text": [
      "[[ 1.95665407  0.         -1.59662728]\n",
      " [ 3.69320811  2.61631482  0.        ]\n",
      " [ 1.95665407  0.          1.59662728]]\n",
      "50.7858696701 78.4288044502 50.7858696701\n"
     ]
    }
   ],
   "source": [
    "d2r = np.pi / 180.\n",
    "a,b,c,alpha,beta,gamma = [3.91330814 ,  4.52602357  , 3.19325456 , 90.   ,       35.31423407 , 90.    ]\n",
    "v1 = np.array([a/2.,0,-c/2.]);   \n",
    "v2 = np.array([b*np.cos(beta*d2r),b*np.sin(beta*d2r),0])\n",
    "v3 = np.array([a/2.,0,c/2.]);  \n",
    "print np.array([v1,v2,v3])\n",
    "print get_relative_angle(v1,v2,radian=False),get_relative_angle(v1,v3,radian=False),get_relative_angle(v3,v2,radian=False)"
   ]
  },
  {
   "cell_type": "code",
   "execution_count": 82,
   "metadata": {},
   "outputs": [
    {
     "name": "stdout",
     "output_type": "stream",
     "text": [
      "[5, 8, 9, 12, 15]\n"
     ]
    }
   ],
   "source": [
    "relevant_sg = []\n",
    "for key,item in sg2ibrav.iteritems():\n",
    "    if item == 13:\n",
    "        relevant_sg.append(key)\n",
    "print relevant_sg"
   ]
  },
  {
   "cell_type": "markdown",
   "metadata": {},
   "source": [
    "### investigate the prob"
   ]
  },
  {
   "cell_type": "code",
   "execution_count": 187,
   "metadata": {},
   "outputs": [
    {
     "name": "stdout",
     "output_type": "stream",
     "text": [
      "[[  3.89221850e+00   1.46737067e-16   4.05728750e-01]\n",
      " [  3.59362983e-17   4.52602357e+00  -2.78845593e-17]\n",
      " [  2.40025319e+00   6.44164412e-17   2.10610049e+00]]\n",
      "[  3.91330814   4.52602357   3.19325456  90.          35.31423407  90.        ]\n"
     ]
    }
   ],
   "source": [
    "sg = 8\n",
    "cc = crystals[sg][0]\n",
    "print cc.get_cell()\n",
    "print cc.get_cell_lengths_and_angles()\n",
    "Na = cc.get_number_of_atoms()\n",
    "pos = cc.get_scaled_positions()[0]\n",
    "cell_par = cc.get_cell_lengths_and_angles()\n",
    "view(cc)"
   ]
  },
  {
   "cell_type": "code",
   "execution_count": 185,
   "metadata": {},
   "outputs": [
    {
     "data": {
      "text/plain": [
       "u'C2/m (12)'"
      ]
     },
     "execution_count": 185,
     "metadata": {},
     "output_type": "execute_result"
    }
   ],
   "source": [
    "spg.get_spacegroup(cc,symprec=1e-5)"
   ]
  },
  {
   "cell_type": "code",
   "execution_count": 186,
   "metadata": {
    "collapsed": true
   },
   "outputs": [],
   "source": [
    "ff = unskewCell(cc)\n",
    "view(ff)"
   ]
  },
  {
   "cell_type": "code",
   "execution_count": 180,
   "metadata": {},
   "outputs": [
    {
     "name": "stdout",
     "output_type": "stream",
     "text": [
      "[[ 3.91330814  0.          0.        ]\n",
      " [ 0.          2.26301179  0.        ]\n",
      " [-1.30763156  0.          1.84589388]]\n",
      "90.0 125.31376392 90.0\n"
     ]
    }
   ],
   "source": [
    "sg = 8\n",
    "cc = crystals[sg][0]\n",
    "(lattice, positions, numbers) = spg.refine_cell(cc,symprec=1e-05)\n",
    "v1,v2,v3 = lattice\n",
    "print lattice\n",
    "print get_relative_angle(v1,v2,radian=False),get_relative_angle(v1,v3,radian=False),get_relative_angle(v3,v2,radian=False)\n",
    "primitive_atoms = ase.Atoms(cell=lattice,scaled_positions=positions,numbers=numbers)\n",
    "view(primitive_atoms)\n",
    "view(cc)"
   ]
  },
  {
   "cell_type": "code",
   "execution_count": 113,
   "metadata": {
    "scrolled": true
   },
   "outputs": [
    {
     "name": "stdout",
     "output_type": "stream",
     "text": [
      "[   2.26026564    2.26026564    2.26212832  120.02688112  120.02688112\n",
      "   60.08039791]\n",
      "[[ 1.95665407 -1.13150589  0.        ]\n",
      " [ 1.95665407  1.13150589  0.        ]\n",
      " [-1.30763156  0.          1.84589388]]\n",
      "[[ -1.58581152e-03  -2.26026508e+00   0.00000000e+00]\n",
      " [  1.95823988e+00  -1.12875919e+00   0.00000000e+00]\n",
      " [ -6.53815782e-01   1.13244215e+00   1.84589388e+00]]\n"
     ]
    }
   ],
   "source": [
    "sg = 8\n",
    "cc = crystals[sg][0]\n",
    "(lattice, positions, numbers) = spg.find_primitive(cc, symprec=1e-05, angle_tolerance=-1.0)\n",
    "ee = ase.Atoms(cell=lattice,scaled_positions=positions,numbers=numbers)\n",
    "print ee.get_cell_lengths_and_angles()\n",
    "cell = ee.get_cell()\n",
    "pos = ee.get_positions()\n",
    "v2 = cell[0]\n",
    "axis = [0,0,1]\n",
    "theta = - 60*np.pi/180.\n",
    "rot = rotation_matrix(axis, theta)\n",
    "v2p = np.dot(rot,v2)\n",
    "cellp = np.dot(cell,rot.T)\n",
    "posp = np.dot(pos,rot.T)\n",
    "print cell\n",
    "print cellp"
   ]
  },
  {
   "cell_type": "code",
   "execution_count": 139,
   "metadata": {},
   "outputs": [
    {
     "name": "stdout",
     "output_type": "stream",
     "text": [
      "[[ 3.60572805 -2.08176806  1.49473402]\n",
      " [ 0.          4.16353612  1.49473402]\n",
      " [-3.60572805 -2.08176806  1.49473402]]\n"
     ]
    }
   ],
   "source": [
    "a = 4.42371595; c = np.cos(109.192587*np.pi/180.)\n",
    "tx = np.sqrt((1-c)/2); ty = np.sqrt((1-c)/6); tz = np.sqrt((1+2*c)/3)\n",
    "v1 = a*np.array([tx,-ty,tz]);   v2 = a*np.array([0,2*ty,tz]);   v3 = a*np.array([-tx,-ty,tz])\n",
    "print np.array([v1,v2,v3])"
   ]
  },
  {
   "cell_type": "code",
   "execution_count": 142,
   "metadata": {},
   "outputs": [
    {
     "name": "stdout",
     "output_type": "stream",
     "text": [
      "[[ 3.60572805 -2.08176806  1.49473402]\n",
      " [ 0.          4.16353612  1.49473402]\n",
      " [-3.60572805 -2.08176806  1.49473402]]\n",
      "[   4.42371595    4.42371595    4.42371595  109.192587    109.192587\n",
      "  109.192587  ]\n",
      "4.42371595141 -0.328744459329\n"
     ]
    }
   ],
   "source": [
    "cellp[np.abs(cellp)<1e-10] = 0.\n",
    "ee.set_cell(cellp)\n",
    "ee.set_positions(posp)\n",
    "a = ee.get_cell_lengths_and_angles()[0]\n",
    "c = np.cos(ee.get_cell_lengths_and_angles()[3]*np.pi/180.)\n",
    "view(ee)\n",
    "print ee.get_cell()\n",
    "print ee.get_cell_lengths_and_angles()\n",
    "print a,c"
   ]
  },
  {
   "cell_type": "code",
   "execution_count": 83,
   "metadata": {
    "collapsed": true
   },
   "outputs": [],
   "source": [
    "def get_ibrav0_frame(frame, sg):\n",
    "    symprec = get_symprec(frame, sg)\n",
    "    if symprec is None:\n",
    "        print 'Not possible'\n",
    "        return None\n",
    "    (lattice, positions, numbers) = spg.standardize_cell(\n",
    "                            frame, to_primitive=True,no_idealize=False,\n",
    "                            symprec=symprec, angle_tolerance=-1.0)\n",
    "    primitive_atoms = ase.Atoms(cell=lattice, scaled_positions=positions, numbers=numbers)\n",
    "\n",
    "    cell = primitive_atoms.get_cell()\n",
    "    pos = primitive_atoms.get_positions()\n",
    "\n",
    "    inequivalent_pos = pos[0]\n",
    "\n",
    "    return primitive_atoms, cell, inequivalent_pos"
   ]
  },
  {
   "cell_type": "markdown",
   "metadata": {
    "heading_collapsed": true
   },
   "source": [
    "### check all"
   ]
  },
  {
   "cell_type": "code",
   "execution_count": 84,
   "metadata": {
    "collapsed": true,
    "hidden": true
   },
   "outputs": [
    {
     "name": "stdout",
     "output_type": "stream",
     "text": [
      "sg 5\n",
      "[[  1.95804449e+00  -1.12994073e+00   0.00000000e+00]\n",
      " [  1.95804449e+00   1.12994073e+00   0.00000000e+00]\n",
      " [ -7.22283768e-04   0.00000000e+00   3.69303824e+00]]\n",
      "[[  1.95804449e+00  -1.12994073e+00   0.00000000e+00]\n",
      " [  1.95804449e+00   1.12994073e+00   0.00000000e+00]\n",
      " [ -7.22283768e-04   0.00000000e+00   3.69303824e+00]]\n",
      "Press Enter to continue...\n",
      "sg 8\n",
      "[[ 1.95665407 -1.13150589  0.        ]\n",
      " [ 1.95665407  1.13150589  0.        ]\n",
      " [-1.30763156  0.          1.84589388]]\n",
      "[[ 1.95665407 -1.13150589  0.        ]\n",
      " [ 1.95665407  1.13150589  0.        ]\n",
      " [-1.30763156  0.          1.84589388]]\n",
      "Press Enter to continue...\n",
      "sg 9\n",
      "[[ 1.95910702 -1.13055256  0.        ]\n",
      " [ 1.95910702  1.13055256  0.        ]\n",
      " [ 1.31166833  0.          3.6905804 ]]\n",
      "[[ 1.95910702 -1.13055256  0.        ]\n",
      " [ 1.95910702  1.13055256  0.        ]\n",
      " [ 1.31166833  0.          3.6905804 ]]\n",
      "Press Enter to continue...\n",
      "sg 12\n",
      "[[ 1.95898807 -1.13027104  0.        ]\n",
      " [ 1.95898807  1.13027104  0.        ]\n",
      " [-1.31020459  0.          3.69241481]]\n",
      "[[ 1.95898807 -1.13027104  0.        ]\n",
      " [ 1.95898807  1.13027104  0.        ]\n",
      " [-1.31020459  0.          3.69241481]]\n",
      "Press Enter to continue...\n",
      "sg 15\n",
      "[[  3.57657772e+00  -1.10989714e+00   0.00000000e+00]\n",
      " [  3.57657772e+00   1.10989714e+00   0.00000000e+00]\n",
      " [ -2.75487436e-03   0.00000000e+00   4.49798064e+00]]\n",
      "[[  3.57657772e+00  -1.10989714e+00   0.00000000e+00]\n",
      " [  3.57657772e+00   1.10989714e+00   0.00000000e+00]\n",
      " [ -2.75487436e-03   0.00000000e+00   4.49798064e+00]]\n",
      "Press Enter to continue...\n"
     ]
    }
   ],
   "source": [
    "for sg in relevant_sg:\n",
    "    try:\n",
    "        cc = crystals[sg][0]\n",
    "        \n",
    "        primitive_atoms,cell_par,inequivalent_pos = get_ibrav0_frame(cc,sg)\n",
    "        view(cc)\n",
    "        view(primitive_atoms)\n",
    "        print 'sg {}'.format(sg)\n",
    "        print cell_par\n",
    "        print primitive_atoms.get_cell()\n",
    "        raw_input(\"Press Enter to continue...\")\n",
    "    except:\n",
    "        print 'No structure for sg {}'.format(sg)\n"
   ]
  },
  {
   "cell_type": "code",
   "execution_count": null,
   "metadata": {
    "collapsed": true,
    "hidden": true
   },
   "outputs": [],
   "source": []
  },
  {
   "cell_type": "markdown",
   "metadata": {},
   "source": [
    "## ibrav 14\n",
    "14          Triclinic                       celldm(2)= b/a,\n",
    "                                             celldm(3)= c/a,\n",
    "                                             celldm(4)= cos(bc),\n",
    "                                             celldm(5)= cos(ac),\n",
    "                                             celldm(6)= cos(ab)\n",
    "                                             \n",
    "      v1 = (a, 0, 0),\n",
    "      \n",
    "      v2 = (b*cos(gamma), b*sin(gamma), 0)\n",
    "      \n",
    "      v3 = (c*cos(beta),  c*(cos(alpha)-cos(beta)cos(gamma))/sin(gamma),\n",
    "           c*sqrt( 1 + 2*cos(alpha)cos(beta)cos(gamma)\n",
    "                     - cos(alpha)^2-cos(beta)^2-cos(gamma)^2 )/sin(gamma) )\n",
    "                     \n",
    "      where alpha is the angle between axis b and c\n",
    "             beta is the angle between axis a and c\n",
    "            gamma is the angle between axis a and b"
   ]
  },
  {
   "cell_type": "code",
   "execution_count": null,
   "metadata": {
    "collapsed": true
   },
   "outputs": [],
   "source": [
    "d2r = np.pi / 180.\n",
    "a,b,c,alpha,beta,gamma = [3.91330814 ,  4.52602357  , 3.19325456 , 90.   ,       35.31423407 , 90.    ]\n",
    "v1 = np.array([a/2.,0,0]);   \n",
    "v2 = np.array([b*np.cos(gamma*d2r),b*np.sin(gamma*d2r),0])\n",
    "v3 = np.array([c*np.cos(beta),c*(np.cos(alpha)-np.cos(beta)*np.cos(gamma))/np.sin(gamma),\n",
    "              c*np.sqrt( 1 + 2*np.cos(alpha)*np.cos(beta)*np.cos(gamma)\n",
    "                 - np.cos(alpha)**2-np.cos(beta)**2-np.cos(gamma)**2 )/np.sin(gamma)\n",
    "              ]);  \n",
    "print np.array([v1,v2,v3])\n",
    "print get_relative_angle(v1,v2,radian=False),get_relative_angle(v1,v3,radian=False),get_relative_angle(v3,v2,radian=False)"
   ]
  },
  {
   "cell_type": "code",
   "execution_count": 190,
   "metadata": {},
   "outputs": [
    {
     "name": "stdout",
     "output_type": "stream",
     "text": [
      "[1, 2]\n"
     ]
    }
   ],
   "source": [
    "relevant_sg = []\n",
    "for key,item in sg2ibrav.iteritems():\n",
    "    if item == 14:\n",
    "        relevant_sg.append(key)\n",
    "print relevant_sg"
   ]
  },
  {
   "cell_type": "markdown",
   "metadata": {},
   "source": [
    "### investigate the prob"
   ]
  },
  {
   "cell_type": "code",
   "execution_count": 192,
   "metadata": {},
   "outputs": [
    {
     "name": "stdout",
     "output_type": "stream",
     "text": [
      "[[  1.14454199e+01  -8.60591502e-13   1.00921837e+00]\n",
      " [ -1.38158488e-13   2.21979427e+00   3.07769495e-13]\n",
      " [  3.26041037e+00   2.11191674e-13   3.09863867e+00]]\n",
      "[ 11.48982847   2.21979427   4.49798149  90.          38.50361739  90.        ]\n"
     ]
    }
   ],
   "source": [
    "sg = 15\n",
    "cc = crystals[sg][0]\n",
    "print cc.get_cell()\n",
    "print cc.get_cell_lengths_and_angles()\n",
    "Na = cc.get_number_of_atoms()\n",
    "pos = cc.get_scaled_positions()[0]\n",
    "cell_par = cc.get_cell_lengths_and_angles()\n",
    "view(cc)"
   ]
  },
  {
   "cell_type": "code",
   "execution_count": 111,
   "metadata": {
    "scrolled": true
   },
   "outputs": [
    {
     "name": "stdout",
     "output_type": "stream",
     "text": [
      "[[ 3.60572805  2.08176806  1.49473402]\n",
      " [-3.60572805  2.08176806  1.49473402]\n",
      " [ 0.         -4.16353612  1.49473402]]\n",
      "[ 3.60572805 -2.08176806  1.49473402]\n",
      "[[  3.60572805e+00  -2.08176806e+00   1.49473402e+00]\n",
      " [ -1.11022302e-15   4.16353612e+00   1.49473402e+00]\n",
      " [ -3.60572805e+00  -2.08176806e+00   1.49473402e+00]]\n"
     ]
    }
   ],
   "source": [
    "sg = 155\n",
    "cc = crystals[sg][0]\n",
    "(lattice, positions, numbers) = spg.find_primitive(cc, symprec=1e-05, angle_tolerance=-1.0)\n",
    "ee = ase.Atoms(cell=lattice,scaled_positions=positions,numbers=numbers)\n",
    "cell = ee.get_cell()\n",
    "pos = ee.get_positions()\n",
    "v2 = cell[0]\n",
    "axis = [0,0,1]\n",
    "theta = - 60*np.pi/180.\n",
    "rot = rotation_matrix(axis, theta)\n",
    "v2p = np.dot(rot,v2)\n",
    "cellp = np.dot(cell,rot.T)\n",
    "posp = np.dot(pos,rot.T)\n",
    "print cell\n",
    "print cellp"
   ]
  },
  {
   "cell_type": "code",
   "execution_count": 139,
   "metadata": {},
   "outputs": [
    {
     "name": "stdout",
     "output_type": "stream",
     "text": [
      "[[ 3.60572805 -2.08176806  1.49473402]\n",
      " [ 0.          4.16353612  1.49473402]\n",
      " [-3.60572805 -2.08176806  1.49473402]]\n"
     ]
    }
   ],
   "source": [
    "a = 4.42371595; c = np.cos(109.192587*np.pi/180.)\n",
    "tx = np.sqrt((1-c)/2); ty = np.sqrt((1-c)/6); tz = np.sqrt((1+2*c)/3)\n",
    "v1 = a*np.array([tx,-ty,tz]);   v2 = a*np.array([0,2*ty,tz]);   v3 = a*np.array([-tx,-ty,tz])\n",
    "print np.array([v1,v2,v3])"
   ]
  },
  {
   "cell_type": "code",
   "execution_count": 142,
   "metadata": {},
   "outputs": [
    {
     "name": "stdout",
     "output_type": "stream",
     "text": [
      "[[ 3.60572805 -2.08176806  1.49473402]\n",
      " [ 0.          4.16353612  1.49473402]\n",
      " [-3.60572805 -2.08176806  1.49473402]]\n",
      "[   4.42371595    4.42371595    4.42371595  109.192587    109.192587\n",
      "  109.192587  ]\n",
      "4.42371595141 -0.328744459329\n"
     ]
    }
   ],
   "source": [
    "cellp[np.abs(cellp)<1e-10] = 0.\n",
    "ee.set_cell(cellp)\n",
    "ee.set_positions(posp)\n",
    "a = ee.get_cell_lengths_and_angles()[0]\n",
    "c = np.cos(ee.get_cell_lengths_and_angles()[3]*np.pi/180.)\n",
    "view(ee)\n",
    "print ee.get_cell()\n",
    "print ee.get_cell_lengths_and_angles()\n",
    "print a,c"
   ]
  },
  {
   "cell_type": "markdown",
   "metadata": {},
   "source": [
    "### functions to solve it"
   ]
  },
  {
   "cell_type": "code",
   "execution_count": 67,
   "metadata": {
    "code_folding": [],
    "collapsed": true
   },
   "outputs": [],
   "source": [
    "def get_ibrav5_atoms(frame,sg):\n",
    "    import spglib as spg\n",
    "    symprec = get_symprec(frame,sg)\n",
    "    if symprec is None:\n",
    "        print 'Not possible'\n",
    "        return None\n",
    "    (lattice, positions, numbers) = spg.find_primitive(frame, symprec=symprec, angle_tolerance=-1.0)\n",
    "    primitive_atoms = ase.Atoms(cell=lattice,scaled_positions=positions,numbers=numbers)\n",
    "\n",
    "    cell = primitive_atoms.get_cell()\n",
    "    pos = primitive_atoms.get_positions()\n",
    "    \n",
    "    axis = [0,0,1]\n",
    "    theta = - 60.*np.pi/180.\n",
    "    rot = rotation_matrix(axis, theta)\n",
    "    \n",
    "    cellp = np.dot(cell,rot.T)\n",
    "    cellp[np.abs(cellp)<1e-10] = 0.\n",
    "    posp = np.dot(pos,rot.T)\n",
    "    inequivalent_pos = posp[0]\n",
    "    \n",
    "    primitive_atoms.set_cell(cellp)\n",
    "    primitive_atoms.set_positions(posp)\n",
    "    \n",
    "    a,_,_,alpha,_,_ = primitive_atoms.get_cell_lengths_and_angles()\n",
    "    # only a is used by QE\n",
    "    b,c,beta,gamma = [0.]*4\n",
    "    cell_par = [a,b,c,alpha,beta,gamma]\n",
    "    return primitive_atoms,cell_par,inequivalent_pos"
   ]
  },
  {
   "cell_type": "markdown",
   "metadata": {},
   "source": [
    "### check all"
   ]
  },
  {
   "cell_type": "code",
   "execution_count": 153,
   "metadata": {},
   "outputs": [
    {
     "name": "stdout",
     "output_type": "stream",
     "text": [
      "sg 167\n",
      "[9.7049669483204024, 0.0, 0.0, 119.39306125170683, 0.0, 0.0]\n"
     ]
    }
   ],
   "source": [
    "sg = 167\n",
    "cc = crystals[sg][0]\n",
    "primitive_atoms,cell_par,inequivalent_pos = get_ibrav5_atoms(cc,sg)\n",
    "view(cc)\n",
    "view(primitive_atoms)\n",
    "print 'sg {}'.format(sg)\n",
    "print cell_par\n"
   ]
  },
  {
   "cell_type": "code",
   "execution_count": 154,
   "metadata": {},
   "outputs": [
    {
     "name": "stdout",
     "output_type": "stream",
     "text": [
      "R-3c (167)\n",
      "R-3c (167)\n"
     ]
    }
   ],
   "source": [
    "symprec = 1e-5\n",
    "print spg.get_spacegroup(cc,symprec=symprec)\n",
    "print spg.get_spacegroup(primitive_atoms,symprec=symprec)"
   ]
  },
  {
   "cell_type": "code",
   "execution_count": 147,
   "metadata": {
    "scrolled": true
   },
   "outputs": [
    {
     "name": "stdout",
     "output_type": "stream",
     "text": [
      "sg 146\n",
      "[3.7820019948990224, 0.0, 0.0, 0.0, 0.0, 0.0]\n",
      "Press Enter to continue...\n",
      "sg 148\n",
      "[5.4039213269642969, 0.0, 0.0, 0.0, 0.0, 0.0]\n",
      "Press Enter to continue...\n",
      "sg 155\n",
      "[4.4237159514123023, 0.0, 0.0, 0.0, 0.0, 0.0]\n",
      "No structure for sg 155\n",
      "sg 160\n",
      "[5.9663080782218865, 0.0, 0.0, 0.0, 0.0, 0.0]\n",
      "No structure for sg 160\n",
      "sg 161\n",
      "[5.4425698931175646, 0.0, 0.0, 0.0, 0.0, 0.0]\n",
      "No structure for sg 161\n",
      "sg 166\n",
      "[10.209972340390793, 0.0, 0.0, 0.0, 0.0, 0.0]\n",
      "No structure for sg 166\n",
      "sg 167\n",
      "[9.7049669483204024, 0.0, 0.0, 0.0, 0.0, 0.0]\n",
      "No structure for sg 167\n"
     ]
    }
   ],
   "source": [
    "for sg in relevant_sg:\n",
    "    try:\n",
    "        cc = crystals[sg][0]\n",
    "        primitive_atoms,cell_par,inequivalent_pos = get_ibrav5_atoms(cc,sg)\n",
    "        view(cc)\n",
    "        view(primitive_atoms)\n",
    "        print 'sg {}'.format(sg)\n",
    "        print cell_par\n",
    "        raw_input(\"Press Enter to continue...\")\n",
    "    except:\n",
    "        print 'No structure for sg {}'.format(sg)\n",
    "\n"
   ]
  },
  {
   "cell_type": "code",
   "execution_count": null,
   "metadata": {
    "collapsed": true
   },
   "outputs": [],
   "source": []
  },
  {
   "cell_type": "markdown",
   "metadata": {
    "heading_collapsed": true
   },
   "source": [
    "### check all"
   ]
  },
  {
   "cell_type": "code",
   "execution_count": 15,
   "metadata": {
    "hidden": true
   },
   "outputs": [
    {
     "data": {
      "text/plain": [
       "63"
      ]
     },
     "execution_count": 15,
     "metadata": {},
     "output_type": "execute_result"
    }
   ],
   "source": [
    "int(spg.get_spacegroup(cc,symprec=1e-3).split(' ')[1][1:-1])"
   ]
  },
  {
   "cell_type": "code",
   "execution_count": 20,
   "metadata": {
    "hidden": true
   },
   "outputs": [
    {
     "name": "stdout",
     "output_type": "stream",
     "text": [
      "sg 63\n",
      "[2.2612070072888382, 2.2612070072888382, 3.6925296780605597, 0.0, 0.0, 0.0]\n"
     ]
    }
   ],
   "source": [
    "sg = 63\n",
    "cc = crystals[sg][0]\n",
    "primitive_atoms,cell_par,inequivalent_pos = get_ibrav9_atoms(cc,sg)\n",
    "view(cc)\n",
    "view(primitive_atoms)\n",
    "print 'sg {}'.format(sg)\n",
    "print cell_par\n"
   ]
  },
  {
   "cell_type": "code",
   "execution_count": 73,
   "metadata": {
    "hidden": true
   },
   "outputs": [
    {
     "name": "stdout",
     "output_type": "stream",
     "text": [
      "Cmcm (63)\n",
      "Cmcm (63)\n"
     ]
    }
   ],
   "source": [
    "symprec = 1e-3\n",
    "print spg.get_spacegroup(cc,symprec=symprec)\n",
    "print spg.get_spacegroup(primitive_atoms,symprec=symprec)"
   ]
  },
  {
   "cell_type": "code",
   "execution_count": 19,
   "metadata": {
    "hidden": true,
    "scrolled": true
   },
   "outputs": [
    {
     "name": "stdout",
     "output_type": "stream",
     "text": [
      "sg 20\n",
      "[2.6649982073776921, 2.6649982073776921, 4.7160166958629146, 0.0, 0.0, 0.0]\n",
      "Press Enter to continue...\n",
      "sg 21\n",
      "[4.1690069584293505, 4.1690069584293505, 3.1600226818471424, 0.0, 0.0, 0.0]\n",
      "Press Enter to continue...\n",
      "sg 35\n",
      "[2.2474941866587579, 2.2474941866587579, 2.1998670905715314, 0.0, 0.0, 0.0]\n",
      "Press Enter to continue...\n",
      "sg 36\n",
      "[3.1447992005676988, 3.1447992005676988, 3.8912346352252323, 0.0, 0.0, 0.0]\n",
      "Press Enter to continue...\n",
      "sg 37\n",
      "[4.5418060211975213, 4.5418060211975213, 2.2821125827075366, 0.0, 0.0, 0.0]\n",
      "Press Enter to continue...\n",
      "sg 38\n",
      "[3.1338742732981419, 3.1338742732981419, 4.432479786791002, 0.0, 0.0, 0.0]\n",
      "Press Enter to continue...\n",
      "sg 39\n",
      "[4.2704818849539832, 4.2704818849539832, 3.8463682540392385, 0.0, 0.0, 0.0]\n",
      "Press Enter to continue...\n",
      "sg 40\n",
      "[2.2523758067186388, 2.2523758067186388, 8.1096037255931535, 0.0, 0.0, 0.0]\n",
      "Press Enter to continue...\n",
      "sg 41\n",
      "[2.2401064064736516, 2.2401064064736516, 7.5060083929890498, 0.0, 0.0, 0.0]\n",
      "Press Enter to continue...\n",
      "sg 63\n",
      "[2.2612070072888382, 2.2612070072888382, 3.6925296780605597, 0.0, 0.0, 0.0]\n",
      "Press Enter to continue...\n",
      "sg 64\n",
      "[4.542646785679838, 4.542646785679838, 4.5655817694295147, 0.0, 0.0, 0.0]\n",
      "Press Enter to continue...\n",
      "sg 65\n",
      "[4.9553467487055096, 4.9553467487055096, 2.2158821531241313, 0.0, 0.0, 0.0]\n",
      "Press Enter to continue...\n",
      "sg 66\n",
      "[4.5217279020369121, 4.5217279020369121, 3.1977570907197106, 0.0, 0.0, 0.0]\n",
      "Press Enter to continue...\n",
      "sg 67\n",
      "[2.2619021807550777, 2.2619021807550777, 3.1952837798481801, 0.0, 0.0, 0.0]\n",
      "Press Enter to continue...\n",
      "sg 68\n",
      "[4.5217273629254766, 4.5217273629254766, 3.1963523843647503, 0.0, 0.0, 0.0]\n",
      "Press Enter to continue...\n"
     ]
    }
   ],
   "source": [
    "for sg in relevant_sg:\n",
    "    try:\n",
    "        cc = crystals[sg][0]\n",
    "        \n",
    "        primitive_atoms,cell_par,inequivalent_pos = get_ibrav9_atoms(cc,sg)\n",
    "        view(cc)\n",
    "        view(primitive_atoms)\n",
    "        print 'sg {}'.format(sg)\n",
    "        print cell_par\n",
    "        raw_input(\"Press Enter to continue...\")\n",
    "    except:\n",
    "        print 'No structure for sg {}'.format(sg)\n",
    "\n"
   ]
  },
  {
   "cell_type": "markdown",
   "metadata": {
    "heading_collapsed": true
   },
   "source": [
    "# State the inputs for QE"
   ]
  },
  {
   "cell_type": "markdown",
   "metadata": {
    "hidden": true
   },
   "source": [
    "### info to generate automaticaly"
   ]
  },
  {
   "cell_type": "code",
   "execution_count": 3,
   "metadata": {
    "collapsed": true,
    "hidden": true
   },
   "outputs": [],
   "source": [
    "species = ['Si',]*2\n",
    "mass = [28.0855]\n",
    "PP = ['Si.pbe-n-rrkjus_psl.1.0.0.UPF']\n",
    "wic = ['4a','16g']\n",
    "positions = [[0.1],[0.60376669,  0.186657,   0.77821707]]\n",
    "kpt = [2,2,2]\n",
    "kpt_offset = [0,0,0]\n"
   ]
  },
  {
   "cell_type": "code",
   "execution_count": 164,
   "metadata": {
    "hidden": true
   },
   "outputs": [
    {
     "name": "stdout",
     "output_type": "stream",
     "text": [
      "210    orthorhombic\n",
      "Name: Crystal System, dtype: object\n"
     ]
    },
    {
     "data": {
      "text/plain": [
       "'F'"
      ]
     },
     "execution_count": 164,
     "metadata": {},
     "output_type": "execute_result"
    }
   ],
   "source": [
    "SGidx = 42\n",
    "sgInfo = SGTable[SGTable['Table No.'] == 42]\n",
    "print sgInfo['Crystal System']\n",
    "sgInfo['Full notation'].values[0][0].encode('utf-8')"
   ]
  },
  {
   "cell_type": "markdown",
   "metadata": {
    "hidden": true
   },
   "source": [
    " Bravais-lattice index. If ibrav /= 0, specify EITHER\n",
    "  [ celldm(1)-celldm(6) ] OR [ A, B, C, cosAB, cosAC, cosBC ]\n",
    "  but NOT both. The lattice parameter \"alat\" is set to\n",
    "  alat = celldm(1) (in a.u.) or alat = A (in Angstrom);\n",
    "  see below for the other parameters.\n",
    "  For ibrav=0 specify the lattice vectors in CELL_PARAMETERS,\n",
    "  optionally the lattice parameter alat = celldm(1) (in a.u.)\n",
    "  or = A (in Angstrom), or else it is taken from CELL_PARAMETERS\n",
    "\n",
    "ibrav      structure                   celldm(2)-celldm(6)\n",
    "                                     or: b,c,cosab,cosac,cosbc\n",
    "  0          free\n",
    "      crystal axis provided in input: see card CELL_PARAMETERS\n",
    "\n",
    "  1          cubic P (sc)\n",
    "      v1 = a(1,0,0),  v2 = a(0,1,0),  v3 = a(0,0,1)\n",
    "\n",
    "  2          cubic F (fcc)\n",
    "      v1 = (a/2)(-1,0,1),  v2 = (a/2)(0,1,1), v3 = (a/2)(-1,1,0)\n",
    "\n",
    "  3          cubic I (bcc)\n",
    "      v1 = (a/2)(1,1,1),  v2 = (a/2)(-1,1,1),  v3 = (a/2)(-1,-1,1)\n",
    "\n",
    "  4          Hexagonal and Trigonal P        celldm(3)=c/a\n",
    "      v1 = a(1,0,0),  v2 = a(-1/2,sqrt(3)/2,0),  v3 = a(0,0,c/a)\n",
    "\n",
    "  5          Trigonal R, 3fold axis c        celldm(4)=cos(alpha)\n",
    "      The crystallographic vectors form a three-fold star around\n",
    "      the z-axis, the primitive cell is a simple rhombohedron:\n",
    "      v1 = a(tx,-ty,tz),   v2 = a(0,2ty,tz),   v3 = a(-tx,-ty,tz)\n",
    "      where c=cos(alpha) is the cosine of the angle alpha between\n",
    "      any pair of crystallographic vectors, tx, ty, tz are:\n",
    "        tx=sqrt((1-c)/2), ty=sqrt((1-c)/6), tz=sqrt((1+2c)/3)\n",
    " -5          Trigonal R, 3fold axis <111>    celldm(4)=cos(alpha)\n",
    "      The crystallographic vectors form a three-fold star around\n",
    "      <111>. Defining a' = a/sqrt(3) :\n",
    "      v1 = a' (u,v,v),   v2 = a' (v,u,v),   v3 = a' (v,v,u)\n",
    "      where u and v are defined as\n",
    "        u = tz - 2*sqrt(2)*ty,  v = tz + sqrt(2)*ty\n",
    "      and tx, ty, tz as for case ibrav=5\n",
    "      Note: if you prefer x,y,z as axis in the cubic limit,\n",
    "            set  u = tz + 2*sqrt(2)*ty,  v = tz - sqrt(2)*ty\n",
    "            See also the note in Modules/latgen.f90\n",
    "\n",
    "  6          Tetragonal P (st)               celldm(3)=c/a\n",
    "      v1 = a(1,0,0),  v2 = a(0,1,0),  v3 = a(0,0,c/a)\n",
    "\n",
    "  7          Tetragonal I (bct)              celldm(3)=c/a\n",
    "      v1=(a/2)(1,-1,c/a),  v2=(a/2)(1,1,c/a),  v3=(a/2)(-1,-1,c/a)\n",
    "\n",
    "  8          Orthorhombic P                  celldm(2)=b/a\n",
    "                                             celldm(3)=c/a\n",
    "      v1 = (a,0,0),  v2 = (0,b,0), v3 = (0,0,c)\n",
    "\n",
    "  9          Orthorhombic base-centered(bco) celldm(2)=b/a\n",
    "                                             celldm(3)=c/a\n",
    "      v1 = (a/2, b/2,0),  v2 = (-a/2,b/2,0),  v3 = (0,0,c)\n",
    " -9          as 9, alternate description\n",
    "      v1 = (a/2,-b/2,0),  v2 = (a/2, b/2,0),  v3 = (0,0,c)\n",
    "\n",
    " 10          Orthorhombic face-centered      celldm(2)=b/a\n",
    "                                             celldm(3)=c/a\n",
    "      v1 = (a/2,0,c/2),  v2 = (a/2,b/2,0),  v3 = (0,b/2,c/2)\n",
    "\n",
    " 11          Orthorhombic body-centered      celldm(2)=b/a\n",
    "                                             celldm(3)=c/a\n",
    "      v1=(a/2,b/2,c/2),  v2=(-a/2,b/2,c/2),  v3=(-a/2,-b/2,c/2)\n",
    "\n",
    " 12          Monoclinic P, unique axis c     celldm(2)=b/a\n",
    "                                             celldm(3)=c/a,\n",
    "                                             celldm(4)=cos(ab)\n",
    "      v1=(a,0,0), v2=(b*cos(gamma),b*sin(gamma),0),  v3 = (0,0,c)\n",
    "      where gamma is the angle between axis a and b.\n",
    "-12          Monoclinic P, unique axis b     celldm(2)=b/a\n",
    "                                             celldm(3)=c/a,\n",
    "                                             celldm(5)=cos(ac)\n",
    "      v1 = (a,0,0), v2 = (0,b,0), v3 = (c*cos(beta),0,c*sin(beta))\n",
    "      where beta is the angle between axis a and c\n",
    "\n",
    " 13          Monoclinic base-centered        celldm(2)=b/a\n",
    "                                             celldm(3)=c/a,\n",
    "                                             celldm(4)=cos(ab)\n",
    "      v1 = (  a/2,         0,                -c/2),\n",
    "      v2 = (b*cos(gamma), b*sin(gamma), 0),\n",
    "      v3 = (  a/2,         0,                  c/2),\n",
    "      where gamma is the angle between axis a and b\n",
    "\n",
    " 14          Triclinic                       celldm(2)= b/a,\n",
    "                                             celldm(3)= c/a,\n",
    "                                             celldm(4)= cos(bc),\n",
    "                                             celldm(5)= cos(ac),\n",
    "                                             celldm(6)= cos(ab)\n",
    "      v1 = (a, 0, 0),\n",
    "      v2 = (b*cos(gamma), b*sin(gamma), 0)\n",
    "      v3 = (c*cos(beta),  c*(cos(alpha)-cos(beta)cos(gamma))/sin(gamma),\n",
    "           c*sqrt( 1 + 2*cos(alpha)cos(beta)cos(gamma)\n",
    "                     - cos(alpha)^2-cos(beta)^2-cos(gamma)^2 )/sin(gamma) )\n",
    "      where alpha is the angle between axis b and c\n",
    "             beta is the angle between axis a and c\n",
    "            gamma is the angle between axis a and b"
   ]
  },
  {
   "cell_type": "markdown",
   "metadata": {
    "hidden": true
   },
   "source": [
    "## Load general information"
   ]
  },
  {
   "cell_type": "code",
   "execution_count": 159,
   "metadata": {
    "collapsed": true,
    "hidden": true
   },
   "outputs": [],
   "source": [
    "fileNames = {}\n",
    "fileNames['crystals'] = 'Si-crystals-full-relax.pck'\n",
    "fileNames['wyck'] = 'SpaceGroup-multiplicity-wickoff-info.pck'\n",
    "fileNames['general info'] = 'SpaceGroup-general-info.pck'\n",
    "fileNames['elements info'] = 'General-Info-Elements-fast.pck'"
   ]
  },
  {
   "cell_type": "code",
   "execution_count": 160,
   "metadata": {
    "collapsed": true,
    "hidden": true
   },
   "outputs": [],
   "source": [
    "# give the SG \n",
    "spaceGroupIdxRange  = range(1,230+1)\n",
    "\n",
    "Gen  = GenCrystalStructures(spaceGroupIdxRange=spaceGroupIdxRange)\n",
    "Gen.setCrystals(fileNames['crystals'])\n",
    "with open(fileNames['wyck'],'rb') as f:\n",
    "    wyckTable = pck.load(f)\n",
    "SGTable = pd.read_pickle(fileNames['general info'])\n",
    "ElemTable = pd.read_pickle(fileNames['elements info'])"
   ]
  },
  {
   "cell_type": "markdown",
   "metadata": {
    "hidden": true
   },
   "source": [
    "## Input for QE"
   ]
  },
  {
   "cell_type": "code",
   "execution_count": 186,
   "metadata": {
    "collapsed": true,
    "hidden": true
   },
   "outputs": [],
   "source": [
    "SpaceGroupIdx = 150\n",
    "zatom = 14\n",
    "rhocutoff = wfccutoff * 4\n",
    "wfccutoff = 20\n",
    "kpt = [2,2,2]\n",
    "kpt_offset = [0,0,0]\n",
    "\n",
    "\n",
    "elemInfo = ElemTable[ElemTable['z'] == zatom]\n",
    "\n",
    "species = [elemInfo['sym'].values[0],]*1\n",
    "mass = [elemInfo['mass'].values[0]] # in atomic unit\n",
    "PP = ['Si.pbe-n-rrkjus_psl.1.0.0.UPF']\n",
    "wyck = [SG2wyckoff(SpaceGroupIdx,wyckTable)]\n",
    "positions = [SG2Postion(SpaceGroupIdx,Gen.crystals)]\n",
    "cellParam = SG2cellParam(SpaceGroupIdx,Gen.crystals)\n",
    "ibrav = SG2ibrav(SpaceGroupIdx,SGTable)\n",
    "multipicity = wyckTable[SpaceGroupIdx]['Multiplicity'][0]\n",
    "nvalence = elemInfo['val'].values[0]\n",
    "\n",
    "if int(0.2*multipicity*nvalence/2.) > 4:\n",
    "    nbnd = int(multipicity*nvalence/2.+int(0.2*multipicity*nvalence/2.))\n",
    "else:\n",
    "    nbnd = int(multipicity*nvalence/2.+4)\n",
    "\n"
   ]
  },
  {
   "cell_type": "code",
   "execution_count": 192,
   "metadata": {
    "hidden": true
   },
   "outputs": [
    {
     "name": "stdout",
     "output_type": "stream",
     "text": [
      "['Si'] [28.0855] 4\n",
      "[   3.7128429     3.7128429     8.79360738   90.           90.          120.        ]\n"
     ]
    }
   ],
   "source": [
    "print species,mass,nvalence\n",
    "print cellParam"
   ]
  },
  {
   "cell_type": "markdown",
   "metadata": {
    "hidden": true
   },
   "source": [
    "## make the QE input block with variable and hard code parts"
   ]
  },
  {
   "cell_type": "code",
   "execution_count": 199,
   "metadata": {
    "collapsed": true,
    "hidden": true
   },
   "outputs": [],
   "source": [
    "# define name list of QE\n",
    "control = {'calculation' : '\"scf\"',\n",
    "          'outdir' : '\"./out/\"',\n",
    "          'prefix' : '\"qe\"',\n",
    "          'pseudo_dir' : '\"../pseudo/\"',\n",
    "          'restart_mode' : '\"from_scratch\"',\n",
    "          'verbosity' : '\"high\"',\n",
    "          'wf_collect' : '.false.',\n",
    "    }\n",
    "controlKeys = ['calculation','outdir','prefix','pseudo_dir', 'restart_mode','verbosity' ,'wf_collect']\n",
    "system = {\n",
    "          'ecutrho' :   '{:.5f}'.format(rhocutoff),\n",
    "          'ecutwfc' :   '{:.5f}'.format(wfccutoff),\n",
    "          'ibrav' : str(ibrav),\n",
    "          'nat' : str(1),\n",
    "          'nbnd' : str(nbnd),\n",
    "          'ntyp' : str(1),\n",
    "          'occupations' : '\"smearing\"',\n",
    "          'smearing' : '\"cold\"',\n",
    "          'degauss' :   '1.0000000000d-02',\n",
    "          'space_group' : str(SpaceGroupIdx),\n",
    "          'A' : str(cellParam[0]),\n",
    "          'B' : str(cellParam[1]),\n",
    "          'C' : str(cellParam[2]),\n",
    "          'cosAB' : '{:.5f}'.format(np.cos(cellParam[5]*np.pi/180.)),\n",
    "          'cosAC' : '{:.5f}'.format(np.cos(cellParam[4]*np.pi/180.)),\n",
    "          'cosBC' : '{:.5f}'.format(np.cos(cellParam[3]*np.pi/180.)),\n",
    "    }\n",
    "syskeys = ['degauss', 'ecutrho','ecutwfc','ibrav', 'nat','nbnd','ntyp' ,\n",
    "           'occupations', 'smearing','space_group','A','B' ,'C', 'cosAB', 'cosAC', 'cosBC' ]\n",
    "electrons = {'conv_thr':'1.0000000000d-06'}\n",
    "\n",
    "# define cards of QE\n",
    "optionkey = 'unit'\n",
    "atomic_sp = {'ATOMIC_SPECIES':{'species':np.unique(species), 'mass':mass,'PP':PP},'unit':''}\n",
    "atspkeys = ['species','mass','PP']\n",
    "atomic_pos = {'ATOMIC_POSITIONS':{'species':species, 'wickoffs':wyck,'positions':positions},'unit':'crystal_sg'}\n",
    "atposkeys = ['species', 'wickoffs','positions']\n",
    "kpoints = {'K_POINTS':{'kpoints':kpt+kpt_offset},'unit':'automatic'}\n",
    "kptkeys = ['kpoints']"
   ]
  },
  {
   "cell_type": "code",
   "execution_count": 200,
   "metadata": {
    "hidden": true
   },
   "outputs": [
    {
     "name": "stdout",
     "output_type": "stream",
     "text": [
      "&CONTROL \n",
      "  wf_collect = .false. \n",
      "  calculation = \"scf\" \n",
      "  verbosity = \"high\" \n",
      "  pseudo_dir = \"../pseudo/\" \n",
      "  prefix = \"qe\" \n",
      "  restart_mode = \"from_scratch\" \n",
      "  outdir = \"./out/\" \n",
      "/ \n",
      "&SYSTEM \n",
      "  degauss = 1.0000000000d-02 \n",
      "  ecutrho = 0.01000 \n",
      "  ecutwfc = 0.08000 \n",
      "  ibrav = 4 \n",
      "  nat = 1 \n",
      "  nbnd = 14 \n",
      "  ntyp = 1 \n",
      "  occupations = \"smearing\" \n",
      "  smearing = \"cold\" \n",
      "  space_group = 150 \n",
      "  A = 3.7128428979 \n",
      "  B = 3.7128428979 \n",
      "  C = 8.79360738256 \n",
      "  cosAB = -0.50000 \n",
      "  cosAC = 0.00000 \n",
      "  cosBC = 0.00000 \n",
      "/ \n",
      "&ELECTRONS \n",
      "  conv_thr = 1.0000000000d-06 \n",
      "/ \n",
      "ATOMIC_SPECIES   \n",
      "  Si  28.0855  Si.pbe-n-rrkjus_psl.1.0.0.UPF \n",
      "ATOMIC_POSITIONS  crystal_sg \n",
      "  Si  6g   0.6666654   0.66666287  0.11896427 \n",
      "K_POINTS  automatic \n",
      "  2  2  2  0  0  0 \n",
      "\n"
     ]
    }
   ],
   "source": [
    "qeInput = ''\n",
    "\n",
    "qeInput += makeNamelist('&CONTROL',control)\n",
    "qeInput += makeNamelist( '&SYSTEM' ,system,syskeys)\n",
    "qeInput += makeNamelist( '&ELECTRONS',electrons)\n",
    "qeInput += makeCard(atomic_sp,cardKeys = atspkeys,optionKey = optionkey,T = True) \n",
    "qeInput += makeCard(atomic_pos,cardKeys = atposkeys,optionKey = optionkey,T = True) \n",
    "qeInput += makeCard(kpoints,cardKeys = kptkeys,optionKey = optionkey,T = False)\n",
    "print qeInput"
   ]
  },
  {
   "cell_type": "markdown",
   "metadata": {
    "heading_collapsed": true
   },
   "source": [
    "# Input file generator function"
   ]
  },
  {
   "cell_type": "code",
   "execution_count": 56,
   "metadata": {
    "code_folding": [],
    "collapsed": true,
    "hidden": true
   },
   "outputs": [],
   "source": [
    "def makeQEInnput_ibrav0(crystal,ElemTable,\n",
    "                 zatom = 14,rhocutoff = 20 * 4,wfccutoff = 20,\n",
    "                        kpt = [2,2,2],kpt_offset = [0,0,0],\n",
    "                        ppPath='\"./pseudo/\"'):\n",
    "    inputDic = {}\n",
    "    \n",
    "    elemInfo = ElemTable[ElemTable['z'] == zatom]\n",
    "    \n",
    "    mass = [elemInfo['mass'].values[0]] # in atomic unit\n",
    "    PP = ['Si.pbe-n-rrkjus_psl.1.0.0.UPF']\n",
    "    nvalence = elemInfo['val'].values[0]\n",
    "    \n",
    "    (lattice, positions, numbers) = spg.find_primitive(crystal, symprec=1e-05, angle_tolerance=-1.0)\n",
    "    primitive_atoms = ase.Atoms(cell=lattice,scaled_positions=positions,numbers=numbers)\n",
    "    \n",
    "    positions = primitive_atoms.get_positions()\n",
    "    cell = primitive_atoms.get_cell()\n",
    "    ibrav = 0\n",
    "    Natom = primitive_atoms.get_number_of_atoms()\n",
    "    species = [elemInfo['sym'].values[0],]*Natom\n",
    "    \n",
    "    multiplicity = Natom\n",
    "    if int(0.2*multiplicity*nvalence/2.) > 4:\n",
    "        nbnd = int(multiplicity*nvalence/2.+int(0.2*multiplicity*nvalence/2.))\n",
    "    else:\n",
    "        nbnd = int(multiplicity*nvalence/2.+4)\n",
    "\n",
    "    # define name list of QE\n",
    "    control = {'calculation' : '\"scf\"',\n",
    "              'outdir' : '\"./out/\"',\n",
    "              'prefix' : '\"qe\"',\n",
    "              'pseudo_dir' : ppPath,\n",
    "              'restart_mode' : '\"from_scratch\"',\n",
    "              'verbosity' : '\"high\"',\n",
    "              'wf_collect' : '.false.',\n",
    "        }\n",
    "    controlKeys = ['calculation','outdir','prefix','pseudo_dir', 'restart_mode','verbosity' ,'wf_collect']\n",
    "    system = {\n",
    "              'ecutrho' :   '{:.5f}'.format(rhocutoff),\n",
    "              'ecutwfc' :   '{:.5f}'.format(wfccutoff),\n",
    "              'ibrav' : str(ibrav),\n",
    "              'nat' : str(Natom),\n",
    "              'nbnd' : str(nbnd),\n",
    "              'ntyp' : str(1),\n",
    "              'occupations' : '\"smearing\"',\n",
    "              'smearing' : '\"cold\"',\n",
    "              'degauss' :   '1.0000000000d-02',\n",
    "        }\n",
    "    syskeys = [ 'ecutrho','ecutwfc','ibrav', 'nat','nbnd','ntyp' ,\n",
    "               'occupations', 'smearing','degauss' ]\n",
    "    electrons = {'conv_thr':'1.0000000000d-06'}\n",
    "\n",
    "    # define cards of QE\n",
    "    optionkey = 'unit'\n",
    "    atomic_sp = {'ATOMIC_SPECIES':{'species':np.unique(species), 'mass':mass,'PP':PP},'unit':''}\n",
    "    atspkeys = ['species','mass','PP']\n",
    "    atomic_pos = {'ATOMIC_POSITIONS':{'species':species,'positions':positions},'unit':'angstrom'}\n",
    "    atposkeys = ['species','positions']\n",
    "    kpoints = {'K_POINTS':{'kpoints':kpt+kpt_offset},'unit':'automatic'}\n",
    "    kptkeys = ['kpoints']\n",
    "    cell_param = {'CELL_PARAMETERS':{'cell':cell},'unit':'angstrom'}\n",
    "    cellkeys = ['cell']\n",
    "\n",
    "\n",
    "    qeInput = ''\n",
    "\n",
    "    qeInput += makeNamelist('&CONTROL',control)\n",
    "    qeInput += makeNamelist( '&SYSTEM' ,system,syskeys)\n",
    "    qeInput += makeNamelist( '&ELECTRONS',electrons)\n",
    "    qeInput += makeCard(atomic_sp,cardKeys = atspkeys,optionKey = optionkey,T = True) \n",
    "    qeInput += makeCard(atomic_pos,cardKeys = atposkeys,optionKey = optionkey,T = True) \n",
    "    qeInput += makeCard(kpoints,cardKeys = kptkeys,optionKey = optionkey,T = False)\n",
    "    qeInput += makeCard(cell_param,cardKeys = cellkeys,optionKey = optionkey,T = True)\n",
    "    \n",
    "    inputDic = qeInput\n",
    "        \n",
    "    return inputDic"
   ]
  },
  {
   "cell_type": "code",
   "execution_count": 61,
   "metadata": {
    "code_folding": [
     0
    ],
    "collapsed": true,
    "hidden": true
   },
   "outputs": [],
   "source": [
    "def makeQEInnput_test(crystal,ElemTable,\n",
    "                 zatom = 14,rhocutoff = 20 * 4,wfccutoff = 20,kpt = [2,2,2],kpt_offset = [0,0,0],ppPath='\"./pseudo/\"'):\n",
    "    inputDic = {}\n",
    "    \n",
    "    elemInfo = ElemTable[ElemTable['z'] == zatom]\n",
    "    \n",
    "    mass = [elemInfo['mass'].values[0]] # in atomic unit\n",
    "    PP = ['Si.pbe-n-rrkjus_psl.1.0.0.UPF']\n",
    "    nvalence = elemInfo['val'].values[0]\n",
    "    \n",
    "    (lattice, positions, numbers) = spg.find_primitive(crystal, symprec=1e-05, angle_tolerance=-1.0)\n",
    "    #primitive_atoms = ase.Atoms(cell=lattice,scaled_positions=positions,numbers=numbers)\n",
    "    primitive_atoms = crystal\n",
    "    positions = primitive_atoms.get_positions()\n",
    "    cell = primitive_atoms.get_cell()\n",
    "    ibrav = 0\n",
    "    Natom = primitive_atoms.get_number_of_atoms()\n",
    "    species = [elemInfo['sym'].values[0],]*Natom\n",
    "    \n",
    "    multiplicity = Natom\n",
    "    if int(0.2*multiplicity*nvalence/2.) > 4:\n",
    "        nbnd = int(multiplicity*nvalence/2.+int(0.2*multiplicity*nvalence/2.))\n",
    "    else:\n",
    "        nbnd = int(multiplicity*nvalence/2.+4)\n",
    "\n",
    "    # define name list of QE\n",
    "    control = {'calculation' : '\"scf\"',\n",
    "              'outdir' : '\"./out/\"',\n",
    "              'prefix' : '\"qe\"',\n",
    "              'pseudo_dir' : ppPath,\n",
    "              'restart_mode' : '\"from_scratch\"',\n",
    "              'verbosity' : '\"high\"',\n",
    "              'wf_collect' : '.false.',\n",
    "        }\n",
    "    controlKeys = ['calculation','outdir','prefix','pseudo_dir', 'restart_mode','verbosity' ,'wf_collect']\n",
    "    system = {\n",
    "              'ecutrho' :   '{:.5f}'.format(rhocutoff),\n",
    "              'ecutwfc' :   '{:.5f}'.format(wfccutoff),\n",
    "              'ibrav' : str(ibrav),\n",
    "              'nat' : str(Natom),\n",
    "              'nbnd' : str(nbnd),\n",
    "              'ntyp' : str(1),\n",
    "              'occupations' : '\"smearing\"',\n",
    "              'smearing' : '\"cold\"',\n",
    "              'degauss' :   '1.0000000000d-02',\n",
    "        }\n",
    "    syskeys = [ 'ecutrho','ecutwfc','ibrav', 'nat','nbnd','ntyp' ,\n",
    "               'occupations', 'smearing','degauss' ]\n",
    "    electrons = {'conv_thr':'1.0000000000d-06'}\n",
    "\n",
    "    # define cards of QE\n",
    "    optionkey = 'unit'\n",
    "    atomic_sp = {'ATOMIC_SPECIES':{'species':np.unique(species), 'mass':mass,'PP':PP},'unit':''}\n",
    "    atspkeys = ['species','mass','PP']\n",
    "    atomic_pos = {'ATOMIC_POSITIONS':{'species':species,'positions':positions},'unit':'angstrom'}\n",
    "    atposkeys = ['species','positions']\n",
    "    kpoints = {'K_POINTS':{'kpoints':kpt+kpt_offset},'unit':'automatic'}\n",
    "    kptkeys = ['kpoints']\n",
    "    cell_param = {'CELL_PARAMETERS':{'cell':cell},'unit':'angstrom'}\n",
    "    cellkeys = ['cell']\n",
    "\n",
    "\n",
    "    qeInput = ''\n",
    "\n",
    "    qeInput += makeNamelist('&CONTROL',control)\n",
    "    qeInput += makeNamelist( '&SYSTEM' ,system,syskeys)\n",
    "    qeInput += makeNamelist( '&ELECTRONS',electrons)\n",
    "    qeInput += makeCard(atomic_sp,cardKeys = atspkeys,optionKey = optionkey,T = True) \n",
    "    qeInput += makeCard(atomic_pos,cardKeys = atposkeys,optionKey = optionkey,T = True) \n",
    "    qeInput += makeCard(kpoints,cardKeys = kptkeys,optionKey = optionkey,T = False)\n",
    "    qeInput += makeCard(cell_param,cardKeys = cellkeys,optionKey = optionkey,T = True)\n",
    "    \n",
    "    inputDic = qeInput\n",
    "        \n",
    "    return inputDic"
   ]
  },
  {
   "cell_type": "markdown",
   "metadata": {
    "heading_collapsed": true,
    "hidden": true
   },
   "source": [
    "## test"
   ]
  },
  {
   "cell_type": "code",
   "execution_count": 62,
   "metadata": {
    "hidden": true
   },
   "outputs": [
    {
     "name": "stdout",
     "output_type": "stream",
     "text": [
      "&CONTROL \n",
      "  wf_collect = .false. \n",
      "  calculation = \"scf\" \n",
      "  verbosity = \"high\" \n",
      "  pseudo_dir = \"./pseudo/\" \n",
      "  prefix = \"qe\" \n",
      "  restart_mode = \"from_scratch\" \n",
      "  outdir = \"./out/\" \n",
      "/ \n",
      "&SYSTEM \n",
      "  ecutrho = 80.00000 \n",
      "  ecutwfc = 20.00000 \n",
      "  ibrav = 0 \n",
      "  nat = 96 \n",
      "  nbnd = 230 \n",
      "  ntyp = 1 \n",
      "  occupations = \"smearing\" \n",
      "  smearing = \"cold\" \n",
      "  degauss = 1.0000000000d-02 \n",
      "/ \n",
      "&ELECTRONS \n",
      "  conv_thr = 1.0000000000d-06 \n",
      "/ \n",
      "ATOMIC_SPECIES   \n",
      "  Si  28.0855  Si.pbe-n-rrkjus_psl.1.0.0.UPF \n",
      "ATOMIC_POSITIONS  angstrom \n",
      "  Si    9.50434336  11.10461932   5.63759121 \n",
      "  Si   4.03831459  2.43803863  5.63759121 \n",
      "  Si    4.03831459  11.10461932   7.90506674 \n",
      "  Si   9.50434336  2.43803863  7.90506674 \n",
      "  Si    5.63759121   9.50434336  11.10461932 \n",
      "  Si   5.63759121  4.03831459  2.43803863 \n",
      "  Si    7.90506674   4.03831459  11.10461932 \n",
      "  Si   7.90506674  9.50434336  2.43803863 \n",
      "  Si   11.10461932   5.63759121   9.50434336 \n",
      "  Si   2.43803863  5.63759121  4.03831459 \n",
      "  Si   11.10461932   7.90506674   4.03831459 \n",
      "  Si   2.43803863  7.90506674  9.50434336 \n",
      "  Si   11.10461932   9.50434336   7.90506674 \n",
      "  Si   2.43803863  4.03831459  7.90506674 \n",
      "  Si   11.10461932   4.03831459   5.63759121 \n",
      "  Si   2.43803863  9.50434336  5.63759121 \n",
      "  Si   9.50434336  5.63759121  2.43803863 \n",
      "  Si    4.03831459   5.63759121  11.10461932 \n",
      "  Si   4.03831459  7.90506674  2.43803863 \n",
      "  Si    9.50434336   7.90506674  11.10461932 \n",
      "  Si    5.63759121  11.10461932   4.03831459 \n",
      "  Si   5.63759121  2.43803863  9.50434336 \n",
      "  Si    7.90506674  11.10461932   9.50434336 \n",
      "  Si   7.90506674  2.43803863  4.03831459 \n",
      "  Si    2.73301438   4.33329035  12.40892019 \n",
      "  Si   10.80964357   9.2093676   12.40892019 \n",
      "  Si   10.80964357   4.33329035   1.13373776 \n",
      "  Si   2.73301438  9.2093676   1.13373776 \n",
      "  Si   12.40892019   2.73301438   4.33329035 \n",
      "  Si   12.40892019  10.80964357   9.2093676  \n",
      "  Si    1.13373776  10.80964357   4.33329035 \n",
      "  Si   1.13373776  2.73301438  9.2093676  \n",
      "  Si    4.33329035  12.40892019   2.73301438 \n",
      "  Si    9.2093676   12.40892019  10.80964357 \n",
      "  Si    4.33329035   1.13373776  10.80964357 \n",
      "  Si   9.2093676   1.13373776  2.73301438 \n",
      "  Si   4.33329035  2.73301438  1.13373776 \n",
      "  Si    9.2093676   10.80964357   1.13373776 \n",
      "  Si    4.33329035  10.80964357  12.40892019 \n",
      "  Si    9.2093676    2.73301438  12.40892019 \n",
      "  Si    2.73301438  12.40892019   9.2093676  \n",
      "  Si   10.80964357  12.40892019   4.33329035 \n",
      "  Si   10.80964357   1.13373776   9.2093676  \n",
      "  Si   2.73301438  1.13373776  4.33329035 \n",
      "  Si   12.40892019   4.33329035  10.80964357 \n",
      "  Si   12.40892019   9.2093676    2.73301438 \n",
      "  Si   1.13373776  4.33329035  2.73301438 \n",
      "  Si    1.13373776   9.2093676   10.80964357 \n",
      "  Si   4.03831459  2.43803863  7.90506674 \n",
      "  Si    9.50434336  11.10461932   7.90506674 \n",
      "  Si   9.50434336  2.43803863  5.63759121 \n",
      "  Si    4.03831459  11.10461932   5.63759121 \n",
      "  Si   7.90506674  4.03831459  2.43803863 \n",
      "  Si    7.90506674   9.50434336  11.10461932 \n",
      "  Si   5.63759121  9.50434336  2.43803863 \n",
      "  Si    5.63759121   4.03831459  11.10461932 \n",
      "  Si   2.43803863  7.90506674  4.03831459 \n",
      "  Si   11.10461932   7.90506674   9.50434336 \n",
      "  Si   2.43803863  5.63759121  9.50434336 \n",
      "  Si   11.10461932   5.63759121   4.03831459 \n",
      "  Si   2.43803863  4.03831459  5.63759121 \n",
      "  Si   11.10461932   9.50434336   5.63759121 \n",
      "  Si   2.43803863  9.50434336  7.90506674 \n",
      "  Si   11.10461932   4.03831459   7.90506674 \n",
      "  Si    4.03831459   7.90506674  11.10461932 \n",
      "  Si   9.50434336  7.90506674  2.43803863 \n",
      "  Si    9.50434336   5.63759121  11.10461932 \n",
      "  Si   4.03831459  5.63759121  2.43803863 \n",
      "  Si   7.90506674  2.43803863  9.50434336 \n",
      "  Si    7.90506674  11.10461932   4.03831459 \n",
      "  Si   5.63759121  2.43803863  4.03831459 \n",
      "  Si    5.63759121  11.10461932   9.50434336 \n",
      "  Si   10.80964357   9.2093676    1.13373776 \n",
      "  Si   2.73301438  4.33329035  1.13373776 \n",
      "  Si    2.73301438   9.2093676   12.40892019 \n",
      "  Si   10.80964357   4.33329035  12.40892019 \n",
      "  Si    1.13373776  10.80964357   9.2093676  \n",
      "  Si   1.13373776  2.73301438  4.33329035 \n",
      "  Si   12.40892019   2.73301438   9.2093676  \n",
      "  Si   12.40892019  10.80964357   4.33329035 \n",
      "  Si    9.2093676    1.13373776  10.80964357 \n",
      "  Si   4.33329035  1.13373776  2.73301438 \n",
      "  Si    9.2093676   12.40892019   2.73301438 \n",
      "  Si    4.33329035  12.40892019  10.80964357 \n",
      "  Si    9.2093676   10.80964357  12.40892019 \n",
      "  Si    4.33329035   2.73301438  12.40892019 \n",
      "  Si   9.2093676   2.73301438  1.13373776 \n",
      "  Si    4.33329035  10.80964357   1.13373776 \n",
      "  Si   10.80964357   1.13373776   4.33329035 \n",
      "  Si   2.73301438  1.13373776  9.2093676  \n",
      "  Si    2.73301438  12.40892019   4.33329035 \n",
      "  Si   10.80964357  12.40892019   9.2093676  \n",
      "  Si   1.13373776  9.2093676   2.73301438 \n",
      "  Si    1.13373776   4.33329035  10.80964357 \n",
      "  Si   12.40892019   9.2093676   10.80964357 \n",
      "  Si   12.40892019   4.33329035   2.73301438 \n",
      "K_POINTS  automatic \n",
      "  2  2  2  0  0  0 \n",
      "CELL_PARAMETERS  angstrom \n",
      "    1.35426579e+01   1.33886362e-15   7.37861662e-16 \n",
      "    1.33886362e-15   1.35426579e+01   1.71182149e-15 \n",
      "    7.37861662e-16   1.71182149e-15   1.35426579e+01 \n",
      "\n"
     ]
    }
   ],
   "source": [
    "cc = crystals[229][0]\n",
    "inp = makeQEInnput_test(cc,ElemTable,\n",
    "                 zatom = 14,rhocutoff = 20 * 4,wfccutoff = 20,kpt = [2,2,2],kpt_offset = [0,0,0])\n",
    "print inp"
   ]
  },
  {
   "cell_type": "markdown",
   "metadata": {
    "heading_collapsed": true,
    "hidden": true
   },
   "source": [
    "## Load general information"
   ]
  },
  {
   "cell_type": "code",
   "execution_count": 48,
   "metadata": {
    "collapsed": true,
    "hidden": true
   },
   "outputs": [],
   "source": [
    "fileNames = {}\n",
    "dataPath = '../'  \n",
    "fileNames['crystals'] = dataPath+ 'partial_input_crystals_sg3-230.pck'\n",
    "fileNames['wyck'] = dataPath+'SpaceGroup-multiplicity-wickoff-info.pck'\n",
    "fileNames['general info'] = dataPath+'SpaceGroup-general-info.pck'\n",
    "fileNames['elements info'] = dataPath+'General-Info-Elements-fast.pck'"
   ]
  },
  {
   "cell_type": "code",
   "execution_count": 49,
   "metadata": {
    "collapsed": true,
    "hidden": true
   },
   "outputs": [],
   "source": [
    "# give the SG \n",
    "spaceGroupIdxRange  = range(1,230+1)\n",
    "\n",
    "with open(fileNames['crystals'],'rb') as f:\n",
    "    crystals = pck.load(f)\n",
    "    \n",
    "with open(fileNames['wyck'],'rb') as f:\n",
    "    WyckTable = pck.load(f)\n",
    "SGTable = pd.read_pickle(fileNames['general info'])\n",
    "ElemTable = pd.read_pickle(fileNames['elements info'])"
   ]
  },
  {
   "cell_type": "code",
   "execution_count": 50,
   "metadata": {
    "hidden": true
   },
   "outputs": [
    {
     "name": "stdout",
     "output_type": "stream",
     "text": [
      "[197, 199, 204, 206, 211, 214, 217, 220, 229, 230]\n"
     ]
    }
   ],
   "source": [
    "sg2ibrav = {it:SG2ibrav(it,SGTable) for it in range(1,230+1)}\n",
    "# print sg2ibrav\n",
    "relevant_sg = []\n",
    "for key,item in sg2ibrav.iteritems():\n",
    "    if item == 3:\n",
    "        relevant_sg.append(key)\n",
    "print relevant_sg"
   ]
  },
  {
   "cell_type": "code",
   "execution_count": 51,
   "metadata": {
    "collapsed": true,
    "hidden": true
   },
   "outputs": [],
   "source": [
    "inputDic = {}\n",
    "for sg in relevant_sg:\n",
    "    inputDic[sg] = makeQEInnput_ibrav0(crystals[sg][0],ElemTable,\n",
    "                 zatom = 14,rhocutoff = 20 * 4,wfccutoff = 20,kpt = [2,2,2],kpt_offset = [0,0,0],ppPath='\"./pseudo/\"')"
   ]
  },
  {
   "cell_type": "code",
   "execution_count": 52,
   "metadata": {
    "collapsed": true,
    "hidden": true
   },
   "outputs": [],
   "source": [
    "def make_dir(file_path):\n",
    "    directory = os.path.abspath(file_path)\n",
    "    if not os.path.exists(directory):\n",
    "        os.makedirs(directory)"
   ]
  },
  {
   "cell_type": "code",
   "execution_count": 58,
   "metadata": {
    "collapsed": true,
    "hidden": true
   },
   "outputs": [],
   "source": [
    "#'/Users/iMac/Documents/Workdir/QMAT/check-QE-crystal_sg'\n",
    "dirNames = {sg:'./data_ibrav3/sg-test_'+str(sg) for sg in relevant_sg}\n",
    "# dirNames = {sg:'./data_ibrav3/sg-test_'+str(sg) for sg in [229]}"
   ]
  },
  {
   "cell_type": "code",
   "execution_count": 59,
   "metadata": {
    "collapsed": true,
    "hidden": true
   },
   "outputs": [],
   "source": [
    "import subprocess as sp\n",
    "os.environ['TMPDIR'] = \"/tmp/\""
   ]
  },
  {
   "cell_type": "code",
   "execution_count": 60,
   "metadata": {
    "hidden": true
   },
   "outputs": [
    {
     "name": "stdout",
     "output_type": "stream",
     "text": [
      "-in /local/Dropbox/Felix_work/qmat/qe-sg-detection-test/data_ibrav3/sg-test_197/qe.in\n",
      "-in /local/Dropbox/Felix_work/qmat/qe-sg-detection-test/data_ibrav3/sg-test_230/qe.in\n",
      "-in /local/Dropbox/Felix_work/qmat/qe-sg-detection-test/data_ibrav3/sg-test_199/qe.in\n",
      "-in /local/Dropbox/Felix_work/qmat/qe-sg-detection-test/data_ibrav3/sg-test_204/qe.in\n",
      "-in /local/Dropbox/Felix_work/qmat/qe-sg-detection-test/data_ibrav3/sg-test_206/qe.in\n",
      "-in /local/Dropbox/Felix_work/qmat/qe-sg-detection-test/data_ibrav3/sg-test_211/qe.in\n",
      "-in /local/Dropbox/Felix_work/qmat/qe-sg-detection-test/data_ibrav3/sg-test_214/qe.in\n",
      "-in /local/Dropbox/Felix_work/qmat/qe-sg-detection-test/data_ibrav3/sg-test_217/qe.in\n",
      "-in /local/Dropbox/Felix_work/qmat/qe-sg-detection-test/data_ibrav3/sg-test_220/qe.in\n",
      "-in /local/Dropbox/Felix_work/qmat/qe-sg-detection-test/data_ibrav3/sg-test_229/qe.in\n"
     ]
    }
   ],
   "source": [
    "exitState = {}\n",
    "path2pw = '/home/musil/source/qe-6.1/bin/'\n",
    "for sg in dirNames:\n",
    "    make_dir(dirNames[sg])\n",
    "    inputName = os.path.abspath(dirNames[sg]+'/qe.in')\n",
    "    outputName = os.path.abspath(dirNames[sg]+'/qe.out')\n",
    "    errName = os.path.abspath(dirNames[sg]+'/qe.err')\n",
    "    with open(inputName,'w') as f:\n",
    "        f.write(inputDic[sg])\n",
    "    param = '-in '+ inputName\n",
    "    print param\n",
    "    # Set up the echo command and direct the output to a pipe\n",
    "    exitState[sg] = sp.call('mpirun -np 2 '+path2pw+'pw.x ' + param , stdout=open(outputName, 'w'), \n",
    "                             stderr=open(errName, 'w'), shell=True)\n",
    "    if exitState[sg]:\n",
    "        print sg\n"
   ]
  },
  {
   "cell_type": "code",
   "execution_count": null,
   "metadata": {
    "collapsed": true,
    "hidden": true
   },
   "outputs": [],
   "source": [
    "prbSg = []\n",
    "for sg in exitState:\n",
    "    if exitState[sg]:\n",
    "        prbSg.append(sg)\n",
    "        \n",
    "print prbSg"
   ]
  },
  {
   "cell_type": "code",
   "execution_count": 65,
   "metadata": {
    "hidden": true
   },
   "outputs": [
    {
     "name": "stdout",
     "output_type": "stream",
     "text": [
      "[197, 199, 204, 206, 211, 214, 217, 220, 229, 230]\n"
     ]
    }
   ],
   "source": [
    "print relevant_sg"
   ]
  },
  {
   "cell_type": "code",
   "execution_count": 82,
   "metadata": {
    "collapsed": true,
    "hidden": true
   },
   "outputs": [],
   "source": [
    "db = spg.get_symmetry(crystals[206][0])\n",
    "syms = [(r,t) for r,t in zip(db['rotations'],db['translations'])]"
   ]
  },
  {
   "cell_type": "code",
   "execution_count": 83,
   "metadata": {
    "hidden": true
   },
   "outputs": [
    {
     "data": {
      "text/plain": [
       "48"
      ]
     },
     "execution_count": 83,
     "metadata": {},
     "output_type": "execute_result"
    }
   ],
   "source": [
    "len(syms)"
   ]
  },
  {
   "cell_type": "code",
   "execution_count": 79,
   "metadata": {
    "hidden": true
   },
   "outputs": [
    {
     "data": {
      "text/plain": [
       "[(array([[ 0, -1,  0],\n",
       "         [ 0,  0,  1],\n",
       "         [-1,  0,  0]], dtype=int32), array([ 0.5,  1. ,  1. ])),\n",
       " (array([[ 0, -1,  0],\n",
       "         [ 0,  0, -1],\n",
       "         [ 1,  0,  0]], dtype=int32), array([ 0.5,  1. ,  0.5])),\n",
       " (array([[0, 1, 0],\n",
       "         [0, 0, 1],\n",
       "         [1, 0, 0]], dtype=int32), array([ 0.5,  0.5,  0.5])),\n",
       " (array([[ 0,  0, -1],\n",
       "         [ 1,  0,  0],\n",
       "         [ 0, -1,  0]], dtype=int32), array([ 0.5,  1. ,  1. ])),\n",
       " (array([[0, 0, 1],\n",
       "         [1, 0, 0],\n",
       "         [0, 1, 0]], dtype=int32), array([ 0.5,  0.5,  0.5]))]"
      ]
     },
     "execution_count": 79,
     "metadata": {},
     "output_type": "execute_result"
    }
   ],
   "source": [
    "syms[5:10]"
   ]
  },
  {
   "cell_type": "code",
   "execution_count": null,
   "metadata": {
    "collapsed": true,
    "hidden": true
   },
   "outputs": [],
   "source": []
  }
 ],
 "metadata": {
  "kernelspec": {
   "display_name": "Python 2 glosim",
   "language": "python",
   "name": "glosim"
  },
  "language_info": {
   "codemirror_mode": {
    "name": "ipython",
    "version": 2
   },
   "file_extension": ".py",
   "mimetype": "text/x-python",
   "name": "python",
   "nbconvert_exporter": "python",
   "pygments_lexer": "ipython2",
   "version": "2.7.13"
  },
  "toc": {
   "colors": {
    "hover_highlight": "#DAA520",
    "navigate_num": "#000000",
    "navigate_text": "#333333",
    "running_highlight": "#FF0000",
    "selected_highlight": "#FFD700",
    "sidebar_border": "#EEEEEE",
    "wrapper_background": "#FFFFFF"
   },
   "moveMenuLeft": true,
   "nav_menu": {
    "height": "219px",
    "width": "252px"
   },
   "navigate_menu": true,
   "number_sections": true,
   "sideBar": true,
   "threshold": 4,
   "toc_cell": false,
   "toc_section_display": "block",
   "toc_window_display": false,
   "widenNotebook": false
  }
 },
 "nbformat": 4,
 "nbformat_minor": 1
}

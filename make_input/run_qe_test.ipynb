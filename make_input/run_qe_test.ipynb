{
 "cells": [
  {
   "cell_type": "code",
   "execution_count": 37,
   "metadata": {},
   "outputs": [
    {
     "name": "stdout",
     "output_type": "stream",
     "text": [
      "The autoreload extension is already loaded. To reload it, use:\n",
      "  %reload_ext autoreload\n"
     ]
    }
   ],
   "source": [
    "%load_ext autoreload\n",
    "%autoreload 2\n",
    "\n",
    "import spglib as spg\n",
    "import ase\n",
    "from ase.visualize import view\n",
    "\n",
    "import ase.spacegroup as aspg\n",
    "import numpy as np\n",
    "import pandas as pd\n",
    "from collections import Iterable\n",
    "import cPickle as pck\n",
    "import spglib as spg\n",
    "import sys, os\n",
    "from utils import rotation_matrix,isCellSkewed,unskewCell,get_symprec,get_relative_angle\n",
    "from qe_input import makeCard,makeNamelist,SG2ibrav,SG2wyckoff,makeQEInput_sg,makeQEInput_ibrav0,makeQEInput\n",
    "from custom_frame import frame2qe_format\n",
    "from qe_run import run_qe_local\n",
    "from raw_info import SG2BravaisLattice"
   ]
  },
  {
   "cell_type": "code",
   "execution_count": 17,
   "metadata": {
    "collapsed": true
   },
   "outputs": [],
   "source": [
    "fileNames = {}\n",
    "infoPath = '../info/'\n",
    "structurePath = '../structures/'\n",
    "fileNames['crystals'] = structurePath + 'partial_input_crystals_sg3-230.pck'\n",
    "fileNames['wyck'] = infoPath+'SpaceGroup-multiplicity-wickoff-info.pck'\n",
    "fileNames['general info'] = infoPath+'SpaceGroup-general-info.pck'\n",
    "fileNames['elements info'] = infoPath+'General-Info-Elements-fast.pck'"
   ]
  },
  {
   "cell_type": "code",
   "execution_count": 18,
   "metadata": {
    "collapsed": true
   },
   "outputs": [],
   "source": [
    "with open(fileNames['crystals'],'rb') as f:\n",
    "    crystals = pck.load(f)\n",
    "with open(fileNames['wyck'],'rb') as f:\n",
    "    WyckTable = pck.load(f)\n",
    "SGTable = pd.read_pickle(fileNames['general info'])\n",
    "ElemTable = pd.read_pickle(fileNames['elements info'])"
   ]
  },
  {
   "cell_type": "code",
   "execution_count": 38,
   "metadata": {},
   "outputs": [
    {
     "data": {
      "text/plain": [
       "'orthorhombic C'"
      ]
     },
     "execution_count": 38,
     "metadata": {},
     "output_type": "execute_result"
    }
   ],
   "source": [
    "SG2BravaisLattice[68]"
   ]
  },
  {
   "cell_type": "code",
   "execution_count": 63,
   "metadata": {
    "collapsed": true
   },
   "outputs": [],
   "source": [
    "sg = 43\n",
    "cc = crystals[sg][1]\n",
    "dd = frame2qe_format(cc,sg)\n",
    "# view(cc)\n",
    "# view(dd)"
   ]
  },
  {
   "cell_type": "code",
   "execution_count": 64,
   "metadata": {},
   "outputs": [
    {
     "name": "stdout",
     "output_type": "stream",
     "text": [
      "&CONTROL \n",
      "  calculation = \"scf\" \n",
      "  outdir = \"./out/\" \n",
      "  prefix = \"qe\" \n",
      "  pseudo_dir = \"../pseudo/\" \n",
      "  restart_mode = \"from_scratch\" \n",
      "  verbosity = \"high\" \n",
      "  wf_collect = .false. \n",
      "  nstep = 150 \n",
      "  etot_conv_thr = 0.00040 \n",
      "  forc_conv_thr = 0.00100 \n",
      "/ \n",
      "&SYSTEM \n",
      "  ecutrho = 80.00000 \n",
      "  ecutwfc = 20.00000 \n",
      "  ibrav = 0 \n",
      "  nat = 4 \n",
      "  nbnd = 12 \n",
      "  ntyp = 1 \n",
      "  occupations = \"smearing\" \n",
      "  smearing = \"cold\" \n",
      "  degauss = 0.010000 \n",
      "/ \n",
      "&ELECTRONS \n",
      "  conv_thr = 0.00000100 \n",
      "/ \n",
      "&CELL \n",
      "  press = 0.00000 \n",
      "  press_conv_thr = 0.50000 \n",
      "  cell_factor = 2.00000 \n",
      "/ \n",
      "ATOMIC_SPECIES   \n",
      "  Si  28.0855  Si.pbe-n-rrkjus_psl.1.0.0.UPF \n",
      "ATOMIC_POSITIONS  angstrom \n",
      "  Si   2.4394518   8.01397699  1.09719521 \n",
      "  Si   0.81315603  6.35925701  1.09719521 \n",
      "  Si    1.62630799  11.60728549   1.86125872 \n",
      "  Si   1.62629984  2.76594851  1.86125872 \n",
      "K_POINTS  automatic \n",
      "  2  2  2  0  0  0 \n",
      "CELL_PARAMETERS  angstrom \n",
      "   0.          7.186617    1.52812703 \n",
      "   1.62630392  0.          1.52812703 \n",
      "   1.62630392  7.186617    0.         \n",
      "\n"
     ]
    }
   ],
   "source": [
    "inpt = makeQEInput(cc,sg,WyckTable,SGTable,ElemTable,\n",
    "                 zatom = 14,rhocutoff = 20 * 4,wfccutoff = 20,\n",
    "                 calculation_type='\"scf\"',smearing=1e-2,\n",
    "                 kpt = [2,2,2],Nkpt=None,kpt_offset = [0,0,0],ppPath='\"../pseudo/\"',\n",
    "                 PP=['Si.pbe-n-rrkjus_psl.1.0.0.UPF'])\n",
    "print inpt"
   ]
  },
  {
   "cell_type": "code",
   "execution_count": 28,
   "metadata": {
    "collapsed": true
   },
   "outputs": [],
   "source": []
  },
  {
   "cell_type": "code",
   "execution_count": 46,
   "metadata": {},
   "outputs": [
    {
     "name": "stdout",
     "output_type": "stream",
     "text": [
      "0\n",
      "No error\n"
     ]
    }
   ],
   "source": [
    "sg = 68\n",
    "dirName = '../test_run/data_1/sg-test_'+str(sg)\n",
    "cc = crystals[sg][3]\n",
    "inpt = makeQEInput(cc,sg,WyckTable,SGTable,ElemTable,\n",
    "                 zatom = 14,rhocutoff = 20 * 4,wfccutoff = 20,\n",
    "                 calculation_type='\"scf\"',smearing=1e-2,\n",
    "                pressure=0,press_conv_thr=0.5,cell_factor=2,\n",
    "                etot_conv_thr=1e-4,forc_conv_thr=1e-3,nstep=150,\n",
    "                 kpt = [2,2,2],Nkpt=None,kpt_offset = [0,0,0],ppPath='\"../pseudo/\"',\n",
    "                 PP=['Si.pbe-n-rrkjus_psl.1.0.0.UPF'])\n",
    "exitState,error = run_qe_local(inpt,dirName,path2mpi='/usr/bin/',np=2,path2pw='/home/musil/source/qe-6.1/bin/')\n",
    "print exitState\n",
    "print error"
   ]
  },
  {
   "cell_type": "markdown",
   "metadata": {},
   "source": [
    "# Test symmetry detection for ibrav0"
   ]
  },
  {
   "cell_type": "code",
   "execution_count": 57,
   "metadata": {
    "collapsed": true
   },
   "outputs": [],
   "source": [
    "from qe_input import ibrav0\n",
    "from tqdm import tqdm_notebook\n"
   ]
  },
  {
   "cell_type": "code",
   "execution_count": 58,
   "metadata": {},
   "outputs": [],
   "source": [
    "dirNames = {(sg,it):'../test_run/check_ibrav0_sym/sg_{}-f_{}'.format(sg,it) \n",
    "            for sg in ibrav0 for it in range(len(crystals[sg]))}"
   ]
  },
  {
   "cell_type": "code",
   "execution_count": 60,
   "metadata": {},
   "outputs": [
    {
     "data": {
      "application/vnd.jupyter.widget-view+json": {
       "model_id": "bc88ba60ffd94f768a81ab2e7a9bd6b2"
      }
     },
     "metadata": {},
     "output_type": "display_data"
    },
    {
     "name": "stdout",
     "output_type": "stream",
     "text": [
      "\n"
     ]
    }
   ],
   "source": [
    "exitStates,errors = {},{}\n",
    "pbar = tqdm_notebook(total=len(dirNames))\n",
    "for (sg,it),dirName in dirNames.iteritems():\n",
    "    cc = crystals[sg][it]\n",
    "    inpt = makeQEInput(cc,sg,WyckTable,SGTable,ElemTable,\n",
    "                 zatom = 14,rhocutoff = 20 * 4,wfccutoff = 20,\n",
    "                 calculation_type='\"scf\"',smearing=1e-2,\n",
    "                pressure=0,press_conv_thr=0.5,cell_factor=2,\n",
    "                etot_conv_thr=1e-2,forc_conv_thr=1e-1,nstep=150,\n",
    "                scf_conv_thr=1e-1,\n",
    "                 kpt = [2,2,2],Nkpt=None,kpt_offset = [0,0,0],ppPath='\"../pseudo/\"',\n",
    "                 PP=['Si.pbe-n-rrkjus_psl.1.0.0.UPF'])\n",
    "    exitStates[(sg,it)],errors[(sg,it)] = run_qe_local(inpt,dirName,path2mpi='/usr/bin/',np=2,path2pw='/home/musil/source/qe-6.1/bin/')\n",
    "    pbar.update()\n",
    "    if exitStates[(sg,it)]:\n",
    "        print sg,it"
   ]
  },
  {
   "cell_type": "markdown",
   "metadata": {},
   "source": [
    "## additional runs"
   ]
  },
  {
   "cell_type": "code",
   "execution_count": 66,
   "metadata": {},
   "outputs": [
    {
     "name": "stdout",
     "output_type": "stream",
     "text": [
      "0\n",
      "No error\n"
     ]
    }
   ],
   "source": [
    "sg = 211\n",
    "dirName = '../test_run/data_1/sg-test_'+str(sg)\n",
    "cc = crystals[sg][3]\n",
    "inpt = makeQEInput(cc,sg,WyckTable,SGTable,ElemTable,\n",
    "                 zatom = 14,rhocutoff = 20 * 4,wfccutoff = 20,\n",
    "                 calculation_type='\"scf\"',smearing=1e-2,\n",
    "                pressure=0,press_conv_thr=0.5,cell_factor=2,\n",
    "                etot_conv_thr=1e-4,forc_conv_thr=1e-3,nstep=150,\n",
    "                   scf_conv_thr=1e-1,\n",
    "                 kpt = [2,2,2],Nkpt=None,kpt_offset = [0,0,0],ppPath='\"../pseudo/\"',\n",
    "                 PP=['Si.pbe-n-rrkjus_psl.1.0.0.UPF'])\n",
    "exitState,error = run_qe_local(inpt,dirName,path2mpi='/usr/bin/',np=2,path2pw='/home/musil/source/qe-6.1/bin/')\n",
    "print exitState\n",
    "print error"
   ]
  },
  {
   "cell_type": "markdown",
   "metadata": {},
   "source": [
    "# run qe through ssh"
   ]
  },
  {
   "cell_type": "code",
   "execution_count": 67,
   "metadata": {
    "collapsed": true
   },
   "outputs": [],
   "source": [
    "from multiprocessing.dummy import Pool as ThreadedPool"
   ]
  },
  {
   "cell_type": "markdown",
   "metadata": {},
   "source": [
    "source : https://gist.github.com/acdha/6064215"
   ]
  },
  {
   "cell_type": "code",
   "execution_count": 69,
   "metadata": {},
   "outputs": [
    {
     "name": "stdout",
     "output_type": "stream",
     "text": [
      "[lsmx1] Executing task 'put'\n"
     ]
    },
    {
     "name": "stderr",
     "output_type": "stream",
     "text": [
      "\n",
      "Fatal error: Name lookup failed for lsmx1\n",
      "\n",
      "Underlying exception:\n",
      "    Name or service not known\n",
      "\n",
      "Aborting.\n"
     ]
    },
    {
     "ename": "SystemExit",
     "evalue": "1",
     "output_type": "error",
     "traceback": [
      "An exception has occurred, use %tb to see the full traceback.\n",
      "\u001b[0;31mSystemExit\u001b[0m\u001b[0;31m:\u001b[0m 1\n"
     ]
    },
    {
     "name": "stderr",
     "output_type": "stream",
     "text": [
      "/home/musil/.local/lib/python2.7/site-packages/IPython/core/interactiveshell.py:2889: UserWarning: To exit: use 'exit', 'quit', or Ctrl-D.\n",
      "  warn(\"To exit: use 'exit', 'quit', or Ctrl-D.\", stacklevel=1)\n"
     ]
    }
   ],
   "source": [
    "from fabric.api import \n",
    "from fabric.network import disconnect_all\n",
    "\n",
    "# specify hostname to connect to and the remote/local paths\n",
    "srcdir, remote_dirname, hostname = './qe_run.py','/home/musil','lsmx1'\n",
    "try:\n",
    "    s = execute(put, srcdir, remote_dirname, host=hostname)\n",
    "    print(repr(s))\n",
    "finally:\n",
    "    disconnect_all()"
   ]
  },
  {
   "cell_type": "code",
   "execution_count": null,
   "metadata": {
    "collapsed": true
   },
   "outputs": [],
   "source": [
    "aa = ssh.get_host_keys"
   ]
  },
  {
   "cell_type": "code",
   "execution_count": 1,
   "metadata": {},
   "outputs": [],
   "source": [
    "from fabric.api import run, env\n",
    "from fabric.network import disconnect_all\n",
    "env.use_ssh_config = True\n",
    "env.hosts = ['fidis']\n"
   ]
  },
  {
   "cell_type": "code",
   "execution_count": 3,
   "metadata": {},
   "outputs": [],
   "source": [
    "from fabric.api import put\n",
    "put?"
   ]
  },
  {
   "cell_type": "code",
   "execution_count": 3,
   "metadata": {},
   "outputs": [
    {
     "name": "stdout",
     "output_type": "stream",
     "text": [
      "[fidis] run: ls\n",
      "[fidis] out: environment.yml  git  intel  miniconda\tminiconda.sh  source  workspace\n",
      "[fidis] out: \n",
      "\n",
      "Disconnecting from fidis.epfl.ch... done.\n"
     ]
    }
   ],
   "source": [
    "try:\n",
    "    run('ls')\n",
    "finally:\n",
    "    disconnect_all()\n"
   ]
  },
  {
   "cell_type": "code",
   "execution_count": 4,
   "metadata": {
    "collapsed": true
   },
   "outputs": [],
   "source": [
    "options = {'hostname': 'lsmx1', 'username':'musil' }"
   ]
  },
  {
   "cell_type": "code",
   "execution_count": 6,
   "metadata": {},
   "outputs": [],
   "source": [
    "import paramiko,os\n",
    "client = paramiko.SSHClient()\n",
    "client._policy = paramiko.WarningPolicy()\n",
    "client.set_missing_host_key_policy(paramiko.AutoAddPolicy())\n",
    "\n",
    "ssh_config = paramiko.SSHConfig()\n",
    "user_config_file = os.path.expanduser(\"~/.ssh/config\")\n",
    "if os.path.exists(user_config_file):\n",
    "    with open(user_config_file) as f:\n",
    "        ssh_config.parse(f)\n",
    "\n",
    "cfg = {'hostname': options['hostname'], 'username': options[\"username\"]}\n",
    "\n",
    "user_config = ssh_config.lookup(cfg['hostname'])\n",
    "for k in ('hostname', 'username', 'port'):\n",
    "    if k in user_config:\n",
    "        cfg[k] = user_config[k]\n",
    "\n",
    "if 'proxycommand' in user_config:\n",
    "    cfg['sock'] = paramiko.ProxyCommand(user_config['proxycommand'])\n",
    "\n",
    "client.connect(**cfg)"
   ]
  },
  {
   "cell_type": "code",
   "execution_count": 19,
   "metadata": {},
   "outputs": [
    {
     "name": "stdout",
     "output_type": "stream",
     "text": [
      "examples.desktop\n",
      "fusion\n",
      "Jack\n",
      "miniconda2\n",
      "opt\n",
      "source\n",
      "\n"
     ]
    }
   ],
   "source": [
    "ssh_stdin, ssh_stdout, ssh_stderr = client.exec_command('ls')\n",
    "print ssh_stdout.read()"
   ]
  },
  {
   "cell_type": "code",
   "execution_count": 23,
   "metadata": {
    "collapsed": true
   },
   "outputs": [
    {
     "ename": "AttributeError",
     "evalue": "'NoneType' object has no attribute 'open_session'",
     "output_type": "error",
     "traceback": [
      "\u001b[0;31m---------------------------------------------------------------------------\u001b[0m",
      "\u001b[0;31mAttributeError\u001b[0m                            Traceback (most recent call last)",
      "\u001b[0;32m<ipython-input-23-6b1c28f7fc8f>\u001b[0m in \u001b[0;36m<module>\u001b[0;34m()\u001b[0m\n\u001b[0;32m----> 1\u001b[0;31m \u001b[0mssh_stdin\u001b[0m\u001b[0;34m,\u001b[0m \u001b[0mssh_stdout\u001b[0m\u001b[0;34m,\u001b[0m \u001b[0mssh_stderr\u001b[0m \u001b[0;34m=\u001b[0m \u001b[0mclient\u001b[0m\u001b[0;34m.\u001b[0m\u001b[0mexec_command\u001b[0m\u001b[0;34m(\u001b[0m\u001b[0;34m'echo $HOSTNAME'\u001b[0m\u001b[0;34m)\u001b[0m\u001b[0;34m\u001b[0m\u001b[0m\n\u001b[0m\u001b[1;32m      2\u001b[0m \u001b[0;32mprint\u001b[0m \u001b[0mssh_stdout\u001b[0m\u001b[0;34m.\u001b[0m\u001b[0mread\u001b[0m\u001b[0;34m(\u001b[0m\u001b[0;34m)\u001b[0m\u001b[0;34m\u001b[0m\u001b[0m\n",
      "\u001b[0;32m/home/musil/.local/lib/python2.7/site-packages/paramiko/client.pyc\u001b[0m in \u001b[0;36mexec_command\u001b[0;34m(self, command, bufsize, timeout, get_pty)\u001b[0m\n\u001b[1;32m    339\u001b[0m         \u001b[0;34m:\u001b[0m\u001b[0mraises\u001b[0m \u001b[0mSSHException\u001b[0m\u001b[0;34m:\u001b[0m \u001b[0;32mif\u001b[0m \u001b[0mthe\u001b[0m \u001b[0mserver\u001b[0m \u001b[0mfails\u001b[0m \u001b[0mto\u001b[0m \u001b[0mexecute\u001b[0m \u001b[0mthe\u001b[0m \u001b[0mcommand\u001b[0m\u001b[0;34m\u001b[0m\u001b[0m\n\u001b[1;32m    340\u001b[0m         \"\"\"\n\u001b[0;32m--> 341\u001b[0;31m         \u001b[0mchan\u001b[0m \u001b[0;34m=\u001b[0m \u001b[0mself\u001b[0m\u001b[0;34m.\u001b[0m\u001b[0m_transport\u001b[0m\u001b[0;34m.\u001b[0m\u001b[0mopen_session\u001b[0m\u001b[0;34m(\u001b[0m\u001b[0;34m)\u001b[0m\u001b[0;34m\u001b[0m\u001b[0m\n\u001b[0m\u001b[1;32m    342\u001b[0m         \u001b[0;32mif\u001b[0m \u001b[0mget_pty\u001b[0m\u001b[0;34m:\u001b[0m\u001b[0;34m\u001b[0m\u001b[0m\n\u001b[1;32m    343\u001b[0m             \u001b[0mchan\u001b[0m\u001b[0;34m.\u001b[0m\u001b[0mget_pty\u001b[0m\u001b[0;34m(\u001b[0m\u001b[0;34m)\u001b[0m\u001b[0;34m\u001b[0m\u001b[0m\n",
      "\u001b[0;31mAttributeError\u001b[0m: 'NoneType' object has no attribute 'open_session'"
     ]
    }
   ],
   "source": [
    "ssh_stdin, ssh_stdout, ssh_stderr = client.exec_command('echo $HOSTNAME')\n",
    "print ssh_stdout.read()"
   ]
  },
  {
   "cell_type": "code",
   "execution_count": 22,
   "metadata": {
    "collapsed": true
   },
   "outputs": [],
   "source": [
    "client.close()"
   ]
  },
  {
   "cell_type": "code",
   "execution_count": null,
   "metadata": {
    "collapsed": true
   },
   "outputs": [],
   "source": []
  }
 ],
 "metadata": {
  "kernelspec": {
   "display_name": "Python 2 glosim",
   "language": "python",
   "name": "glosim"
  },
  "language_info": {
   "codemirror_mode": {
    "name": "ipython",
    "version": 2
   },
   "file_extension": ".py",
   "mimetype": "text/x-python",
   "name": "python",
   "nbconvert_exporter": "python",
   "pygments_lexer": "ipython2",
   "version": "2.7.13"
  },
  "toc": {
   "colors": {
    "hover_highlight": "#DAA520",
    "navigate_num": "#000000",
    "navigate_text": "#333333",
    "running_highlight": "#FF0000",
    "selected_highlight": "#FFD700",
    "sidebar_border": "#EEEEEE",
    "wrapper_background": "#FFFFFF"
   },
   "moveMenuLeft": true,
   "nav_menu": {
    "height": "72px",
    "width": "252px"
   },
   "navigate_menu": true,
   "number_sections": true,
   "sideBar": true,
   "threshold": 4,
   "toc_cell": false,
   "toc_section_display": "block",
   "toc_window_display": false,
   "widenNotebook": false
  }
 },
 "nbformat": 4,
 "nbformat_minor": 2
}

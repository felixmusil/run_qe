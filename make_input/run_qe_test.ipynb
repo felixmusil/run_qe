{
 "cells": [
  {
   "cell_type": "code",
   "execution_count": 5,
   "metadata": {},
   "outputs": [
    {
     "name": "stdout",
     "output_type": "stream",
     "text": [
      "The autoreload extension is already loaded. To reload it, use:\n",
      "  %reload_ext autoreload\n"
     ]
    }
   ],
   "source": [
    "%load_ext autoreload\n",
    "%autoreload 2\n",
    "\n",
    "import spglib as spg\n",
    "import ase\n",
    "from ase.visualize import view\n",
    "\n",
    "import ase.spacegroup as aspg\n",
    "import numpy as np\n",
    "import pandas as pd\n",
    "from collections import Iterable\n",
    "import cPickle as pck\n",
    "import spglib as spg\n",
    "import sys, os\n",
    "from utils import rotation_matrix,isCellSkewed,unskewCell,get_symprec,get_relative_angle\n",
    "from qe_input import makeCard,makeNamelist,SG2ibrav,SG2wyckoff,makeQEInput_sg,makeQEInput_ibrav0,makeQEInput\n",
    "from custom_frame import frame2qe_format"
   ]
  },
  {
   "cell_type": "code",
   "execution_count": 6,
   "metadata": {
    "collapsed": true
   },
   "outputs": [],
   "source": [
    "fileNames = {}\n",
    "infoPath = '../info/'\n",
    "structurePath = '../structures/'\n",
    "fileNames['crystals'] = structurePath + 'partial_input_crystals_sg3-230.pck'\n",
    "fileNames['wyck'] = infoPath+'SpaceGroup-multiplicity-wickoff-info.pck'\n",
    "fileNames['general info'] = infoPath+'SpaceGroup-general-info.pck'\n",
    "fileNames['elements info'] = infoPath+'General-Info-Elements-fast.pck'"
   ]
  },
  {
   "cell_type": "code",
   "execution_count": 7,
   "metadata": {
    "collapsed": true
   },
   "outputs": [],
   "source": [
    "with open(fileNames['crystals'],'rb') as f:\n",
    "    crystals = pck.load(f)\n",
    "with open(fileNames['wyck'],'rb') as f:\n",
    "    WyckTable = pck.load(f)\n",
    "SGTable = pd.read_pickle(fileNames['general info'])\n",
    "ElemTable = pd.read_pickle(fileNames['elements info'])"
   ]
  },
  {
   "cell_type": "code",
   "execution_count": null,
   "metadata": {
    "collapsed": true
   },
   "outputs": [],
   "source": []
  }
 ],
 "metadata": {
  "kernelspec": {
   "display_name": "Python 2 glosim",
   "language": "python",
   "name": "glosim"
  },
  "language_info": {
   "codemirror_mode": {
    "name": "ipython",
    "version": 2
   },
   "file_extension": ".py",
   "mimetype": "text/x-python",
   "name": "python",
   "nbconvert_exporter": "python",
   "pygments_lexer": "ipython2",
   "version": "2.7.13"
  },
  "toc": {
   "colors": {
    "hover_highlight": "#DAA520",
    "navigate_num": "#000000",
    "navigate_text": "#333333",
    "running_highlight": "#FF0000",
    "selected_highlight": "#FFD700",
    "sidebar_border": "#EEEEEE",
    "wrapper_background": "#FFFFFF"
   },
   "moveMenuLeft": true,
   "nav_menu": {
    "height": "12px",
    "width": "252px"
   },
   "navigate_menu": true,
   "number_sections": true,
   "sideBar": true,
   "threshold": 4,
   "toc_cell": false,
   "toc_section_display": "block",
   "toc_window_display": false,
   "widenNotebook": false
  }
 },
 "nbformat": 4,
 "nbformat_minor": 2
}

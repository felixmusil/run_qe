{
 "cells": [
  {
   "cell_type": "code",
   "execution_count": 44,
   "metadata": {
    "collapsed": true
   },
   "outputs": [],
   "source": [
    "import ase\n",
    "import numpy as np\n",
    "import cPickle as pck\n",
    "from ase.visualize import view\n",
    "import quippy as qp"
   ]
  },
  {
   "cell_type": "code",
   "execution_count": 47,
   "metadata": {
    "collapsed": true
   },
   "outputs": [],
   "source": [
    "def qp2ase(qpatoms):\n",
    "    from ase import Atoms as aseAtoms\n",
    "    positions = qpatoms.get_positions()\n",
    "    cell = qpatoms.get_cell()\n",
    "    numbers = qpatoms.get_atomic_numbers()\n",
    "    pbc = qpatoms.get_pbc()\n",
    "    atoms = aseAtoms(numbers=numbers, cell=cell, positions=positions, pbc=pbc)\n",
    "\n",
    "    for key, item in qpatoms.arrays.iteritems():\n",
    "        if key in ['positions', 'numbers', 'species', 'map_shift', 'n_neighb']:\n",
    "            continue\n",
    "        atoms.set_array(key, item)\n",
    "\n",
    "    return atoms\n",
    "\n",
    "def ase2qp(aseatoms):\n",
    "    from quippy import Atoms as qpAtoms\n",
    "    positions = aseatoms.get_positions()\n",
    "    cell = aseatoms.get_cell()\n",
    "    numbers = aseatoms.get_atomic_numbers()\n",
    "    pbc = aseatoms.get_pbc()\n",
    "    return qpAtoms(numbers=numbers,cell=cell,positions=positions,pbc=pbc)\n"
   ]
  },
  {
   "cell_type": "code",
   "execution_count": 2,
   "metadata": {
    "collapsed": true
   },
   "outputs": [],
   "source": [
    "fn = '../structures/partial_input_crystals_sg3-230.pck'\n",
    "with open(fn,'rb') as f:\n",
    "    crystals = pck.load(f)"
   ]
  },
  {
   "cell_type": "code",
   "execution_count": 20,
   "metadata": {},
   "outputs": [
    {
     "name": "stdout",
     "output_type": "stream",
     "text": [
      "[ 6.08213307  6.08213307  4.44315381]\n",
      "[   6.08213307    6.08213307    4.44315381   90.           90.          120.        ]\n",
      "[ 0.18985125  0.18985125  0.22506536]\n",
      "[3 3 4] 3\n"
     ]
    }
   ],
   "source": [
    "cc = crystals[190][0]\n",
    "cell = cc.get_cell()\n",
    "ir_cell = cc.get_reciprocal_cell()\n",
    "print np.linalg.norm(cell,axis=1)\n",
    "print cc.get_cell_lengths_and_angles()\n",
    "print np.linalg.norm(ir_cell,axis=1)\n",
    "ir_l = np.linalg.norm(ir_cell,axis=1)\n",
    "dens = 20\n",
    "nb = np.array(ir_l * dens,dtype=np.int64)\n",
    "print nb,nb[0]*nb[1]*nb[2] / cc.get_number_of_atoms()\n"
   ]
  },
  {
   "cell_type": "code",
   "execution_count": 121,
   "metadata": {},
   "outputs": [
    {
     "name": "stdout",
     "output_type": "stream",
     "text": [
      "[ 1.  1.  1.]\n",
      "[3 3 3]\n",
      "[ 7.63998959  7.63998959  7.63998959]\n",
      "27 20.8333333333\n"
     ]
    }
   ],
   "source": [
    "cc = unskewCell(crystals[206][0])\n",
    "cell = cc.get_cell()\n",
    "ir_cell = cc.get_reciprocal_cell()\n",
    "\n",
    "\n",
    "ir_l = np.linalg.norm(ir_cell,axis=1)\n",
    "n_kpt = 1000 / cc.get_number_of_atoms()\n",
    "n_reg = np.power(n_kpt,1./3.).round()\n",
    "\n",
    "mid = list(set(range(3)).difference([ir_l.argmin(),ir_l.argmax()]))\n",
    "ir_l = ir_l / ir_l[mid]\n",
    "\n",
    "nb = np.array(np.ceil(n_reg*ir_l),dtype=np.int64)\n",
    "print ir_l\n",
    "print nb\n",
    "print cc.get_cell_lengths_and_angles()[0:3]\n",
    "print nb[0]*nb[1]*nb[2],n_kpt"
   ]
  },
  {
   "cell_type": "code",
   "execution_count": 123,
   "metadata": {
    "collapsed": true
   },
   "outputs": [],
   "source": [
    "def get_kpts(frame,Nkpt=1000):\n",
    "    ir_cell = frame.get_reciprocal_cell()\n",
    "    ir_l = np.linalg.norm(ir_cell,axis=1)\n",
    "    \n",
    "    n_kpt = float(Nkpt) / frame.get_number_of_atoms()\n",
    "    n_reg = np.power(n_kpt,1./3.).round()\n",
    "    # find the midle val to norm with it\n",
    "    mid = list(set(range(3)).difference([ir_l.argmin(),ir_l.argmax()]))\n",
    "    ir_l = ir_l / ir_l[mid]\n",
    "    # get number of k point per directions\n",
    "    nb = np.array(np.ceil(n_reg*ir_l),dtype=np.int64)\n",
    "    # makes sure there are at least 3 kpts per directions\n",
    "    nb[nb <3] = 3\n",
    "    \n",
    "    return nb"
   ]
  },
  {
   "cell_type": "code",
   "execution_count": 24,
   "metadata": {
    "collapsed": true
   },
   "outputs": [],
   "source": [
    "np.round?"
   ]
  },
  {
   "cell_type": "code",
   "execution_count": 86,
   "metadata": {},
   "outputs": [
    {
     "name": "stdout",
     "output_type": "stream",
     "text": [
      "[   2.22280394    3.53438982    8.74679901   89.99999996  150.81483409\n",
      "   90.00000007]\n"
     ]
    }
   ],
   "source": [
    "cc = crystals[11][2]\n",
    "print cc.get_cell_lengths_and_angles()"
   ]
  },
  {
   "cell_type": "code",
   "execution_count": 77,
   "metadata": {
    "collapsed": true
   },
   "outputs": [],
   "source": [
    "view(cc)"
   ]
  },
  {
   "cell_type": "code",
   "execution_count": 80,
   "metadata": {},
   "outputs": [
    {
     "name": "stdout",
     "output_type": "stream",
     "text": [
      "[   6.69452234    6.69452234    4.48127216   90.           90.          120.        ]\n"
     ]
    }
   ],
   "source": [
    "dd = ase2qp(cc)\n",
    "dd.set_cutoff(20.)\n",
    "dd.unskew_cell()\n",
    "view(dd)\n",
    "dd.wrap()\n",
    "view(dd)\n",
    "ee = qp2ase(dd)\n",
    "print ee.get_cell_lengths_and_angles()"
   ]
  },
  {
   "cell_type": "code",
   "execution_count": null,
   "metadata": {
    "collapsed": true
   },
   "outputs": [],
   "source": [
    "cc.set_positions()\n",
    "cc.set_cell()"
   ]
  },
  {
   "cell_type": "code",
   "execution_count": 73,
   "metadata": {},
   "outputs": [
    {
     "data": {
      "text/plain": [
       "0.76604444311897801"
      ]
     },
     "execution_count": 73,
     "metadata": {},
     "output_type": "execute_result"
    }
   ],
   "source": [
    "np.cos(40*np.pi/180.)"
   ]
  },
  {
   "cell_type": "code",
   "execution_count": 83,
   "metadata": {},
   "outputs": [
    {
     "name": "stdout",
     "output_type": "stream",
     "text": [
      "[  90.   90.  120.]\n"
     ]
    },
    {
     "data": {
      "text/plain": [
       "False"
      ]
     },
     "execution_count": 83,
     "metadata": {},
     "output_type": "execute_result"
    }
   ],
   "source": [
    "print cc.get_cell_lengths_and_angles()[3:]\n",
    "np.all(np.abs(np.cos(cc.get_cell_lengths_and_angles()[3:]*np.pi/180.))>=0.5)"
   ]
  },
  {
   "cell_type": "code",
   "execution_count": 95,
   "metadata": {
    "collapsed": true
   },
   "outputs": [],
   "source": [
    "def isCellSkewed(frame):\n",
    "    params = np.abs(np.cos(frame.get_cell_lengths_and_angles()[3:]*np.pi/180.))\n",
    "    return np.any(params>=0.5)\n",
    "def unskewCell(frame):\n",
    "    if isCellSkewed(frame):\n",
    "        dd = ase2qp(cc)\n",
    "        dd.set_cutoff(20.)\n",
    "        dd.unskew_cell()\n",
    "        dd.wrap()\n",
    "        ee = qp2ase(dd)\n",
    "        return ee\n",
    "    else:\n",
    "        return frame.copy()"
   ]
  },
  {
   "cell_type": "code",
   "execution_count": 96,
   "metadata": {},
   "outputs": [],
   "source": [
    "cc = crystals[11][2]\n",
    "view(cc)\n",
    "ee = unskewCell(cc)\n",
    "view(ee)"
   ]
  },
  {
   "cell_type": "code",
   "execution_count": null,
   "metadata": {
    "collapsed": true
   },
   "outputs": [],
   "source": []
  }
 ],
 "metadata": {
  "kernelspec": {
   "display_name": "Python 2 glosim",
   "language": "python",
   "name": "glosim"
  },
  "language_info": {
   "codemirror_mode": {
    "name": "ipython",
    "version": 2
   },
   "file_extension": ".py",
   "mimetype": "text/x-python",
   "name": "python",
   "nbconvert_exporter": "python",
   "pygments_lexer": "ipython2",
   "version": "2.7.13"
  },
  "toc": {
   "colors": {
    "hover_highlight": "#DAA520",
    "navigate_num": "#000000",
    "navigate_text": "#333333",
    "running_highlight": "#FF0000",
    "selected_highlight": "#FFD700",
    "sidebar_border": "#EEEEEE",
    "wrapper_background": "#FFFFFF"
   },
   "moveMenuLeft": true,
   "nav_menu": {
    "height": "12px",
    "width": "252px"
   },
   "navigate_menu": true,
   "number_sections": true,
   "sideBar": true,
   "threshold": 4,
   "toc_cell": false,
   "toc_section_display": "block",
   "toc_window_display": false,
   "widenNotebook": false
  }
 },
 "nbformat": 4,
 "nbformat_minor": 2
}

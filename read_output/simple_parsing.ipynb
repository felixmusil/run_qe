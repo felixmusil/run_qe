{
 "cells": [
  {
   "cell_type": "code",
   "execution_count": 386,
   "metadata": {
    "collapsed": true
   },
   "outputs": [],
   "source": [
    "import numpy as np\n",
    "import sys,os\n",
    "from ase.io import read,write\n",
    "from ase.visualize import view\n",
    "import ase\n",
    "import cPickle as pck\n",
    "import pandas as pd\n",
    "import spglib as spg\n",
    "from tqdm import tqdm_notebook\n",
    "import re"
   ]
  },
  {
   "cell_type": "code",
   "execution_count": 387,
   "metadata": {
    "collapsed": true
   },
   "outputs": [],
   "source": [
    "sys.path.insert(0,'../make_input/')"
   ]
  },
  {
   "cell_type": "code",
   "execution_count": 388,
   "metadata": {
    "collapsed": true
   },
   "outputs": [],
   "source": [
    "from qe_input import makeQEInput\n",
    "from custom_frame import get_ibrav0_frame\n",
    "from utils import get_symprec"
   ]
  },
  {
   "cell_type": "markdown",
   "metadata": {
    "heading_collapsed": true
   },
   "source": [
    "# import info and structures"
   ]
  },
  {
   "cell_type": "code",
   "execution_count": 389,
   "metadata": {
    "collapsed": true,
    "hidden": true
   },
   "outputs": [],
   "source": [
    "fileNames = {}\n",
    "infoPath = '../info/'\n",
    "structurePath = '../structures/'\n",
    "fileNames['crystals'] = structurePath + 'partial_input_crystals_sg3-230.pck'\n",
    "fileNames['wyck'] = infoPath+'SpaceGroup-multiplicity-wickoff-info.pck'\n",
    "fileNames['general info'] = infoPath+'SpaceGroup-general-info.pck'\n",
    "fileNames['elements info'] = infoPath+'General-Info-Elements-fast.pck'"
   ]
  },
  {
   "cell_type": "code",
   "execution_count": 390,
   "metadata": {
    "collapsed": true,
    "hidden": true
   },
   "outputs": [],
   "source": [
    "with open(fileNames['crystals'],'rb') as f:\n",
    "    crystals = pck.load(f)\n",
    "with open(fileNames['wyck'],'rb') as f:\n",
    "    WyckTable = pck.load(f)\n",
    "SGTable = pd.read_pickle(fileNames['general info'])\n",
    "ElemTable = pd.read_pickle(fileNames['elements info'])"
   ]
  },
  {
   "cell_type": "code",
   "execution_count": 77,
   "metadata": {
    "collapsed": true,
    "hidden": true
   },
   "outputs": [],
   "source": [
    "sg,it = 79,3\n",
    "cc = crystals[sg][it]\n",
    "dd,_,_ = get_ibrav0_frame(cc,sg)\n"
   ]
  },
  {
   "cell_type": "code",
   "execution_count": null,
   "metadata": {
    "collapsed": true,
    "hidden": true
   },
   "outputs": [],
   "source": []
  },
  {
   "cell_type": "markdown",
   "metadata": {},
   "source": [
    "# get filenames"
   ]
  },
  {
   "cell_type": "code",
   "execution_count": 391,
   "metadata": {
    "collapsed": true
   },
   "outputs": [],
   "source": [
    "import fnmatch\n",
    "import os\n",
    "\n",
    "path = '../test_run/check_ibrav0_sym/'\n",
    "matches = []\n",
    "for root, dirnames, filenames in os.walk(path):\n",
    "    for dirname in fnmatch.filter(dirnames, 'sg_80-*'):\n",
    "        filenames = os.listdir(os.path.join(root,dirname))\n",
    "        for filename in fnmatch.filter(filenames, 'qe.out'):\n",
    "            matches.append(os.path.abspath(os.path.join(root,dirname, filename)))"
   ]
  },
  {
   "cell_type": "code",
   "execution_count": 40,
   "metadata": {},
   "outputs": [
    {
     "data": {
      "text/plain": [
       "['/local/git/run_qe/test_run/check_ibrav0_sym/sg_80-f_4-0/qe.out',\n",
       " '/local/git/run_qe/test_run/check_ibrav0_sym/sg_80-f_1-0/qe.out',\n",
       " '/local/git/run_qe/test_run/check_ibrav0_sym/sg_80-f_2-0/qe.out',\n",
       " '/local/git/run_qe/test_run/check_ibrav0_sym/sg_80-f_0-0/qe.out',\n",
       " '/local/git/run_qe/test_run/check_ibrav0_sym/sg_80-f_3-0/qe.out']"
      ]
     },
     "execution_count": 40,
     "metadata": {},
     "output_type": "execute_result"
    }
   ],
   "source": [
    "matches"
   ]
  },
  {
   "cell_type": "code",
   "execution_count": 32,
   "metadata": {},
   "outputs": [
    {
     "data": {
      "text/plain": [
       "['qe.in', 'qe.err', 'qe.out']"
      ]
     },
     "execution_count": 32,
     "metadata": {},
     "output_type": "execute_result"
    }
   ],
   "source": [
    "os.listdir('../test_run/check_ibrav0_sym/sg_80-f_0-0')"
   ]
  },
  {
   "cell_type": "code",
   "execution_count": 392,
   "metadata": {
    "collapsed": true
   },
   "outputs": [],
   "source": [
    "def get_filenames(path,fn_pattern='qe.out',dir_pattern=None):\n",
    "    import fnmatch\n",
    "    import os\n",
    "    matches = []\n",
    "    if dir_pattern is None:\n",
    "        # Find the paths of all the filename with fn_pattern within path\n",
    "        for root, dirnames, filenames in os.walk(path):\n",
    "            for filename in fnmatch.filter(filenames, fn_pattern):\n",
    "                matches.append(os.path.join(root, filename))\n",
    "        return matches\n",
    "    else:\n",
    "        # Find the paths with dir_pattern and all the filename with fn_pattern within dir_pattern (no recursion)\n",
    "        for root, dirnames, filenames in os.walk(path):\n",
    "            for dirname in fnmatch.filter(dirnames, dir_pattern):\n",
    "                filenames = os.listdir(os.path.join(root,dirname))\n",
    "                for filename in fnmatch.filter(filenames, fn_pattern):\n",
    "                    matches.append(os.path.abspath(os.path.join(root,dirname, filename)))\n"
   ]
  },
  {
   "cell_type": "code",
   "execution_count": 44,
   "metadata": {
    "collapsed": true
   },
   "outputs": [],
   "source": [
    "path = '../test_run/check_ibrav0_sym/'\n",
    "fns = get_filenames(path,fn_pattern='qe.out',dir_pattern=None)"
   ]
  },
  {
   "cell_type": "markdown",
   "metadata": {
    "heading_collapsed": true
   },
   "source": [
    "# List pseudo"
   ]
  },
  {
   "cell_type": "code",
   "execution_count": 376,
   "metadata": {
    "collapsed": true,
    "hidden": true
   },
   "outputs": [],
   "source": [
    "path = '../pseudo/SSSP_eff_PBE/'\n",
    "pattern = '*.UPF'\n",
    "pattern = '*.upf'"
   ]
  },
  {
   "cell_type": "code",
   "execution_count": 377,
   "metadata": {
    "collapsed": true,
    "hidden": true
   },
   "outputs": [],
   "source": [
    "fns = get_filenames(path,fn_pattern='*.UPF',dir_pattern=None)\n",
    "fns += get_filenames(path,fn_pattern='*.upf',dir_pattern=None)"
   ]
  },
  {
   "cell_type": "code",
   "execution_count": 346,
   "metadata": {
    "hidden": true
   },
   "outputs": [
    {
     "name": "stdout",
     "output_type": "stream",
     "text": [
      "86\n",
      "../pseudo/SSSP_eff_PBE/Hf.pbe-spn-rrkjus_psl.0.2.UPF\n"
     ]
    }
   ],
   "source": [
    "print len(fns)\n",
    "print fns[0]"
   ]
  },
  {
   "cell_type": "code",
   "execution_count": 319,
   "metadata": {
    "collapsed": true,
    "hidden": true
   },
   "outputs": [],
   "source": [
    "from raw_info import z2symb"
   ]
  },
  {
   "cell_type": "code",
   "execution_count": 324,
   "metadata": {
    "collapsed": true,
    "hidden": true
   },
   "outputs": [],
   "source": [
    "import re,os,sys\n",
    "re.search?"
   ]
  },
  {
   "cell_type": "code",
   "execution_count": 373,
   "metadata": {
    "hidden": true
   },
   "outputs": [
    {
     "name": "stdout",
     "output_type": "stream",
     "text": [
      "He\n",
      "H\n"
     ]
    }
   ],
   "source": [
    "print 'he'.capitalize().replace('_','')\n",
    "print 'h_'.capitalize().replace('_','')"
   ]
  },
  {
   "cell_type": "code",
   "execution_count": 343,
   "metadata": {
    "hidden": true
   },
   "outputs": [
    {
     "name": "stdout",
     "output_type": "stream",
     "text": [
      "{2: 'He_ONCV_PBE-1.0.upf'}\n"
     ]
    }
   ],
   "source": [
    "dic = {}\n",
    "# for fn in fns:\n",
    "fn = fns[1]\n",
    "for z,symb in z2symb.iteritems():\n",
    "    name = os.path.basename(fn)\n",
    "    if symb ==  name[:2].capitalize().replace('_',''):\n",
    "        dic[z] = name\n",
    "print dic"
   ]
  },
  {
   "cell_type": "code",
   "execution_count": 347,
   "metadata": {
    "hidden": true
   },
   "outputs": [
    {
     "name": "stdout",
     "output_type": "stream",
     "text": [
      "{2: 'He_ONCV_PBE-1.0.upf', 3: 'li_pbe_v1.4.uspp.F.UPF', 4: 'Be_ONCV_PBE-1.0.upf', 10: 'Ne.pbe-n-kjpaw_psl.1.0.0.UPF', 11: 'Na_pbe_v1.uspp.F.UPF', 12: 'mg_pbe_v1.4.uspp.F.UPF', 13: 'Al.pbe-n-kjpaw_psl.1.0.0.UPF', 14: 'Si.pbe-n-rrkjus_psl.1.0.0.UPF', 17: 'cl_pbe_v1.4.uspp.F.UPF', 18: 'Ar.pbe-n-rrkjus_psl.1.0.0.UPF', 20: 'Ca_pbe_v1.uspp.F.UPF', 21: 'Sc_pbe_v1.uspp.F.UPF', 22: 'ti_pbe_v1.4.uspp.F.UPF', 24: 'cr_pbe_v1.5.uspp.F.UPF', 25: 'Mn.pbe-spn-kjpaw_psl.0.3.1.UPF', 26: 'Fe.pbe-spn-kjpaw_psl.0.2.1.UPF', 27: 'Co_pbe_v1.2.uspp.F.UPF', 28: 'ni_pbe_v1.4.uspp.F.UPF', 29: 'Cu_pbe_v1.2.uspp.F.UPF', 30: 'Zn_pbe_v1.uspp.F.UPF', 31: 'Ga.pbe-dn-rrkjus_psl.0.2.UPF', 32: 'Ge.pbe-dn-kjpaw_psl.1.0.0.UPF', 33: 'As.pbe-n-rrkjus_psl.0.2.UPF', 34: 'Se_pbe_v1.uspp.F.UPF', 35: 'br_pbe_v1.4.uspp.F.UPF', 36: 'Kr.pbe-n-rrkjus_psl.0.2.3.UPF', 37: 'Rb_ONCV_PBE-1.0.upf', 38: 'Sr.pbe-spn-rrkjus_psl.1.0.0.UPF', 40: 'Zr_pbe_v1.uspp.F.UPF', 41: 'Nb.pbe-spn-kjpaw_psl.0.3.0.UPF', 42: 'Mo_ONCV_PBE-1.0.upf', 43: 'Tc_ONCV_PBE-1.0.upf', 44: 'Ru_ONCV_PBE-1.0.upf', 45: 'Rh.pbe-spn-kjpaw_psl.1.0.0.UPF', 46: 'Pd.pbe-spn-kjpaw_psl.1.0.0.UPF', 47: 'ag_pbe_v1.4.uspp.F.UPF', 48: 'Cd.pbe-dn-rrkjus_psl.0.3.1.UPF', 49: 'In.pbe-dn-rrkjus_psl.0.2.2.UPF', 50: 'Sn_pbe_v1.uspp.F.UPF', 51: 'sb_pbe_v1.4.uspp.F.UPF', 52: 'Te_pbe_v1.uspp.F.UPF', 54: 'Xe.pbe-dn-rrkjus_psl.1.0.0.UPF', 55: 'Cs_pbe_v1.uspp.F.UPF', 56: 'Ba_ONCV_PBE-1.0.upf', 57: 'La.GGA-PBE-paw-v1.0.UPF', 58: 'Ce.GGA-PBE-paw-v1.0.UPF', 59: 'Pr.GGA-PBE-paw-v1.0.UPF', 60: 'Nd.GGA-PBE-paw-v1.0.UPF', 62: 'Sm.GGA-PBE-paw-v1.0.UPF', 63: 'Eu.GGA-PBE-paw-v1.0.UPF', 64: 'Gd.GGA-PBE-paw-v1.0.UPF', 65: 'Tb.GGA-PBE-paw-v1.0.UPF', 66: 'Dy.GGA-PBE-paw-v1.0.UPF', 67: 'Ho.GGA-PBE-paw-v1.0.UPF', 68: 'Er.GGA-PBE-paw-v1.0.UPF', 69: 'Tm.GGA-PBE-paw-v1.0.UPF', 70: 'Yb.GGA-PBE-paw-v1.0.UPF', 71: 'Lu.GGA-PBE-paw-v1.0.UPF', 72: 'Hf.pbe-spn-rrkjus_psl.0.2.UPF', 73: 'Ta_pbe_v1.uspp.F.UPF', 75: 'Re_pbe_v1.2.uspp.F.UPF', 76: 'Os_pbe_v1.2.uspp.F.UPF', 77: 'Ir_pbe_v1.2.uspp.F.UPF', 78: 'pt_pbe_v1.4.uspp.F.UPF', 79: 'Au_ONCV_PBE-1.0.upf', 80: 'Hg_pbe_v1.uspp.F.UPF', 81: 'Tl.pbe-dn-rrkjus_psl.0.2.3.UPF', 82: 'Pb.pbe-dn-kjpaw_psl.0.2.2.UPF', 83: 'Bi.pbe-dn-kjpaw_psl.0.2.2.UPF'}\n"
     ]
    }
   ],
   "source": [
    "dic = {}\n",
    "for fn in fns:\n",
    "    for z,symb in z2symb.iteritems():\n",
    "        name = os.path.basename(fn)\n",
    "        if symb ==  name[:2].capitalize():\n",
    "            dic[z] = name\n",
    "print dic"
   ]
  },
  {
   "cell_type": "code",
   "execution_count": 381,
   "metadata": {
    "hidden": true
   },
   "outputs": [
    {
     "name": "stdout",
     "output_type": "stream",
     "text": [
      "{1: 'H.pbe-rrkjus_psl.0.1.UPF', 2: 'He_ONCV_PBE-1.0.upf', 3: 'li_pbe_v1.4.uspp.F.UPF', 4: 'Be_ONCV_PBE-1.0.upf', 5: 'B.pbe-n-kjpaw_psl.0.1.UPF', 6: 'C_pbe_v1.2.uspp.F.UPF', 7: 'N.pbe.theos.UPF', 8: 'O.pbe-n-kjpaw_psl.0.1.UPF', 9: 'f_pbe_v1.4.uspp.F.UPF', 10: 'Ne.pbe-n-kjpaw_psl.1.0.0.UPF', 11: 'Na_pbe_v1.uspp.F.UPF', 12: 'mg_pbe_v1.4.uspp.F.UPF', 13: 'Al.pbe-n-kjpaw_psl.1.0.0.UPF', 14: 'Si.pbe-n-rrkjus_psl.1.0.0.UPF', 15: 'P.pbe-n-rrkjus_psl.1.0.0.UPF', 16: 'S_pbe_v1.2.uspp.F.UPF', 17: 'Cl.pbe-n-rrkjus_psl.1.0.0.UPF', 18: 'Ar.pbe-n-rrkjus_psl.1.0.0.UPF', 19: 'K.pbe-spn-rrkjus_psl.1.0.0.UPF', 20: 'Ca_pbe_v1.uspp.F.UPF', 21: 'Sc_pbe_v1.uspp.F.UPF', 22: 'ti_pbe_v1.4.uspp.F.UPF', 23: 'V_pbe_v1.uspp.F.UPF', 24: 'cr_pbe_v1.5.uspp.F.UPF', 25: 'Mn.pbe-spn-kjpaw_psl.0.3.1.UPF', 26: 'Fe.pbe-spn-kjpaw_psl.0.2.1.UPF', 27: 'Co_pbe_v1.2.uspp.F.UPF', 28: 'ni_pbe_v1.4.uspp.F.UPF', 29: 'Cu_pbe_v1.2.uspp.F.UPF', 30: 'Zn_pbe_v1.uspp.F.UPF', 31: 'Ga.pbe-dn-kjpaw_psl.1.0.0.UPF', 32: 'Ge.pbe-dn-kjpaw_psl.1.0.0.UPF', 33: 'As.pbe-n-rrkjus_psl.0.2.UPF', 34: 'Se_pbe_v1.uspp.F.UPF', 35: 'br_pbe_v1.4.uspp.F.UPF', 36: 'Kr.pbe-n-rrkjus_psl.0.2.3.UPF', 37: 'Rb_ONCV_PBE-1.0.upf', 38: 'Sr.pbe-spn-rrkjus_psl.1.0.0.UPF', 39: 'Y_pbe_v1.uspp.F.UPF', 40: 'Zr_pbe_v1.uspp.F.UPF', 41: 'Nb.pbe-spn-kjpaw_psl.0.3.0.UPF', 42: 'Mo_ONCV_PBE-1.0.upf', 43: 'Tc_ONCV_PBE-1.0.upf', 44: 'Ru_ONCV_PBE-1.0.upf', 45: 'Rh.pbe-spn-kjpaw_psl.1.0.0.UPF', 46: 'Pd.pbe-spn-kjpaw_psl.1.0.0.UPF', 47: 'ag_pbe_v1.4.uspp.F.UPF', 48: 'Cd.pbe-dn-rrkjus_psl.0.3.1.UPF', 49: 'In.pbe-dn-rrkjus_psl.0.2.2.UPF', 50: 'Sn_pbe_v1.uspp.F.UPF', 51: 'sb_pbe_v1.4.uspp.F.UPF', 52: 'Te_pbe_v1.uspp.F.UPF', 53: 'I_pbe_v1.uspp.F.UPF', 54: 'Xe.pbe-dn-rrkjus_psl.1.0.0.UPF', 55: 'Cs_pbe_v1.uspp.F.UPF', 56: 'Ba_ONCV_PBE-1.0.upf', 57: 'La.GGA-PBE-paw-v1.0.UPF', 58: 'Ce.GGA-PBE-paw-v1.0.UPF', 59: 'Pr.GGA-PBE-paw-v1.0.UPF', 60: 'Nd.GGA-PBE-paw-v1.0.UPF', 62: 'Sm.GGA-PBE-paw-v1.0.UPF', 63: 'Eu.GGA-PBE-paw-v1.0.UPF', 64: 'Gd.GGA-PBE-paw-v1.0.UPF', 65: 'Tb.GGA-PBE-paw-v1.0.UPF', 66: 'Dy.GGA-PBE-paw-v1.0.UPF', 67: 'Ho.GGA-PBE-paw-v1.0.UPF', 68: 'Er.GGA-PBE-paw-v1.0.UPF', 69: 'Tm.GGA-PBE-paw-v1.0.UPF', 70: 'Yb.GGA-PBE-paw-v1.0.UPF', 71: 'Lu.GGA-PBE-paw-v1.0.UPF', 72: 'Hf.pbe-spdfn-kjpaw_psl.1.0.0.UPF', 73: 'Ta.pbe-spfn-rrkjus_psl.1.0.0.UPF', 74: 'W_pbe_v1.2.uspp.F.UPF', 75: 'Re_pbe_v1.2.uspp.F.UPF', 76: 'Os.pbe-spfn-rrkjus_psl.1.0.0.UPF', 77: 'Ir_pbe_v1.2.uspp.F.UPF', 78: 'Pt.pbe-spfn-rrkjus_psl.1.0.0.UPF', 79: 'Au_ONCV_PBE-1.0.upf', 80: 'Hg_pbe_v1.uspp.F.UPF', 81: 'Tl.pbe-dn-rrkjus_psl.1.0.0.UPF', 82: 'Pb.pbe-dn-kjpaw_psl.0.2.2.UPF', 83: 'Bi.pbe-dn-kjpaw_psl.0.2.2.UPF'}\n"
     ]
    }
   ],
   "source": [
    "def get_pseudo(pseudoPath):\n",
    "    fns = get_filenames(pseudoPath,fn_pattern='*.UPF',dir_pattern=None)\n",
    "    fns += get_filenames(pseudoPath,fn_pattern='*.upf',dir_pattern=None)\n",
    "    \n",
    "    dic = {}\n",
    "    for fn in fns:\n",
    "        for z,symb in z2symb.iteritems():\n",
    "            name = os.path.basename(fn)\n",
    "            if symb ==  name[:2].capitalize().replace('_','').replace('.',''):\n",
    "                dic[z] = name\n",
    "    return dic\n",
    "pseudoPath = '../pseudo/SSSP_acc_PBE/'\n",
    "pp = get_pseudo(pseudoPath)\n",
    "print pp"
   ]
  },
  {
   "cell_type": "markdown",
   "metadata": {
    "heading_collapsed": true,
    "hidden": true
   },
   "source": [
    "## get wf and rho cutoff from table"
   ]
  },
  {
   "cell_type": "code",
   "execution_count": 349,
   "metadata": {
    "collapsed": true,
    "hidden": true
   },
   "outputs": [],
   "source": [
    "pseudoPath = '../pseudo/SSSP_acc_PBE/'\n",
    "fn_table = pseudoPath + 'cutoff_table.dat'\n",
    "import pandas as pd"
   ]
  },
  {
   "cell_type": "code",
   "execution_count": 359,
   "metadata": {
    "collapsed": true,
    "hidden": true
   },
   "outputs": [],
   "source": [
    "pd.read_csv?"
   ]
  },
  {
   "cell_type": "code",
   "execution_count": 363,
   "metadata": {
    "hidden": true
   },
   "outputs": [
    {
     "data": {
      "text/html": [
       "<div>\n",
       "<style>\n",
       "    .dataframe thead tr:only-child th {\n",
       "        text-align: right;\n",
       "    }\n",
       "\n",
       "    .dataframe thead th {\n",
       "        text-align: left;\n",
       "    }\n",
       "\n",
       "    .dataframe tbody tr th {\n",
       "        vertical-align: top;\n",
       "    }\n",
       "</style>\n",
       "<table border=\"1\" class=\"dataframe\">\n",
       "  <thead>\n",
       "    <tr style=\"text-align: right;\">\n",
       "      <th></th>\n",
       "      <th>symb</th>\n",
       "      <th>wfccutoff</th>\n",
       "      <th>rho_mult</th>\n",
       "      <th>PPtype</th>\n",
       "    </tr>\n",
       "  </thead>\n",
       "  <tbody>\n",
       "    <tr>\n",
       "      <th>80</th>\n",
       "      <td>Ho</td>\n",
       "      <td>40.0</td>\n",
       "      <td>8</td>\n",
       "      <td>Wentzcovitch</td>\n",
       "    </tr>\n",
       "    <tr>\n",
       "      <th>81</th>\n",
       "      <td>Er</td>\n",
       "      <td>40.0</td>\n",
       "      <td>8</td>\n",
       "      <td>Wentzcovitch</td>\n",
       "    </tr>\n",
       "    <tr>\n",
       "      <th>82</th>\n",
       "      <td>Tm</td>\n",
       "      <td>40.0</td>\n",
       "      <td>8</td>\n",
       "      <td>Wentzcovitch</td>\n",
       "    </tr>\n",
       "    <tr>\n",
       "      <th>83</th>\n",
       "      <td>Yb</td>\n",
       "      <td>40.0</td>\n",
       "      <td>8</td>\n",
       "      <td>Wentzcovitch</td>\n",
       "    </tr>\n",
       "    <tr>\n",
       "      <th>84</th>\n",
       "      <td>Lu</td>\n",
       "      <td>45.0</td>\n",
       "      <td>8</td>\n",
       "      <td>Wentzcovitch</td>\n",
       "    </tr>\n",
       "  </tbody>\n",
       "</table>\n",
       "</div>"
      ],
      "text/plain": [
       "   symb  wfccutoff  rho_mult        PPtype\n",
       "80   Ho       40.0         8  Wentzcovitch\n",
       "81   Er       40.0         8  Wentzcovitch\n",
       "82   Tm       40.0         8  Wentzcovitch\n",
       "83   Yb       40.0         8  Wentzcovitch\n",
       "84   Lu       45.0         8  Wentzcovitch"
      ]
     },
     "execution_count": 363,
     "metadata": {},
     "output_type": "execute_result"
    }
   ],
   "source": [
    "tt = pd.read_csv(fn_table,sep=' ',header=None,names=['symb','wfccutoff','rho_mult','PPtype'],na_values='??')\n",
    "tt.tail(5)"
   ]
  },
  {
   "cell_type": "code",
   "execution_count": 357,
   "metadata": {
    "hidden": true
   },
   "outputs": [
    {
     "name": "stdout",
     "output_type": "stream",
     "text": [
      "55 4\n"
     ]
    }
   ],
   "source": [
    "a,b = np.array(tt[tt['symb']=='He'].values[0][1:3],dtype=np.int32)\n",
    "print a,b"
   ]
  },
  {
   "cell_type": "code",
   "execution_count": 365,
   "metadata": {
    "hidden": true
   },
   "outputs": [
    {
     "name": "stdout",
     "output_type": "stream",
     "text": [
      "{1: 55.0, 2: 55.0, 3: 50, 4: 55.0, 5: 50, 6: 50.0, 7: 55.0, 8: 70.0, 9: 50.0, 10: 200.0, 11: 50, 12: 50, 13: 50, 14: 50, 15: 50, 16: 50, 17: 60.0, 18: 120.0, 19: 50.0, 20: 50, 21: 50, 22: 50, 23: 50, 24: 50, 25: 70.0, 26: 90.0, 27: 55.0, 28: 50, 29: 50, 30: 50, 31: 70.0, 32: 50, 33: 50, 34: 50, 35: 50, 36: 100.0, 37: 50.0, 38: 50, 39: 50, 40: 50, 41: 50, 42: 50, 43: 50, 44: 50, 45: 50, 46: 55.0, 47: 50, 48: 50, 49: 50, 50: 50, 51: 50, 52: 50, 53: 50, 54: 120.0, 55: 50, 56: 50, 57: 55.0, 58: 50, 59: 50.0, 60: 50, 62: 50, 63: 55.0, 64: 50, 65: 50, 66: 50, 67: 50, 68: 50, 69: 50, 70: 50, 71: 50, 72: 120.0, 73: 50, 74: 50, 75: 50, 76: 60.0, 77: 50, 78: 55.0, 79: 50, 80: 50, 81: 50, 82: 50, 83: 50}\n",
      "{1: 440.0, 2: 220.0, 3: 400.0, 4: 220.0, 5: 400.0, 6: 400.0, 7: 440.0, 8: 560.0, 9: 400.0, 10: 1600.0, 11: 400.0, 12: 400.0, 13: 400.0, 14: 400.0, 15: 400.0, 16: 400.0, 17: 480.0, 18: 960.0, 19: 400.0, 20: 400.0, 21: 400.0, 22: 400.0, 23: 400.0, 24: 400.0, 25: 840.0, 26: 1080.0, 27: 440.0, 28: 400.0, 29: 400.0, 30: 400.0, 31: 560.0, 32: 400.0, 33: 400.0, 34: 400.0, 35: 400.0, 36: 800.0, 37: 200.0, 38: 400.0, 39: 400.0, 40: 400.0, 41: 400.0, 42: 200.0, 43: 200.0, 44: 200.0, 45: 400.0, 46: 440.0, 47: 400.0, 48: 400.0, 49: 400.0, 50: 400.0, 51: 400.0, 52: 400.0, 53: 400.0, 54: 960.0, 55: 400.0, 56: 200.0, 57: 440.0, 58: 400.0, 59: 400.0, 60: 400.0, 62: 400.0, 63: 440.0, 64: 400.0, 65: 400.0, 66: 400.0, 67: 400.0, 68: 400.0, 69: 400.0, 70: 400.0, 71: 400.0, 72: 960.0, 73: 400.0, 74: 400.0, 75: 400.0, 76: 480.0, 77: 400.0, 78: 440.0, 79: 200.0, 80: 400.0, 81: 400.0, 82: 400.0, 83: 400.0}\n"
     ]
    }
   ],
   "source": [
    "wfccutoff,rhocutoff = {},{}\n",
    "for z,symb in z2symb.iteritems():\n",
    "    wf_cutoff,mult = np.array(tt[tt['symb']==symb].values[0][1:3],dtype=float)\n",
    "    wfccutoff[z] = wf_cutoff if wf_cutoff>=50 else 50\n",
    "    rhocutoff[z] = mult*wfccutoff[z]\n",
    "print wfccutoff\n",
    "print rhocutoff"
   ]
  },
  {
   "cell_type": "markdown",
   "metadata": {},
   "source": [
    "# parse files"
   ]
  },
  {
   "cell_type": "markdown",
   "metadata": {},
   "source": [
    "## some test"
   ]
  },
  {
   "cell_type": "code",
   "execution_count": 393,
   "metadata": {},
   "outputs": [
    {
     "name": "stdout",
     "output_type": "stream",
     "text": [
      "[]\n"
     ]
    }
   ],
   "source": [
    "import re\n",
    "import sys\n",
    "import glob\n",
    "\n",
    "str_patterns = ['Sym. Ops.', '!','tau']\n",
    "str_patterns = ['Sym. Ops.']\n",
    "matches = {key:[] for key in str_patterns}\n",
    "\n",
    "for fn in fns:\n",
    "    for line in open(fn, 'r'):\n",
    "        for str_pattern in str_patterns:\n",
    "            if re.search(str_pattern, line):\n",
    "                matches[str_pattern].append(line.replace('\\n',''))\n",
    "print matches['Sym. Ops.']"
   ]
  },
  {
   "cell_type": "code",
   "execution_count": 394,
   "metadata": {
    "collapsed": true
   },
   "outputs": [],
   "source": [
    "def get_patterns(fn,str_patterns):\n",
    "    matches = {key:[] for key in str_patterns}\n",
    "    \n",
    "    for line in open(fn, 'r'):\n",
    "        for str_pattern in str_patterns:\n",
    "            if re.search(str_pattern, line):\n",
    "                matches[str_pattern].append(line.replace('\\n',''))\n",
    "    return matches"
   ]
  },
  {
   "cell_type": "code",
   "execution_count": 64,
   "metadata": {
    "collapsed": true
   },
   "outputs": [],
   "source": [
    "cc = read(fns[0])\n",
    "view(cc)"
   ]
  },
  {
   "cell_type": "code",
   "execution_count": 129,
   "metadata": {},
   "outputs": [
    {
     "name": "stdout",
     "output_type": "stream",
     "text": [
      "79\n"
     ]
    }
   ],
   "source": [
    "fn = fns[0]\n",
    "ms = re.search(\"sg_(.*)-f_\",fn)\n",
    "sg = int(ms.group(1))\n",
    "print sg"
   ]
  },
  {
   "cell_type": "code",
   "execution_count": 409,
   "metadata": {
    "collapsed": true
   },
   "outputs": [],
   "source": [
    "def fn2num(fn,pattern=\"sg_(.*)-f_\"):\n",
    "    ms = re.search(pattern,fn)\n",
    "    num = int(ms.group(1))\n",
    "    return num\n",
    "# fn2sg(fn)"
   ]
  },
  {
   "cell_type": "code",
   "execution_count": 83,
   "metadata": {},
   "outputs": [
    {
     "data": {
      "text/plain": [
       "['33', '42', '32', '3', '-30', '1', '-2']"
      ]
     },
     "execution_count": 83,
     "metadata": {},
     "output_type": "execute_result"
    }
   ],
   "source": [
    "re.findall(\"[-\\d]+\", \"he33llo 42 I\\'m a 32.3 string -30 1 -2\")"
   ]
  },
  {
   "cell_type": "code",
   "execution_count": 84,
   "metadata": {},
   "outputs": [
    {
     "name": "stdout",
     "output_type": "stream",
     "text": [
      "['4.5', '-4.5', '- 4.5', '+ .1e10', ' 1.01e-2', '       1.01', '-.2', ' 123', ' .123']\n"
     ]
    }
   ],
   "source": [
    "s = \"\"\"4.5 abc -4.5 abc - 4.5 abc + .1e10 abc . abc 1.01e-2 abc \n",
    "       1.01e-.2 abc 123 abc .123\"\"\"\n",
    "print re.findall(r\"[+-]? *(?:\\d+(?:\\.\\d*)?|\\.\\d+)(?:[eE][+-]?\\d+)?\", s)\n"
   ]
  },
  {
   "cell_type": "code",
   "execution_count": 87,
   "metadata": {},
   "outputs": [
    {
     "name": "stdout",
     "output_type": "stream",
     "text": [
      "[4.5, -4.5, 4.5, 1000000000.0, 0.0101, 123.0, 0.123]\n"
     ]
    }
   ],
   "source": []
  },
  {
   "cell_type": "code",
   "execution_count": 396,
   "metadata": {
    "collapsed": true
   },
   "outputs": [],
   "source": [
    "def extract_floats(s):\n",
    "    l = []\n",
    "    for t in s.split():\n",
    "        try:\n",
    "            l.append(float(t))\n",
    "        except ValueError:\n",
    "            pass\n",
    "    return l"
   ]
  },
  {
   "cell_type": "code",
   "execution_count": 89,
   "metadata": {},
   "outputs": [
    {
     "name": "stdout",
     "output_type": "stream",
     "text": [
      "20 loops, best of 3: 16.3 µs per loop\n"
     ]
    }
   ],
   "source": [
    "%%timeit -r 3 -n 20\n",
    "extract_float(s)"
   ]
  },
  {
   "cell_type": "markdown",
   "metadata": {},
   "source": [
    "## get energy"
   ]
  },
  {
   "cell_type": "code",
   "execution_count": 14,
   "metadata": {
    "collapsed": true
   },
   "outputs": [],
   "source": [
    "path = '/scratch/musil/qmat/data/check_ktp_conv/'\n",
    "fns = get_filenames(path,fn_pattern='qe.out',dir_pattern=None)"
   ]
  },
  {
   "cell_type": "code",
   "execution_count": 39,
   "metadata": {
    "collapsed": true
   },
   "outputs": [],
   "source": [
    "params = {'sg':[],'f':[],'Nkpt':[]}\n",
    "ppp = []\n",
    "pppp = []\n",
    "\n",
    "for fn in fns:\n",
    "    sg = fn2num(fn,pattern=\"sg_(.*)-f_\")\n",
    "    f = fn2num(fn,pattern=\"-f_(.*)-Nkpt_\")\n",
    "    Nkpt = fn2num(fn,pattern=\"-Nkpt_(.*)-\")\n",
    "    ppp.append([sg,f,Nkpt])\n",
    "    if Nkpt == 1000:\n",
    "        pppp.append([sg,f])\n",
    "    params['sg'].append(sg)\n",
    "    params['f'].append(f)\n",
    "    params['Nkpt'].append(Nkpt)\n",
    "    \n",
    "# print params"
   ]
  },
  {
   "cell_type": "code",
   "execution_count": 31,
   "metadata": {
    "collapsed": true
   },
   "outputs": [],
   "source": [
    "Ryd2eV = 13.605698066"
   ]
  },
  {
   "cell_type": "code",
   "execution_count": 397,
   "metadata": {
    "collapsed": true
   },
   "outputs": [],
   "source": [
    "def finishedProperly(fn):\n",
    "    str_patterns = ['JOB DONE.']\n",
    "    s = get_patterns(fn,str_patterns)['JOB DONE.']\n",
    "    if s:\n",
    "        return True\n",
    "    else:\n",
    "        return False"
   ]
  },
  {
   "cell_type": "code",
   "execution_count": 46,
   "metadata": {
    "collapsed": true
   },
   "outputs": [],
   "source": [
    "str_patterns = ['total energy','number of atoms/cell']\n",
    "energies = {}\n",
    "for fn,(sg,f,Nkpt) in zip(fns,ppp):\n",
    "    if finishedProperly(fn):\n",
    "        \n",
    "        s = get_patterns(fn,str_patterns)\n",
    "        nat = extract_floats(s['number of atoms/cell'][0])[0]\n",
    "        en = extract_floats(s['total energy'][0])[0]*Ryd2eV / nat\n",
    "        energies[(sg,f,Nkpt)] = en \n",
    "        "
   ]
  },
  {
   "cell_type": "code",
   "execution_count": 423,
   "metadata": {},
   "outputs": [
    {
     "data": {
      "text/plain": [
       "{'Nkpt': 20, 'f': 3, 'sg': 5}"
      ]
     },
     "execution_count": 423,
     "metadata": {},
     "output_type": "execute_result"
    }
   ],
   "source": [
    "def fn2info(fn):\n",
    "    dirnames = fn.split('/')\n",
    "    for dirname in dirnames:\n",
    "        if re.search('sg_',dirname) and re.search('f_',dirname):\n",
    "            dic = {}\n",
    "            for info in dirname.split('-'):\n",
    "                if re.search('_',info):\n",
    "                    name,num = info.split('_')\n",
    "                    num = int(num)\n",
    "                    dic[name] = num\n",
    "    return dic\n",
    "\n",
    "ff = '../asdfs/sdf/sg_5-f_3-Nkpt_20-0/qe.out'             \n",
    "fn2info(ff)"
   ]
  },
  {
   "cell_type": "code",
   "execution_count": 416,
   "metadata": {},
   "outputs": [
    {
     "name": "stdout",
     "output_type": "stream",
     "text": [
      "{'Nkpt': 20, 'sg': 5, 'f': 3}\n"
     ]
    }
   ],
   "source": [
    "fn = 'sg_5-f_3-Nkpt_20-0'\n",
    "dic = {}\n",
    "afs = fn.split('-')\n",
    "for af in afs:\n",
    "    if re.search('_',af):\n",
    "        name,num = af.split('_')\n",
    "        num = int(num)\n",
    "        dic[name] = num\n",
    "print dic"
   ]
  },
  {
   "cell_type": "code",
   "execution_count": null,
   "metadata": {
    "collapsed": true
   },
   "outputs": [],
   "source": [
    "def get_energy_per_atom():"
   ]
  },
  {
   "cell_type": "code",
   "execution_count": 47,
   "metadata": {},
   "outputs": [
    {
     "name": "stdout",
     "output_type": "stream",
     "text": [
      "0.895396091857\n",
      "0.120406601283\n",
      "0.174191484723\n",
      "####\n",
      "4 0\n",
      "####\n",
      "####\n",
      "227 0\n",
      "####\n",
      "3.07015127928\n",
      "23.9778115068\n",
      "0.947643673146\n",
      "####\n",
      "144 4\n",
      "####\n",
      "0.682250926673\n",
      "0.280301190134\n",
      "2.40135922251\n",
      "0.956016279594\n",
      "####\n",
      "7 4\n",
      "####\n",
      "2.18386080085\n",
      "0.208126363316\n",
      "3.29193719654\n",
      "####\n",
      "4 4\n",
      "####\n",
      "0.00991175103877\n",
      "0.320363168086\n",
      "0.603300462217\n",
      "0.701601630746\n",
      "####\n",
      "7 3\n",
      "####\n",
      "2.37418637586\n",
      "1.32515757596\n",
      "1.28310746537\n",
      "####\n",
      "227 1\n",
      "####\n",
      "2.33067875487\n",
      "3.80035718949\n",
      "1.19834566713\n",
      "####\n",
      "7 2\n",
      "####\n",
      "0.168243527051\n",
      "0.183382133767\n",
      "0.435205464038\n",
      "####\n",
      "144 2\n",
      "####\n",
      "4.07706987676\n",
      "0.677220219811\n",
      "2.15241236358\n",
      "1.10605481572\n",
      "####\n",
      "4 1\n",
      "####\n",
      "0.941638458161\n",
      "2.20734423571\n",
      "####\n",
      "144 3\n",
      "####\n",
      "2.71710042159\n",
      "####\n",
      "144 0\n",
      "####\n",
      "####\n",
      "7 1\n",
      "####\n",
      "####\n",
      "69 1\n",
      "####\n",
      "0.437355164331\n",
      "0.412030424999\n",
      "0.125442835454\n",
      "3.10982719555\n",
      "0.495755922569\n",
      "2.49346186176\n",
      "3.80718044707\n",
      "0.927359278043\n",
      "0.829297909945\n",
      "2.59132594724\n",
      "0.967657655002\n",
      "0.276666768036\n",
      "0.343443534146\n",
      "2.84096329536\n",
      "####\n",
      "229 1\n",
      "####\n",
      "0.478976695427\n",
      "0.576519346288\n",
      "0.715050863286\n",
      "0.608375387597\n",
      "0.213441089122\n",
      "0.101219590761\n",
      "1.19414490786\n",
      "1.77983279393\n",
      "3.26306307073\n",
      "0.536065354154\n",
      "2.81698622876\n",
      "0.00155615171593\n",
      "1.0527476907\n",
      "0.0\n",
      "0.226910730206\n",
      "2.03047016085\n",
      "2.57711479561\n",
      "1.99176450092\n",
      "####\n",
      "229 0\n",
      "####\n",
      "2.05273248431\n",
      "0.439096693682\n",
      "0.000193881197674\n",
      "8.80515199743\n",
      "0.266535625113\n",
      "1.48668442339\n",
      "0.63229307099\n",
      "####\n",
      "4 2\n",
      "####\n",
      "####\n",
      "144 1\n",
      "####\n",
      "0.299939881481\n",
      "0.211529488544\n",
      "1.76201273088\n",
      "0.173152916435\n",
      "1.60412923428\n",
      "5.07789142079\n",
      "0.935983589903\n",
      "0.474065038426\n",
      "1.54779101484\n",
      "0.469546245955\n",
      "####\n",
      "69 3\n",
      "####\n",
      "0.812052687647\n",
      "0.184715492176\n",
      "1.22241584773\n",
      "####\n",
      "7 0\n",
      "####\n",
      "0.791559104934\n",
      "0.478120103352\n",
      "0.699999559799\n",
      "0.0501574059228\n",
      "0.272644583544\n",
      "####\n",
      "229 2\n",
      "####\n",
      "0.23754528396\n",
      "2.83244442765\n",
      "0.12141299776\n",
      "####\n",
      "4 3\n",
      "####\n",
      "####\n",
      "4 5\n",
      "####\n",
      "1.74427770346\n",
      "####\n",
      "229 3\n",
      "####\n",
      "4.34075850955\n"
     ]
    }
   ],
   "source": [
    "diff = {}\n",
    "for sg,f in pppp:\n",
    "    try:\n",
    "        diff[(sg,f)] = abs(energies[(sg,f,1000)]-energies[(sg,f,2000)])*100\n",
    "        print diff[(sg,f)]\n",
    "    except:\n",
    "        print '####'\n",
    "        print sg,f\n",
    "        print '####'"
   ]
  },
  {
   "cell_type": "code",
   "execution_count": 59,
   "metadata": {},
   "outputs": [
    {
     "name": "stdout",
     "output_type": "stream",
     "text": [
      "45\n"
     ]
    }
   ],
   "source": [
    "failed = {}\n",
    "for fn,(sg,f,Nkpt) in zip(fns,ppp):\n",
    "    if not finishedProperly(fn):\n",
    "        with open(fn,'r') as fout:\n",
    "            failed[(sg,f,Nkpt,fn)] = fout.read()\n",
    "print len(failed)"
   ]
  },
  {
   "cell_type": "code",
   "execution_count": 60,
   "metadata": {
    "collapsed": true
   },
   "outputs": [],
   "source": [
    "aa = failed.items()"
   ]
  },
  {
   "cell_type": "code",
   "execution_count": 80,
   "metadata": {},
   "outputs": [
    {
     "name": "stdout",
     "output_type": "stream",
     "text": [
      "1 (69, 3, 1000, '/scratch/musil/qmat/data/check_ktp_conv/sg_69-f_3-Nkpt_1000-0/qe.out')\n",
      "11 (229, 2, 2000, '/scratch/musil/qmat/data/check_ktp_conv/sg_229-f_2-Nkpt_2000-0/qe.out')\n",
      "16 (229, 0, 2000, '/scratch/musil/qmat/data/check_ktp_conv/sg_229-f_0-Nkpt_2000-0/qe.out')\n",
      "19 (229, 1, 1000, '/scratch/musil/qmat/data/check_ktp_conv/sg_229-f_1-Nkpt_1000-0/qe.out')\n",
      "22 (69, 3, 2000, '/scratch/musil/qmat/data/check_ktp_conv/sg_69-f_3-Nkpt_2000-0/qe.out')\n",
      "30 (229, 2, 1000, '/scratch/musil/qmat/data/check_ktp_conv/sg_229-f_2-Nkpt_1000-0/qe.out')\n",
      "41 (69, 1, 2000, '/scratch/musil/qmat/data/check_ktp_conv/sg_69-f_1-Nkpt_2000-0/qe.out')\n",
      "43 (229, 1, 2000, '/scratch/musil/qmat/data/check_ktp_conv/sg_229-f_1-Nkpt_2000-0/qe.out')\n",
      "44 (229, 3, 2000, '/scratch/musil/qmat/data/check_ktp_conv/sg_229-f_3-Nkpt_2000-0/qe.out')\n"
     ]
    }
   ],
   "source": [
    "it = 18\n",
    "for it in range(len(failed)):\n",
    "    if aa[it][0][0] not in [144,7,227,4]:\n",
    "        print it, aa[it][0]\n",
    "        #print aa[it][1]"
   ]
  },
  {
   "cell_type": "markdown",
   "metadata": {
    "heading_collapsed": true
   },
   "source": [
    "## get number of detected symmetries"
   ]
  },
  {
   "cell_type": "code",
   "execution_count": 200,
   "metadata": {
    "collapsed": true,
    "hidden": true
   },
   "outputs": [],
   "source": [
    "path = '../test_run/check_ibrav0_sym/'\n",
    "fns_out = get_filenames(path,fn_pattern='qe.out',dir_pattern=None)\n",
    "fns_in = get_filenames(path,fn_pattern='qe.in',dir_pattern=None)"
   ]
  },
  {
   "cell_type": "code",
   "execution_count": 201,
   "metadata": {
    "hidden": true
   },
   "outputs": [
    {
     "name": "stdout",
     "output_type": "stream",
     "text": [
      "../test_run/check_ibrav0_sym/sg_70-f_4-0/qe.in\n"
     ]
    }
   ],
   "source": [
    "fn = fns_in[14]\n",
    "print fn"
   ]
  },
  {
   "cell_type": "code",
   "execution_count": 202,
   "metadata": {
    "hidden": true
   },
   "outputs": [
    {
     "name": "stdout",
     "output_type": "stream",
     "text": [
      "8\n"
     ]
    }
   ],
   "source": [
    "cc = read(fn)\n",
    "sg = fn2sg(fn)\n",
    "symprec = get_symprec(cc,sg)\n",
    "syms = spg.get_symmetry(cc,symprec=symprec)\n",
    "Nsym_s = syms['rotations'].shape[0]\n",
    "print Nsym_s"
   ]
  },
  {
   "cell_type": "code",
   "execution_count": 164,
   "metadata": {
    "collapsed": true,
    "hidden": true
   },
   "outputs": [],
   "source": [
    "view(cc)"
   ]
  },
  {
   "cell_type": "code",
   "execution_count": 154,
   "metadata": {
    "collapsed": true,
    "hidden": true
   },
   "outputs": [
    {
     "ename": "KeyError",
     "evalue": "70",
     "output_type": "error",
     "traceback": [
      "\u001b[0;31m---------------------------------------------------------------------------\u001b[0m",
      "\u001b[0;31mKeyError\u001b[0m                                  Traceback (most recent call last)",
      "\u001b[0;32m<ipython-input-154-b813fbc338c1>\u001b[0m in \u001b[0;36m<module>\u001b[0;34m()\u001b[0m\n\u001b[1;32m      1\u001b[0m \u001b[0;32mfrom\u001b[0m \u001b[0mraw_info\u001b[0m \u001b[0;32mimport\u001b[0m \u001b[0mmissClassificationCorrection\u001b[0m\u001b[0;34m\u001b[0m\u001b[0m\n\u001b[0;32m----> 2\u001b[0;31m \u001b[0mmissClassificationCorrection\u001b[0m\u001b[0;34m[\u001b[0m\u001b[0;36m70\u001b[0m\u001b[0;34m]\u001b[0m\u001b[0;34m\u001b[0m\u001b[0m\n\u001b[0m",
      "\u001b[0;31mKeyError\u001b[0m: 70"
     ]
    }
   ],
   "source": [
    "from raw_info import missClassificationCorrection\n",
    "missClassificationCorrection[70]"
   ]
  },
  {
   "cell_type": "code",
   "execution_count": 197,
   "metadata": {
    "hidden": true
   },
   "outputs": [
    {
     "name": "stdout",
     "output_type": "stream",
     "text": [
      "[[ 0.          7.186617    1.52812703]\n",
      " [ 1.62630392  0.          1.52812703]\n",
      " [ 1.62630392  7.186617    0.        ]]\n"
     ]
    }
   ],
   "source": [
    "sg,it = 43,1\n",
    "cc = crystals[sg][it]\n",
    "dd,_,_ = get_ibrav0_frame(cc,sg)\n",
    "view(dd)\n",
    "print dd.get_cell()"
   ]
  },
  {
   "cell_type": "code",
   "execution_count": 198,
   "metadata": {
    "hidden": true
   },
   "outputs": [
    {
     "data": {
      "text/plain": [
       "'../test_run/check_ibrav0_sym/sg_43-f_1-0/qe.out'"
      ]
     },
     "execution_count": 198,
     "metadata": {},
     "output_type": "execute_result"
    }
   ],
   "source": [
    "fn"
   ]
  },
  {
   "cell_type": "code",
   "execution_count": 203,
   "metadata": {
    "hidden": true
   },
   "outputs": [
    {
     "name": "stdout",
     "output_type": "stream",
     "text": [
      "[[ 0.          7.186617    1.52812703]\n",
      " [ 1.62630392  0.          1.52812703]\n",
      " [ 1.62630392  7.186617    0.        ]]\n",
      "43\n",
      "1e-05\n"
     ]
    }
   ],
   "source": [
    "\n",
    "# print get_patterns(fn,str_patterns=['Sym. Ops.']).values()\n",
    "# s = get_patterns(fn,str_patterns=['Sym. Ops.']).values()[0][0]\n",
    "# Nsym_f = extract_floats(s)[0]\n",
    "fn = '../test_run/check_ibrav0_sym/sg_43-f_1-0/qe.in'\n",
    "cc = read(fn)\n",
    "sg = fn2sg(fn)\n",
    "# view(cc)\n",
    "print cc.get_cell()\n",
    "print sg\n",
    "symprec = get_symprec(cc,sg)\n",
    "print symprec\n",
    "# syms = spg.get_symmetry(cc,symprec=symprec)\n",
    "\n",
    "# Nsym_s = syms['rotations'].shape[0]\n",
    "\n",
    "# print Nsym_s == Nsym_f\n",
    "# print s\n"
   ]
  },
  {
   "cell_type": "code",
   "execution_count": 236,
   "metadata": {
    "hidden": true
   },
   "outputs": [
    {
     "name": "stdout",
     "output_type": "stream",
     "text": [
      "../test_run/check_ibrav0_sym/sg_40-f_0-0/qe.out\n",
      "['          (note:  4 additional sym.ops. were found but ignored']\n",
      "4.0\n"
     ]
    }
   ],
   "source": [
    "fn = fns_out[5]\n",
    "print fn\n",
    "ss = get_patterns(fn,str_patterns=['Sym. Ops.','warning: symmetry operation #','No symmetry found',\n",
    "                                          'additional sym.ops. were found but ignored'])\n",
    "Nsym_f = 0\n",
    "print ss['additional sym.ops. were found but ignored']\n",
    "if ss['additional sym.ops. were found but ignored']:\n",
    "    s = ss['additional sym.ops. were found but ignored'][0]\n",
    "    Nsym_f += extract_floats(s)[0]\n",
    "print Nsym_f\n",
    "# if ss['warning: symmetry operation #']:\n",
    "#     nums = []\n",
    "#     for s in ss['warning: symmetry operation #']:\n",
    "#         nums.append(extract_floats(s)[0])\n",
    "    \n",
    "#     nums = np.array(nums).max()\n",
    "#     Nsym_f = nums.max()\n",
    "# else:\n",
    "#     print ss['Sym. Ops.']\n",
    "#     s = ss['Sym. Ops.'][0][0]\n",
    "#     Nsym_f = extract_floats(s)[0]\n",
    "\n",
    "# cc = read(fn)\n",
    "# sg = fn2sg(fn)\n",
    "# symprec = get_symprec(cc,sg)\n",
    "# syms = spg.get_symmetry(cc,symprec=symprec)\n",
    "# Nsym_s = syms['rotations'].shape[0]\n",
    "\n",
    "# print Nsym_s == Nsym_f\n",
    "# print s\n"
   ]
  },
  {
   "cell_type": "code",
   "execution_count": 273,
   "metadata": {
    "hidden": true
   },
   "outputs": [
    {
     "data": {
      "application/vnd.jupyter.widget-view+json": {
       "model_id": "63bc17bfa1ba4b38a5c2eb1e221ee865"
      }
     },
     "metadata": {},
     "output_type": "display_data"
    }
   ],
   "source": [
    "path = '../test_run/check_ibrav0_sym/'\n",
    "fns_out = get_filenames(path,fn_pattern='qe.out',dir_pattern=None)\n",
    "fns_in = get_filenames(path,fn_pattern='qe.in',dir_pattern=None)\n",
    "\n",
    "good = []\n",
    "to_check = []\n",
    "pbar = tqdm_notebook(total=len(fns_out))\n",
    "for it,(fn_in,fn_out) in enumerate(zip(fns_in,fns_out)):\n",
    "\n",
    "    ss = get_patterns(fn_out,str_patterns=['Sym. Ops.','warning: symmetry operation #','No symmetry found',\n",
    "                                          'additional sym.ops. were found but ignored'])\n",
    "    Nsym_f = 0\n",
    "    if ss['additional sym.ops. were found but ignored']:\n",
    "        s = ss['additional sym.ops. were found but ignored'][0]\n",
    "        Nsym_f += extract_floats(s)[0]\n",
    "    if ss['warning: symmetry operation #']:\n",
    "        nums = []\n",
    "        for s in ss['warning: symmetry operation #']:\n",
    "            nums.append(extract_floats(s)[0])\n",
    "\n",
    "        nums = np.array(nums).max()\n",
    "        Nsym_f = nums.max()\n",
    "        \n",
    "    elif ss['No symmetry found']:\n",
    "        Nsym_f += 1\n",
    "    else:\n",
    "\n",
    "        s = ss['Sym. Ops.'][0]\n",
    "        \n",
    "        Nsym_f += extract_floats(s)[0]\n",
    "\n",
    "    cc = read(fn_in)\n",
    "    sg = fn2sg(fn_in)\n",
    "    \n",
    "    symprec = get_symprec(cc,sg)\n",
    "    syms = spg.get_symmetry(cc,symprec=symprec)\n",
    "    Nsym_s = syms['rotations'].shape[0]\n",
    "\n",
    "    if Nsym_s == Nsym_f:\n",
    "        good.append(fn_out)\n",
    "    else:\n",
    "        to_check.append([it,fn_out,sg,Nsym_s,Nsym_f])\n",
    "\n",
    "    pbar.update()\n",
    "pbar.close()"
   ]
  },
  {
   "cell_type": "code",
   "execution_count": 274,
   "metadata": {
    "hidden": true
   },
   "outputs": [
    {
     "data": {
      "text/plain": [
       "49"
      ]
     },
     "execution_count": 274,
     "metadata": {},
     "output_type": "execute_result"
    }
   ],
   "source": [
    "len(to_check)"
   ]
  },
  {
   "cell_type": "code",
   "execution_count": 277,
   "metadata": {
    "hidden": true
   },
   "outputs": [
    {
     "data": {
      "text/plain": [
       "[[8, '../test_run/check_ibrav0_sym/sg_73-f_8-0/qe.out', 73, 8, 4.0],\n",
       " [16, '../test_run/check_ibrav0_sym/sg_211-f_3-0/qe.out', 211, 24, 48.0],\n",
       " [17, '../test_run/check_ibrav0_sym/sg_204-f_1-0/qe.out', 204, 24, 48.0],\n",
       " [19, '../test_run/check_ibrav0_sym/sg_36-f_7-0/qe.out', 36, 8, 4.0],\n",
       " [26, '../test_run/check_ibrav0_sym/sg_15-f_8-0/qe.out', 15, 4, 2.0],\n",
       " [27, '../test_run/check_ibrav0_sym/sg_64-f_3-0/qe.out', 64, 8, 4.0],\n",
       " [30, '../test_run/check_ibrav0_sym/sg_121-f_4-0/qe.out', 121, 8, 16.0],\n",
       " [34, '../test_run/check_ibrav0_sym/sg_204-f_0-0/qe.out', 204, 24, 48.0],\n",
       " [38, '../test_run/check_ibrav0_sym/sg_64-f_1-0/qe.out', 64, 8, 4.0],\n",
       " [43, '../test_run/check_ibrav0_sym/sg_88-f_1-0/qe.out', 88, 8, 1],\n",
       " [45, '../test_run/check_ibrav0_sym/sg_74-f_2-0/qe.out', 74, 8, 4.0],\n",
       " [50, '../test_run/check_ibrav0_sym/sg_68-f_5-0/qe.out', 68, 8, 4.0],\n",
       " [57, '../test_run/check_ibrav0_sym/sg_119-f_0-0/qe.out', 119, 8, 16.0],\n",
       " [67, '../test_run/check_ibrav0_sym/sg_15-f_5-0/qe.out', 15, 4, 2.0],\n",
       " [83, '../test_run/check_ibrav0_sym/sg_197-f_0-0/qe.out', 197, 12, 24.0],\n",
       " [94, '../test_run/check_ibrav0_sym/sg_21-f_1-0/qe.out', 21, 4, 8.0],\n",
       " [97, '../test_run/check_ibrav0_sym/sg_211-f_1-0/qe.out', 211, 24, 48.0],\n",
       " [100, '../test_run/check_ibrav0_sym/sg_119-f_4-0/qe.out', 119, 8, 16.0],\n",
       " [104, '../test_run/check_ibrav0_sym/sg_42-f_0-0/qe.out', 42, 8, 16.0],\n",
       " [112, '../test_run/check_ibrav0_sym/sg_88-f_2-0/qe.out', 88, 8, 1],\n",
       " [120, '../test_run/check_ibrav0_sym/sg_72-f_6-0/qe.out', 72, 8, 4.0],\n",
       " [146, '../test_run/check_ibrav0_sym/sg_68-f_1-0/qe.out', 68, 8, 4.0],\n",
       " [155, '../test_run/check_ibrav0_sym/sg_45-f_0-0/qe.out', 45, 8, 4.0],\n",
       " [156, '../test_run/check_ibrav0_sym/sg_142-f_1-0/qe.out', 142, 16, 8.0],\n",
       " [168, '../test_run/check_ibrav0_sym/sg_141-f_3-0/qe.out', 141, 16, 8.0],\n",
       " [187, '../test_run/check_ibrav0_sym/sg_217-f_0-0/qe.out', 217, 24, 48.0],\n",
       " [188, '../test_run/check_ibrav0_sym/sg_68-f_2-0/qe.out', 68, 8, 4.0],\n",
       " [190, '../test_run/check_ibrav0_sym/sg_82-f_3-0/qe.out', 82, 4, 8.0],\n",
       " [191, '../test_run/check_ibrav0_sym/sg_72-f_4-0/qe.out', 72, 8, 4.0],\n",
       " [196, '../test_run/check_ibrav0_sym/sg_67-f_4-0/qe.out', 67, 8, 4.0],\n",
       " [203, '../test_run/check_ibrav0_sym/sg_45-f_1-0/qe.out', 45, 8, 4.0],\n",
       " [207, '../test_run/check_ibrav0_sym/sg_36-f_8-0/qe.out', 36, 8, 4.0],\n",
       " [208, '../test_run/check_ibrav0_sym/sg_119-f_1-0/qe.out', 119, 8, 16.0],\n",
       " [209, '../test_run/check_ibrav0_sym/sg_72-f_3-0/qe.out', 72, 8, 4.0],\n",
       " [215, '../test_run/check_ibrav0_sym/sg_40-f_11-0/qe.out', 40, 8, 4.0],\n",
       " [216, '../test_run/check_ibrav0_sym/sg_37-f_6-0/qe.out', 37, 8, 4.0],\n",
       " [229, '../test_run/check_ibrav0_sym/sg_20-f_0-0/qe.out', 20, 4, 8.0],\n",
       " [233, '../test_run/check_ibrav0_sym/sg_70-f_0-0/qe.out', 70, 8, 4.0],\n",
       " [241, '../test_run/check_ibrav0_sym/sg_15-f_9-0/qe.out', 15, 4, 2.0],\n",
       " [255, '../test_run/check_ibrav0_sym/sg_98-f_2-0/qe.out', 98, 8, 1],\n",
       " [263, '../test_run/check_ibrav0_sym/sg_15-f_10-0/qe.out', 15, 4, 2.0],\n",
       " [269, '../test_run/check_ibrav0_sym/sg_36-f_1-0/qe.out', 36, 8, 4.0],\n",
       " [280, '../test_run/check_ibrav0_sym/sg_21-f_0-0/qe.out', 21, 4, 8.0],\n",
       " [285, '../test_run/check_ibrav0_sym/sg_73-f_0-0/qe.out', 73, 8, 4.0],\n",
       " [288, '../test_run/check_ibrav0_sym/sg_82-f_1-0/qe.out', 82, 4, 8.0],\n",
       " [318, '../test_run/check_ibrav0_sym/sg_97-f_2-0/qe.out', 97, 8, 16.0],\n",
       " [339, '../test_run/check_ibrav0_sym/sg_15-f_11-0/qe.out', 15, 4, 2.0],\n",
       " [350, '../test_run/check_ibrav0_sym/sg_37-f_4-0/qe.out', 37, 8, 4.0],\n",
       " [359, '../test_run/check_ibrav0_sym/sg_73-f_1-0/qe.out', 73, 8, 4.0]]"
      ]
     },
     "execution_count": 277,
     "metadata": {},
     "output_type": "execute_result"
    }
   ],
   "source": [
    "to_check"
   ]
  },
  {
   "cell_type": "code",
   "execution_count": 275,
   "metadata": {
    "hidden": true
   },
   "outputs": [
    {
     "name": "stdout",
     "output_type": "stream",
     "text": [
      "[26, '../test_run/check_ibrav0_sym/sg_15-f_8-0/qe.out', 15, 4, 2.0]\n"
     ]
    }
   ],
   "source": [
    "print to_check[4]"
   ]
  },
  {
   "cell_type": "code",
   "execution_count": 282,
   "metadata": {
    "hidden": true
   },
   "outputs": [
    {
     "name": "stdout",
     "output_type": "stream",
     "text": [
      "../test_run/check_ibrav0_sym/sg_88-f_1-0/qe.out\n",
      "False\n",
      "      8 Sym. Ops. (no inversion) found ( 4 have fractional translation)\n",
      "8\n"
     ]
    }
   ],
   "source": [
    "it = 43\n",
    "fn = fns_out[it]\n",
    "print fn\n",
    "ss = get_patterns(fn,str_patterns=['Sym. Ops.','warning: symmetry operation #','No symmetry found'])\n",
    "\n",
    "if ss['warning: symmetry operation #']:\n",
    "    nums = []\n",
    "    for s in ss['warning: symmetry operation #']:\n",
    "        nums.append(extract_floats(s)[0])\n",
    "    \n",
    "    nums = np.array(nums).max()\n",
    "    Nsym_f = nums.max()\n",
    "elif ss['No symmetry found']:\n",
    "    Nsym_f += 1\n",
    "else:\n",
    "#     print ss['Sym. Ops.']\n",
    "    s = ss['Sym. Ops.'][0]\n",
    "    Nsym_f = extract_floats(s)[0]\n",
    "    \n",
    "fn = fns_in[it]\n",
    "cc = read(fn)\n",
    "sg = fn2sg(fn)\n",
    "if sg == 36:\n",
    "    Nsym_s = 4\n",
    "else:\n",
    "    symprec = get_symprec(cc,sg)\n",
    "    syms = spg.get_symmetry(cc,symprec=symprec)\n",
    "    Nsym_s = syms['rotations'].shape[0]\n",
    "\n",
    "print Nsym_s == Nsym_f\n",
    "print s\n",
    "print Nsym_s"
   ]
  },
  {
   "cell_type": "code",
   "execution_count": 268,
   "metadata": {
    "collapsed": true,
    "hidden": true
   },
   "outputs": [],
   "source": [
    "view(cc)"
   ]
  },
  {
   "cell_type": "code",
   "execution_count": 254,
   "metadata": {
    "hidden": true
   },
   "outputs": [
    {
     "name": "stdout",
     "output_type": "stream",
     "text": [
      "[[-5.52491889  5.52491889  5.52491889]\n",
      " [ 5.52491889 -5.52491889  5.52491889]\n",
      " [ 5.52491889  5.52491889 -5.52491889]]\n"
     ]
    }
   ],
   "source": [
    "sg,it = 211,3\n",
    "cc = crystals[sg][it]\n",
    "dd,_,_ = get_ibrav0_frame(cc,sg)\n",
    "view(dd)\n",
    "view(cc)\n",
    "print dd.get_cell()"
   ]
  },
  {
   "cell_type": "code",
   "execution_count": 279,
   "metadata": {
    "hidden": true
   },
   "outputs": [
    {
     "ename": "KeyError",
     "evalue": "121",
     "output_type": "error",
     "traceback": [
      "\u001b[0;31m---------------------------------------------------------------------------\u001b[0m",
      "\u001b[0;31mKeyError\u001b[0m                                  Traceback (most recent call last)",
      "\u001b[0;32m<ipython-input-279-1a50b0afdae1>\u001b[0m in \u001b[0;36m<module>\u001b[0;34m()\u001b[0m\n\u001b[0;32m----> 1\u001b[0;31m \u001b[0mmissClassificationCorrection\u001b[0m\u001b[0;34m[\u001b[0m\u001b[0;36m121\u001b[0m\u001b[0;34m]\u001b[0m\u001b[0;34m\u001b[0m\u001b[0m\n\u001b[0m",
      "\u001b[0;31mKeyError\u001b[0m: 121"
     ]
    }
   ],
   "source": [
    "missClassificationCorrection[121]"
   ]
  },
  {
   "cell_type": "code",
   "execution_count": 256,
   "metadata": {
    "hidden": true
   },
   "outputs": [
    {
     "name": "stdout",
     "output_type": "stream",
     "text": [
      "24\n"
     ]
    }
   ],
   "source": [
    "\n",
    "symprec = get_symprec(dd,sg)\n",
    "syms = spg.get_symmetry(dd,symprec=symprec)\n",
    "Nsym_s = syms['rotations'].shape[0]\n",
    "print Nsym_s"
   ]
  },
  {
   "cell_type": "code",
   "execution_count": 261,
   "metadata": {
    "hidden": true
   },
   "outputs": [
    {
     "name": "stdout",
     "output_type": "stream",
     "text": [
      "24\n"
     ]
    }
   ],
   "source": [
    "it = 16\n",
    "fn = fns_in[it]\n",
    "cc = read(fn)\n",
    "sg = fn2sg(fn)\n",
    "symprec = get_symprec(cc,sg)\n",
    "syms = spg.get_symmetry(cc,symprec=symprec)\n",
    "Nsym_s = syms['rotations'].shape[0]\n",
    "print Nsym_s"
   ]
  },
  {
   "cell_type": "code",
   "execution_count": 262,
   "metadata": {
    "collapsed": true,
    "hidden": true
   },
   "outputs": [],
   "source": [
    "view(cc)"
   ]
  },
  {
   "cell_type": "code",
   "execution_count": null,
   "metadata": {
    "collapsed": true,
    "hidden": true
   },
   "outputs": [],
   "source": []
  }
 ],
 "metadata": {
  "kernelspec": {
   "display_name": "Python 2 glosim",
   "language": "python",
   "name": "glosim"
  },
  "language_info": {
   "codemirror_mode": {
    "name": "ipython",
    "version": 2
   },
   "file_extension": ".py",
   "mimetype": "text/x-python",
   "name": "python",
   "nbconvert_exporter": "python",
   "pygments_lexer": "ipython2",
   "version": "2.7.13"
  },
  "toc": {
   "colors": {
    "hover_highlight": "#DAA520",
    "navigate_num": "#000000",
    "navigate_text": "#333333",
    "running_highlight": "#FF0000",
    "selected_highlight": "#FFD700",
    "sidebar_border": "#EEEEEE",
    "wrapper_background": "#FFFFFF"
   },
   "moveMenuLeft": true,
   "nav_menu": {
    "height": "159px",
    "width": "252px"
   },
   "navigate_menu": true,
   "number_sections": true,
   "sideBar": true,
   "skip_h1_title": false,
   "threshold": 4,
   "toc_cell": false,
   "toc_position": {},
   "toc_section_display": "block",
   "toc_window_display": false,
   "widenNotebook": false
  }
 },
 "nbformat": 4,
 "nbformat_minor": 2
}

{
 "cells": [
  {
   "cell_type": "code",
   "execution_count": 142,
   "metadata": {
    "collapsed": true
   },
   "outputs": [],
   "source": [
    "import numpy as np\n",
    "import sys,os\n",
    "from ase.io import read,write\n",
    "from ase.visualize import view\n",
    "import ase\n",
    "import cPickle as pck\n",
    "import pandas as pd\n",
    "import spglib as spg\n",
    "from tqdm import tqdm_notebook"
   ]
  },
  {
   "cell_type": "code",
   "execution_count": 74,
   "metadata": {
    "collapsed": true
   },
   "outputs": [],
   "source": [
    "sys.path.insert(0,'../make_input/')"
   ]
  },
  {
   "cell_type": "code",
   "execution_count": 80,
   "metadata": {
    "collapsed": true
   },
   "outputs": [],
   "source": [
    "from qe_input import makeQEInput\n",
    "from custom_frame import get_ibrav0_frame\n",
    "from utils import get_symprec"
   ]
  },
  {
   "cell_type": "markdown",
   "metadata": {
    "heading_collapsed": true
   },
   "source": [
    "# import info and structures"
   ]
  },
  {
   "cell_type": "code",
   "execution_count": 71,
   "metadata": {
    "collapsed": true,
    "hidden": true
   },
   "outputs": [],
   "source": [
    "fileNames = {}\n",
    "infoPath = '../info/'\n",
    "structurePath = '../structures/'\n",
    "fileNames['crystals'] = structurePath + 'partial_input_crystals_sg3-230.pck'\n",
    "fileNames['wyck'] = infoPath+'SpaceGroup-multiplicity-wickoff-info.pck'\n",
    "fileNames['general info'] = infoPath+'SpaceGroup-general-info.pck'\n",
    "fileNames['elements info'] = infoPath+'General-Info-Elements-fast.pck'"
   ]
  },
  {
   "cell_type": "code",
   "execution_count": 72,
   "metadata": {
    "collapsed": true,
    "hidden": true
   },
   "outputs": [],
   "source": [
    "with open(fileNames['crystals'],'rb') as f:\n",
    "    crystals = pck.load(f)\n",
    "with open(fileNames['wyck'],'rb') as f:\n",
    "    WyckTable = pck.load(f)\n",
    "SGTable = pd.read_pickle(fileNames['general info'])\n",
    "ElemTable = pd.read_pickle(fileNames['elements info'])"
   ]
  },
  {
   "cell_type": "code",
   "execution_count": 77,
   "metadata": {
    "collapsed": true,
    "hidden": true
   },
   "outputs": [],
   "source": [
    "sg,it = 79,3\n",
    "cc = crystals[sg][it]\n",
    "dd,_,_ = get_ibrav0_frame(cc,sg)\n"
   ]
  },
  {
   "cell_type": "code",
   "execution_count": null,
   "metadata": {
    "collapsed": true,
    "hidden": true
   },
   "outputs": [],
   "source": []
  },
  {
   "cell_type": "markdown",
   "metadata": {
    "heading_collapsed": true
   },
   "source": [
    "# get filenames"
   ]
  },
  {
   "cell_type": "code",
   "execution_count": 38,
   "metadata": {
    "hidden": true
   },
   "outputs": [],
   "source": [
    "import fnmatch\n",
    "import os\n",
    "\n",
    "path = '../test_run/check_ibrav0_sym/'\n",
    "matches = []\n",
    "for root, dirnames, filenames in os.walk(path):\n",
    "    for dirname in fnmatch.filter(dirnames, 'sg_80-*'):\n",
    "        filenames = os.listdir(os.path.join(root,dirname))\n",
    "        for filename in fnmatch.filter(filenames, 'qe.out'):\n",
    "            matches.append(os.path.abspath(os.path.join(root,dirname, filename)))"
   ]
  },
  {
   "cell_type": "code",
   "execution_count": 40,
   "metadata": {
    "hidden": true
   },
   "outputs": [
    {
     "data": {
      "text/plain": [
       "['/local/git/run_qe/test_run/check_ibrav0_sym/sg_80-f_4-0/qe.out',\n",
       " '/local/git/run_qe/test_run/check_ibrav0_sym/sg_80-f_1-0/qe.out',\n",
       " '/local/git/run_qe/test_run/check_ibrav0_sym/sg_80-f_2-0/qe.out',\n",
       " '/local/git/run_qe/test_run/check_ibrav0_sym/sg_80-f_0-0/qe.out',\n",
       " '/local/git/run_qe/test_run/check_ibrav0_sym/sg_80-f_3-0/qe.out']"
      ]
     },
     "execution_count": 40,
     "metadata": {},
     "output_type": "execute_result"
    }
   ],
   "source": [
    "matches"
   ]
  },
  {
   "cell_type": "code",
   "execution_count": 32,
   "metadata": {
    "hidden": true
   },
   "outputs": [
    {
     "data": {
      "text/plain": [
       "['qe.in', 'qe.err', 'qe.out']"
      ]
     },
     "execution_count": 32,
     "metadata": {},
     "output_type": "execute_result"
    }
   ],
   "source": [
    "os.listdir('../test_run/check_ibrav0_sym/sg_80-f_0-0')"
   ]
  },
  {
   "cell_type": "code",
   "execution_count": 43,
   "metadata": {
    "collapsed": true,
    "hidden": true
   },
   "outputs": [],
   "source": [
    "def get_filenames(path,fn_pattern='qe.out',dir_pattern=None):\n",
    "    import fnmatch\n",
    "    import os\n",
    "    matches = []\n",
    "    if dir_pattern is None:\n",
    "        # Find the paths of all the filename with fn_pattern within path\n",
    "        for root, dirnames, filenames in os.walk(path):\n",
    "            for filename in fnmatch.filter(filenames, fn_pattern):\n",
    "                matches.append(os.path.join(root, filename))\n",
    "        return matches\n",
    "    else:\n",
    "        # Find the paths with dir_pattern and all the filename with fn_pattern within dir_pattern (no recursion)\n",
    "        for root, dirnames, filenames in os.walk(path):\n",
    "            for dirname in fnmatch.filter(dirnames, dir_pattern):\n",
    "                filenames = os.listdir(os.path.join(root,dirname))\n",
    "                for filename in fnmatch.filter(filenames, fn_pattern):\n",
    "                    matches.append(os.path.abspath(os.path.join(root,dirname, filename)))\n"
   ]
  },
  {
   "cell_type": "code",
   "execution_count": 44,
   "metadata": {
    "hidden": true
   },
   "outputs": [],
   "source": [
    "path = '../test_run/check_ibrav0_sym/'\n",
    "fns = get_filenames(path,fn_pattern='qe.out',dir_pattern=None)"
   ]
  },
  {
   "cell_type": "markdown",
   "metadata": {},
   "source": [
    "# parse files"
   ]
  },
  {
   "cell_type": "markdown",
   "metadata": {
    "heading_collapsed": true
   },
   "source": [
    "## some test"
   ]
  },
  {
   "cell_type": "code",
   "execution_count": 59,
   "metadata": {
    "hidden": true
   },
   "outputs": [
    {
     "name": "stdout",
     "output_type": "stream",
     "text": [
      "['../test_run/check_ibrav0_sym/sg_79-f_3-0/qe.out']\n",
      "['         1           Si  tau(   1) = (  -0.2081053   0.3878910   0.5381366  )', '         2           Si  tau(   2) = (   0.8040956   0.2080994   0.0000000  )', '         3           Si  tau(   3) = (   0.2080994   0.3878851   0.0000000  )', '         4           Si  tau(   4) = (   0.3878910   0.2081053   0.5381366  )', '         1           Si  tau(   1) = (  0.8254172  0.3254122  0.1508294  )', '         2           Si  tau(   2) = (  0.1745828  0.6745878  0.8491706  )', '         3           Si  tau(   3) = (  0.3254122  0.1745828  0.4999951  )', '         4           Si  tau(   4) = (  0.6745878  0.8254172  0.5000049  )']\n"
     ]
    }
   ],
   "source": [
    "import re\n",
    "import sys\n",
    "import glob\n",
    "\n",
    "str_patterns = ['Sym. Ops.', '!','tau']\n",
    "str_patterns = ['Sym. Ops.']\n",
    "matches = {key:[] for key in str_patterns}\n",
    "\n",
    "for fn in fns:\n",
    "    for line in open(fn, 'r'):\n",
    "        for str_pattern in str_patterns:\n",
    "            if re.search(str_pattern, line):\n",
    "                matches[str_pattern].append(line.replace('\\n',''))\n",
    "print matches['Sym. Ops.']"
   ]
  },
  {
   "cell_type": "code",
   "execution_count": 90,
   "metadata": {
    "collapsed": true,
    "hidden": true
   },
   "outputs": [],
   "source": [
    "def get_patterns(fn,str_patterns):\n",
    "    matches = {key:[] for key in str_patterns}\n",
    "    \n",
    "    for line in open(fn, 'r'):\n",
    "        for str_pattern in str_patterns:\n",
    "            if re.search(str_pattern, line):\n",
    "                matches[str_pattern].append(line.replace('\\n',''))\n",
    "    return matches"
   ]
  },
  {
   "cell_type": "code",
   "execution_count": 64,
   "metadata": {
    "hidden": true
   },
   "outputs": [],
   "source": [
    "cc = read(fns[0])\n",
    "view(cc)"
   ]
  },
  {
   "cell_type": "code",
   "execution_count": 129,
   "metadata": {
    "hidden": true
   },
   "outputs": [
    {
     "name": "stdout",
     "output_type": "stream",
     "text": [
      "79\n"
     ]
    }
   ],
   "source": [
    "fn = fns[0]\n",
    "ms = re.search(\"sg_(.*)-f_\",fn)\n",
    "sg = int(ms.group(1))\n",
    "print sg"
   ]
  },
  {
   "cell_type": "code",
   "execution_count": 131,
   "metadata": {
    "hidden": true
   },
   "outputs": [
    {
     "data": {
      "text/plain": [
       "79"
      ]
     },
     "execution_count": 131,
     "metadata": {},
     "output_type": "execute_result"
    }
   ],
   "source": [
    "def fn2sg(fn,pattern=\"sg_(.*)-f_\"):\n",
    "    ms = re.search(pattern,fn)\n",
    "    sg = int(ms.group(1))\n",
    "    return sg\n",
    "fn2sg(fn)"
   ]
  },
  {
   "cell_type": "code",
   "execution_count": 83,
   "metadata": {
    "hidden": true
   },
   "outputs": [
    {
     "data": {
      "text/plain": [
       "['33', '42', '32', '3', '-30', '1', '-2']"
      ]
     },
     "execution_count": 83,
     "metadata": {},
     "output_type": "execute_result"
    }
   ],
   "source": [
    "re.findall(\"[-\\d]+\", \"he33llo 42 I\\'m a 32.3 string -30 1 -2\")"
   ]
  },
  {
   "cell_type": "code",
   "execution_count": 84,
   "metadata": {
    "hidden": true
   },
   "outputs": [
    {
     "name": "stdout",
     "output_type": "stream",
     "text": [
      "['4.5', '-4.5', '- 4.5', '+ .1e10', ' 1.01e-2', '       1.01', '-.2', ' 123', ' .123']\n"
     ]
    }
   ],
   "source": [
    "s = \"\"\"4.5 abc -4.5 abc - 4.5 abc + .1e10 abc . abc 1.01e-2 abc \n",
    "       1.01e-.2 abc 123 abc .123\"\"\"\n",
    "print re.findall(r\"[+-]? *(?:\\d+(?:\\.\\d*)?|\\.\\d+)(?:[eE][+-]?\\d+)?\", s)\n"
   ]
  },
  {
   "cell_type": "code",
   "execution_count": 87,
   "metadata": {
    "hidden": true
   },
   "outputs": [
    {
     "name": "stdout",
     "output_type": "stream",
     "text": [
      "[4.5, -4.5, 4.5, 1000000000.0, 0.0101, 123.0, 0.123]\n"
     ]
    }
   ],
   "source": []
  },
  {
   "cell_type": "code",
   "execution_count": 139,
   "metadata": {
    "collapsed": true,
    "hidden": true
   },
   "outputs": [],
   "source": [
    "def extract_floats(s):\n",
    "    l = []\n",
    "    for t in s.split():\n",
    "        try:\n",
    "            l.append(float(t))\n",
    "        except ValueError:\n",
    "            pass\n",
    "    return l"
   ]
  },
  {
   "cell_type": "code",
   "execution_count": 89,
   "metadata": {
    "hidden": true
   },
   "outputs": [
    {
     "name": "stdout",
     "output_type": "stream",
     "text": [
      "20 loops, best of 3: 16.3 µs per loop\n"
     ]
    }
   ],
   "source": [
    "%%timeit -r 3 -n 20\n",
    "extract_float(s)"
   ]
  },
  {
   "cell_type": "markdown",
   "metadata": {},
   "source": [
    "## get number of detected symmetries"
   ]
  },
  {
   "cell_type": "code",
   "execution_count": 200,
   "metadata": {
    "collapsed": true
   },
   "outputs": [],
   "source": [
    "path = '../test_run/check_ibrav0_sym/'\n",
    "fns_out = get_filenames(path,fn_pattern='qe.out',dir_pattern=None)\n",
    "fns_in = get_filenames(path,fn_pattern='qe.in',dir_pattern=None)"
   ]
  },
  {
   "cell_type": "code",
   "execution_count": 201,
   "metadata": {},
   "outputs": [
    {
     "name": "stdout",
     "output_type": "stream",
     "text": [
      "../test_run/check_ibrav0_sym/sg_70-f_4-0/qe.in\n"
     ]
    }
   ],
   "source": [
    "fn = fns_in[14]\n",
    "print fn"
   ]
  },
  {
   "cell_type": "code",
   "execution_count": 202,
   "metadata": {},
   "outputs": [
    {
     "name": "stdout",
     "output_type": "stream",
     "text": [
      "8\n"
     ]
    }
   ],
   "source": [
    "cc = read(fn)\n",
    "sg = fn2sg(fn)\n",
    "symprec = get_symprec(cc,sg)\n",
    "syms = spg.get_symmetry(cc,symprec=symprec)\n",
    "Nsym_s = syms['rotations'].shape[0]\n",
    "print Nsym_s"
   ]
  },
  {
   "cell_type": "code",
   "execution_count": 164,
   "metadata": {
    "collapsed": true
   },
   "outputs": [],
   "source": [
    "view(cc)"
   ]
  },
  {
   "cell_type": "code",
   "execution_count": 154,
   "metadata": {
    "collapsed": true
   },
   "outputs": [
    {
     "ename": "KeyError",
     "evalue": "70",
     "output_type": "error",
     "traceback": [
      "\u001b[0;31m---------------------------------------------------------------------------\u001b[0m",
      "\u001b[0;31mKeyError\u001b[0m                                  Traceback (most recent call last)",
      "\u001b[0;32m<ipython-input-154-b813fbc338c1>\u001b[0m in \u001b[0;36m<module>\u001b[0;34m()\u001b[0m\n\u001b[1;32m      1\u001b[0m \u001b[0;32mfrom\u001b[0m \u001b[0mraw_info\u001b[0m \u001b[0;32mimport\u001b[0m \u001b[0mmissClassificationCorrection\u001b[0m\u001b[0;34m\u001b[0m\u001b[0m\n\u001b[0;32m----> 2\u001b[0;31m \u001b[0mmissClassificationCorrection\u001b[0m\u001b[0;34m[\u001b[0m\u001b[0;36m70\u001b[0m\u001b[0;34m]\u001b[0m\u001b[0;34m\u001b[0m\u001b[0m\n\u001b[0m",
      "\u001b[0;31mKeyError\u001b[0m: 70"
     ]
    }
   ],
   "source": [
    "from raw_info import missClassificationCorrection\n",
    "missClassificationCorrection[70]"
   ]
  },
  {
   "cell_type": "code",
   "execution_count": 197,
   "metadata": {},
   "outputs": [
    {
     "name": "stdout",
     "output_type": "stream",
     "text": [
      "[[ 0.          7.186617    1.52812703]\n",
      " [ 1.62630392  0.          1.52812703]\n",
      " [ 1.62630392  7.186617    0.        ]]\n"
     ]
    }
   ],
   "source": [
    "sg,it = 43,1\n",
    "cc = crystals[sg][it]\n",
    "dd,_,_ = get_ibrav0_frame(cc,sg)\n",
    "view(dd)\n",
    "print dd.get_cell()"
   ]
  },
  {
   "cell_type": "code",
   "execution_count": 198,
   "metadata": {},
   "outputs": [
    {
     "data": {
      "text/plain": [
       "'../test_run/check_ibrav0_sym/sg_43-f_1-0/qe.out'"
      ]
     },
     "execution_count": 198,
     "metadata": {},
     "output_type": "execute_result"
    }
   ],
   "source": [
    "fn"
   ]
  },
  {
   "cell_type": "code",
   "execution_count": 203,
   "metadata": {},
   "outputs": [
    {
     "name": "stdout",
     "output_type": "stream",
     "text": [
      "[[ 0.          7.186617    1.52812703]\n",
      " [ 1.62630392  0.          1.52812703]\n",
      " [ 1.62630392  7.186617    0.        ]]\n",
      "43\n",
      "1e-05\n"
     ]
    }
   ],
   "source": [
    "\n",
    "# print get_patterns(fn,str_patterns=['Sym. Ops.']).values()\n",
    "# s = get_patterns(fn,str_patterns=['Sym. Ops.']).values()[0][0]\n",
    "# Nsym_f = extract_floats(s)[0]\n",
    "fn = '../test_run/check_ibrav0_sym/sg_43-f_1-0/qe.in'\n",
    "cc = read(fn)\n",
    "sg = fn2sg(fn)\n",
    "# view(cc)\n",
    "print cc.get_cell()\n",
    "print sg\n",
    "symprec = get_symprec(cc,sg)\n",
    "print symprec\n",
    "# syms = spg.get_symmetry(cc,symprec=symprec)\n",
    "\n",
    "# Nsym_s = syms['rotations'].shape[0]\n",
    "\n",
    "# print Nsym_s == Nsym_f\n",
    "# print s\n"
   ]
  },
  {
   "cell_type": "code",
   "execution_count": 236,
   "metadata": {},
   "outputs": [
    {
     "name": "stdout",
     "output_type": "stream",
     "text": [
      "../test_run/check_ibrav0_sym/sg_40-f_0-0/qe.out\n",
      "['          (note:  4 additional sym.ops. were found but ignored']\n",
      "4.0\n"
     ]
    }
   ],
   "source": [
    "fn = fns_out[5]\n",
    "print fn\n",
    "ss = get_patterns(fn,str_patterns=['Sym. Ops.','warning: symmetry operation #','No symmetry found',\n",
    "                                          'additional sym.ops. were found but ignored'])\n",
    "Nsym_f = 0\n",
    "print ss['additional sym.ops. were found but ignored']\n",
    "if ss['additional sym.ops. were found but ignored']:\n",
    "    s = ss['additional sym.ops. were found but ignored'][0]\n",
    "    Nsym_f += extract_floats(s)[0]\n",
    "print Nsym_f\n",
    "# if ss['warning: symmetry operation #']:\n",
    "#     nums = []\n",
    "#     for s in ss['warning: symmetry operation #']:\n",
    "#         nums.append(extract_floats(s)[0])\n",
    "    \n",
    "#     nums = np.array(nums).max()\n",
    "#     Nsym_f = nums.max()\n",
    "# else:\n",
    "#     print ss['Sym. Ops.']\n",
    "#     s = ss['Sym. Ops.'][0][0]\n",
    "#     Nsym_f = extract_floats(s)[0]\n",
    "\n",
    "# cc = read(fn)\n",
    "# sg = fn2sg(fn)\n",
    "# symprec = get_symprec(cc,sg)\n",
    "# syms = spg.get_symmetry(cc,symprec=symprec)\n",
    "# Nsym_s = syms['rotations'].shape[0]\n",
    "\n",
    "# print Nsym_s == Nsym_f\n",
    "# print s\n"
   ]
  },
  {
   "cell_type": "code",
   "execution_count": 273,
   "metadata": {},
   "outputs": [
    {
     "data": {
      "application/vnd.jupyter.widget-view+json": {
       "model_id": "63bc17bfa1ba4b38a5c2eb1e221ee865"
      }
     },
     "metadata": {},
     "output_type": "display_data"
    }
   ],
   "source": [
    "path = '../test_run/check_ibrav0_sym/'\n",
    "fns_out = get_filenames(path,fn_pattern='qe.out',dir_pattern=None)\n",
    "fns_in = get_filenames(path,fn_pattern='qe.in',dir_pattern=None)\n",
    "\n",
    "good = []\n",
    "to_check = []\n",
    "pbar = tqdm_notebook(total=len(fns_out))\n",
    "for it,(fn_in,fn_out) in enumerate(zip(fns_in,fns_out)):\n",
    "\n",
    "    ss = get_patterns(fn_out,str_patterns=['Sym. Ops.','warning: symmetry operation #','No symmetry found',\n",
    "                                          'additional sym.ops. were found but ignored'])\n",
    "    Nsym_f = 0\n",
    "    if ss['additional sym.ops. were found but ignored']:\n",
    "        s = ss['additional sym.ops. were found but ignored'][0]\n",
    "        Nsym_f += extract_floats(s)[0]\n",
    "    if ss['warning: symmetry operation #']:\n",
    "        nums = []\n",
    "        for s in ss['warning: symmetry operation #']:\n",
    "            nums.append(extract_floats(s)[0])\n",
    "\n",
    "        nums = np.array(nums).max()\n",
    "        Nsym_f = nums.max()\n",
    "        \n",
    "    elif ss['No symmetry found']:\n",
    "        Nsym_f += 1\n",
    "    else:\n",
    "\n",
    "        s = ss['Sym. Ops.'][0]\n",
    "        \n",
    "        Nsym_f += extract_floats(s)[0]\n",
    "\n",
    "    cc = read(fn_in)\n",
    "    sg = fn2sg(fn_in)\n",
    "    \n",
    "    symprec = get_symprec(cc,sg)\n",
    "    syms = spg.get_symmetry(cc,symprec=symprec)\n",
    "    Nsym_s = syms['rotations'].shape[0]\n",
    "\n",
    "    if Nsym_s == Nsym_f:\n",
    "        good.append(fn_out)\n",
    "    else:\n",
    "        to_check.append([it,fn_out,sg,Nsym_s,Nsym_f])\n",
    "\n",
    "    pbar.update()\n",
    "pbar.close()"
   ]
  },
  {
   "cell_type": "code",
   "execution_count": 274,
   "metadata": {},
   "outputs": [
    {
     "data": {
      "text/plain": [
       "49"
      ]
     },
     "execution_count": 274,
     "metadata": {},
     "output_type": "execute_result"
    }
   ],
   "source": [
    "len(to_check)"
   ]
  },
  {
   "cell_type": "code",
   "execution_count": 277,
   "metadata": {},
   "outputs": [
    {
     "data": {
      "text/plain": [
       "[[8, '../test_run/check_ibrav0_sym/sg_73-f_8-0/qe.out', 73, 8, 4.0],\n",
       " [16, '../test_run/check_ibrav0_sym/sg_211-f_3-0/qe.out', 211, 24, 48.0],\n",
       " [17, '../test_run/check_ibrav0_sym/sg_204-f_1-0/qe.out', 204, 24, 48.0],\n",
       " [19, '../test_run/check_ibrav0_sym/sg_36-f_7-0/qe.out', 36, 8, 4.0],\n",
       " [26, '../test_run/check_ibrav0_sym/sg_15-f_8-0/qe.out', 15, 4, 2.0],\n",
       " [27, '../test_run/check_ibrav0_sym/sg_64-f_3-0/qe.out', 64, 8, 4.0],\n",
       " [30, '../test_run/check_ibrav0_sym/sg_121-f_4-0/qe.out', 121, 8, 16.0],\n",
       " [34, '../test_run/check_ibrav0_sym/sg_204-f_0-0/qe.out', 204, 24, 48.0],\n",
       " [38, '../test_run/check_ibrav0_sym/sg_64-f_1-0/qe.out', 64, 8, 4.0],\n",
       " [43, '../test_run/check_ibrav0_sym/sg_88-f_1-0/qe.out', 88, 8, 1],\n",
       " [45, '../test_run/check_ibrav0_sym/sg_74-f_2-0/qe.out', 74, 8, 4.0],\n",
       " [50, '../test_run/check_ibrav0_sym/sg_68-f_5-0/qe.out', 68, 8, 4.0],\n",
       " [57, '../test_run/check_ibrav0_sym/sg_119-f_0-0/qe.out', 119, 8, 16.0],\n",
       " [67, '../test_run/check_ibrav0_sym/sg_15-f_5-0/qe.out', 15, 4, 2.0],\n",
       " [83, '../test_run/check_ibrav0_sym/sg_197-f_0-0/qe.out', 197, 12, 24.0],\n",
       " [94, '../test_run/check_ibrav0_sym/sg_21-f_1-0/qe.out', 21, 4, 8.0],\n",
       " [97, '../test_run/check_ibrav0_sym/sg_211-f_1-0/qe.out', 211, 24, 48.0],\n",
       " [100, '../test_run/check_ibrav0_sym/sg_119-f_4-0/qe.out', 119, 8, 16.0],\n",
       " [104, '../test_run/check_ibrav0_sym/sg_42-f_0-0/qe.out', 42, 8, 16.0],\n",
       " [112, '../test_run/check_ibrav0_sym/sg_88-f_2-0/qe.out', 88, 8, 1],\n",
       " [120, '../test_run/check_ibrav0_sym/sg_72-f_6-0/qe.out', 72, 8, 4.0],\n",
       " [146, '../test_run/check_ibrav0_sym/sg_68-f_1-0/qe.out', 68, 8, 4.0],\n",
       " [155, '../test_run/check_ibrav0_sym/sg_45-f_0-0/qe.out', 45, 8, 4.0],\n",
       " [156, '../test_run/check_ibrav0_sym/sg_142-f_1-0/qe.out', 142, 16, 8.0],\n",
       " [168, '../test_run/check_ibrav0_sym/sg_141-f_3-0/qe.out', 141, 16, 8.0],\n",
       " [187, '../test_run/check_ibrav0_sym/sg_217-f_0-0/qe.out', 217, 24, 48.0],\n",
       " [188, '../test_run/check_ibrav0_sym/sg_68-f_2-0/qe.out', 68, 8, 4.0],\n",
       " [190, '../test_run/check_ibrav0_sym/sg_82-f_3-0/qe.out', 82, 4, 8.0],\n",
       " [191, '../test_run/check_ibrav0_sym/sg_72-f_4-0/qe.out', 72, 8, 4.0],\n",
       " [196, '../test_run/check_ibrav0_sym/sg_67-f_4-0/qe.out', 67, 8, 4.0],\n",
       " [203, '../test_run/check_ibrav0_sym/sg_45-f_1-0/qe.out', 45, 8, 4.0],\n",
       " [207, '../test_run/check_ibrav0_sym/sg_36-f_8-0/qe.out', 36, 8, 4.0],\n",
       " [208, '../test_run/check_ibrav0_sym/sg_119-f_1-0/qe.out', 119, 8, 16.0],\n",
       " [209, '../test_run/check_ibrav0_sym/sg_72-f_3-0/qe.out', 72, 8, 4.0],\n",
       " [215, '../test_run/check_ibrav0_sym/sg_40-f_11-0/qe.out', 40, 8, 4.0],\n",
       " [216, '../test_run/check_ibrav0_sym/sg_37-f_6-0/qe.out', 37, 8, 4.0],\n",
       " [229, '../test_run/check_ibrav0_sym/sg_20-f_0-0/qe.out', 20, 4, 8.0],\n",
       " [233, '../test_run/check_ibrav0_sym/sg_70-f_0-0/qe.out', 70, 8, 4.0],\n",
       " [241, '../test_run/check_ibrav0_sym/sg_15-f_9-0/qe.out', 15, 4, 2.0],\n",
       " [255, '../test_run/check_ibrav0_sym/sg_98-f_2-0/qe.out', 98, 8, 1],\n",
       " [263, '../test_run/check_ibrav0_sym/sg_15-f_10-0/qe.out', 15, 4, 2.0],\n",
       " [269, '../test_run/check_ibrav0_sym/sg_36-f_1-0/qe.out', 36, 8, 4.0],\n",
       " [280, '../test_run/check_ibrav0_sym/sg_21-f_0-0/qe.out', 21, 4, 8.0],\n",
       " [285, '../test_run/check_ibrav0_sym/sg_73-f_0-0/qe.out', 73, 8, 4.0],\n",
       " [288, '../test_run/check_ibrav0_sym/sg_82-f_1-0/qe.out', 82, 4, 8.0],\n",
       " [318, '../test_run/check_ibrav0_sym/sg_97-f_2-0/qe.out', 97, 8, 16.0],\n",
       " [339, '../test_run/check_ibrav0_sym/sg_15-f_11-0/qe.out', 15, 4, 2.0],\n",
       " [350, '../test_run/check_ibrav0_sym/sg_37-f_4-0/qe.out', 37, 8, 4.0],\n",
       " [359, '../test_run/check_ibrav0_sym/sg_73-f_1-0/qe.out', 73, 8, 4.0]]"
      ]
     },
     "execution_count": 277,
     "metadata": {},
     "output_type": "execute_result"
    }
   ],
   "source": [
    "to_check"
   ]
  },
  {
   "cell_type": "code",
   "execution_count": 275,
   "metadata": {},
   "outputs": [
    {
     "name": "stdout",
     "output_type": "stream",
     "text": [
      "[26, '../test_run/check_ibrav0_sym/sg_15-f_8-0/qe.out', 15, 4, 2.0]\n"
     ]
    }
   ],
   "source": [
    "print to_check[4]"
   ]
  },
  {
   "cell_type": "code",
   "execution_count": 282,
   "metadata": {},
   "outputs": [
    {
     "name": "stdout",
     "output_type": "stream",
     "text": [
      "../test_run/check_ibrav0_sym/sg_88-f_1-0/qe.out\n",
      "False\n",
      "      8 Sym. Ops. (no inversion) found ( 4 have fractional translation)\n",
      "8\n"
     ]
    }
   ],
   "source": [
    "it = 43\n",
    "fn = fns_out[it]\n",
    "print fn\n",
    "ss = get_patterns(fn,str_patterns=['Sym. Ops.','warning: symmetry operation #','No symmetry found'])\n",
    "\n",
    "if ss['warning: symmetry operation #']:\n",
    "    nums = []\n",
    "    for s in ss['warning: symmetry operation #']:\n",
    "        nums.append(extract_floats(s)[0])\n",
    "    \n",
    "    nums = np.array(nums).max()\n",
    "    Nsym_f = nums.max()\n",
    "elif ss['No symmetry found']:\n",
    "    Nsym_f += 1\n",
    "else:\n",
    "#     print ss['Sym. Ops.']\n",
    "    s = ss['Sym. Ops.'][0]\n",
    "    Nsym_f = extract_floats(s)[0]\n",
    "    \n",
    "fn = fns_in[it]\n",
    "cc = read(fn)\n",
    "sg = fn2sg(fn)\n",
    "if sg == 36:\n",
    "    Nsym_s = 4\n",
    "else:\n",
    "    symprec = get_symprec(cc,sg)\n",
    "    syms = spg.get_symmetry(cc,symprec=symprec)\n",
    "    Nsym_s = syms['rotations'].shape[0]\n",
    "\n",
    "print Nsym_s == Nsym_f\n",
    "print s\n",
    "print Nsym_s"
   ]
  },
  {
   "cell_type": "code",
   "execution_count": 268,
   "metadata": {
    "collapsed": true
   },
   "outputs": [],
   "source": [
    "view(cc)"
   ]
  },
  {
   "cell_type": "code",
   "execution_count": 254,
   "metadata": {},
   "outputs": [
    {
     "name": "stdout",
     "output_type": "stream",
     "text": [
      "[[-5.52491889  5.52491889  5.52491889]\n",
      " [ 5.52491889 -5.52491889  5.52491889]\n",
      " [ 5.52491889  5.52491889 -5.52491889]]\n"
     ]
    }
   ],
   "source": [
    "sg,it = 211,3\n",
    "cc = crystals[sg][it]\n",
    "dd,_,_ = get_ibrav0_frame(cc,sg)\n",
    "view(dd)\n",
    "view(cc)\n",
    "print dd.get_cell()"
   ]
  },
  {
   "cell_type": "code",
   "execution_count": 279,
   "metadata": {},
   "outputs": [
    {
     "ename": "KeyError",
     "evalue": "121",
     "output_type": "error",
     "traceback": [
      "\u001b[0;31m---------------------------------------------------------------------------\u001b[0m",
      "\u001b[0;31mKeyError\u001b[0m                                  Traceback (most recent call last)",
      "\u001b[0;32m<ipython-input-279-1a50b0afdae1>\u001b[0m in \u001b[0;36m<module>\u001b[0;34m()\u001b[0m\n\u001b[0;32m----> 1\u001b[0;31m \u001b[0mmissClassificationCorrection\u001b[0m\u001b[0;34m[\u001b[0m\u001b[0;36m121\u001b[0m\u001b[0;34m]\u001b[0m\u001b[0;34m\u001b[0m\u001b[0m\n\u001b[0m",
      "\u001b[0;31mKeyError\u001b[0m: 121"
     ]
    }
   ],
   "source": [
    "missClassificationCorrection[121]"
   ]
  },
  {
   "cell_type": "code",
   "execution_count": 256,
   "metadata": {},
   "outputs": [
    {
     "name": "stdout",
     "output_type": "stream",
     "text": [
      "24\n"
     ]
    }
   ],
   "source": [
    "\n",
    "symprec = get_symprec(dd,sg)\n",
    "syms = spg.get_symmetry(dd,symprec=symprec)\n",
    "Nsym_s = syms['rotations'].shape[0]\n",
    "print Nsym_s"
   ]
  },
  {
   "cell_type": "code",
   "execution_count": 261,
   "metadata": {},
   "outputs": [
    {
     "name": "stdout",
     "output_type": "stream",
     "text": [
      "24\n"
     ]
    }
   ],
   "source": [
    "it = 16\n",
    "fn = fns_in[it]\n",
    "cc = read(fn)\n",
    "sg = fn2sg(fn)\n",
    "symprec = get_symprec(cc,sg)\n",
    "syms = spg.get_symmetry(cc,symprec=symprec)\n",
    "Nsym_s = syms['rotations'].shape[0]\n",
    "print Nsym_s"
   ]
  },
  {
   "cell_type": "code",
   "execution_count": 262,
   "metadata": {
    "collapsed": true
   },
   "outputs": [],
   "source": [
    "view(cc)"
   ]
  },
  {
   "cell_type": "code",
   "execution_count": null,
   "metadata": {
    "collapsed": true
   },
   "outputs": [],
   "source": []
  }
 ],
 "metadata": {
  "kernelspec": {
   "display_name": "Python 2 glosim",
   "language": "python",
   "name": "glosim"
  },
  "language_info": {
   "codemirror_mode": {
    "name": "ipython",
    "version": 2
   },
   "file_extension": ".py",
   "mimetype": "text/x-python",
   "name": "python",
   "nbconvert_exporter": "python",
   "pygments_lexer": "ipython2",
   "version": "2.7.13"
  },
  "toc": {
   "colors": {
    "hover_highlight": "#DAA520",
    "navigate_num": "#000000",
    "navigate_text": "#333333",
    "running_highlight": "#FF0000",
    "selected_highlight": "#FFD700",
    "sidebar_border": "#EEEEEE",
    "wrapper_background": "#FFFFFF"
   },
   "moveMenuLeft": true,
   "nav_menu": {
    "height": "119px",
    "width": "252px"
   },
   "navigate_menu": true,
   "number_sections": true,
   "sideBar": true,
   "threshold": 4,
   "toc_cell": false,
   "toc_section_display": "block",
   "toc_window_display": false,
   "widenNotebook": false
  }
 },
 "nbformat": 4,
 "nbformat_minor": 2
}
